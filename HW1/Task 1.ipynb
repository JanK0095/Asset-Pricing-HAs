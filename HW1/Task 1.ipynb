{
 "cells": [
  {
   "cell_type": "markdown",
   "metadata": {},
   "source": [
    "# JEM092 Asset Pricing - Homework 1"
   ]
  },
  {
   "cell_type": "markdown",
   "metadata": {},
   "source": [
    "### Group 82780095"
   ]
  },
  {
   "cell_type": "markdown",
   "metadata": {},
   "source": [
    "Petr Dvořáček, Jan Kubal, Matyáš Mattanelli"
   ]
  },
  {
   "cell_type": "markdown",
   "metadata": {},
   "source": [
    "---"
   ]
  },
  {
   "cell_type": "markdown",
   "metadata": {},
   "source": [
    "Throughout the assignment we use the libraries loaded in the cell below. Some of them may need to be installed before running our code."
   ]
  },
  {
   "cell_type": "code",
   "execution_count": 4,
   "metadata": {
    "vscode": {
     "languageId": "r"
    }
   },
   "outputs": [
    {
     "name": "stderr",
     "output_type": "stream",
     "text": [
      "Warning message:\n",
      "\"package 'rvest' was built under R version 4.1.3\"\n",
      "Warning message:\n",
      "\"package 'V8' was built under R version 4.1.3\"\n",
      "Warning message:\n",
      "\"package 'PortfolioAnalytics' was built under R version 4.1.3\"\n",
      "Warning message:\n",
      "\"package 'PerformanceAnalytics' was built under R version 4.1.3\"\n"
     ]
    }
   ],
   "source": [
    "#Loading the necessary libraries\n",
    "suppressPackageStartupMessages({\n",
    "    library(quantmod) #getSymbols function\n",
    "    library(rvest) #Web scraping\n",
    "    library(stringr) #Regular expressions\n",
    "    library(xts) #Managing xts objects\n",
    "    library(V8) #Evaluating html variables\n",
    "    library(PortfolioAnalytics) #GMVP and efficient frontier\n",
    "    library(ROI.plugin.glpk) #Portfolio optimization\n",
    "    library(ROI.plugin.quadprog) #Portfolio optimization\n",
    "})"
   ]
  },
  {
   "cell_type": "markdown",
   "metadata": {},
   "source": [
    "## Task 1"
   ]
  },
  {
   "cell_type": "markdown",
   "metadata": {},
   "source": [
    "In the first task we download the required data. We start by loading the csv file with the assigned tickers."
   ]
  },
  {
   "cell_type": "code",
   "execution_count": 5,
   "metadata": {
    "vscode": {
     "languageId": "r"
    }
   },
   "outputs": [],
   "source": [
    "#Loading the assigned csv file\n",
    "tickers_to_download <- read.csv(\"data_HW1/82780095_data_download.csv\")\n",
    "no_of_tickers <- nrow(tickers_to_download) #Storing the number of tickers for future use"
   ]
  },
  {
   "cell_type": "markdown",
   "metadata": {},
   "source": [
    "#### Adjusted Close Price and Volume"
   ]
  },
  {
   "cell_type": "markdown",
   "metadata": {},
   "source": [
    "We get the adjusted close price and volume daily data from Yahoo Finance using the ``getSymbols()`` function from the ``quantmod`` package."
   ]
  },
  {
   "cell_type": "code",
   "execution_count": 6,
   "metadata": {
    "vscode": {
     "languageId": "r"
    }
   },
   "outputs": [],
   "source": [
    "#Downloading the data from Yahoo Finance (runtime 3m 15s)\n",
    "yahoo_data_list <- vector(\"list\", no_of_tickers) #Initializing an empty list for the data\n",
    "options(\"getSymbols.warning4.0\"=FALSE) #Command to prevent an annoying message from appearing\n",
    "for (i in 1:no_of_tickers) { #Looping through the tickers\n",
    "    yahoo_data_list[[i]] <- getSymbols(tickers_to_download[i, 2], src=\"yahoo\", auto.assign = F, from = \"2007-01-01\", to = \"2022-03-01\")\n",
    "}"
   ]
  },
  {
   "cell_type": "markdown",
   "metadata": {},
   "source": [
    "We stored the data for each ticker as an element of a list. Now we check that for each ticker we have volume in the 5th column and adjusted close price in the 6th column."
   ]
  },
  {
   "cell_type": "code",
   "execution_count": 7,
   "metadata": {
    "vscode": {
     "languageId": "r"
    }
   },
   "outputs": [
    {
     "name": "stdout",
     "output_type": "stream",
     "text": [
      "[1] Volume in the 5th column: 250\n",
      "[1] Adjusted Close Price in the 6th column: 250\n"
     ]
    }
   ],
   "source": [
    "#Checking that we have adjusted close price and volume in appropriate columns for each ticker\n",
    "check_col_name <- function(ticker_data, pattern, column_no) { #Defining a function to check if a column name matches a pattern\n",
    "    ifelse(strsplit(names(ticker_data)[column_no], \"\\\\.\")[[1]][2] == pattern, return(T), return(F)) \n",
    "}\n",
    "#Applying the function on all tickers for both Volume and Adjusted price\n",
    "print(paste(\"Volume in the 5th column: \", sum(unlist(lapply(yahoo_data_list, check_col_name, pattern = \"Volume\", column_no = 5))), sep = \"\"), quote = F)\n",
    "print(paste(\"Adjusted Close Price in the 6th column: \", sum(unlist(lapply(yahoo_data_list, check_col_name, pattern = \"Adjusted\", column_no = 6))), sep = \"\"), quote = F)"
   ]
  },
  {
   "cell_type": "markdown",
   "metadata": {},
   "source": [
    "Since the check was successful, we can now merge the data for all tickers into a single xts object."
   ]
  },
  {
   "cell_type": "code",
   "execution_count": 8,
   "metadata": {
    "vscode": {
     "languageId": "r"
    }
   },
   "outputs": [],
   "source": [
    "#Merging the available data into a single xts object\n",
    "merged_yahoo_data <- merge.xts(yahoo_data_list[[1]][, 5:6], yahoo_data_list[[2]][, 5:6]) #Initial merge, adjusted close price and volume are in the 5th and 6th columns, respectively\n",
    "for (iter in 3:no_of_tickers) { #Loop through the rest of the tickers and append each to the merged object\n",
    "    merged_yahoo_data <- merge.xts(merged_yahoo_data, yahoo_data_list[[iter]][, 5:6])\n",
    "}"
   ]
  },
  {
   "cell_type": "markdown",
   "metadata": {},
   "source": [
    "We check that the number of column is 500 (250 tickers and two columns for each ticker)."
   ]
  },
  {
   "cell_type": "code",
   "execution_count": 9,
   "metadata": {
    "vscode": {
     "languageId": "r"
    }
   },
   "outputs": [
    {
     "data": {
      "text/html": [
       "TRUE"
      ],
      "text/latex": [
       "TRUE"
      ],
      "text/markdown": [
       "TRUE"
      ],
      "text/plain": [
       "[1] TRUE"
      ]
     },
     "metadata": {},
     "output_type": "display_data"
    }
   ],
   "source": [
    "#Checking that the number of columns is correct\n",
    "ncol(merged_yahoo_data) == no_of_tickers * 2 #Two columns for each ticker"
   ]
  },
  {
   "cell_type": "markdown",
   "metadata": {},
   "source": [
    "In case we need it, we can also export the result as a csv file for future use."
   ]
  },
  {
   "cell_type": "code",
   "execution_count": 11,
   "metadata": {
    "vscode": {
     "languageId": "r"
    }
   },
   "outputs": [],
   "source": [
    "#Exporting to csv just in case\n",
    "#write.zoo(merged_yahoo_data, file = \"adjusted_and_volume.csv\", sep = \",\")"
   ]
  },
  {
   "cell_type": "markdown",
   "metadata": {},
   "source": [
    "#### Book value per share"
   ]
  },
  {
   "cell_type": "markdown",
   "metadata": {},
   "source": [
    "Getting the Book value per share data is a bit more complex. Firstly, we find the company names with the help of the ``curlGetHeaders`` function. Then, we construct the urls."
   ]
  },
  {
   "cell_type": "code",
   "execution_count": 12,
   "metadata": {
    "vscode": {
     "languageId": "r"
    }
   },
   "outputs": [],
   "source": [
    "#Getting the urls (runtime 1m47s)\n",
    "urls_bv <- rep(NA, no_of_tickers) #Empty vector for the urls\n",
    "for (iter in 1:no_of_tickers) { #Loop through all the tickers\n",
    "    patt <- curlGetHeaders(paste0(\"https://www.macrotrends.net/stocks/charts/\", tickers_to_download[iter, 2]))[5] #Save the response\n",
    "    name_and_ticker <- str_extract(patt, paste0(tickers_to_download[iter, 2], \"/.*/\")) #Extract the relevant pattern from the string\n",
    "    urls_bv[iter] <- paste0(\"https://www.macrotrends.net/stocks/charts/\", name_and_ticker, \"price-book\") #Complete the url and save it\n",
    "}"
   ]
  },
  {
   "cell_type": "markdown",
   "metadata": {},
   "source": [
    "Now that we have the urls, we can scrape the data. For each url we get the html code using the ``html_read`` function. Then we locate the table containing the data of interest. We loop through the rows to acquire the date and book value per share. We store the results as an xts object. Finally, we store the object for each ticker as an element of a list"
   ]
  },
  {
   "cell_type": "code",
   "execution_count": 13,
   "metadata": {
    "vscode": {
     "languageId": "r"
    }
   },
   "outputs": [],
   "source": [
    "#Downloading the data (runtime 3m6s)\n",
    "bv_per_share_data <- vector(\"list\", no_of_tickers) #Empty list to store the data\n",
    "for (iter in 1:no_of_tickers) { #Loop through all tickers\n",
    "  html_request <- read_html(urls_bv[iter]) #Sending the request\n",
    "  trs <- html_request %>% \n",
    "    html_element(\"table\") %>% #Finding the table\n",
    "    html_element(\"tbody\") %>% #FInding the body of the table\n",
    "    html_elements(\"tr\") #Finding the rows of the table\n",
    "  dates <- rep(NA, length(trs)) #Empty vector to store the dates\n",
    "  values <- rep(NA, length(trs)) #Empty vector to store the values\n",
    "  for (iter2 in 1:length(trs)) { #Looping through all the rows\n",
    "    tds <- html_elements(trs[iter2], \"td\") #Extracting the cells within each row\n",
    "    dates[iter2] <- html_text(tds)[1] #First cell is the date\n",
    "    values[iter2] <- as.numeric(gsub(\"\\\\$\",\"\",html_text(tds)[3])) #Third cell is book value per share\n",
    "  }\n",
    "  dates <- as.Date(dates) #Convert dates from string to Date format\n",
    "  xts_object <- xts(x = values, order.by = dates) #Create an xts object from the results\n",
    "  names(xts_object) <- paste0(tickers_to_download[iter, 2], \".BV_per_share\") #Name it\n",
    "  bv_per_share_data[[iter]] <-  xts_object #Store the results\n",
    "}"
   ]
  },
  {
   "cell_type": "markdown",
   "metadata": {},
   "source": [
    "Similarly to the previous case, we simply merge the data into a single xts object. We should keep in mind that the data are quaterly. Since previously we downloaded daily data, we may have to make some adjustments."
   ]
  },
  {
   "cell_type": "code",
   "execution_count": 14,
   "metadata": {
    "vscode": {
     "languageId": "r"
    }
   },
   "outputs": [],
   "source": [
    "#Merging the individual tickers together\n",
    "merged_bv_per_share_data <- merge.xts(bv_per_share_data[[1]], bv_per_share_data[[2]]) #Initial merge\n",
    "for (iter in 3:no_of_tickers) {\n",
    "    if (iter==72) {\n",
    "        next #Temporarily skipping LUMN\n",
    "    }\n",
    "    merged_bv_per_share_data <- merge.xts(merged_bv_per_share_data, bv_per_share_data[[iter]])\n",
    "}"
   ]
  },
  {
   "cell_type": "markdown",
   "metadata": {},
   "source": [
    "Again, if nedeed we can export the data as a csv file."
   ]
  },
  {
   "cell_type": "code",
   "execution_count": 15,
   "metadata": {
    "vscode": {
     "languageId": "r"
    }
   },
   "outputs": [],
   "source": [
    "#Exporting to csv just in case\n",
    "#write.zoo(merged_bv_per_share_data, file = \"bv_per_share.csv\", sep = \",\")"
   ]
  },
  {
   "cell_type": "markdown",
   "metadata": {},
   "source": [
    "#### Market capitalization"
   ]
  },
  {
   "cell_type": "markdown",
   "metadata": {},
   "source": [
    "Lastly, we download the market capitalization data. This time we have the direct url for each ticker. We get the html code and extract the script node from the body of the test. A quick inspenction revealed that the text contains a defined variable *chartData* that we can read using JavaScript. We convert the resulting data frame into an xts object and once again store it in a list."
   ]
  },
  {
   "cell_type": "code",
   "execution_count": 16,
   "metadata": {
    "vscode": {
     "languageId": "r"
    }
   },
   "outputs": [],
   "source": [
    "#Downloading the data (runtime 1m34s)\n",
    "market_cap_data <- vector(\"list\", no_of_tickers)\n",
    "for (iter in 1:no_of_tickers) { #Looping through all tickers\n",
    "    html_request <- read_html(paste0(\"https://www.macrotrends.net/assets/php/market_cap.php?t=\", tickers_to_download[iter, 2])) #Sending a request\n",
    "    script <- html_request %>% #Extracting the relevant element and converting it to text\n",
    "        html_element(\"body\") %>%\n",
    "        html_element(\"script\") %>%\n",
    "        html_text(trim = T)\n",
    "    ctx <- v8() #The extracted text contains a variable which can be evaluated using JavaScript so we initialize an execution environment\n",
    "    ctx$eval(str_extract(script,\".*]\")) #Evaluating the text. The function inside extracts the part that is relevant for us\n",
    "    extracted_data <- ctx$get(\"chartData\") #Extracting the variable (returns a data frame)\n",
    "    xts_object <- xts(x = extracted_data[, 2], order.by = as.Date(extracted_data[, 1])) #Saving as an xts object\n",
    "    names(xts_object) <- paste0(tickers_to_download[iter,2], \".Market_Cap\") #Renaming\n",
    "    market_cap_data[[iter]] <- xts_object #Storing\n",
    "}"
   ]
  },
  {
   "cell_type": "markdown",
   "metadata": {},
   "source": [
    "Finally, we merge the acquired data into a single xts object..."
   ]
  },
  {
   "cell_type": "code",
   "execution_count": 17,
   "metadata": {
    "vscode": {
     "languageId": "r"
    }
   },
   "outputs": [],
   "source": [
    "#Merging the data\n",
    "merged_market_cap_data <- merge.xts(market_cap_data[[1]], market_cap_data[[2]]) #Initial merge\n",
    "for (iter in 3:no_of_tickers) { #Looping through all the tickers\n",
    "    merged_market_cap_data <- merge.xts(merged_market_cap_data, market_cap_data[[iter]])\n",
    "}"
   ]
  },
  {
   "cell_type": "markdown",
   "metadata": {},
   "source": [
    "... and optionally export it."
   ]
  },
  {
   "cell_type": "code",
   "execution_count": 18,
   "metadata": {
    "vscode": {
     "languageId": "r"
    }
   },
   "outputs": [],
   "source": [
    "#Exporting to csv just in case\n",
    "write.zoo(merged_market_cap_data, file = \"market_cap.csv\", sep = \",\")"
   ]
  },
  {
   "cell_type": "markdown",
   "metadata": {},
   "source": [
    "#### Merging it all together"
   ]
  },
  {
   "cell_type": "markdown",
   "metadata": {},
   "source": [
    "In this step we merge all the acquired data together into a one xts object. Since we do not know the nature of the second assignment, we do not process the data any further. In case of need we can use the separate csv files."
   ]
  },
  {
   "cell_type": "code",
   "execution_count": 19,
   "metadata": {
    "vscode": {
     "languageId": "r"
    }
   },
   "outputs": [],
   "source": [
    "#Merging adjusted prices, volume, book value per share, and market capitalization\n",
    "semifinal_dataset <- merge.xts(merged_yahoo_data, merged_bv_per_share_data, merged_market_cap_data)"
   ]
  },
  {
   "cell_type": "code",
   "execution_count": 20,
   "metadata": {
    "vscode": {
     "languageId": "r"
    }
   },
   "outputs": [],
   "source": [
    "#Exporting to csv\n",
    "#write.zoo(semifinal_dataset, file = \"semifinal_dataset.csv\", sep = \",\")"
   ]
  },
  {
   "cell_type": "markdown",
   "metadata": {},
   "source": [
    "## Task 2"
   ]
  },
  {
   "cell_type": "markdown",
   "metadata": {},
   "source": [
    "In this task we form two porftolios and their corresponding efficient frontiers. We start by loading the ticker names that we are supposed to utilize."
   ]
  },
  {
   "cell_type": "code",
   "execution_count": 21,
   "metadata": {
    "vscode": {
     "languageId": "r"
    }
   },
   "outputs": [],
   "source": [
    "#Loading the 20 tickers\n",
    "tickers_20 <- read.csv(\"data_HW1/82780095_rand_download.csv\")"
   ]
  },
  {
   "cell_type": "markdown",
   "metadata": {},
   "source": [
    "To facilitate the subsetting in our data set, we find the row number for each ticker."
   ]
  },
  {
   "cell_type": "code",
   "execution_count": 22,
   "metadata": {
    "vscode": {
     "languageId": "r"
    }
   },
   "outputs": [],
   "source": [
    "#Finding the row number for each ticker\n",
    "iters <- rep(NA, 20)\n",
    "for (i in 1:20) {   \n",
    "    iters[i] <- tickers_to_download[tickers_to_download[, 2] == tickers_20[i, 2], 1]\n",
    "}"
   ]
  },
  {
   "cell_type": "markdown",
   "metadata": {},
   "source": [
    "Next, we extract the relevant tickers from the data we have acquired. Specifically, we need only the adjusted close price. We also restrict the period as required and convert the data from daily to monthly using the ``to.monthly()`` function."
   ]
  },
  {
   "cell_type": "code",
   "execution_count": 23,
   "metadata": {
    "vscode": {
     "languageId": "r"
    }
   },
   "outputs": [],
   "source": [
    "#Getting data for the relevant tickers and adjusting it\n",
    "task2_data <- vector(\"list\", 20) #Empty list for the data\n",
    "for (i in 1:20) { #Looping through the tickers\n",
    "    task2_data[[i]] <- to.monthly(yahoo_data_list[[iters[i]]][\"2014-12/\"], name = tickers_20[i, 2])[, 6] #Extracting data from 2015 and later and then converting it to monthly. Keeping only the Adjusted price \n",
    "}"
   ]
  },
  {
   "cell_type": "markdown",
   "metadata": {},
   "source": [
    "From the resulting data we calculate returns using the adjusted close price and the following formula: $\\frac{P_{i,t}-P_{i,t-1}}{P_{i,t-1}}$"
   ]
  },
  {
   "cell_type": "code",
   "execution_count": 24,
   "metadata": {
    "vscode": {
     "languageId": "r"
    }
   },
   "outputs": [],
   "source": [
    "#Converting to returns and merging into a single xts object\n",
    "task2_data_returns <- vector(\"list\", 20)\n",
    "for (i in 1:20) {\n",
    "    task2_data_returns[[i]] <- (task2_data[[i]] - lag(task2_data[[i]]))/lag(task2_data[[i]])\n",
    "}\n",
    "#Merging\n",
    "final_returns <- merge.xts(task2_data_returns[[1]], task2_data_returns[[2]])\n",
    "for (i in 3:20) {\n",
    "    final_returns <- merge.xts(final_returns, task2_data_returns[[i]])\n",
    "}\n",
    "names(final_returns) <- gsub(\".Adjusted\", \"\", names(final_returns)) #Renaming for conciseness\n",
    "final_returns <- final_returns[\"2015/\"] #We keep only the data from 2015-2022"
   ]
  },
  {
   "cell_type": "markdown",
   "metadata": {},
   "source": [
    "Since the data is ready, we can calculate the Global Minimum Variance Portoflio for both groups of tickers."
   ]
  },
  {
   "cell_type": "code",
   "execution_count": 25,
   "metadata": {
    "vscode": {
     "languageId": "r"
    }
   },
   "outputs": [],
   "source": [
    "#Calculating the Global Minimum Variance Portfolios\n",
    "#Portfolio A\n",
    "pspecA <- portfolio.spec(assets = tickers_20[1:10, 2]) #Specifying the stock names\n",
    "initial_portfolioA <- add.constraint(portfolio = pspecA, type = \"full_investment\") #Adding a constraint\n",
    "minvarA <- add.objective(portfolio = initial_portfolioA, type = \"risk\", name = \"var\") #Adding an objective\n",
    "opt_minvarA <- optimize.portfolio(R = final_returns[, 1:10], portfolio = minvarA, optimize_method = \"ROI\") #Optimizing\n",
    "#Portfolio B\n",
    "pspecB <- portfolio.spec(assets = tickers_20[11:20, 2]) #Specifying the stock names\n",
    "initial_portfolioB <- add.constraint(portfolio = pspecB, type = \"full_investment\") #Adding a constraint\n",
    "minvarB <- add.objective(portfolio = initial_portfolioB, type = \"risk\", name = \"var\") #Adding an objective\n",
    "opt_minvarB <- optimize.portfolio(R = final_returns[, 11:20], portfolio = minvarB, optimize_method = \"ROI\") #Optimizing"
   ]
  },
  {
   "cell_type": "markdown",
   "metadata": {},
   "source": [
    "Now we can construct the portfolios for the use in the efficient frontier. We specify a box constraint with minimum as the minimum of the weights from the respective GMVP and maximum equal to 1."
   ]
  },
  {
   "cell_type": "code",
   "execution_count": 26,
   "metadata": {
    "vscode": {
     "languageId": "r"
    }
   },
   "outputs": [],
   "source": [
    "#Constructing portfolios A and B\n",
    "pspec_fr_A <- portfolio.spec(assets = tickers_20[1:10, 2])\n",
    "pspec_fr_B <- portfolio.spec(assets = tickers_20[11:20, 2])\n",
    "portfolio_fr_A <- add.constraint(portfolio = pspec_fr_A, type = \"box\", min = min(opt_minvarA$weights), max = 1)\n",
    "portfolio_fr_B <- add.constraint(portfolio = pspec_fr_B, type = \"box\", min = min(opt_minvarB$weights), max = 1)"
   ]
  },
  {
   "cell_type": "code",
   "execution_count": 27,
   "metadata": {
    "vscode": {
     "languageId": "r"
    }
   },
   "outputs": [
    {
     "name": "stderr",
     "output_type": "stream",
     "text": [
      "Warning message:\n",
      "\"executing %dopar% sequentially: no parallel backend registered\"\n"
     ]
    }
   ],
   "source": [
    "#Creating the efficient frontier\n",
    "eff_front_A <- create.EfficientFrontier(R = final_returns[, 1:10], portfolio = portfolio_fr_A, type = 'mean-var')\n",
    "eff_front_B <- create.EfficientFrontier(R = final_returns[, 11:20], portfolio = portfolio_fr_B, type = 'mean-var')"
   ]
  },
  {
   "cell_type": "code",
   "execution_count": 28,
   "metadata": {
    "vscode": {
     "languageId": "r"
    }
   },
   "outputs": [
    {
     "data": {
      "image/png": "[encoded data removed]",
      "text/plain": [
       "Plot with title \"Efficient Frontier\""
      ]
     },
     "metadata": {
      "image/png": {
       "height": 420,
       "width": 420
      }
     },
     "output_type": "display_data"
    },
    {
     "data": {
      "image/png": "[encoded data removed]",
      "text/plain": [
       "Plot with title \"Efficient Frontier\""
      ]
     },
     "metadata": {
      "image/png": {
       "height": 420,
       "width": 420
      }
     },
     "output_type": "display_data"
    }
   ],
   "source": [
    "#Plotting the Efficient Frontier\n",
    "chart.EfficientFrontier(eff_front_A, match.col = 'StdDev', type = 'l', tangent.line = FALSE, rf = NULL)\n",
    "chart.EfficientFrontier(eff_front_B, match.col = 'StdDev', type = 'l', tangent.line = FALSE, rf = NULL)"
   ]
  },
  {
   "cell_type": "code",
   "execution_count": 29,
   "metadata": {
    "vscode": {
     "languageId": "r"
    }
   },
   "outputs": [],
   "source": [
    "AB_comb <- combine.portfolios(list(portfolio_fr_A, portfolio_fr_B))"
   ]
  },
  {
   "cell_type": "code",
   "execution_count": 30,
   "metadata": {
    "vscode": {
     "languageId": "r"
    }
   },
   "outputs": [
    {
     "data": {
      "image/png": "[encoded data removed]",
      "text/plain": [
       "Plot with title \"Efficient Frontiers\""
      ]
     },
     "metadata": {
      "image/png": {
       "height": 420,
       "width": 420
      }
     },
     "output_type": "display_data"
    }
   ],
   "source": [
    "chart.EfficientFrontierOverlay(R = final_returns, portfolio_list = AB_comb, type = 'mean-var',\n",
    "match.col = 'StdDev', col = c(\"black\", \"red\"), lty = c(1,1), lwd = c(0.5,0.5), legend.loc=\"topleft\", \n",
    "                               legend.labels=c(\"Portfolio A\",\"Portfolio B\"), cex.legend=0.6,)"
   ]
  },
  {
   "cell_type": "markdown",
   "metadata": {},
   "source": [
    "## Task 3"
   ]
  },
  {
   "cell_type": "code",
   "execution_count": 31,
   "metadata": {
    "vscode": {
     "languageId": "r"
    }
   },
   "outputs": [
    {
     "name": "stderr",
     "output_type": "stream",
     "text": [
      "Warning message in to.period(x, \"months\", indexAt = indexAt, name = name, ...):\n",
      "\"missing values removed from data\"\n",
      "Warning message in to.period(x, \"months\", indexAt = indexAt, name = name, ...):\n",
      "\"missing values removed from data\"\n",
      "Warning message in to.period(x, \"months\", indexAt = indexAt, name = name, ...):\n",
      "\"missing values removed from data\"\n",
      "Warning message in to.period(x, \"months\", indexAt = indexAt, name = name, ...):\n",
      "\"missing values removed from data\"\n",
      "Warning message in to.period(x, \"months\", indexAt = indexAt, name = name, ...):\n",
      "\"missing values removed from data\"\n",
      "Warning message in to.period(x, \"months\", indexAt = indexAt, name = name, ...):\n",
      "\"missing values removed from data\"\n",
      "Warning message in to.period(x, \"months\", indexAt = indexAt, name = name, ...):\n",
      "\"missing values removed from data\"\n",
      "Warning message in to.period(x, \"months\", indexAt = indexAt, name = name, ...):\n",
      "\"missing values removed from data\"\n",
      "Warning message in to.period(x, \"months\", indexAt = indexAt, name = name, ...):\n",
      "\"missing values removed from data\"\n",
      "Warning message in to.period(x, \"months\", indexAt = indexAt, name = name, ...):\n",
      "\"missing values removed from data\"\n",
      "Warning message in to.period(x, \"months\", indexAt = indexAt, name = name, ...):\n",
      "\"missing values removed from data\"\n",
      "Warning message in to.period(x, \"months\", indexAt = indexAt, name = name, ...):\n",
      "\"missing values removed from data\"\n",
      "Warning message in to.period(x, \"months\", indexAt = indexAt, name = name, ...):\n",
      "\"missing values removed from data\"\n",
      "Warning message in to.period(x, \"months\", indexAt = indexAt, name = name, ...):\n",
      "\"missing values removed from data\"\n",
      "Warning message in to.period(x, \"months\", indexAt = indexAt, name = name, ...):\n",
      "\"missing values removed from data\"\n",
      "Warning message in to.period(x, \"months\", indexAt = indexAt, name = name, ...):\n",
      "\"missing values removed from data\"\n",
      "Warning message in to.period(x, \"months\", indexAt = indexAt, name = name, ...):\n",
      "\"missing values removed from data\"\n",
      "Warning message in to.period(x, \"months\", indexAt = indexAt, name = name, ...):\n",
      "\"missing values removed from data\"\n",
      "Warning message in to.period(x, \"months\", indexAt = indexAt, name = name, ...):\n",
      "\"missing values removed from data\"\n",
      "Warning message in to.period(x, \"months\", indexAt = indexAt, name = name, ...):\n",
      "\"missing values removed from data\"\n",
      "Warning message in to.period(x, \"months\", indexAt = indexAt, name = name, ...):\n",
      "\"missing values removed from data\"\n",
      "Warning message in to.period(x, \"months\", indexAt = indexAt, name = name, ...):\n",
      "\"missing values removed from data\"\n",
      "Warning message in to.period(x, \"months\", indexAt = indexAt, name = name, ...):\n",
      "\"missing values removed from data\"\n",
      "Warning message in to.period(x, \"months\", indexAt = indexAt, name = name, ...):\n",
      "\"missing values removed from data\"\n",
      "Warning message in to.period(x, \"months\", indexAt = indexAt, name = name, ...):\n",
      "\"missing values removed from data\"\n",
      "Warning message in to.period(x, \"months\", indexAt = indexAt, name = name, ...):\n",
      "\"missing values removed from data\"\n",
      "Warning message in to.period(x, \"months\", indexAt = indexAt, name = name, ...):\n",
      "\"missing values removed from data\"\n",
      "Warning message in to.period(x, \"months\", indexAt = indexAt, name = name, ...):\n",
      "\"missing values removed from data\"\n",
      "Warning message in to.period(x, \"months\", indexAt = indexAt, name = name, ...):\n",
      "\"missing values removed from data\"\n",
      "Warning message in to.period(x, \"months\", indexAt = indexAt, name = name, ...):\n",
      "\"missing values removed from data\"\n",
      "Warning message in to.period(x, \"months\", indexAt = indexAt, name = name, ...):\n",
      "\"missing values removed from data\"\n",
      "Warning message in to.period(x, \"months\", indexAt = indexAt, name = name, ...):\n",
      "\"missing values removed from data\"\n",
      "Warning message in to.period(x, \"months\", indexAt = indexAt, name = name, ...):\n",
      "\"missing values removed from data\"\n",
      "Warning message in to.period(x, \"months\", indexAt = indexAt, name = name, ...):\n",
      "\"missing values removed from data\"\n",
      "Warning message in to.period(x, \"months\", indexAt = indexAt, name = name, ...):\n",
      "\"missing values removed from data\"\n",
      "Warning message in to.period(x, \"months\", indexAt = indexAt, name = name, ...):\n",
      "\"missing values removed from data\"\n",
      "Warning message in to.period(x, \"months\", indexAt = indexAt, name = name, ...):\n",
      "\"missing values removed from data\"\n",
      "Warning message in to.period(x, \"months\", indexAt = indexAt, name = name, ...):\n",
      "\"missing values removed from data\"\n",
      "Warning message in to.period(x, \"months\", indexAt = indexAt, name = name, ...):\n",
      "\"missing values removed from data\"\n",
      "Warning message in to.period(x, \"months\", indexAt = indexAt, name = name, ...):\n",
      "\"missing values removed from data\"\n",
      "Warning message in to.period(x, \"months\", indexAt = indexAt, name = name, ...):\n",
      "\"missing values removed from data\"\n",
      "Warning message in to.period(x, \"months\", indexAt = indexAt, name = name, ...):\n",
      "\"missing values removed from data\"\n",
      "Warning message in to.period(x, \"months\", indexAt = indexAt, name = name, ...):\n",
      "\"missing values removed from data\"\n",
      "Warning message in to.period(x, \"months\", indexAt = indexAt, name = name, ...):\n",
      "\"missing values removed from data\"\n",
      "Warning message in to.period(x, \"months\", indexAt = indexAt, name = name, ...):\n",
      "\"missing values removed from data\"\n",
      "Warning message in to.period(x, \"months\", indexAt = indexAt, name = name, ...):\n",
      "\"missing values removed from data\"\n",
      "Warning message in to.period(x, \"months\", indexAt = indexAt, name = name, ...):\n",
      "\"missing values removed from data\"\n",
      "Warning message in to.period(x, \"months\", indexAt = indexAt, name = name, ...):\n",
      "\"missing values removed from data\"\n",
      "Warning message in to.period(x, \"months\", indexAt = indexAt, name = name, ...):\n",
      "\"missing values removed from data\"\n",
      "Warning message in to.period(x, \"months\", indexAt = indexAt, name = name, ...):\n",
      "\"missing values removed from data\"\n",
      "Warning message in to.period(x, \"months\", indexAt = indexAt, name = name, ...):\n",
      "\"missing values removed from data\"\n",
      "Warning message in to.period(x, \"months\", indexAt = indexAt, name = name, ...):\n",
      "\"missing values removed from data\"\n",
      "Warning message in to.period(x, \"months\", indexAt = indexAt, name = name, ...):\n",
      "\"missing values removed from data\"\n",
      "Warning message in to.period(x, \"months\", indexAt = indexAt, name = name, ...):\n",
      "\"missing values removed from data\"\n",
      "Warning message in to.period(x, \"months\", indexAt = indexAt, name = name, ...):\n",
      "\"missing values removed from data\"\n",
      "Warning message in to.period(x, \"months\", indexAt = indexAt, name = name, ...):\n",
      "\"missing values removed from data\"\n",
      "Warning message in to.period(x, \"months\", indexAt = indexAt, name = name, ...):\n",
      "\"missing values removed from data\"\n",
      "Warning message in to.period(x, \"months\", indexAt = indexAt, name = name, ...):\n",
      "\"missing values removed from data\"\n",
      "Warning message in to.period(x, \"months\", indexAt = indexAt, name = name, ...):\n",
      "\"missing values removed from data\"\n",
      "Warning message in to.period(x, \"months\", indexAt = indexAt, name = name, ...):\n",
      "\"missing values removed from data\"\n",
      "Warning message in to.period(x, \"months\", indexAt = indexAt, name = name, ...):\n",
      "\"missing values removed from data\"\n",
      "Warning message in to.period(x, \"months\", indexAt = indexAt, name = name, ...):\n",
      "\"missing values removed from data\"\n",
      "Warning message in to.period(x, \"months\", indexAt = indexAt, name = name, ...):\n",
      "\"missing values removed from data\"\n",
      "Warning message in to.period(x, \"months\", indexAt = indexAt, name = name, ...):\n",
      "\"missing values removed from data\"\n",
      "Warning message in to.period(x, \"months\", indexAt = indexAt, name = name, ...):\n",
      "\"missing values removed from data\"\n",
      "Warning message in to.period(x, \"months\", indexAt = indexAt, name = name, ...):\n",
      "\"missing values removed from data\"\n",
      "Warning message in to.period(x, \"months\", indexAt = indexAt, name = name, ...):\n",
      "\"missing values removed from data\"\n",
      "Warning message in to.period(x, \"months\", indexAt = indexAt, name = name, ...):\n",
      "\"missing values removed from data\"\n",
      "Warning message in to.period(x, \"months\", indexAt = indexAt, name = name, ...):\n",
      "\"missing values removed from data\"\n",
      "Warning message in to.period(x, \"months\", indexAt = indexAt, name = name, ...):\n",
      "\"missing values removed from data\"\n",
      "Warning message in to.period(x, \"months\", indexAt = indexAt, name = name, ...):\n",
      "\"missing values removed from data\"\n",
      "Warning message in to.period(x, \"months\", indexAt = indexAt, name = name, ...):\n",
      "\"missing values removed from data\"\n",
      "Warning message in to.period(x, \"months\", indexAt = indexAt, name = name, ...):\n",
      "\"missing values removed from data\"\n",
      "Warning message in to.period(x, \"months\", indexAt = indexAt, name = name, ...):\n",
      "\"missing values removed from data\"\n",
      "Warning message in to.period(x, \"months\", indexAt = indexAt, name = name, ...):\n",
      "\"missing values removed from data\"\n",
      "Warning message in to.period(x, \"months\", indexAt = indexAt, name = name, ...):\n",
      "\"missing values removed from data\"\n",
      "Warning message in to.period(x, \"months\", indexAt = indexAt, name = name, ...):\n",
      "\"missing values removed from data\"\n",
      "Warning message in to.period(x, \"months\", indexAt = indexAt, name = name, ...):\n",
      "\"missing values removed from data\"\n",
      "Warning message in to.period(x, \"months\", indexAt = indexAt, name = name, ...):\n",
      "\"missing values removed from data\"\n",
      "Warning message in to.period(x, \"months\", indexAt = indexAt, name = name, ...):\n",
      "\"missing values removed from data\"\n"
     ]
    }
   ],
   "source": [
    "#getting the data required for task 3\n",
    "\n",
    "task3_data <- vector(\"list\", 20) #Empty list for the data\n",
    "\n",
    "\n",
    "for (i in 1:20) { #Looping through the tickers\n",
    "    ticker_volume <- paste(tickers_20[i,2], \".Volume\", sep = \"\") #Pasting the tickers and variables together\n",
    "    ticker_adjusted <- paste(tickers_20[i,2], \".Adjusted\", sep = \"\") #so the full dataset can be subsetted\n",
    "    ticker_bv <- paste(tickers_20[i,2], \".BV_per_share\", sep = \"\")\n",
    "    ticker_market <- paste(tickers_20[i,2], \".Market_Cap\", sep = \"\")\n",
    "    \n",
    "    ticker_xts <- semifinal_dataset[, c(ticker_volume, ticker_adjusted, ticker_bv, ticker_market)][\"2014-12/\"] #Subsetting the full dataset\n",
    "\n",
    "    task3_data[[i]] <- to.monthly(ticker_xts[,1], name = names(ticker_xts[,1]), OHLC = FALSE) #Extracting data from 2015 further and then converting it to monthly (averages??)\n",
    "    task3_data[[i]] <- merge.xts(task3_data[[i]], to.monthly(ticker_xts[,2], name = names(ticker_xts[,2]), OHLC = FALSE))\n",
    "    task3_data[[i]] <- merge.xts(task3_data[[i]], to.monthly(ticker_xts[,3], name = names(ticker_xts[,3]), OHLC = FALSE))\n",
    "    task3_data[[i]] <- merge.xts(task3_data[[i]], to.monthly(ticker_xts[,4], name = names(ticker_xts[,4]), OHLC = FALSE))\n",
    "}"
   ]
  },
  {
   "cell_type": "code",
   "execution_count": 32,
   "metadata": {
    "vscode": {
     "languageId": "r"
    }
   },
   "outputs": [
    {
     "data": {
      "text/plain": [
       "         WAT.Volume WAT.Adjusted WAT.BV_per_share WAT.Market_Cap\n",
       "Dec 2014     193500       112.72            22.79           9.51\n",
       "Jan 2015     582200       119.05               NA           9.88\n",
       "Feb 2015     381800       120.38               NA           9.99\n",
       "Mar 2015     299500       124.32            22.52          10.32\n",
       "Apr 2015     684000       125.19               NA          10.34\n",
       "May 2015     545900       133.62               NA          11.03\n",
       "Jun 2015     634900       128.38            23.49          10.60\n",
       "Jul 2015     593600       133.49               NA          10.95\n",
       "Aug 2015     562700       121.38               NA           9.96\n",
       "Sep 2015     583600       118.21            24.11           9.70\n",
       "Oct 2015     467100       127.80               NA          10.52\n",
       "Nov 2015     725600       132.82               NA          10.94\n",
       "Dec 2015     318700       134.58            25.27          11.08\n",
       "Jan 2016     599500       121.21               NA           9.85\n",
       "Feb 2016     447500       120.31               NA           9.78\n",
       "Mar 2016     603500       131.92            25.97          10.72\n",
       "Apr 2016     548600       130.16               NA          10.52\n",
       "May 2016     708000       137.55               NA          11.11\n",
       "Jun 2016     814100       140.65            26.69          11.37\n",
       "Jul 2016     496800       158.93               NA          12.82\n",
       "Aug 2016     458400       157.31               NA          12.69\n",
       "Sep 2016     433200       158.49            28.04          12.79\n",
       "Oct 2016     598700       139.14               NA          11.24\n",
       "Nov 2016     758400       134.57               NA          10.87\n",
       "Dec 2016     464200       134.39            28.77          10.86\n",
       "Jan 2017     868000       141.65               NA          11.34\n",
       "Feb 2017     616500       154.99               NA          12.41\n",
       "Mar 2017     248700       156.31            29.93          12.52\n",
       "Apr 2017     705800       169.89               NA          13.59\n",
       "May 2017     909400       179.62               NA          14.37\n",
       "Jun 2017     342100       183.84            31.56          14.70\n",
       "Jul 2017     484100       173.44               NA          13.83\n",
       "Aug 2017     555300       183.48               NA          14.63\n",
       "Sep 2017     335000       179.52            33.06          14.31\n",
       "Oct 2017     385300       196.05               NA          15.64\n",
       "Nov 2017     566600       197.17               NA          15.73\n",
       "Dec 2017     205400       193.19            28.16          15.42\n",
       "Jan 2018     603800       215.61               NA          17.01\n",
       "Feb 2018     469900       204.64               NA          16.14\n",
       "Mar 2018     885100       198.65            27.00          15.67\n",
       "Apr 2018     629200       188.41               NA          14.66\n",
       "May 2018     820600       192.62               NA          14.99\n",
       "Jun 2018     583500       193.59            25.64          15.07\n",
       "Jul 2018     784500       197.27               NA          15.11\n",
       "Aug 2018     435000       189.48               NA          14.51\n",
       "Sep 2018     429300       194.68            24.78          14.91\n",
       "Oct 2018     709700       189.69               NA          14.60\n",
       "Nov 2018    1044100       198.58               NA          15.29\n",
       "Dec 2018     375000       188.65            21.44          14.52\n",
       "Jan 2019     751000       231.22               NA          16.58\n",
       "Feb 2019     797700       242.22               NA          17.37\n",
       "Mar 2019     455700       251.71            13.80          18.05\n",
       "Apr 2019     514400       213.54               NA          14.73\n",
       "May 2019     526000       200.71               NA          13.85\n",
       "Jun 2019     870100       215.24             8.23          14.85\n",
       "Jul 2019     675500       210.56               NA          13.94\n",
       "Aug 2019     497200       211.89               NA          14.03\n",
       "Sep 2019     459600       223.23             1.77          14.78\n",
       "Oct 2019     525000       211.62               NA          14.31\n",
       "Nov 2019     215800       222.07               NA          15.02\n",
       "Dec 2019     340400       233.65            -3.46          15.80\n",
       "Jan 2020     537900       223.79               NA          13.93\n",
       "Feb 2020    1167500       194.89               NA          12.13\n",
       "Mar 2020     505100       182.05            -5.46          11.33\n",
       "Apr 2020     560600       187.00               NA          11.58\n",
       "May 2020    1211900       199.85               NA          12.38\n",
       "Jun 2020     828700       180.40            -3.10          11.17\n",
       "Jul 2020     459100       213.15               NA          13.22\n",
       "Aug 2020     363600       216.26               NA          13.41\n",
       "Sep 2020     370200       195.68            -0.67          12.13\n",
       "Oct 2020     507000       222.82               NA          13.84\n",
       "Nov 2020     562600       232.01               NA          14.41\n",
       "Dec 2020     310800       247.42             3.73          15.36\n",
       "Jan 2021     328900       264.67               NA          16.48\n",
       "Feb 2021     493500       273.88               NA          17.05\n",
       "Mar 2021     480500       284.17             3.73          17.69\n",
       "Apr 2021     407800       299.87               NA          18.50\n",
       "May 2021     376800       322.25               NA          19.88\n",
       "Jun 2021     392000       345.61             4.36          21.32\n",
       "Jul 2021     422000       389.81               NA          23.92\n",
       "Aug 2021     542400       414.02               NA          25.40\n",
       "Sep 2021     539700       357.30             4.83          21.92\n",
       "Oct 2021     305200       367.55               NA          22.55\n",
       "Nov 2021     835600       328.07               NA          20.13\n",
       "Dec 2021     222200       372.60               NA          22.86\n",
       "Jan 2022     489200       320.12               NA          19.64\n",
       "Feb 2022     464800       316.73               NA          19.43\n",
       "Mar 2022         NA           NA               NA          19.05\n",
       "Apr 2022         NA           NA               NA          19.04"
      ]
     },
     "metadata": {},
     "output_type": "display_data"
    }
   ],
   "source": [
    "#I think this is the best we can do :/\n",
    "\n",
    "task3_data[[4]]"
   ]
  },
  {
   "cell_type": "markdown",
   "metadata": {},
   "source": [
    "For computing Price Weighted Index (PWI), we use the formula provided in the assignment, i.e.\n",
    "$$Index_t=\\frac{\\sum_{i=1}^N P_{i,t}}{divisor}$$\n",
    "where $P_{i,t}$ stands for price of stock $i$ in period $t$, and $divisor$ is equal to the number of stocks (individual firms) in the sample/portfolio.\n"
   ]
  },
  {
   "cell_type": "code",
   "execution_count": 80,
   "metadata": {
    "vscode": {
     "languageId": "r"
    }
   },
   "outputs": [],
   "source": [
    "PWI_2 <- xts(rep(0, nrow(task3_data[[1]])), order.by=index(task3_data[[1]]))\n",
    "\n",
    "for (i in 1:nrow(task3_data[[1]])) {\n",
    "   prices <- c(rep(0, 20))\n",
    "   for (n in 1:20) {\n",
    "      prices[n] <- task3_data[[n]][i, 2]\n",
    "   }\n",
    "   PWI[i, 1] <- sum(prices) / 20\n",
    "}"
   ]
  },
  {
   "cell_type": "code",
   "execution_count": 81,
   "metadata": {
    "vscode": {
     "languageId": "r"
    }
   },
   "outputs": [
    {
     "data": {
      "text/plain": [
       "             [,1]\n",
       "Dec 2014 140.5572\n",
       "Jan 2015 132.7355\n",
       "Feb 2015 148.8306\n",
       "Mar 2015 147.2843\n",
       "Apr 2015 149.6104\n",
       "May 2015 148.5718\n",
       "Jun 2015 146.1796\n",
       "Jul 2015 154.5658\n",
       "Aug 2015 152.1396\n",
       "Sep 2015 151.9615\n",
       "Oct 2015 170.2646\n",
       "Nov 2015 159.4417\n",
       "Dec 2015 158.7468\n",
       "Jan 2016 145.8255\n",
       "Feb 2016 155.7712\n",
       "Mar 2016 163.5459\n",
       "Apr 2016 165.3799\n",
       "May 2016 163.9875\n",
       "Jun 2016 165.1689\n",
       "Jul 2016 174.7021\n",
       "Aug 2016 174.3092\n",
       "Sep 2016 178.5403\n",
       "Oct 2016 175.3567\n",
       "Nov 2016 182.0895\n",
       "Dec 2016 180.2506\n",
       "Jan 2017 185.0735\n",
       "Feb 2017 197.4434\n",
       "Mar 2017 201.4326\n",
       "Apr 2017 204.5009\n",
       "May 2017 205.1754\n",
       "Jun 2017 202.2957\n",
       "Jul 2017 207.9509\n",
       "Aug 2017 196.5187\n",
       "Sep 2017 199.4832\n",
       "Oct 2017 203.6137\n",
       "Nov 2017 201.2960\n",
       "Dec 2017 202.5898\n",
       "Jan 2018 218.4375\n",
       "Feb 2018 215.2026\n",
       "Mar 2018 216.0411\n",
       "Apr 2018 220.9787\n",
       "May 2018 220.1747\n",
       "Jun 2018 216.9871\n",
       "Jul 2018 223.6253\n",
       "Aug 2018 223.2254\n",
       "Sep 2018 226.4473\n",
       "Oct 2018 213.8558\n",
       "Nov 2018 220.9702\n",
       "Dec 2018 204.7203\n",
       "Jan 2019 221.1928\n",
       "Feb 2019 222.4819\n",
       "Mar 2019 232.0392\n",
       "Apr 2019 238.5272\n",
       "May 2019 223.7379\n",
       "Jun 2019 245.4103\n",
       "Jul 2019 248.3416\n",
       "Aug 2019 243.3920\n",
       "Sep 2019 245.1943\n",
       "Oct 2019 253.1730\n",
       "Nov 2019 247.0190\n",
       "Dec 2019 259.3349\n",
       "Jan 2020 241.4730\n",
       "Feb 2020 224.5664\n",
       "Mar 2020 181.6983\n",
       "Apr 2020 206.8291\n",
       "May 2020 227.7779\n",
       "Jun 2020 224.0517\n",
       "Jul 2020 237.2111\n",
       "Aug 2020 254.3626\n",
       "Sep 2020 240.7907\n",
       "Oct 2020 236.8343\n",
       "Nov 2020 270.9607\n",
       "Dec 2020 289.7035\n",
       "Jan 2021 270.9542\n",
       "Feb 2021 303.1609\n",
       "Mar 2021 317.7074\n",
       "Apr 2021 337.2997\n",
       "May 2021 333.0841\n",
       "Jun 2021 332.1147\n",
       "Jul 2021 343.5995\n",
       "Aug 2021 351.3118\n",
       "Sep 2021 353.8798\n",
       "Oct 2021 367.7517\n",
       "Nov 2021 347.3915\n",
       "Dec 2021 387.3829\n",
       "Jan 2022 371.2081\n",
       "Feb 2022 352.0089\n",
       "Mar 2022       NA\n",
       "Apr 2022       NA"
      ]
     },
     "metadata": {},
     "output_type": "display_data"
    }
   ],
   "source": [
    "PWI"
   ]
  }
 ],
 "metadata": {
  "interpreter": {
   "hash": "c3d0cf9620c2714139c2dfd3eeea47218c66a8564f7612a40a1666e2c73f2581"
  },
  "kernelspec": {
   "display_name": "R",
   "language": "R",
   "name": "ir"
  },
  "language_info": {
   "codemirror_mode": "r",
   "file_extension": ".r",
   "mimetype": "text/x-r-source",
   "name": "R",
   "pygments_lexer": "r",
   "version": "4.1.2"
  },
  "orig_nbformat": 4
 },
 "nbformat": 4,
 "nbformat_minor": 2
}
