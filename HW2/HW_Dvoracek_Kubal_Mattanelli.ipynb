{
 "cells": [
  {
   "cell_type": "markdown",
   "metadata": {},
   "source": [
    "# JEM092 Asset Pricing - Homework 2\n",
    "\n",
    "### Group 82780095\n",
    "\n",
    "Petr Dvořáček, Jan Kubal, Matyáš Mattanelli\n",
    "\n",
    "---"
   ]
  },
  {
   "cell_type": "markdown",
   "metadata": {},
   "source": [
    "## Abstract"
   ]
  },
  {
   "cell_type": "markdown",
   "metadata": {},
   "source": [
    "## 1. Introduction"
   ]
  },
  {
   "cell_type": "markdown",
   "metadata": {},
   "source": [
    "## 2. Data Description"
   ]
  },
  {
   "cell_type": "markdown",
   "metadata": {},
   "source": [
    "In this section we provide an overview of the utilized data. We examine summary statistics of the variables as well as pairwise correlations. Lastly, we perform a persistence analysis. We start by loading the prepared data along with the necessary packages. The steps we took during data preprocessing and variable derivations are available in the Appendix."
   ]
  },
  {
   "cell_type": "code",
   "execution_count": 2,
   "metadata": {
    "vscode": {
     "languageId": "r"
    }
   },
   "outputs": [],
   "source": [
    "#Loading the packages\n",
    "#install.packages(\"xts\", \"readr\", \"lubridate\", \"quantmod\", \"moments\", \"sandwich\", \"lmtest\")\n",
    "suppressPackageStartupMessages({\n",
    "    library(xts) #Handling xts objects\n",
    "    library(readr) #Reading csv files\n",
    "    library(lubridate) #Date manipulation\n",
    "    library(quantmod) #Returns calculation\n",
    "    library(moments) #Skewness and kurtosis functions\n",
    "    library(sandwich) #Robust covariance matrix estimation\n",
    "    library(lmtest) #Robust covariance matrix estimation\n",
    "})\n",
    "\n",
    "#Loading the data\n",
    "monthly_returns <- readRDS(\"Final data/monthly_excess_returns.RData\")\n",
    "skewness_data <- readRDS(\"Final data/skewness.RData\")\n",
    "betas <- readRDS(\"Final data/betas.RData\")\n",
    "market_cap <- readRDS(\"Final data/market_cap_monthly.RData\")\n",
    "size <- readRDS(\"Final data/size.RData\")\n",
    "fffactors <- readRDS(\"Final data/fffactors_monthly.RData\")\n",
    "momentum <- readRDS(\"Final data/momentum.RData\")\n",
    "liquidity <- readRDS(\"Final data/liquidity.RData\")"
   ]
  },
  {
   "cell_type": "markdown",
   "metadata": {},
   "source": [
    "Before proceeding to the summary statistics, we need to take a look at the inspected period. The required time span according to the first homework is 01.01.2007 - 28.02.2022. However, in the second assignment the required period is 01.01.2007 - 31.12.2020. We select the former in order to utilize as much data as possible. In addition, the data for the Market Capitalization variable are available from 28.02.2009 onwards which decreases the usable time span. Furthermore, the liquidity measure ends in December 2021 which shrinks our data even further. Nevertheless, for the purpose of data description, we retain all values for all variables available after 01.01.2007 and until 28.02.2022. We will make the proper adjustments later in the empirical analysis."
   ]
  },
  {
   "cell_type": "code",
   "execution_count": 3,
   "metadata": {
    "vscode": {
     "languageId": "r"
    }
   },
   "outputs": [],
   "source": [
    "#Restricting the period (01/01/2007 - 28/02/2022)\n",
    "market_cap <- market_cap[\"/2022-02-28\"]\n",
    "size <- size[\"/2022-02-28\"]\n",
    "fffactors <- fffactors[\"/2022-02-28\"]\n",
    "momentum <- momentum[\"/2022-02-28\"]"
   ]
  },
  {
   "cell_type": "markdown",
   "metadata": {},
   "source": [
    "Finally, we can proceed with describing the data. Our final data set contains monthly observations for 250 stocks in the period between 01.01.2007 and 28.02.2022. The three sorting variables that we inspect are Beta, Size, and Skewness.The outcome variable in our setting are the one-ahead excess returns. We also utilize Market Capitalization for value-weighted portfolios, and therefore we provide its statistics as well. For each variable and each period we calcute 12 statistics in total. We then take an average of these values over all available periods. In order to facilitate the process, we define a custom function."
   ]
  },
  {
   "cell_type": "code",
   "execution_count": 19,
   "metadata": {
    "vscode": {
     "languageId": "r"
    }
   },
   "outputs": [],
   "source": [
    "#Defining a function to calculate the summary statistics\n",
    "calc_sum_stats <- function(var_data) {\n",
    "  period_stats <- matrix(ncol = 12, nrow = nrow(var_data)) #A matrix for the statistics from each period\n",
    "  perc_5 <- function(x, na.rm) {return(quantile(x, probs = 0.05, na.rm = na.rm))} #Function to calculate the 5th percentile of data\n",
    "  perc_25 <- function(x, na.rm) {return(quantile(x, probs = 0.25, na.rm = na.rm))} #Function to calculate the 25th percentile of data\n",
    "  perc_75 <- function(x, na.rm) {return(quantile(x, probs = 0.75, na.rm = na.rm))} #Function to calculate the 75th percentile of data\n",
    "  perc_95 <- function(x, na.rm) {return(quantile(x, probs = 0.95, na.rm = na.rm))} #Function to calculate the 95th percentile of data\n",
    "  calc_n <- function(x, na.rm) {return(sum(!is.na(x)))} #Function to calculate the number of observations\n",
    "  funcs <- list(mean, sd, skewness, kurtosis, min, perc_5, perc_25, median, perc_75, perc_95, max, calc_n) #Store the functions we will use\n",
    "  for (i in 1:nrow(var_data)) { #Loop through the periods\n",
    "    for (j in 1:length(funcs)) { #Loop through the functions\n",
    "      period_stats[i, j] <- funcs[[j]](as.numeric(var_data[i, ]), na.rm = T) #Apply each function and store the result \n",
    "    }\n",
    "  }\n",
    "  time_avg <- apply(period_stats, 2, mean, na.rm = T) #Take a time series mean of each statistic\n",
    "  return(round(time_avg, 2)) #Round to two decimals and return the result\n",
    "}\n",
    "\n",
    "#Applying the function\n",
    "sum_stats <- as.data.frame(matrix(nrow = 5, ncol = 12)) #Place holder for the final summary statistics\n",
    "colnames(sum_stats) <- c(\"Mean\", \"Sd\", \"Skewness\", \"Kurtosis\", \"Min\", \"5%\", \"25%\", \"Median\", \"75%\", \"95%\", \"Max\", \"n\") #Rename the columns as the statistics\n",
    "var_names <- c(\"One-ahead Returns\", \"Skewness\", \"Beta\", \"Size\", \"Market cap\") #Define a vector of variable names\n",
    "row.names(sum_stats) <- var_names #Rename the row names as the variables\n",
    "data_list <- list(lag(monthly_returns, -1)[1:(nrow(monthly_returns) - 1), ], skewness_data, betas, size, market_cap) #Store the data in a list for looping (shift monthly returns forward to get one-ahed returns)\n",
    "for (i in 1:5) { #Loop through the variables and apply the function\n",
    "  sum_stats[i, ] <- calc_sum_stats(data_list[[i]])\n",
    "}"
   ]
  },
  {
   "cell_type": "markdown",
   "metadata": {},
   "source": [
    "The resulting summary statistics are available below. Each row shows the 12 statistics for each of the 5 variables. A brief glance at the first row reveals that the average excess return in our data set is positive. Both the mean and median are identical suggesting a symetric distribution. This is confirmed by the skewness (first row, third column) which is quite close to zero. The value is slightly positive which likely reflects that fact that there is a lower bound on returns (-100%) but no upper bound. The value for kurtosis on the other hand is well above 3 (kurtosis of normal distribution) and therefore, the distribution of the returns is likely heavy-tailed. The maximum and minimum excess returns are 35% and -23%, respectively. The maximum value, however, is likely an outlier given the relatively low value of the 95th percentile. \n",
    "\n",
    "As for the Skewness sorting variable, it seems to be distributed symmetrically around zero. This confirms our previous observations that the returns are not substantially skewed. It does attain some extreme values at both tails.\n",
    "\n",
    "A second sorting variable of interest is the stocks' sensitivity to market. As we can see, the average value is around one which indicates that on average the excess returns in our dataset perfectly mimic the market portfolio. In addition, it does not attain a single negative value suggesting that all the stocks react positively to the market. The distribution of Betas seem to be quite close to normal.\n",
    "\n",
    "On the other hand, Market Capitalization seems to be very far from normal distribution. However, the logarithmic transformation seems to remedy this issue since the Size variable is quite close to normal distribution in terms of both skewness and kurtosis. The positive skewness of Market Capitalization is caused by some large outliers in the upper tail which signals that there are one or a few firms that cover a substantially larger portion of the market than the rest. The maximum value is very far from the 95% percentile. Once again, Size does not seem to suffer from these issues since the logarithmic tranasformation decreases the emphasis of outliers.\n",
    "\n",
    "Overall, we can see that in the average period we have majority of the observations for all stocks (denoted by the last column) with the exception of the Market Capitalization and Size variables which seem to have slightly more missing observations. "
   ]
  },
  {
   "cell_type": "code",
   "execution_count": 20,
   "metadata": {
    "vscode": {
     "languageId": "r"
    }
   },
   "outputs": [
    {
     "data": {
      "text/html": [
       "<table class=\"dataframe\">\n",
       "<caption>A data.frame: 5 × 12</caption>\n",
       "<thead>\n",
       "\t<tr><th></th><th scope=col>Mean</th><th scope=col>Sd</th><th scope=col>Skewness</th><th scope=col>Kurtosis</th><th scope=col>Min</th><th scope=col>5%</th><th scope=col>25%</th><th scope=col>Median</th><th scope=col>75%</th><th scope=col>95%</th><th scope=col>Max</th><th scope=col>n</th></tr>\n",
       "\t<tr><th></th><th scope=col>&lt;dbl&gt;</th><th scope=col>&lt;dbl&gt;</th><th scope=col>&lt;dbl&gt;</th><th scope=col>&lt;dbl&gt;</th><th scope=col>&lt;dbl&gt;</th><th scope=col>&lt;dbl&gt;</th><th scope=col>&lt;dbl&gt;</th><th scope=col>&lt;dbl&gt;</th><th scope=col>&lt;dbl&gt;</th><th scope=col>&lt;dbl&gt;</th><th scope=col>&lt;dbl&gt;</th><th scope=col>&lt;dbl&gt;</th></tr>\n",
       "</thead>\n",
       "<tbody>\n",
       "\t<tr><th scope=row>One-ahead Returns</th><td> 0.01</td><td> 0.07</td><td>0.50</td><td> 7.42</td><td>-0.23</td><td>-0.09</td><td>-0.03</td><td> 0.01</td><td> 0.05</td><td>  0.13</td><td>  0.35</td><td>248.87</td></tr>\n",
       "\t<tr><th scope=row>Skewness</th><td> 0.02</td><td> 0.97</td><td>0.25</td><td>18.29</td><td>-4.92</td><td>-1.22</td><td>-0.35</td><td>-0.03</td><td> 0.34</td><td>  1.45</td><td>  5.41</td><td>248.64</td></tr>\n",
       "\t<tr><th scope=row>Beta</th><td> 1.02</td><td> 0.37</td><td>0.39</td><td> 3.34</td><td> 0.21</td><td> 0.45</td><td> 0.76</td><td> 1.00</td><td> 1.25</td><td>  1.65</td><td>  2.24</td><td>248.64</td></tr>\n",
       "\t<tr><th scope=row>Size</th><td> 2.99</td><td> 1.12</td><td>0.60</td><td> 3.24</td><td> 0.43</td><td> 1.47</td><td> 2.18</td><td> 2.84</td><td> 3.63</td><td>  5.08</td><td>  6.56</td><td>244.67</td></tr>\n",
       "\t<tr><th scope=row>Market cap</th><td>45.48</td><td>90.88</td><td>5.21</td><td>38.28</td><td> 1.82</td><td> 5.06</td><td> 9.77</td><td>18.46</td><td>40.71</td><td>168.12</td><td>858.28</td><td>245.14</td></tr>\n",
       "</tbody>\n",
       "</table>\n"
      ],
      "text/latex": [
       "A data.frame: 5 × 12\n",
       "\\begin{tabular}{r|llllllllllll}\n",
       "  & Mean & Sd & Skewness & Kurtosis & Min & 5\\% & 25\\% & Median & 75\\% & 95\\% & Max & n\\\\\n",
       "  & <dbl> & <dbl> & <dbl> & <dbl> & <dbl> & <dbl> & <dbl> & <dbl> & <dbl> & <dbl> & <dbl> & <dbl>\\\\\n",
       "\\hline\n",
       "\tOne-ahead Returns &  0.01 &  0.07 & 0.50 &  7.42 & -0.23 & -0.09 & -0.03 &  0.01 &  0.05 &   0.13 &   0.35 & 248.87\\\\\n",
       "\tSkewness &  0.02 &  0.97 & 0.25 & 18.29 & -4.92 & -1.22 & -0.35 & -0.03 &  0.34 &   1.45 &   5.41 & 248.64\\\\\n",
       "\tBeta &  1.02 &  0.37 & 0.39 &  3.34 &  0.21 &  0.45 &  0.76 &  1.00 &  1.25 &   1.65 &   2.24 & 248.64\\\\\n",
       "\tSize &  2.99 &  1.12 & 0.60 &  3.24 &  0.43 &  1.47 &  2.18 &  2.84 &  3.63 &   5.08 &   6.56 & 244.67\\\\\n",
       "\tMarket cap & 45.48 & 90.88 & 5.21 & 38.28 &  1.82 &  5.06 &  9.77 & 18.46 & 40.71 & 168.12 & 858.28 & 245.14\\\\\n",
       "\\end{tabular}\n"
      ],
      "text/markdown": [
       "\n",
       "A data.frame: 5 × 12\n",
       "\n",
       "| <!--/--> | Mean &lt;dbl&gt; | Sd &lt;dbl&gt; | Skewness &lt;dbl&gt; | Kurtosis &lt;dbl&gt; | Min &lt;dbl&gt; | 5% &lt;dbl&gt; | 25% &lt;dbl&gt; | Median &lt;dbl&gt; | 75% &lt;dbl&gt; | 95% &lt;dbl&gt; | Max &lt;dbl&gt; | n &lt;dbl&gt; |\n",
       "|---|---|---|---|---|---|---|---|---|---|---|---|---|\n",
       "| One-ahead Returns |  0.01 |  0.07 | 0.50 |  7.42 | -0.23 | -0.09 | -0.03 |  0.01 |  0.05 |   0.13 |   0.35 | 248.87 |\n",
       "| Skewness |  0.02 |  0.97 | 0.25 | 18.29 | -4.92 | -1.22 | -0.35 | -0.03 |  0.34 |   1.45 |   5.41 | 248.64 |\n",
       "| Beta |  1.02 |  0.37 | 0.39 |  3.34 |  0.21 |  0.45 |  0.76 |  1.00 |  1.25 |   1.65 |   2.24 | 248.64 |\n",
       "| Size |  2.99 |  1.12 | 0.60 |  3.24 |  0.43 |  1.47 |  2.18 |  2.84 |  3.63 |   5.08 |   6.56 | 244.67 |\n",
       "| Market cap | 45.48 | 90.88 | 5.21 | 38.28 |  1.82 |  5.06 |  9.77 | 18.46 | 40.71 | 168.12 | 858.28 | 245.14 |\n",
       "\n"
      ],
      "text/plain": [
       "                  Mean  Sd    Skewness Kurtosis Min   5%    25%   Median 75%  \n",
       "One-ahead Returns  0.01  0.07 0.50      7.42    -0.23 -0.09 -0.03  0.01   0.05\n",
       "Skewness           0.02  0.97 0.25     18.29    -4.92 -1.22 -0.35 -0.03   0.34\n",
       "Beta               1.02  0.37 0.39      3.34     0.21  0.45  0.76  1.00   1.25\n",
       "Size               2.99  1.12 0.60      3.24     0.43  1.47  2.18  2.84   3.63\n",
       "Market cap        45.48 90.88 5.21     38.28     1.82  5.06  9.77 18.46  40.71\n",
       "                  95%    Max    n     \n",
       "One-ahead Returns   0.13   0.35 248.87\n",
       "Skewness            1.45   5.41 248.64\n",
       "Beta                1.65   2.24 248.64\n",
       "Size                5.08   6.56 244.67\n",
       "Market cap        168.12 858.28 245.14"
      ]
     },
     "metadata": {},
     "output_type": "display_data"
    }
   ],
   "source": [
    "#Summary statistics\n",
    "sum_stats"
   ]
  },
  {
   "cell_type": "markdown",
   "metadata": {},
   "source": [
    "Moving on from the summary statistic, we provide the average pairwise correlations between the variables in question. Similarly as in the previous case, we firstly calculate the cross-sectional correlations between the variables and then average the values across periods."
   ]
  },
  {
   "cell_type": "code",
   "execution_count": 21,
   "metadata": {
    "vscode": {
     "languageId": "r"
    }
   },
   "outputs": [],
   "source": [
    "#Defining a function to calculate the average correlation between two variables\n",
    "calc_corr <- function(var1, var2, method = \"pearson\") { #Expects data for both variables and an indicator for type (default is pearson)\n",
    "  var1 <- var1[index(var1) %in% index(var2)] #Filter only data available for both variables\n",
    "  cross_sec_corrs <- rep(NA, nrow(var1)) #Empty vector the results of each period\n",
    "  for (i in 1:nrow(var1)) { #Loop through the periods available for the first variable\n",
    "    cross_sec_corrs[i] <- cor(as.numeric(var1[i]), as.numeric(var2[index(var1)[i]]), use = \"pairwise.complete.obs\", method = method) #Calculate the correlation for each period\n",
    "  }\n",
    "  return(round(mean(cross_sec_corrs, na.rm = T), 2)) #Return the rounded time series average of the correlations\n",
    "}\n",
    "\n",
    "#Applying the function\n",
    "corrs <- as.data.frame(matrix(nrow = 5, ncol = 5)) #Empty matrix for the results\n",
    "colnames(corrs) <- var_names #Column names\n",
    "row.names(corrs) <- var_names #Row names\n",
    "indices <- combn(1:5, 2) #Get the indices for each pair (unique and excluding pairing variables with themselves)\n",
    "for (i in 1:ncol(indices)) { #Loop through the pairs\n",
    "  corrs[indices[1, i], indices[2, i]] <- calc_corr(data_list[[indices[1, i]]], data_list[[indices[2, i]]], method = \"spearman\") #Spearman correlation in the upper triangle\n",
    "  corrs[indices[2, i], indices[1, i]] <- calc_corr(data_list[[indices[2, i]]], data_list[[indices[1, i]]]) #Pearson correlation in the lower triangle\n",
    "}"
   ]
  },
  {
   "cell_type": "markdown",
   "metadata": {},
   "source": [
    "The results are available in the table below. The diagonal contains missing values since the correlation of a variable with itself is 1 and as such is not relevant. Above the diagonal we present the Spearman correlation while below is the Pearson correlation. As can be seen, the values are largely similar with the exception of Size and Market Capitalization since the Spearman correlation captures the perfectly monotonic relationship while Pearson correlation shows only the degree of linear dependence. As for the remaining values, we can see that the variables are mostly uncorrelated. Nevertheless, disregarding the magnitude, we can observe that returns are positively correlated with Beta and negatively correlated with Size and Market Capitalization which is intuitive. The Skewness measure is essentially uncorrelated with Returns. The largest in magnitude is the Pearson correlation between Beta and Size which indicates that larger stocks are less market-sensitive. Lastly, Skewness appears to be positively correlated with Beta."
   ]
  },
  {
   "cell_type": "code",
   "execution_count": 22,
   "metadata": {
    "vscode": {
     "languageId": "r"
    }
   },
   "outputs": [
    {
     "data": {
      "text/html": [
       "<table class=\"dataframe\">\n",
       "<caption>A data.frame: 5 × 5</caption>\n",
       "<thead>\n",
       "\t<tr><th></th><th scope=col>One-ahead Returns</th><th scope=col>Skewness</th><th scope=col>Beta</th><th scope=col>Size</th><th scope=col>Market cap</th></tr>\n",
       "\t<tr><th></th><th scope=col>&lt;dbl&gt;</th><th scope=col>&lt;dbl&gt;</th><th scope=col>&lt;dbl&gt;</th><th scope=col>&lt;dbl&gt;</th><th scope=col>&lt;dbl&gt;</th></tr>\n",
       "</thead>\n",
       "<tbody>\n",
       "\t<tr><th scope=row>One-ahead Returns</th><td>   NA</td><td>0.00</td><td> 0.03</td><td>-0.06</td><td>-0.06</td></tr>\n",
       "\t<tr><th scope=row>Skewness</th><td> 0.00</td><td>  NA</td><td> 0.14</td><td> 0.01</td><td> 0.01</td></tr>\n",
       "\t<tr><th scope=row>Beta</th><td> 0.04</td><td>0.11</td><td>   NA</td><td>-0.13</td><td>-0.13</td></tr>\n",
       "\t<tr><th scope=row>Size</th><td>-0.07</td><td>0.02</td><td>-0.14</td><td>   NA</td><td> 1.00</td></tr>\n",
       "\t<tr><th scope=row>Market cap</th><td>-0.02</td><td>0.03</td><td>-0.08</td><td> 0.75</td><td>   NA</td></tr>\n",
       "</tbody>\n",
       "</table>\n"
      ],
      "text/latex": [
       "A data.frame: 5 × 5\n",
       "\\begin{tabular}{r|lllll}\n",
       "  & One-ahead Returns & Skewness & Beta & Size & Market cap\\\\\n",
       "  & <dbl> & <dbl> & <dbl> & <dbl> & <dbl>\\\\\n",
       "\\hline\n",
       "\tOne-ahead Returns &    NA & 0.00 &  0.03 & -0.06 & -0.06\\\\\n",
       "\tSkewness &  0.00 &   NA &  0.14 &  0.01 &  0.01\\\\\n",
       "\tBeta &  0.04 & 0.11 &    NA & -0.13 & -0.13\\\\\n",
       "\tSize & -0.07 & 0.02 & -0.14 &    NA &  1.00\\\\\n",
       "\tMarket cap & -0.02 & 0.03 & -0.08 &  0.75 &    NA\\\\\n",
       "\\end{tabular}\n"
      ],
      "text/markdown": [
       "\n",
       "A data.frame: 5 × 5\n",
       "\n",
       "| <!--/--> | One-ahead Returns &lt;dbl&gt; | Skewness &lt;dbl&gt; | Beta &lt;dbl&gt; | Size &lt;dbl&gt; | Market cap &lt;dbl&gt; |\n",
       "|---|---|---|---|---|---|\n",
       "| One-ahead Returns |    NA | 0.00 |  0.03 | -0.06 | -0.06 |\n",
       "| Skewness |  0.00 |   NA |  0.14 |  0.01 |  0.01 |\n",
       "| Beta |  0.04 | 0.11 |    NA | -0.13 | -0.13 |\n",
       "| Size | -0.07 | 0.02 | -0.14 |    NA |  1.00 |\n",
       "| Market cap | -0.02 | 0.03 | -0.08 |  0.75 |    NA |\n",
       "\n"
      ],
      "text/plain": [
       "                  One-ahead Returns Skewness Beta  Size  Market cap\n",
       "One-ahead Returns    NA             0.00      0.03 -0.06 -0.06     \n",
       "Skewness           0.00               NA      0.14  0.01  0.01     \n",
       "Beta               0.04             0.11        NA -0.13 -0.13     \n",
       "Size              -0.07             0.02     -0.14    NA  1.00     \n",
       "Market cap        -0.02             0.03     -0.08  0.75    NA     "
      ]
     },
     "metadata": {},
     "output_type": "display_data"
    }
   ],
   "source": [
    "#Pairwise correlations\n",
    "corrs"
   ]
  },
  {
   "cell_type": "markdown",
   "metadata": {},
   "source": [
    "Lastly, we perform the persistence analysis. We consider five lags and present the average autocorrelation over all periods for a given lag for each variable."
   ]
  },
  {
   "cell_type": "code",
   "execution_count": 23,
   "metadata": {
    "vscode": {
     "languageId": "r"
    }
   },
   "outputs": [],
   "source": [
    "#Defining a function to calculate persistence of a variable\n",
    "calc_pers <- function(var_data, lags = 5) { #Expects an xts object and the number of lags how far to calculate the correlations\n",
    "  final_persist <- rep(NA, lags) #A vector to store the results \n",
    "  for (i in 1:lags) { #Loop through the lags\n",
    "    cross_persist <- rep(NA, nrow(var_data)) #A vector to store the results from each period\n",
    "    for (j in 1 :nrow(var_data)) { #Loop through the periods\n",
    "      current_period <- index(var_data)[j] #Store the current period\n",
    "      lagged_period <- as.Date(as.yearmon(current_period %m-% months(i)), frac = 1) #Derive the lagged period\n",
    "      if (!lagged_period %in% index(var_data)) { #If the lag is unavailable, skip\n",
    "        next\n",
    "      }\n",
    "      cross_persist[j] <- cor(as.numeric(var_data[j]), as.numeric(var_data[lagged_period]), use = \"pairwise.complete.obs\") #Calculate Pearson between the variable and the appropriate lag\n",
    "    }\n",
    "    final_persist[i] <- mean(cross_persist, na.rm = T) #Calculate the time series mean\n",
    "  }\n",
    "  return(round(final_persist, 3)) #Return the rounded correlations\n",
    "}\n",
    "\n",
    "#Apply the function\n",
    "lags <- 5 #Specify the required number of lags\n",
    "persistence <- as.data.frame(matrix(ncol = lags, nrow = 5)) #Data frame for the results (lags in columns, vars in rows)\n",
    "colnames(persistence) <- paste(\"Lag \", 1:lags) #Rename the columns with lag numbers\n",
    "row.names(persistence) <- var_names #Rename the rows with variable names\n",
    "for (i in 1:nrow(persistence)) { #Loop through the variables and calculate their persistence\n",
    "  persistence[i, ] <- calc_pers(data_list[[i]], lags = lags) #Apply the function\n",
    "}"
   ]
  },
  {
   "cell_type": "markdown",
   "metadata": {},
   "source": [
    "The results of the table below seem to agree with basic intuition. The Returns do not show any significant autocorrelations which demostrates their unpredictable behavior. On the other hand, the remaining variables seem to be quite persitent. In case of Skewness, the persitence is slowly decaying which is likely mechanical since lags that are close to each other contain larger portions of the same data for calculation. We cannot observe any strong decay for Beta, Size, and Market Cap which suggests that the market sensitivity of a stock does not change much over time on average and the same applies to its market share. "
   ]
  },
  {
   "cell_type": "code",
   "execution_count": 24,
   "metadata": {
    "vscode": {
     "languageId": "r"
    }
   },
   "outputs": [
    {
     "data": {
      "text/html": [
       "<table class=\"dataframe\">\n",
       "<caption>A data.frame: 5 × 5</caption>\n",
       "<thead>\n",
       "\t<tr><th></th><th scope=col>Lag  1</th><th scope=col>Lag  2</th><th scope=col>Lag  3</th><th scope=col>Lag  4</th><th scope=col>Lag  5</th></tr>\n",
       "\t<tr><th></th><th scope=col>&lt;dbl&gt;</th><th scope=col>&lt;dbl&gt;</th><th scope=col>&lt;dbl&gt;</th><th scope=col>&lt;dbl&gt;</th><th scope=col>&lt;dbl&gt;</th></tr>\n",
       "</thead>\n",
       "<tbody>\n",
       "\t<tr><th scope=row>One-ahead Returns</th><td>0.000</td><td>-0.005</td><td>-0.023</td><td>-0.001</td><td>0.014</td></tr>\n",
       "\t<tr><th scope=row>Skewness</th><td>0.906</td><td> 0.802</td><td> 0.721</td><td> 0.643</td><td>0.561</td></tr>\n",
       "\t<tr><th scope=row>Beta</th><td>0.988</td><td> 0.972</td><td> 0.951</td><td> 0.939</td><td>0.920</td></tr>\n",
       "\t<tr><th scope=row>Size</th><td>0.998</td><td> 0.996</td><td> 0.994</td><td> 0.992</td><td>0.990</td></tr>\n",
       "\t<tr><th scope=row>Market cap</th><td>0.998</td><td> 0.996</td><td> 0.994</td><td> 0.992</td><td>0.989</td></tr>\n",
       "</tbody>\n",
       "</table>\n"
      ],
      "text/latex": [
       "A data.frame: 5 × 5\n",
       "\\begin{tabular}{r|lllll}\n",
       "  & Lag  1 & Lag  2 & Lag  3 & Lag  4 & Lag  5\\\\\n",
       "  & <dbl> & <dbl> & <dbl> & <dbl> & <dbl>\\\\\n",
       "\\hline\n",
       "\tOne-ahead Returns & 0.000 & -0.005 & -0.023 & -0.001 & 0.014\\\\\n",
       "\tSkewness & 0.906 &  0.802 &  0.721 &  0.643 & 0.561\\\\\n",
       "\tBeta & 0.988 &  0.972 &  0.951 &  0.939 & 0.920\\\\\n",
       "\tSize & 0.998 &  0.996 &  0.994 &  0.992 & 0.990\\\\\n",
       "\tMarket cap & 0.998 &  0.996 &  0.994 &  0.992 & 0.989\\\\\n",
       "\\end{tabular}\n"
      ],
      "text/markdown": [
       "\n",
       "A data.frame: 5 × 5\n",
       "\n",
       "| <!--/--> | Lag  1 &lt;dbl&gt; | Lag  2 &lt;dbl&gt; | Lag  3 &lt;dbl&gt; | Lag  4 &lt;dbl&gt; | Lag  5 &lt;dbl&gt; |\n",
       "|---|---|---|---|---|---|\n",
       "| One-ahead Returns | 0.000 | -0.005 | -0.023 | -0.001 | 0.014 |\n",
       "| Skewness | 0.906 |  0.802 |  0.721 |  0.643 | 0.561 |\n",
       "| Beta | 0.988 |  0.972 |  0.951 |  0.939 | 0.920 |\n",
       "| Size | 0.998 |  0.996 |  0.994 |  0.992 | 0.990 |\n",
       "| Market cap | 0.998 |  0.996 |  0.994 |  0.992 | 0.989 |\n",
       "\n"
      ],
      "text/plain": [
       "                  Lag  1 Lag  2 Lag  3 Lag  4 Lag  5\n",
       "One-ahead Returns 0.000  -0.005 -0.023 -0.001 0.014 \n",
       "Skewness          0.906   0.802  0.721  0.643 0.561 \n",
       "Beta              0.988   0.972  0.951  0.939 0.920 \n",
       "Size              0.998   0.996  0.994  0.992 0.990 \n",
       "Market cap        0.998   0.996  0.994  0.992 0.989 "
      ]
     },
     "metadata": {},
     "output_type": "display_data"
    }
   ],
   "source": [
    "#Persistence analysis\n",
    "persistence"
   ]
  },
  {
   "cell_type": "markdown",
   "metadata": {},
   "source": [
    "## 3. Methodology"
   ]
  },
  {
   "cell_type": "markdown",
   "metadata": {},
   "source": [
    "This section presents an overview of the utilized methodology. We also introduce the functions used to perform the analyses. These include the univariate portfolio analysis, bivariate portfolio analysis, and Fama-MacBeth regression."
   ]
  },
  {
   "cell_type": "markdown",
   "metadata": {},
   "source": [
    "The univariate portfolio analysis inspects the relationship between a single indenpendent variable and a dependent variable. The dependent variable in our case are the one-ahead returns. We separately investigate three independent variables: Beta, Size, and Skewness. The nature of the analysis allows us to not make any assumptions regarding the linearity of the relationship.\n",
    "\n",
    "For each variable and each period we divide the stocks into 5 portfolios. These are formed based on breakpoints calculated as the 20th, 40%, 60%, and 80% percentile of the sorting variable. When allocating the stocks into the portfolios we consider closed intervals to prevent the existence of empty portfolios. This may result in some stocks being allocated to multiple portfolios. This approach follows the textbook by Bali *et al.* (2016). For each portfolio we then calculate the cross-sectional average of the sorting variable as well as the outcome variable. We consider both an equally weighted average as well as value-weighted average. Subsequently, we calculate the difference portfolio as the difference between the average values of the last and first portfolios.\n",
    "\n",
    "After obtaining the cross-sectional averages for each period, we calculate the time-series average for each portfolio. We report the *t*-statistic associated with the values adjusted using the robust Newey-West covariance matrix with 6 lags to ensure robustness to serial correlation. In addition, we use five factors to obtain Fama-French-Carhart-Pastor-Stambaugh alpha and its *t*-statistic. The five factors include the Market premium, High Minus Low, Small Minus Big, Momentum, and Liquidity. The value of alpha represents the risk-adjusted returns."
   ]
  },
  {
   "cell_type": "code",
   "execution_count": 4,
   "metadata": {
    "vscode": {
     "languageId": "r"
    }
   },
   "outputs": [],
   "source": [
    "#Defining a function to perform a univariate sort\n",
    "univariate_sort <- function(sort_variable, no_of_ports = 5, weighted = F) {\n",
    "  sort_variable_name <- gsub(\"MDLZ.\", \"\", colnames(sort_variable)[1]) #Extracting the name of the sorting variable\n",
    "  final_ouptut <- as.data.frame(matrix(ncol = no_of_ports + 1, nrow = 5)) #Data frame for the final output\n",
    "  colnames(final_ouptut) <- c(1:no_of_ports, paste(no_of_ports, 1, sep = \"-\")) #Column names for clarity\n",
    "  row.names(final_ouptut) <- c(paste0(\"Mean of \", sort_variable_name), \"Mean of one-ahead returns\", \"t-statistic\", \"Alpha\", \"t-statistic (alpha)\")\n",
    "  all_avg_sort_values <- c() #Empty vector to which we will append the results from each period (sort variable)\n",
    "  all_avg_returns <- c() #Empty vector to which we will append the results from each period (returns)\n",
    "  for (i in 1:nrow(sort_variable)) { #Loop through the rows (periods)\n",
    "    current_period <- index(sort_variable)[i] #Store the current period\n",
    "    next_period <- as.Date(as.yearmon(current_period %m+% months(1)), frac = 1) #Store the next period (for the 1-ahead returns)\n",
    "    if (!next_period %in% index(monthly_returns)) { #In case we do not have 1-ahead returns, skip the period\n",
    "      next\n",
    "    }\n",
    "    average_sort_values <- rep(NA, no_of_ports) #Place holder for the cross-sectional average values of the sort variable\n",
    "    average_returns <- xts(matrix(nrow = 1, ncol = no_of_ports + 1), order.by = current_period) #Place holder for the cross-sectional average values of the 1-ahead returns\n",
    "    breakpoints <- quantile(sort_variable[current_period], probs = seq(1/no_of_ports, 1 - 1/no_of_ports, 1/no_of_ports), na.rm = T) #Find the breakpoints\n",
    "    for (j in 1:no_of_ports) { #Looping through the portfolios\n",
    "      if (j == 1) { #For the first portfolio we have only one condition\n",
    "        indic <- which(sort_variable[current_period] <= breakpoints[j]) #Find the stocks in the portfolio and save their column indices\n",
    "      } else if (j == no_of_ports) { #For the last portfolio we have only one condition as well\n",
    "        indic <- which(sort_variable[current_period] >= breakpoints[j -  1])\n",
    "      } else { #The rest of the portfolios (two conditions)\n",
    "        indic <- which(sort_variable[current_period] >= breakpoints[j - 1] & sort_variable[current_period] <= breakpoints[j]) #\"=\" at both inequalities to prevent empty portfolios\n",
    "      }\n",
    "      if (weighted == T) { #Market cap weighted average\n",
    "        mc_weights <- as.numeric(market_cap[current_period, indic]) #Storing the weights\n",
    "        if (length(mc_weights) == 0) { #If we do not have the market cap data, we have to skip\n",
    "          next\n",
    "        }\n",
    "        mc_weights[is.na(mc_weights)] <- 0 #0 value for missings = they have no weight\n",
    "        average_returns[, j] <- weighted.mean(as.numeric(monthly_returns[next_period, indic]), w = mc_weights, na.rm = T)\n",
    "      } else { #Equally-weighted average\n",
    "        average_returns[, j] <- mean(monthly_returns[next_period, indic], na.rm = T) #Calculate the average of 1-ahead returns\n",
    "      }\n",
    "      average_sort_values[j] <- mean(sort_variable[current_period, indic], na.rm = T) #Calculate the average of the sort variable for the given portfolio\n",
    "    }\n",
    "    average_returns[, no_of_ports + 1] <- average_returns[, no_of_ports] - average_returns[, 1] #The difference portfolio\n",
    "    all_avg_sort_values <- rbind(all_avg_sort_values, average_sort_values) #Append the results\n",
    "    all_avg_returns <- rbind(all_avg_returns, average_returns) #Append the results\n",
    "  }\n",
    "  final_ouptut[1, ] <- round(c(apply(all_avg_sort_values, 2, mean, na.rm = T) , NA), 3) #Final average values of the sort variable\n",
    "  for (i in 1:(no_of_ports + 1)) { #Loop through the portfolios and get the time series avg of returns, t-stat and alpha\n",
    "    model_avg <- lm(na.omit(all_avg_returns[, i]) ~ 1) #Regress returns of each portfolio on the intercept (for weighted portfolio there may be missing values and coeftest cannot handle them => remove)\n",
    "    model_avg_adj <- coeftest(model_avg, vcov = NeweyWest(model_avg, lag = 6)) #Make Newey-West adjustment of std errors\n",
    "    final_ouptut[2, i] <- round(model_avg_adj[1, 1], 3) #Store the intercept (=time series average)\n",
    "    final_ouptut[3, i] <- paste0(\"(\", round(model_avg_adj[1, 3], 3), \")\") #Store the t-statistic\n",
    "    #Regress the returns on the five factors\n",
    "    factor_data <- na.omit(merge.xts(all_avg_returns[, i], fffactors[, 1:3], momentum, liquidity)) #Merge the data needed for the factor model (to secure the same number of obs) + remove NAs since coeftest cannot handle it\n",
    "    factor_model <- lm(factor_data[, 1] ~ factor_data[, 2] + factor_data[, 3] + factor_data[, 4] + factor_data[, 5] + \n",
    "                         factor_data[, 6])\n",
    "    factor_model_adj <- coeftest(factor_model, vcov = NeweyWest(factor_model, lag = 6)) #Make Newey-West adjustment\n",
    "    final_ouptut[4, i] <- round(factor_model_adj[1, 1], 3) #Store the intercept (alpha)\n",
    "    final_ouptut[5, i] <- paste0(\"(\", round(factor_model_adj[1, 3], 3), \")\") #Store the t-statistic\n",
    "  }\n",
    "  return(final_ouptut)\n",
    "}"
   ]
  },
  {
   "cell_type": "markdown",
   "metadata": {},
   "source": [
    "Apart from the univariate sort, we also perform an independent bivariate portfolio analysis. In this way we can examine the relation between one sorting variable and the outcome variable after controling for some other variable. In our case we consider a sort on Size and Beta and then on Size and Skewness. The procedure is quite similar to the univariate sort.\n",
    "\n",
    "Firstly, we divide both sorting variables into three groups based on the 30th and 70th percentile. We then form portfolios for all possible combinations resulting in 16 portfolios in total (we also include the difference portfolios). As in the previous case, we consider closed intervals to prevent some portfolios to be empty. Since we are concerned with an independent sorting procedure, we find the breakpoints for each variable independently and then find the stocks belonging to each portfolio by combining the breakpoints. Then as in the univariate sort, we calculate the cross-sectional averages for each portfolio in each period. Subsequently, we calculate the difference portfolios and lastly the difference in difference portfolio.\n",
    "\n",
    "Once we have the time series of excess returns for each portfolio, the procedure is identical to the univariate sort. The only exception is that we do not report the average values of the sorting variables."
   ]
  },
  {
   "cell_type": "code",
   "execution_count": 5,
   "metadata": {
    "vscode": {
     "languageId": "r"
    }
   },
   "outputs": [],
   "source": [
    "#Defining a function to perform a bivariate sort (independent and weighted)\n",
    "bivariate_sort <- function(sort_variable1, sort_variable2, percs1 = c(0.3, 0.7), percs2 = c(0.3, 0.7)) { #Accepts two sort variables data and required percentiles for the portfolios\n",
    "  no_of_ports1 <- length(percs1) + 1 #Storing the number of portfolios of the first sort variable\n",
    "  no_of_ports2 <- length(percs2) + 1 #Storing the number of portfolios of the second sort variable\n",
    "  sort_variable1_name <- gsub(\"MDLZ.\", \"\", colnames(sort_variable1)[1]) #Extracting the name of the first sorting variable\n",
    "  sort_variable2_name <- gsub(\"MDLZ.\", \"\", colnames(sort_variable2)[1]) #Extracting the name of the second sorting variable\n",
    "  final_ouptut <- as.data.frame(matrix(ncol = no_of_ports1 + 1, nrow = 4*(no_of_ports2 + 1))) #Data frame for the final output\n",
    "  colnames(final_ouptut) <- c(paste0(sort_variable1_name, \" \", 1:no_of_ports1), paste0(sort_variable1_name, \" \", paste0(no_of_ports1, \"-\", 1))) #Column names for clarity\n",
    "  sort_variable2_ports <- c(paste0(sort_variable2_name, \" \", 1:no_of_ports2), paste0(sort_variable2_name, \" \", paste0(no_of_ports2, \"-\", 1))) #Portfolios of the second sort variable stored to use for row names of the final output\n",
    "  statistics <- c(\"Mean\", \"t-statistic\", \"Alpha\", \"t-statistic (alpha)\") #Statistics to paste for row names\n",
    "  row.names(final_ouptut) <- as.vector(t(outer(sort_variable2_ports, statistics, FUN = \"paste\", sep = \" - \"))) #Row names for clarity\n",
    "  all_avg_returns <- list() #Empty vector to which we will append the matrices of results from each period (returns)\n",
    "  find_indics <- function(xts_object, percs) { #A function that returns boolean vectors for given quantiles of given data\n",
    "    breakpoints <- quantile(xts_object, probs = percs, na.rm = T) #Find the breakpoints\n",
    "    no_of_quants <- length(breakpoints) + 1 #Store the number of quantiles\n",
    "    indics <- vector(\"list\", no_of_quants) #Empty list to store the final indices\n",
    "    for (i in 1:no_of_quants) { #Loop through the quantiles\n",
    "      if (i == 1) { #For the first quantile we have only one condition\n",
    "        indic <- xts_object <= breakpoints[i] #Find the stocks in the first quantile\n",
    "      } else if (i == no_of_quants) { #For the last quantile we have only one condition as well\n",
    "        indic <- xts_object >= breakpoints[i -  1]\n",
    "      } else { #The rest of the quantiles (two conditions)\n",
    "        indic <- xts_object >= breakpoints[i - 1] & xts_object <= breakpoints[i] #\"=\" at both inequalities to prevent empty quantiles (see book)\n",
    "      }\n",
    "      indics[[i]] <- indic\n",
    "    }\n",
    "    return(indics)\n",
    "  }\n",
    "  for (i in 1:nrow(sort_variable1)) { #Loop through the rows (periods) of the first sorting variable (we are interested in the intersection of the periods so we can loop through just one of the indices)\n",
    "    current_period <- index(sort_variable1)[i] #Store the current period\n",
    "    next_period <- as.Date(as.yearmon(current_period %m+% months(1)), frac = 1) #Store the next period (for the 1-ahead returns)\n",
    "    if (!next_period %in% index(monthly_returns) | !current_period %in% index(sort_variable2)) { #In case we do not have 1-ahead returns or the values for the second variable, skip the period\n",
    "      next\n",
    "    }\n",
    "    average_returns <- matrix(nrow = no_of_ports2 + 1, ncol = no_of_ports1 + 1) #Place holder for the cross-sectional average values of the 1-ahead returns\n",
    "    indics1 <- find_indics(sort_variable1[current_period], percs1) #Divide the first sorting variable into quantiles (get the boolean values for the stocks)\n",
    "    indics2 <- find_indics(sort_variable2[current_period], percs2) #Divide the second sorting variable into quantiles (get the boolean values for the stocks)\n",
    "    indics_comb <- expand.grid(indics1, indics2) #Make all possible combinations for all quantiles of both variables\n",
    "    indics_for_mat <- expand.grid(1:no_of_ports1, 1:no_of_ports2) #Indices for writing the returns in the matrix for each period\n",
    "    for (j in 1:nrow(indics_comb)) { #Loop through the portfolios\n",
    "      final_indics <- which(unlist(indics_comb[j, 1]) & unlist(indics_comb[j, 2])) #Find the column indices for a given portfolio\n",
    "      mc_weights <- as.numeric(market_cap[current_period, final_indics]) #Storing the market cap weights\n",
    "      if (length(mc_weights) == 0) { #If we do not have the market cap data, we have to skip\n",
    "        next\n",
    "      }\n",
    "      mc_weights[is.na(mc_weights)] <- 0 #0 value for missings = they have no weight\n",
    "      average_returns[indics_for_mat[j, 2], indics_for_mat[j, 1]] <- weighted.mean(as.numeric(monthly_returns[next_period, final_indics]), w = mc_weights, na.rm = T)  \n",
    "    }\n",
    "    for (j in 1:(ncol(average_returns)- 1)) { #Calculate the difference portfolios of the second sorting variable (last row)\n",
    "      average_returns[nrow(average_returns), j] <- average_returns[nrow(average_returns) - 1, j] - average_returns[1, j] \n",
    "    }\n",
    "    for (j in 1:nrow(average_returns)) { #Calculate the difference portfolios of the first sorting variable + the diff in diff portfolio (last column)\n",
    "      average_returns[j, ncol(average_returns)] <- average_returns[j, ncol(average_returns) - 1] - average_returns[j, 1]\n",
    "    }\n",
    "    all_avg_returns[[length(all_avg_returns) + 1]] <- average_returns #Append the matrix with results for the current period\n",
    "    names(all_avg_returns)[length(all_avg_returns)] <- as.character(current_period) #Name the element in the list with the period for later usage\n",
    "  }\n",
    "  indics_for_ports <- expand.grid(1:(no_of_ports1 + 1), 1:(no_of_ports2 + 1)) #Store the indices for each portfolio in the returns matrix for the loop\n",
    "  final_returns <- rep(NA, ((no_of_ports1 + 1)*(no_of_ports2 + 1))) #A vector to store the final returns for each portfolio\n",
    "  final_t_stats <- rep(NA, ((no_of_ports1 + 1)*(no_of_ports2 + 1))) #A vector to store the final t-statistics for each portfolio\n",
    "  final_alphas <- rep(NA, ((no_of_ports1 + 1)*(no_of_ports2 + 1))) #A vector to store the final alphas for each portfolio\n",
    "  final_t_stats_alphas <- rep(NA, ((no_of_ports1 + 1)*(no_of_ports2 + 1))) #A vector to store the final t-statistics for alphas for each portfolio\n",
    "  for (i in 1:((no_of_ports1 + 1)*(no_of_ports2 + 1))) { #Loop through the portfolios and get the time series avg of returns, t-stat and alpha\n",
    "    data_to_use <- xts(unlist(lapply(all_avg_returns, \"[\", indics_for_ports[i, 2], indics_for_ports[i, 1])), order.by = as.Date(names(all_avg_returns))) #Get the time series for each portfolio\n",
    "    model_avg <- lm(na.omit(data_to_use) ~ 1) #Regress returns of each portfolio on the intercept (for weighted portfolio there may be missing values and coeftest cannot handle them => remove)\n",
    "    model_avg_adj <- coeftest(model_avg, vcov = NeweyWest(model_avg, lag = 6)) #Make Newey-West adjustment of std errors\n",
    "    final_returns[i] <- model_avg_adj[1, 1] #Store the intercept (=time series average)\n",
    "    final_t_stats[i] <- model_avg_adj[1, 3] #Store the t-statistic\n",
    "    #Regress the returns on the five factors\n",
    "    factor_data <- na.omit(merge.xts(data_to_use, fffactors[, 1:3], momentum, liquidity)) #Merge the data needed for the factor model (to secure the same number of obs) + remove NAs since coeftest cannot handle it\n",
    "    factor_model <- lm(factor_data[, 1] ~ factor_data[, 2] + factor_data[, 3] + factor_data[, 4] + factor_data[, 5] + \n",
    "                         factor_data[, 6])\n",
    "    factor_model_adj <- coeftest(factor_model, vcov = NeweyWest(factor_model, lag = 6)) #Make Newey-West adjustment\n",
    "    final_alphas[i] <- factor_model_adj[1, 1] #Store the intercept (alpha)\n",
    "    final_t_stats_alphas[i] <- factor_model_adj[1, 3] #Store the t-statistic\n",
    "  }\n",
    "  final_result <- list(final_returns, final_t_stats, final_alphas, final_t_stats_alphas)\n",
    "  for (i in 1:4) { #Loop through the list of results\n",
    "    results_mat <- matrix(final_result[[i]], ncol = no_of_ports1 + 1, byrow = T) #Reshape the vector to matrix to facilitate filling in the final output\n",
    "    if (i %in% c(2, 4)) { #Wrap the t-statistics in brackets for nicer output\n",
    "      final_ouptut[seq(i, nrow(final_ouptut), 4), ] <- paste0(\"(\", round(results_mat, 3), \")\")  \n",
    "    } else {\n",
    "      final_ouptut[seq(i, nrow(final_ouptut), 4), ] <- round(results_mat, 3) #Fill the appropriate rows with results for each statistic\n",
    "    }\n",
    "  }\n",
    "  return(final_ouptut)\n",
    "}"
   ]
  },
  {
   "cell_type": "markdown",
   "metadata": {},
   "source": [
    "The last part of our analysis entails performing the Fama-Macbeth regression. In this method we make the assumption that the relationship between the variables in question is linear. We firstly consider the sole relationship between Skewness and excess returns and then we also include the variable Size and Beta into the regression.\n",
    "\n",
    "The procedure is somehow similar to the portfolio analysis in the way that we first estimate individual cross-sectional regressions for each period, we store the coefficients, and then we calculate the average over all periods. In this case we present only the robust *t*-statistics and also the average Adjusted R-squared."
   ]
  },
  {
   "cell_type": "code",
   "execution_count": 6,
   "metadata": {
    "vscode": {
     "languageId": "r"
    }
   },
   "outputs": [],
   "source": [
    "#Defining a function to perform the Fama-Macbeth regression\n",
    "fama_macbeth <- function(indep_var) { #Expects a list of xts objects with independent variables\n",
    "  cross_sec_coefs <- c() #Empty vector to which we will append the coefficients for each period\n",
    "  adj_r_squared <- c() #Empty vector for adjusted R-squared in each period\n",
    "  no_of_obs <- c() #Empty vector to store the number of observations in each period\n",
    "  for (i in 1:nrow(monthly_returns)) { #Loop through the periods\n",
    "    next_period <- index(monthly_returns)[i] #Store the period from which the one ahead returns come\n",
    "    current_period <- as.Date(as.yearmon(next_period %m-% months(1)), frac = 1) #Store the period for the independent variables\n",
    "    move_to_next_period <- F #Setting up an indicator for incomplete periods\n",
    "    for (j in 1:length(indep_var)) { #Check if the current period is contained in all independent variables\n",
    "      if (current_period %in% index(indep_var[[j]])) { #If it is, move to next variable\n",
    "        next\n",
    "      } else { #If it is not, set the indicator and break\n",
    "        move_to_next_period <- T\n",
    "        break\n",
    "      }\n",
    "    }\n",
    "    if (move_to_next_period == T) { #If one of the independent variables does not contain the required period, move to next period\n",
    "      next\n",
    "    }\n",
    "    cross_sec_data <- as.data.frame(matrix(ncol = length(indep_var) + 1, nrow = ncol(monthly_returns))) #Data holder for each period\n",
    "    colnames(cross_sec_data) <- c(\"Returns\", names(indep_var)) #Column names that will be used in the formula\n",
    "    cross_sec_data[, 1] <- as.numeric(monthly_returns[next_period]) #Fill in the data for the dependent variable\n",
    "    for (j in 1:length(indep_var)) { #Fill in the data for each independent variable\n",
    "      cross_sec_data[, j + 1] <- as.numeric(indep_var[[j]][current_period])\n",
    "    }\n",
    "    form <- paste(\"Returns\", paste(colnames(cross_sec_data)[2:ncol(cross_sec_data)], collapse = \"+\"), sep = \"~\") #Define the formula\n",
    "    cross_sec_model <- lm(form, data = cross_sec_data) #Estimate the model\n",
    "    cross_sec_coefs <- rbind(cross_sec_coefs, cross_sec_model$coefficients) #Append the coefficients\n",
    "    adj_r_squared[length(adj_r_squared) + 1] <- summary(cross_sec_model)$adj.r.squared #Append the adjusted r_squared\n",
    "    no_of_obs[length(no_of_obs) + 1] <- nrow(na.omit(cross_sec_data)) #Append the number of observations\n",
    "  }\n",
    "  final_output <- as.data.frame(matrix(nrow = 2, ncol = ncol(cross_sec_coefs) + 2)) #Place holder to store the final output (time series means and t-statistics + adjusted r squared and no of obs)\n",
    "  colnames(final_output) <- c(colnames(cross_sec_coefs), \"Adj. R-squared\", \"n\") #Rename the columns for clarity\n",
    "  row.names(final_output) <- c(\"Mean\", \"t-statistic\") #Rename the rows for clarity\n",
    "  for (i in 1:ncol(cross_sec_coefs)) { #Calculate the time series mean and t-statistics for each coefficient\n",
    "    time_model <- lm(cross_sec_coefs[, i] ~ 1) #Regress each time series on a constant to get the mean estimate\n",
    "    time_model_adj <- coeftest(time_model, vcov = NeweyWest(time_model, lag = 4)) #Newey-West adjustment of the errors\n",
    "    final_output[1, i] <- round(time_model_adj[1, 1], 3) #Store the mean\n",
    "    final_output[2, i] <- paste0(\"(\", round(time_model_adj[1, 3], 3), \")\") #Store the t-statistic\n",
    "  }\n",
    "  final_output[1, ncol(cross_sec_coefs) + 1] <- round(mean(adj_r_squared, na.rm = T), 3) #Calculate the average adjusted R-squared\n",
    "  final_output[1, ncol(cross_sec_coefs) + 2] <- round(mean(no_of_obs, na.rm = T), 3) #Calculate average number of observations\n",
    "  return(final_output)\n",
    "}"
   ]
  },
  {
   "cell_type": "markdown",
   "metadata": {},
   "source": [
    "## 4. Results"
   ]
  },
  {
   "cell_type": "markdown",
   "metadata": {},
   "source": [
    "In this section we present the results of our analyses. We start with the univariate sort."
   ]
  },
  {
   "cell_type": "markdown",
   "metadata": {},
   "source": [
    "### Univariate sort"
   ]
  },
  {
   "cell_type": "markdown",
   "metadata": {},
   "source": [
    "The first sorting variable of interest is Beta. It measures the stock's sensitivity to market. The table below presents the results of the univariate sort with equally-weighted portfolios. The average values of the sorting variable are strictly increasing for the portfolios which suggests that the stocks are divided correctly. As for the results of the analysis, we failed to find any evidence of a statistically significant relationship between Beta and one-ahead returns since the average value for the difference portfolio is statistically indistinguishable from zero. This result is in line with the existing literature. Nevertheless, the individual average values as well as the alphas are statistically significant which indicates that each portfolio generates positive retuns on average."
   ]
  },
  {
   "cell_type": "code",
   "execution_count": 12,
   "metadata": {
    "vscode": {
     "languageId": "r"
    }
   },
   "outputs": [
    {
     "data": {
      "text/html": [
       "<table class=\"dataframe\">\n",
       "<caption>A data.frame: 5 × 6</caption>\n",
       "<thead>\n",
       "\t<tr><th></th><th scope=col>1</th><th scope=col>2</th><th scope=col>3</th><th scope=col>4</th><th scope=col>5</th><th scope=col>5-1</th></tr>\n",
       "\t<tr><th></th><th scope=col>&lt;chr&gt;</th><th scope=col>&lt;chr&gt;</th><th scope=col>&lt;chr&gt;</th><th scope=col>&lt;chr&gt;</th><th scope=col>&lt;chr&gt;</th><th scope=col>&lt;chr&gt;</th></tr>\n",
       "</thead>\n",
       "<tbody>\n",
       "\t<tr><th scope=row>Mean of Beta</th><td>0.532  </td><td>0.815  </td><td>1.003  </td><td>1.201  </td><td>1.56   </td><td>NA     </td></tr>\n",
       "\t<tr><th scope=row>Mean of one-ahead returns</th><td>0.011  </td><td>0.012  </td><td>0.014  </td><td>0.019  </td><td>0.025  </td><td>0.014  </td></tr>\n",
       "\t<tr><th scope=row>t-statistic</th><td>(2.863)</td><td>(2.681)</td><td>(2.267)</td><td>(2.741)</td><td>(2.775)</td><td>(1.586)</td></tr>\n",
       "\t<tr><th scope=row>Alpha</th><td>0.016  </td><td>0.014  </td><td>0.016  </td><td>0.021  </td><td>0.028  </td><td>0.012  </td></tr>\n",
       "\t<tr><th scope=row>t-statistic (alpha)</th><td>(3.754)</td><td>(3.182)</td><td>(3.029)</td><td>(3.134)</td><td>(3.019)</td><td>(1.354)</td></tr>\n",
       "</tbody>\n",
       "</table>\n"
      ],
      "text/latex": [
       "A data.frame: 5 × 6\n",
       "\\begin{tabular}{r|llllll}\n",
       "  & 1 & 2 & 3 & 4 & 5 & 5-1\\\\\n",
       "  & <chr> & <chr> & <chr> & <chr> & <chr> & <chr>\\\\\n",
       "\\hline\n",
       "\tMean of Beta & 0.532   & 0.815   & 1.003   & 1.201   & 1.56    & NA     \\\\\n",
       "\tMean of one-ahead returns & 0.011   & 0.012   & 0.014   & 0.019   & 0.025   & 0.014  \\\\\n",
       "\tt-statistic & (2.863) & (2.681) & (2.267) & (2.741) & (2.775) & (1.586)\\\\\n",
       "\tAlpha & 0.016   & 0.014   & 0.016   & 0.021   & 0.028   & 0.012  \\\\\n",
       "\tt-statistic (alpha) & (3.754) & (3.182) & (3.029) & (3.134) & (3.019) & (1.354)\\\\\n",
       "\\end{tabular}\n"
      ],
      "text/markdown": [
       "\n",
       "A data.frame: 5 × 6\n",
       "\n",
       "| <!--/--> | 1 &lt;chr&gt; | 2 &lt;chr&gt; | 3 &lt;chr&gt; | 4 &lt;chr&gt; | 5 &lt;chr&gt; | 5-1 &lt;chr&gt; |\n",
       "|---|---|---|---|---|---|---|\n",
       "| Mean of Beta | 0.532   | 0.815   | 1.003   | 1.201   | 1.56    | NA      |\n",
       "| Mean of one-ahead returns | 0.011   | 0.012   | 0.014   | 0.019   | 0.025   | 0.014   |\n",
       "| t-statistic | (2.863) | (2.681) | (2.267) | (2.741) | (2.775) | (1.586) |\n",
       "| Alpha | 0.016   | 0.014   | 0.016   | 0.021   | 0.028   | 0.012   |\n",
       "| t-statistic (alpha) | (3.754) | (3.182) | (3.029) | (3.134) | (3.019) | (1.354) |\n",
       "\n"
      ],
      "text/plain": [
       "                          1       2       3       4       5       5-1    \n",
       "Mean of Beta              0.532   0.815   1.003   1.201   1.56    NA     \n",
       "Mean of one-ahead returns 0.011   0.012   0.014   0.019   0.025   0.014  \n",
       "t-statistic               (2.863) (2.681) (2.267) (2.741) (2.775) (1.586)\n",
       "Alpha                     0.016   0.014   0.016   0.021   0.028   0.012  \n",
       "t-statistic (alpha)       (3.754) (3.182) (3.029) (3.134) (3.019) (1.354)"
      ]
     },
     "metadata": {},
     "output_type": "display_data"
    }
   ],
   "source": [
    "#Univariate sort on betas (equally-weighted)\n",
    "univariate_sort_betas <- univariate_sort(betas) #Equally weighted\n",
    "univariate_sort_betas"
   ]
  },
  {
   "cell_type": "markdown",
   "metadata": {},
   "source": [
    "In the previous case we have considered equally-weighted portfolios. It is a common practice to also present value-weighted portfolios (some studies show exclusively value-weighted portfolios). The results are available below. We can see that our conclusions remain unchanged, there is not a significant relationship. Even though that the CAPM predicts a positive and significant relationship between Beta and returns, empirical research does not seem to find corresponding evidence."
   ]
  },
  {
   "cell_type": "code",
   "execution_count": 14,
   "metadata": {
    "vscode": {
     "languageId": "r"
    }
   },
   "outputs": [
    {
     "name": "stderr",
     "output_type": "stream",
     "text": [
      "Warning message in rbind(deparse.level, ...):\n",
      "\"mismatched types: converting objects to numeric\"\n"
     ]
    },
    {
     "data": {
      "text/html": [
       "<table class=\"dataframe\">\n",
       "<caption>A data.frame: 5 × 6</caption>\n",
       "<thead>\n",
       "\t<tr><th></th><th scope=col>1</th><th scope=col>2</th><th scope=col>3</th><th scope=col>4</th><th scope=col>5</th><th scope=col>5-1</th></tr>\n",
       "\t<tr><th></th><th scope=col>&lt;chr&gt;</th><th scope=col>&lt;chr&gt;</th><th scope=col>&lt;chr&gt;</th><th scope=col>&lt;chr&gt;</th><th scope=col>&lt;chr&gt;</th><th scope=col>&lt;chr&gt;</th></tr>\n",
       "</thead>\n",
       "<tbody>\n",
       "\t<tr><th scope=row>Mean of Beta</th><td>0.525  </td><td>0.811  </td><td>1.003  </td><td>1.202  </td><td>1.562  </td><td>NA      </td></tr>\n",
       "\t<tr><th scope=row>Mean of one-ahead returns</th><td>0.015  </td><td>0.016  </td><td>0.018  </td><td>0.022  </td><td>0.02   </td><td>0.005   </td></tr>\n",
       "\t<tr><th scope=row>t-statistic</th><td>(3.996)</td><td>(4.072)</td><td>(3.061)</td><td>(3.813)</td><td>(2.714)</td><td>(0.665) </td></tr>\n",
       "\t<tr><th scope=row>Alpha</th><td>0.021  </td><td>0.019  </td><td>0.019  </td><td>0.021  </td><td>0.02   </td><td>0       </td></tr>\n",
       "\t<tr><th scope=row>t-statistic (alpha)</th><td>(5.548)</td><td>(3.868)</td><td>(3.531)</td><td>(3.342)</td><td>(2.33) </td><td>(-0.028)</td></tr>\n",
       "</tbody>\n",
       "</table>\n"
      ],
      "text/latex": [
       "A data.frame: 5 × 6\n",
       "\\begin{tabular}{r|llllll}\n",
       "  & 1 & 2 & 3 & 4 & 5 & 5-1\\\\\n",
       "  & <chr> & <chr> & <chr> & <chr> & <chr> & <chr>\\\\\n",
       "\\hline\n",
       "\tMean of Beta & 0.525   & 0.811   & 1.003   & 1.202   & 1.562   & NA      \\\\\n",
       "\tMean of one-ahead returns & 0.015   & 0.016   & 0.018   & 0.022   & 0.02    & 0.005   \\\\\n",
       "\tt-statistic & (3.996) & (4.072) & (3.061) & (3.813) & (2.714) & (0.665) \\\\\n",
       "\tAlpha & 0.021   & 0.019   & 0.019   & 0.021   & 0.02    & 0       \\\\\n",
       "\tt-statistic (alpha) & (5.548) & (3.868) & (3.531) & (3.342) & (2.33)  & (-0.028)\\\\\n",
       "\\end{tabular}\n"
      ],
      "text/markdown": [
       "\n",
       "A data.frame: 5 × 6\n",
       "\n",
       "| <!--/--> | 1 &lt;chr&gt; | 2 &lt;chr&gt; | 3 &lt;chr&gt; | 4 &lt;chr&gt; | 5 &lt;chr&gt; | 5-1 &lt;chr&gt; |\n",
       "|---|---|---|---|---|---|---|\n",
       "| Mean of Beta | 0.525   | 0.811   | 1.003   | 1.202   | 1.562   | NA       |\n",
       "| Mean of one-ahead returns | 0.015   | 0.016   | 0.018   | 0.022   | 0.02    | 0.005    |\n",
       "| t-statistic | (3.996) | (4.072) | (3.061) | (3.813) | (2.714) | (0.665)  |\n",
       "| Alpha | 0.021   | 0.019   | 0.019   | 0.021   | 0.02    | 0        |\n",
       "| t-statistic (alpha) | (5.548) | (3.868) | (3.531) | (3.342) | (2.33)  | (-0.028) |\n",
       "\n"
      ],
      "text/plain": [
       "                          1       2       3       4       5       5-1     \n",
       "Mean of Beta              0.525   0.811   1.003   1.202   1.562   NA      \n",
       "Mean of one-ahead returns 0.015   0.016   0.018   0.022   0.02    0.005   \n",
       "t-statistic               (3.996) (4.072) (3.061) (3.813) (2.714) (0.665) \n",
       "Alpha                     0.021   0.019   0.019   0.021   0.02    0       \n",
       "t-statistic (alpha)       (5.548) (3.868) (3.531) (3.342) (2.33)  (-0.028)"
      ]
     },
     "metadata": {},
     "output_type": "display_data"
    }
   ],
   "source": [
    "#Univariate sort on betas (value-weighted)\n",
    "univariate_sort_weighted_betas <- univariate_sort(betas, weighted = T) #Market cap weighted\n",
    "univariate_sort_weighted_betas"
   ]
  },
  {
   "cell_type": "markdown",
   "metadata": {},
   "source": [
    "The next sorting variable we consider is Size. Once again, we can see that the average values for the sorting variable are monotonic which supports the correctness of the procedure. As opposed to Beta, we find a very statistically significant relationship with the one-ahead returns. The average value for the difference portfolio suggests that smaller firms generate on average higher returns than larger firms. The average values are in fact monotonically decreasing across the portfolios. The relationship is robust even after controlling for the 3 Fama-French factors, momentum, and liquidity. As in the previous case, this result is common in empirical research."
   ]
  },
  {
   "cell_type": "code",
   "execution_count": 15,
   "metadata": {
    "vscode": {
     "languageId": "r"
    }
   },
   "outputs": [
    {
     "data": {
      "text/html": [
       "<table class=\"dataframe\">\n",
       "<caption>A data.frame: 5 × 6</caption>\n",
       "<thead>\n",
       "\t<tr><th></th><th scope=col>1</th><th scope=col>2</th><th scope=col>3</th><th scope=col>4</th><th scope=col>5</th><th scope=col>5-1</th></tr>\n",
       "\t<tr><th></th><th scope=col>&lt;chr&gt;</th><th scope=col>&lt;chr&gt;</th><th scope=col>&lt;chr&gt;</th><th scope=col>&lt;chr&gt;</th><th scope=col>&lt;chr&gt;</th><th scope=col>&lt;chr&gt;</th></tr>\n",
       "</thead>\n",
       "<tbody>\n",
       "\t<tr><th scope=row>Mean of Size</th><td>1.604  </td><td>2.299  </td><td>2.827  </td><td>3.439  </td><td>4.711  </td><td>NA      </td></tr>\n",
       "\t<tr><th scope=row>Mean of one-ahead returns</th><td>0.03   </td><td>0.018  </td><td>0.016  </td><td>0.014  </td><td>0.014  </td><td>-0.016  </td></tr>\n",
       "\t<tr><th scope=row>t-statistic</th><td>(5.285)</td><td>(3.666)</td><td>(3.666)</td><td>(3.551)</td><td>(3.724)</td><td>(-6.151)</td></tr>\n",
       "\t<tr><th scope=row>Alpha</th><td>0.033  </td><td>0.019  </td><td>0.019  </td><td>0.016  </td><td>0.017  </td><td>-0.016  </td></tr>\n",
       "\t<tr><th scope=row>t-statistic (alpha)</th><td>(4.66) </td><td>(3.378)</td><td>(3.277)</td><td>(3.152)</td><td>(3.748)</td><td>(-5.109)</td></tr>\n",
       "</tbody>\n",
       "</table>\n"
      ],
      "text/latex": [
       "A data.frame: 5 × 6\n",
       "\\begin{tabular}{r|llllll}\n",
       "  & 1 & 2 & 3 & 4 & 5 & 5-1\\\\\n",
       "  & <chr> & <chr> & <chr> & <chr> & <chr> & <chr>\\\\\n",
       "\\hline\n",
       "\tMean of Size & 1.604   & 2.299   & 2.827   & 3.439   & 4.711   & NA      \\\\\n",
       "\tMean of one-ahead returns & 0.03    & 0.018   & 0.016   & 0.014   & 0.014   & -0.016  \\\\\n",
       "\tt-statistic & (5.285) & (3.666) & (3.666) & (3.551) & (3.724) & (-6.151)\\\\\n",
       "\tAlpha & 0.033   & 0.019   & 0.019   & 0.016   & 0.017   & -0.016  \\\\\n",
       "\tt-statistic (alpha) & (4.66)  & (3.378) & (3.277) & (3.152) & (3.748) & (-5.109)\\\\\n",
       "\\end{tabular}\n"
      ],
      "text/markdown": [
       "\n",
       "A data.frame: 5 × 6\n",
       "\n",
       "| <!--/--> | 1 &lt;chr&gt; | 2 &lt;chr&gt; | 3 &lt;chr&gt; | 4 &lt;chr&gt; | 5 &lt;chr&gt; | 5-1 &lt;chr&gt; |\n",
       "|---|---|---|---|---|---|---|\n",
       "| Mean of Size | 1.604   | 2.299   | 2.827   | 3.439   | 4.711   | NA       |\n",
       "| Mean of one-ahead returns | 0.03    | 0.018   | 0.016   | 0.014   | 0.014   | -0.016   |\n",
       "| t-statistic | (5.285) | (3.666) | (3.666) | (3.551) | (3.724) | (-6.151) |\n",
       "| Alpha | 0.033   | 0.019   | 0.019   | 0.016   | 0.017   | -0.016   |\n",
       "| t-statistic (alpha) | (4.66)  | (3.378) | (3.277) | (3.152) | (3.748) | (-5.109) |\n",
       "\n"
      ],
      "text/plain": [
       "                          1       2       3       4       5       5-1     \n",
       "Mean of Size              1.604   2.299   2.827   3.439   4.711   NA      \n",
       "Mean of one-ahead returns 0.03    0.018   0.016   0.014   0.014   -0.016  \n",
       "t-statistic               (5.285) (3.666) (3.666) (3.551) (3.724) (-6.151)\n",
       "Alpha                     0.033   0.019   0.019   0.016   0.017   -0.016  \n",
       "t-statistic (alpha)       (4.66)  (3.378) (3.277) (3.152) (3.748) (-5.109)"
      ]
     },
     "metadata": {},
     "output_type": "display_data"
    }
   ],
   "source": [
    "#Univariate sort on size (equally weighted)\n",
    "univariate_sort_size <- univariate_sort(size)\n",
    "univariate_sort_size"
   ]
  },
  {
   "cell_type": "markdown",
   "metadata": {},
   "source": [
    "Moreover, the relationship holds even for value-weighted portfolios. Both the average one-ahead returns as well as the alpha are statistically significant and negative."
   ]
  },
  {
   "cell_type": "code",
   "execution_count": 16,
   "metadata": {
    "vscode": {
     "languageId": "r"
    }
   },
   "outputs": [
    {
     "data": {
      "text/html": [
       "<table class=\"dataframe\">\n",
       "<caption>A data.frame: 5 × 6</caption>\n",
       "<thead>\n",
       "\t<tr><th></th><th scope=col>1</th><th scope=col>2</th><th scope=col>3</th><th scope=col>4</th><th scope=col>5</th><th scope=col>5-1</th></tr>\n",
       "\t<tr><th></th><th scope=col>&lt;chr&gt;</th><th scope=col>&lt;chr&gt;</th><th scope=col>&lt;chr&gt;</th><th scope=col>&lt;chr&gt;</th><th scope=col>&lt;chr&gt;</th><th scope=col>&lt;chr&gt;</th></tr>\n",
       "</thead>\n",
       "<tbody>\n",
       "\t<tr><th scope=row>Mean of Size</th><td>1.604  </td><td>2.299  </td><td>2.827  </td><td>3.439  </td><td>4.711  </td><td>NA      </td></tr>\n",
       "\t<tr><th scope=row>Mean of one-ahead returns</th><td>0.028  </td><td>0.017  </td><td>0.016  </td><td>0.014  </td><td>0.015  </td><td>-0.013  </td></tr>\n",
       "\t<tr><th scope=row>t-statistic</th><td>(5.254)</td><td>(3.592)</td><td>(3.665)</td><td>(3.568)</td><td>(3.79) </td><td>(-4.51) </td></tr>\n",
       "\t<tr><th scope=row>Alpha</th><td>0.031  </td><td>0.019  </td><td>0.019  </td><td>0.016  </td><td>0.017  </td><td>-0.014  </td></tr>\n",
       "\t<tr><th scope=row>t-statistic (alpha)</th><td>(4.58) </td><td>(3.315)</td><td>(3.24) </td><td>(3.248)</td><td>(3.943)</td><td>(-3.706)</td></tr>\n",
       "</tbody>\n",
       "</table>\n"
      ],
      "text/latex": [
       "A data.frame: 5 × 6\n",
       "\\begin{tabular}{r|llllll}\n",
       "  & 1 & 2 & 3 & 4 & 5 & 5-1\\\\\n",
       "  & <chr> & <chr> & <chr> & <chr> & <chr> & <chr>\\\\\n",
       "\\hline\n",
       "\tMean of Size & 1.604   & 2.299   & 2.827   & 3.439   & 4.711   & NA      \\\\\n",
       "\tMean of one-ahead returns & 0.028   & 0.017   & 0.016   & 0.014   & 0.015   & -0.013  \\\\\n",
       "\tt-statistic & (5.254) & (3.592) & (3.665) & (3.568) & (3.79)  & (-4.51) \\\\\n",
       "\tAlpha & 0.031   & 0.019   & 0.019   & 0.016   & 0.017   & -0.014  \\\\\n",
       "\tt-statistic (alpha) & (4.58)  & (3.315) & (3.24)  & (3.248) & (3.943) & (-3.706)\\\\\n",
       "\\end{tabular}\n"
      ],
      "text/markdown": [
       "\n",
       "A data.frame: 5 × 6\n",
       "\n",
       "| <!--/--> | 1 &lt;chr&gt; | 2 &lt;chr&gt; | 3 &lt;chr&gt; | 4 &lt;chr&gt; | 5 &lt;chr&gt; | 5-1 &lt;chr&gt; |\n",
       "|---|---|---|---|---|---|---|\n",
       "| Mean of Size | 1.604   | 2.299   | 2.827   | 3.439   | 4.711   | NA       |\n",
       "| Mean of one-ahead returns | 0.028   | 0.017   | 0.016   | 0.014   | 0.015   | -0.013   |\n",
       "| t-statistic | (5.254) | (3.592) | (3.665) | (3.568) | (3.79)  | (-4.51)  |\n",
       "| Alpha | 0.031   | 0.019   | 0.019   | 0.016   | 0.017   | -0.014   |\n",
       "| t-statistic (alpha) | (4.58)  | (3.315) | (3.24)  | (3.248) | (3.943) | (-3.706) |\n",
       "\n"
      ],
      "text/plain": [
       "                          1       2       3       4       5       5-1     \n",
       "Mean of Size              1.604   2.299   2.827   3.439   4.711   NA      \n",
       "Mean of one-ahead returns 0.028   0.017   0.016   0.014   0.015   -0.013  \n",
       "t-statistic               (5.254) (3.592) (3.665) (3.568) (3.79)  (-4.51) \n",
       "Alpha                     0.031   0.019   0.019   0.016   0.017   -0.014  \n",
       "t-statistic (alpha)       (4.58)  (3.315) (3.24)  (3.248) (3.943) (-3.706)"
      ]
     },
     "metadata": {},
     "output_type": "display_data"
    }
   ],
   "source": [
    "#Univariate sort on size (value-weighted)\n",
    "univariate_sort_weighted_size <- univariate_sort(size, weighted = T) #Market cap weighted\n",
    "univariate_sort_weighted_size"
   ]
  },
  {
   "cell_type": "markdown",
   "metadata": {},
   "source": [
    "In the last part of the univariate portfolio analysis, we consider a sorting variable that captures the skewness of the returns. Even though the individual average values are significant, there does not appear to be a statistically signficant relationship between Skewness and one-ahead returns. The average values are in fact very similar across portfolios leaving no evidence of an observable pattern. This is likely due to the length of the measurement period since Bali *et al.* (2016) also failed to find a significant relationship when considering 12 months of daily data for Skewness calculation."
   ]
  },
  {
   "cell_type": "code",
   "execution_count": 17,
   "metadata": {
    "vscode": {
     "languageId": "r"
    }
   },
   "outputs": [
    {
     "data": {
      "text/html": [
       "<table class=\"dataframe\">\n",
       "<caption>A data.frame: 5 × 6</caption>\n",
       "<thead>\n",
       "\t<tr><th></th><th scope=col>1</th><th scope=col>2</th><th scope=col>3</th><th scope=col>4</th><th scope=col>5</th><th scope=col>5-1</th></tr>\n",
       "\t<tr><th></th><th scope=col>&lt;chr&gt;</th><th scope=col>&lt;chr&gt;</th><th scope=col>&lt;chr&gt;</th><th scope=col>&lt;chr&gt;</th><th scope=col>&lt;chr&gt;</th><th scope=col>&lt;chr&gt;</th></tr>\n",
       "</thead>\n",
       "<tbody>\n",
       "\t<tr><th scope=row>Mean of Skewness</th><td>-1.109 </td><td>-0.29  </td><td>-0.035 </td><td>0.248  </td><td>1.21   </td><td>NA     </td></tr>\n",
       "\t<tr><th scope=row>Mean of one-ahead returns</th><td>0.015  </td><td>0.017  </td><td>0.015  </td><td>0.017  </td><td>0.018  </td><td>0.003  </td></tr>\n",
       "\t<tr><th scope=row>t-statistic</th><td>(3.104)</td><td>(3.128)</td><td>(2.55) </td><td>(2.598)</td><td>(2.981)</td><td>(0.964)</td></tr>\n",
       "\t<tr><th scope=row>Alpha</th><td>0.019  </td><td>0.019  </td><td>0.017  </td><td>0.019  </td><td>0.02   </td><td>0.001  </td></tr>\n",
       "\t<tr><th scope=row>t-statistic (alpha)</th><td>(3.859)</td><td>(4.344)</td><td>(3.029)</td><td>(3.071)</td><td>(3.538)</td><td>(0.471)</td></tr>\n",
       "</tbody>\n",
       "</table>\n"
      ],
      "text/latex": [
       "A data.frame: 5 × 6\n",
       "\\begin{tabular}{r|llllll}\n",
       "  & 1 & 2 & 3 & 4 & 5 & 5-1\\\\\n",
       "  & <chr> & <chr> & <chr> & <chr> & <chr> & <chr>\\\\\n",
       "\\hline\n",
       "\tMean of Skewness & -1.109  & -0.29   & -0.035  & 0.248   & 1.21    & NA     \\\\\n",
       "\tMean of one-ahead returns & 0.015   & 0.017   & 0.015   & 0.017   & 0.018   & 0.003  \\\\\n",
       "\tt-statistic & (3.104) & (3.128) & (2.55)  & (2.598) & (2.981) & (0.964)\\\\\n",
       "\tAlpha & 0.019   & 0.019   & 0.017   & 0.019   & 0.02    & 0.001  \\\\\n",
       "\tt-statistic (alpha) & (3.859) & (4.344) & (3.029) & (3.071) & (3.538) & (0.471)\\\\\n",
       "\\end{tabular}\n"
      ],
      "text/markdown": [
       "\n",
       "A data.frame: 5 × 6\n",
       "\n",
       "| <!--/--> | 1 &lt;chr&gt; | 2 &lt;chr&gt; | 3 &lt;chr&gt; | 4 &lt;chr&gt; | 5 &lt;chr&gt; | 5-1 &lt;chr&gt; |\n",
       "|---|---|---|---|---|---|---|\n",
       "| Mean of Skewness | -1.109  | -0.29   | -0.035  | 0.248   | 1.21    | NA      |\n",
       "| Mean of one-ahead returns | 0.015   | 0.017   | 0.015   | 0.017   | 0.018   | 0.003   |\n",
       "| t-statistic | (3.104) | (3.128) | (2.55)  | (2.598) | (2.981) | (0.964) |\n",
       "| Alpha | 0.019   | 0.019   | 0.017   | 0.019   | 0.02    | 0.001   |\n",
       "| t-statistic (alpha) | (3.859) | (4.344) | (3.029) | (3.071) | (3.538) | (0.471) |\n",
       "\n"
      ],
      "text/plain": [
       "                          1       2       3       4       5       5-1    \n",
       "Mean of Skewness          -1.109  -0.29   -0.035  0.248   1.21    NA     \n",
       "Mean of one-ahead returns 0.015   0.017   0.015   0.017   0.018   0.003  \n",
       "t-statistic               (3.104) (3.128) (2.55)  (2.598) (2.981) (0.964)\n",
       "Alpha                     0.019   0.019   0.017   0.019   0.02    0.001  \n",
       "t-statistic (alpha)       (3.859) (4.344) (3.029) (3.071) (3.538) (0.471)"
      ]
     },
     "metadata": {},
     "output_type": "display_data"
    }
   ],
   "source": [
    "#Univariate sort on skewness (equally weighted)\n",
    "univariate_sort_skewness <- univariate_sort(skewness_data)\n",
    "univariate_sort_skewness"
   ]
  },
  {
   "cell_type": "markdown",
   "metadata": {},
   "source": [
    "The value-weighted portfolios yields similar results. The relationship is still insignificant."
   ]
  },
  {
   "cell_type": "code",
   "execution_count": 18,
   "metadata": {
    "vscode": {
     "languageId": "r"
    }
   },
   "outputs": [
    {
     "name": "stderr",
     "output_type": "stream",
     "text": [
      "Warning message in rbind(deparse.level, ...):\n",
      "\"mismatched types: converting objects to numeric\"\n"
     ]
    },
    {
     "data": {
      "text/html": [
       "<table class=\"dataframe\">\n",
       "<caption>A data.frame: 5 × 6</caption>\n",
       "<thead>\n",
       "\t<tr><th></th><th scope=col>1</th><th scope=col>2</th><th scope=col>3</th><th scope=col>4</th><th scope=col>5</th><th scope=col>5-1</th></tr>\n",
       "\t<tr><th></th><th scope=col>&lt;chr&gt;</th><th scope=col>&lt;chr&gt;</th><th scope=col>&lt;chr&gt;</th><th scope=col>&lt;chr&gt;</th><th scope=col>&lt;chr&gt;</th><th scope=col>&lt;chr&gt;</th></tr>\n",
       "</thead>\n",
       "<tbody>\n",
       "\t<tr><th scope=row>Mean of Skewness</th><td>-1.112 </td><td>-0.305 </td><td>-0.049 </td><td>0.235  </td><td>1.204  </td><td>NA      </td></tr>\n",
       "\t<tr><th scope=row>Mean of one-ahead returns</th><td>0.018  </td><td>0.019  </td><td>0.016  </td><td>0.017  </td><td>0.016  </td><td>-0.001  </td></tr>\n",
       "\t<tr><th scope=row>t-statistic</th><td>(4.346)</td><td>(3.716)</td><td>(3.126)</td><td>(3.481)</td><td>(3.699)</td><td>(-0.386)</td></tr>\n",
       "\t<tr><th scope=row>Alpha</th><td>0.021  </td><td>0.022  </td><td>0.017  </td><td>0.021  </td><td>0.018  </td><td>-0.004  </td></tr>\n",
       "\t<tr><th scope=row>t-statistic (alpha)</th><td>(4.196)</td><td>(3.992)</td><td>(2.97) </td><td>(3.399)</td><td>(4.052)</td><td>(-0.882)</td></tr>\n",
       "</tbody>\n",
       "</table>\n"
      ],
      "text/latex": [
       "A data.frame: 5 × 6\n",
       "\\begin{tabular}{r|llllll}\n",
       "  & 1 & 2 & 3 & 4 & 5 & 5-1\\\\\n",
       "  & <chr> & <chr> & <chr> & <chr> & <chr> & <chr>\\\\\n",
       "\\hline\n",
       "\tMean of Skewness & -1.112  & -0.305  & -0.049  & 0.235   & 1.204   & NA      \\\\\n",
       "\tMean of one-ahead returns & 0.018   & 0.019   & 0.016   & 0.017   & 0.016   & -0.001  \\\\\n",
       "\tt-statistic & (4.346) & (3.716) & (3.126) & (3.481) & (3.699) & (-0.386)\\\\\n",
       "\tAlpha & 0.021   & 0.022   & 0.017   & 0.021   & 0.018   & -0.004  \\\\\n",
       "\tt-statistic (alpha) & (4.196) & (3.992) & (2.97)  & (3.399) & (4.052) & (-0.882)\\\\\n",
       "\\end{tabular}\n"
      ],
      "text/markdown": [
       "\n",
       "A data.frame: 5 × 6\n",
       "\n",
       "| <!--/--> | 1 &lt;chr&gt; | 2 &lt;chr&gt; | 3 &lt;chr&gt; | 4 &lt;chr&gt; | 5 &lt;chr&gt; | 5-1 &lt;chr&gt; |\n",
       "|---|---|---|---|---|---|---|\n",
       "| Mean of Skewness | -1.112  | -0.305  | -0.049  | 0.235   | 1.204   | NA       |\n",
       "| Mean of one-ahead returns | 0.018   | 0.019   | 0.016   | 0.017   | 0.016   | -0.001   |\n",
       "| t-statistic | (4.346) | (3.716) | (3.126) | (3.481) | (3.699) | (-0.386) |\n",
       "| Alpha | 0.021   | 0.022   | 0.017   | 0.021   | 0.018   | -0.004   |\n",
       "| t-statistic (alpha) | (4.196) | (3.992) | (2.97)  | (3.399) | (4.052) | (-0.882) |\n",
       "\n"
      ],
      "text/plain": [
       "                          1       2       3       4       5       5-1     \n",
       "Mean of Skewness          -1.112  -0.305  -0.049  0.235   1.204   NA      \n",
       "Mean of one-ahead returns 0.018   0.019   0.016   0.017   0.016   -0.001  \n",
       "t-statistic               (4.346) (3.716) (3.126) (3.481) (3.699) (-0.386)\n",
       "Alpha                     0.021   0.022   0.017   0.021   0.018   -0.004  \n",
       "t-statistic (alpha)       (4.196) (3.992) (2.97)  (3.399) (4.052) (-0.882)"
      ]
     },
     "metadata": {},
     "output_type": "display_data"
    }
   ],
   "source": [
    "#Univariate sort on skewness (value-weighted)\n",
    "univariate_sort_weighted_skewness <- univariate_sort(skewness_data, weighted = T) #Market cap weighted (rbind warning should be okay, just NAs)\n",
    "univariate_sort_weighted_skewness"
   ]
  },
  {
   "cell_type": "markdown",
   "metadata": {},
   "source": [
    "### Bivariate sort"
   ]
  },
  {
   "cell_type": "markdown",
   "metadata": {},
   "source": [
    "In the second part of our analysis we focus on bivariate portfolio analysis. This allows us to investigate the effect of a sorting variable on the outcome variable while controlling for a second sorting variable. Firstly, we consider Size and Beta. Since the sort is independent, we can inspect the effect of both variables. The table below presents the results using value-weighted portfolios. Our main aim is to investigate the difference portfolios of one variable at different levels of the other variable. We can see that for low Beta stocks, the Size difference portfolio generates statistically significant negative returns after adjusting for risk. This does not hold for the second group of Betas where the alpha is not statistically significant, however, the unadjusted returns are. For the high Beta stocks, the alpha is highly statistically significant again.\n",
    "\n",
    "On the other hand, the Beta difference portfolio is insignificant accross all levels of Size if we consider the risk-adjusted returns. In addition, the difference in difference portfolio is insignificant as well. In fact, the unadjusted returns are marginally statistically significant but the relationship is not robust to the risk-adjustment. This suggests that we find little to no evidence that the relationship between Size and returns is different for different values of Beta and vice versa."
   ]
  },
  {
   "cell_type": "code",
   "execution_count": 19,
   "metadata": {
    "vscode": {
     "languageId": "r"
    }
   },
   "outputs": [
    {
     "name": "stderr",
     "output_type": "stream",
     "text": [
      "Warning message in min(j, na.rm = TRUE):\n",
      "\"no non-missing arguments to min; returning Inf\"\n",
      "Warning message in max(j, na.rm = TRUE):\n",
      "\"no non-missing arguments to max; returning -Inf\"\n"
     ]
    },
    {
     "data": {
      "text/html": [
       "<table class=\"dataframe\">\n",
       "<caption>A data.frame: 16 × 4</caption>\n",
       "<thead>\n",
       "\t<tr><th></th><th scope=col>Size 1</th><th scope=col>Size 2</th><th scope=col>Size 3</th><th scope=col>Size 3-1</th></tr>\n",
       "\t<tr><th></th><th scope=col>&lt;chr&gt;</th><th scope=col>&lt;chr&gt;</th><th scope=col>&lt;chr&gt;</th><th scope=col>&lt;chr&gt;</th></tr>\n",
       "</thead>\n",
       "<tbody>\n",
       "\t<tr><th scope=row>Beta 1 - Mean</th><td>0.021  </td><td>0.015  </td><td>0.015   </td><td>-0.006  </td></tr>\n",
       "\t<tr><th scope=row>Beta 1 - t-statistic</th><td>(5.132)</td><td>(4.418)</td><td>(4.603) </td><td>(-1.719)</td></tr>\n",
       "\t<tr><th scope=row>Beta 1 - Alpha</th><td>0.027  </td><td>0.02   </td><td>0.02    </td><td>-0.007  </td></tr>\n",
       "\t<tr><th scope=row>Beta 1 - t-statistic (alpha)</th><td>(5.594)</td><td>(4.933)</td><td>(5.397) </td><td>(-2.582)</td></tr>\n",
       "\t<tr><th scope=row>Beta 2 - Mean</th><td>0.023  </td><td>0.018  </td><td>0.018   </td><td>-0.005  </td></tr>\n",
       "\t<tr><th scope=row>Beta 2 - t-statistic</th><td>(3.486)</td><td>(2.815)</td><td>(3.342) </td><td>(-1.962)</td></tr>\n",
       "\t<tr><th scope=row>Beta 2 - Alpha</th><td>0.024  </td><td>0.019  </td><td>0.019   </td><td>-0.005  </td></tr>\n",
       "\t<tr><th scope=row>Beta 2 - t-statistic (alpha)</th><td>(3.496)</td><td>(2.937)</td><td>(3.572) </td><td>(-1.826)</td></tr>\n",
       "\t<tr><th scope=row>Beta 3 - Mean</th><td>0.034  </td><td>0.022  </td><td>0.019   </td><td>-0.016  </td></tr>\n",
       "\t<tr><th scope=row>Beta 3 - t-statistic</th><td>(4.186)</td><td>(2.841)</td><td>(3.129) </td><td>(-3.49) </td></tr>\n",
       "\t<tr><th scope=row>Beta 3 - Alpha</th><td>0.034  </td><td>0.025  </td><td>0.019   </td><td>-0.015  </td></tr>\n",
       "\t<tr><th scope=row>Beta 3 - t-statistic (alpha)</th><td>(3.912)</td><td>(2.751)</td><td>(2.529) </td><td>(-3.67) </td></tr>\n",
       "\t<tr><th scope=row>Beta 3-1 - Mean</th><td>0.013  </td><td>0.007  </td><td>0.003   </td><td>-0.01   </td></tr>\n",
       "\t<tr><th scope=row>Beta 3-1 - t-statistic</th><td>(2.242)</td><td>(1.032)</td><td>(0.565) </td><td>(-1.921)</td></tr>\n",
       "\t<tr><th scope=row>Beta 3-1 - Alpha</th><td>0.007  </td><td>0.005  </td><td>-0.001  </td><td>-0.008  </td></tr>\n",
       "\t<tr><th scope=row>Beta 3-1 - t-statistic (alpha)</th><td>(1.119)</td><td>(0.697)</td><td>(-0.209)</td><td>(-1.557)</td></tr>\n",
       "</tbody>\n",
       "</table>\n"
      ],
      "text/latex": [
       "A data.frame: 16 × 4\n",
       "\\begin{tabular}{r|llll}\n",
       "  & Size 1 & Size 2 & Size 3 & Size 3-1\\\\\n",
       "  & <chr> & <chr> & <chr> & <chr>\\\\\n",
       "\\hline\n",
       "\tBeta 1 - Mean & 0.021   & 0.015   & 0.015    & -0.006  \\\\\n",
       "\tBeta 1 - t-statistic & (5.132) & (4.418) & (4.603)  & (-1.719)\\\\\n",
       "\tBeta 1 - Alpha & 0.027   & 0.02    & 0.02     & -0.007  \\\\\n",
       "\tBeta 1 - t-statistic (alpha) & (5.594) & (4.933) & (5.397)  & (-2.582)\\\\\n",
       "\tBeta 2 - Mean & 0.023   & 0.018   & 0.018    & -0.005  \\\\\n",
       "\tBeta 2 - t-statistic & (3.486) & (2.815) & (3.342)  & (-1.962)\\\\\n",
       "\tBeta 2 - Alpha & 0.024   & 0.019   & 0.019    & -0.005  \\\\\n",
       "\tBeta 2 - t-statistic (alpha) & (3.496) & (2.937) & (3.572)  & (-1.826)\\\\\n",
       "\tBeta 3 - Mean & 0.034   & 0.022   & 0.019    & -0.016  \\\\\n",
       "\tBeta 3 - t-statistic & (4.186) & (2.841) & (3.129)  & (-3.49) \\\\\n",
       "\tBeta 3 - Alpha & 0.034   & 0.025   & 0.019    & -0.015  \\\\\n",
       "\tBeta 3 - t-statistic (alpha) & (3.912) & (2.751) & (2.529)  & (-3.67) \\\\\n",
       "\tBeta 3-1 - Mean & 0.013   & 0.007   & 0.003    & -0.01   \\\\\n",
       "\tBeta 3-1 - t-statistic & (2.242) & (1.032) & (0.565)  & (-1.921)\\\\\n",
       "\tBeta 3-1 - Alpha & 0.007   & 0.005   & -0.001   & -0.008  \\\\\n",
       "\tBeta 3-1 - t-statistic (alpha) & (1.119) & (0.697) & (-0.209) & (-1.557)\\\\\n",
       "\\end{tabular}\n"
      ],
      "text/markdown": [
       "\n",
       "A data.frame: 16 × 4\n",
       "\n",
       "| <!--/--> | Size 1 &lt;chr&gt; | Size 2 &lt;chr&gt; | Size 3 &lt;chr&gt; | Size 3-1 &lt;chr&gt; |\n",
       "|---|---|---|---|---|\n",
       "| Beta 1 - Mean | 0.021   | 0.015   | 0.015    | -0.006   |\n",
       "| Beta 1 - t-statistic | (5.132) | (4.418) | (4.603)  | (-1.719) |\n",
       "| Beta 1 - Alpha | 0.027   | 0.02    | 0.02     | -0.007   |\n",
       "| Beta 1 - t-statistic (alpha) | (5.594) | (4.933) | (5.397)  | (-2.582) |\n",
       "| Beta 2 - Mean | 0.023   | 0.018   | 0.018    | -0.005   |\n",
       "| Beta 2 - t-statistic | (3.486) | (2.815) | (3.342)  | (-1.962) |\n",
       "| Beta 2 - Alpha | 0.024   | 0.019   | 0.019    | -0.005   |\n",
       "| Beta 2 - t-statistic (alpha) | (3.496) | (2.937) | (3.572)  | (-1.826) |\n",
       "| Beta 3 - Mean | 0.034   | 0.022   | 0.019    | -0.016   |\n",
       "| Beta 3 - t-statistic | (4.186) | (2.841) | (3.129)  | (-3.49)  |\n",
       "| Beta 3 - Alpha | 0.034   | 0.025   | 0.019    | -0.015   |\n",
       "| Beta 3 - t-statistic (alpha) | (3.912) | (2.751) | (2.529)  | (-3.67)  |\n",
       "| Beta 3-1 - Mean | 0.013   | 0.007   | 0.003    | -0.01    |\n",
       "| Beta 3-1 - t-statistic | (2.242) | (1.032) | (0.565)  | (-1.921) |\n",
       "| Beta 3-1 - Alpha | 0.007   | 0.005   | -0.001   | -0.008   |\n",
       "| Beta 3-1 - t-statistic (alpha) | (1.119) | (0.697) | (-0.209) | (-1.557) |\n",
       "\n"
      ],
      "text/plain": [
       "                               Size 1  Size 2  Size 3   Size 3-1\n",
       "Beta 1 - Mean                  0.021   0.015   0.015    -0.006  \n",
       "Beta 1 - t-statistic           (5.132) (4.418) (4.603)  (-1.719)\n",
       "Beta 1 - Alpha                 0.027   0.02    0.02     -0.007  \n",
       "Beta 1 - t-statistic (alpha)   (5.594) (4.933) (5.397)  (-2.582)\n",
       "Beta 2 - Mean                  0.023   0.018   0.018    -0.005  \n",
       "Beta 2 - t-statistic           (3.486) (2.815) (3.342)  (-1.962)\n",
       "Beta 2 - Alpha                 0.024   0.019   0.019    -0.005  \n",
       "Beta 2 - t-statistic (alpha)   (3.496) (2.937) (3.572)  (-1.826)\n",
       "Beta 3 - Mean                  0.034   0.022   0.019    -0.016  \n",
       "Beta 3 - t-statistic           (4.186) (2.841) (3.129)  (-3.49) \n",
       "Beta 3 - Alpha                 0.034   0.025   0.019    -0.015  \n",
       "Beta 3 - t-statistic (alpha)   (3.912) (2.751) (2.529)  (-3.67) \n",
       "Beta 3-1 - Mean                0.013   0.007   0.003    -0.01   \n",
       "Beta 3-1 - t-statistic         (2.242) (1.032) (0.565)  (-1.921)\n",
       "Beta 3-1 - Alpha               0.007   0.005   -0.001   -0.008  \n",
       "Beta 3-1 - t-statistic (alpha) (1.119) (0.697) (-0.209) (-1.557)"
      ]
     },
     "metadata": {},
     "output_type": "display_data"
    }
   ],
   "source": [
    "#Bivariate sort on size and beta\n",
    "bivariate_sort_size_beta <- bivariate_sort(size, betas)\n",
    "bivariate_sort_size_beta"
   ]
  },
  {
   "cell_type": "markdown",
   "metadata": {},
   "source": [
    "In the second part of the bivariate portfolio analysis we consider Size and Skewnes. The Size difference portfolio appears to generate statistically significant and negative excess one-ahead returns across all levels of Skewness. On the other hand, for the Skewness difference portfolio the unadjusted returns are significant only for the low values of Size. In addition, the significance dissipates after addjusting for the 5 factors. Moreover, as in the previous case, the insignificance of the returns of the difference in difference portfolio indicates that we find no evidence that the relationship between Size and returns differs based on various levels of Skewness. The same applies to the relationship of Skewness with returns."
   ]
  },
  {
   "cell_type": "code",
   "execution_count": 20,
   "metadata": {
    "vscode": {
     "languageId": "r"
    }
   },
   "outputs": [
    {
     "data": {
      "text/html": [
       "<table class=\"dataframe\">\n",
       "<caption>A data.frame: 16 × 4</caption>\n",
       "<thead>\n",
       "\t<tr><th></th><th scope=col>Size 1</th><th scope=col>Size 2</th><th scope=col>Size 3</th><th scope=col>Size 3-1</th></tr>\n",
       "\t<tr><th></th><th scope=col>&lt;chr&gt;</th><th scope=col>&lt;chr&gt;</th><th scope=col>&lt;chr&gt;</th><th scope=col>&lt;chr&gt;</th></tr>\n",
       "</thead>\n",
       "<tbody>\n",
       "\t<tr><th scope=row>Skewness 1 - Mean</th><td>0.023  </td><td>0.018   </td><td>0.016   </td><td>-0.007  </td></tr>\n",
       "\t<tr><th scope=row>Skewness 1 - t-statistic</th><td>(4.166)</td><td>(4.087) </td><td>(3.742) </td><td>(-2.525)</td></tr>\n",
       "\t<tr><th scope=row>Skewness 1 - Alpha</th><td>0.028  </td><td>0.02    </td><td>0.019   </td><td>-0.008  </td></tr>\n",
       "\t<tr><th scope=row>Skewness 1 - t-statistic (alpha)</th><td>(4.172)</td><td>(4.192) </td><td>(4.041) </td><td>(-2.885)</td></tr>\n",
       "\t<tr><th scope=row>Skewness 2 - Mean</th><td>0.027  </td><td>0.018   </td><td>0.018   </td><td>-0.009  </td></tr>\n",
       "\t<tr><th scope=row>Skewness 2 - t-statistic</th><td>(4.021)</td><td>(3.026) </td><td>(3.344) </td><td>(-2.881)</td></tr>\n",
       "\t<tr><th scope=row>Skewness 2 - Alpha</th><td>0.028  </td><td>0.022   </td><td>0.02    </td><td>-0.008  </td></tr>\n",
       "\t<tr><th scope=row>Skewness 2 - t-statistic (alpha)</th><td>(4.02) </td><td>(2.993) </td><td>(3.541) </td><td>(-2.642)</td></tr>\n",
       "\t<tr><th scope=row>Skewness 3 - Mean</th><td>0.032  </td><td>0.018   </td><td>0.016   </td><td>-0.016  </td></tr>\n",
       "\t<tr><th scope=row>Skewness 3 - t-statistic</th><td>(4.289)</td><td>(2.922) </td><td>(3.937) </td><td>(-2.825)</td></tr>\n",
       "\t<tr><th scope=row>Skewness 3 - Alpha</th><td>0.031  </td><td>0.021   </td><td>0.017   </td><td>-0.014  </td></tr>\n",
       "\t<tr><th scope=row>Skewness 3 - t-statistic (alpha)</th><td>(4.444)</td><td>(2.977) </td><td>(4.106) </td><td>(-2.929)</td></tr>\n",
       "\t<tr><th scope=row>Skewness 3-1 - Mean</th><td>0.008  </td><td>0       </td><td>0       </td><td>-0.008  </td></tr>\n",
       "\t<tr><th scope=row>Skewness 3-1 - t-statistic</th><td>(2.122)</td><td>(-0.006)</td><td>(-0.057)</td><td>(-1.705)</td></tr>\n",
       "\t<tr><th scope=row>Skewness 3-1 - Alpha</th><td>0.003  </td><td>0.001   </td><td>-0.003  </td><td>-0.006  </td></tr>\n",
       "\t<tr><th scope=row>Skewness 3-1 - t-statistic (alpha)</th><td>(1.026)</td><td>(0.217) </td><td>(-0.749)</td><td>(-1.208)</td></tr>\n",
       "</tbody>\n",
       "</table>\n"
      ],
      "text/latex": [
       "A data.frame: 16 × 4\n",
       "\\begin{tabular}{r|llll}\n",
       "  & Size 1 & Size 2 & Size 3 & Size 3-1\\\\\n",
       "  & <chr> & <chr> & <chr> & <chr>\\\\\n",
       "\\hline\n",
       "\tSkewness 1 - Mean & 0.023   & 0.018    & 0.016    & -0.007  \\\\\n",
       "\tSkewness 1 - t-statistic & (4.166) & (4.087)  & (3.742)  & (-2.525)\\\\\n",
       "\tSkewness 1 - Alpha & 0.028   & 0.02     & 0.019    & -0.008  \\\\\n",
       "\tSkewness 1 - t-statistic (alpha) & (4.172) & (4.192)  & (4.041)  & (-2.885)\\\\\n",
       "\tSkewness 2 - Mean & 0.027   & 0.018    & 0.018    & -0.009  \\\\\n",
       "\tSkewness 2 - t-statistic & (4.021) & (3.026)  & (3.344)  & (-2.881)\\\\\n",
       "\tSkewness 2 - Alpha & 0.028   & 0.022    & 0.02     & -0.008  \\\\\n",
       "\tSkewness 2 - t-statistic (alpha) & (4.02)  & (2.993)  & (3.541)  & (-2.642)\\\\\n",
       "\tSkewness 3 - Mean & 0.032   & 0.018    & 0.016    & -0.016  \\\\\n",
       "\tSkewness 3 - t-statistic & (4.289) & (2.922)  & (3.937)  & (-2.825)\\\\\n",
       "\tSkewness 3 - Alpha & 0.031   & 0.021    & 0.017    & -0.014  \\\\\n",
       "\tSkewness 3 - t-statistic (alpha) & (4.444) & (2.977)  & (4.106)  & (-2.929)\\\\\n",
       "\tSkewness 3-1 - Mean & 0.008   & 0        & 0        & -0.008  \\\\\n",
       "\tSkewness 3-1 - t-statistic & (2.122) & (-0.006) & (-0.057) & (-1.705)\\\\\n",
       "\tSkewness 3-1 - Alpha & 0.003   & 0.001    & -0.003   & -0.006  \\\\\n",
       "\tSkewness 3-1 - t-statistic (alpha) & (1.026) & (0.217)  & (-0.749) & (-1.208)\\\\\n",
       "\\end{tabular}\n"
      ],
      "text/markdown": [
       "\n",
       "A data.frame: 16 × 4\n",
       "\n",
       "| <!--/--> | Size 1 &lt;chr&gt; | Size 2 &lt;chr&gt; | Size 3 &lt;chr&gt; | Size 3-1 &lt;chr&gt; |\n",
       "|---|---|---|---|---|\n",
       "| Skewness 1 - Mean | 0.023   | 0.018    | 0.016    | -0.007   |\n",
       "| Skewness 1 - t-statistic | (4.166) | (4.087)  | (3.742)  | (-2.525) |\n",
       "| Skewness 1 - Alpha | 0.028   | 0.02     | 0.019    | -0.008   |\n",
       "| Skewness 1 - t-statistic (alpha) | (4.172) | (4.192)  | (4.041)  | (-2.885) |\n",
       "| Skewness 2 - Mean | 0.027   | 0.018    | 0.018    | -0.009   |\n",
       "| Skewness 2 - t-statistic | (4.021) | (3.026)  | (3.344)  | (-2.881) |\n",
       "| Skewness 2 - Alpha | 0.028   | 0.022    | 0.02     | -0.008   |\n",
       "| Skewness 2 - t-statistic (alpha) | (4.02)  | (2.993)  | (3.541)  | (-2.642) |\n",
       "| Skewness 3 - Mean | 0.032   | 0.018    | 0.016    | -0.016   |\n",
       "| Skewness 3 - t-statistic | (4.289) | (2.922)  | (3.937)  | (-2.825) |\n",
       "| Skewness 3 - Alpha | 0.031   | 0.021    | 0.017    | -0.014   |\n",
       "| Skewness 3 - t-statistic (alpha) | (4.444) | (2.977)  | (4.106)  | (-2.929) |\n",
       "| Skewness 3-1 - Mean | 0.008   | 0        | 0        | -0.008   |\n",
       "| Skewness 3-1 - t-statistic | (2.122) | (-0.006) | (-0.057) | (-1.705) |\n",
       "| Skewness 3-1 - Alpha | 0.003   | 0.001    | -0.003   | -0.006   |\n",
       "| Skewness 3-1 - t-statistic (alpha) | (1.026) | (0.217)  | (-0.749) | (-1.208) |\n",
       "\n"
      ],
      "text/plain": [
       "                                   Size 1  Size 2   Size 3   Size 3-1\n",
       "Skewness 1 - Mean                  0.023   0.018    0.016    -0.007  \n",
       "Skewness 1 - t-statistic           (4.166) (4.087)  (3.742)  (-2.525)\n",
       "Skewness 1 - Alpha                 0.028   0.02     0.019    -0.008  \n",
       "Skewness 1 - t-statistic (alpha)   (4.172) (4.192)  (4.041)  (-2.885)\n",
       "Skewness 2 - Mean                  0.027   0.018    0.018    -0.009  \n",
       "Skewness 2 - t-statistic           (4.021) (3.026)  (3.344)  (-2.881)\n",
       "Skewness 2 - Alpha                 0.028   0.022    0.02     -0.008  \n",
       "Skewness 2 - t-statistic (alpha)   (4.02)  (2.993)  (3.541)  (-2.642)\n",
       "Skewness 3 - Mean                  0.032   0.018    0.016    -0.016  \n",
       "Skewness 3 - t-statistic           (4.289) (2.922)  (3.937)  (-2.825)\n",
       "Skewness 3 - Alpha                 0.031   0.021    0.017    -0.014  \n",
       "Skewness 3 - t-statistic (alpha)   (4.444) (2.977)  (4.106)  (-2.929)\n",
       "Skewness 3-1 - Mean                0.008   0        0        -0.008  \n",
       "Skewness 3-1 - t-statistic         (2.122) (-0.006) (-0.057) (-1.705)\n",
       "Skewness 3-1 - Alpha               0.003   0.001    -0.003   -0.006  \n",
       "Skewness 3-1 - t-statistic (alpha) (1.026) (0.217)  (-0.749) (-1.208)"
      ]
     },
     "metadata": {},
     "output_type": "display_data"
    }
   ],
   "source": [
    "#Bivariate sort on size and skewness\n",
    "bivariate_sort_size_skewness <- bivariate_sort(size, skewness_data)\n",
    "bivariate_sort_size_skewness"
   ]
  },
  {
   "cell_type": "markdown",
   "metadata": {},
   "source": [
    "### Fama-MacBeth regression"
   ]
  },
  {
   "cell_type": "markdown",
   "metadata": {},
   "source": [
    "In the last part of this section we present the results of the Fama-MacBeth regression. Firstly, we consider the sole relationship between Skewness and one-ahead excess returns. As the table below indicates, there does not seem to be any significant relationship between the variables. This is not surprising since we did not find any relationship in the previous non-parametric analyse. In the case of Fama-MacBeth regression we assuma that the inspected relationship is linear. The average value of Adjusted R-squared indicates that Skewness explains virtually no variation in the dependent variable. The intercept is positive and statistically significant which would suggest that the stocks in our portfolio generate positive returns on average."
   ]
  },
  {
   "cell_type": "code",
   "execution_count": 7,
   "metadata": {
    "vscode": {
     "languageId": "r"
    }
   },
   "outputs": [
    {
     "data": {
      "text/html": [
       "<table class=\"dataframe\">\n",
       "<caption>A data.frame: 2 × 4</caption>\n",
       "<thead>\n",
       "\t<tr><th></th><th scope=col>(Intercept)</th><th scope=col>Skewness</th><th scope=col>Adj. R-squared</th><th scope=col>n</th></tr>\n",
       "\t<tr><th></th><th scope=col>&lt;chr&gt;</th><th scope=col>&lt;chr&gt;</th><th scope=col>&lt;dbl&gt;</th><th scope=col>&lt;dbl&gt;</th></tr>\n",
       "</thead>\n",
       "<tbody>\n",
       "\t<tr><th scope=row>Mean</th><td>0.016  </td><td>0.002  </td><td>0.006</td><td>248.446</td></tr>\n",
       "\t<tr><th scope=row>t-statistic</th><td>(3.142)</td><td>(1.047)</td><td>   NA</td><td>     NA</td></tr>\n",
       "</tbody>\n",
       "</table>\n"
      ],
      "text/latex": [
       "A data.frame: 2 × 4\n",
       "\\begin{tabular}{r|llll}\n",
       "  & (Intercept) & Skewness & Adj. R-squared & n\\\\\n",
       "  & <chr> & <chr> & <dbl> & <dbl>\\\\\n",
       "\\hline\n",
       "\tMean & 0.016   & 0.002   & 0.006 & 248.446\\\\\n",
       "\tt-statistic & (3.142) & (1.047) &    NA &      NA\\\\\n",
       "\\end{tabular}\n"
      ],
      "text/markdown": [
       "\n",
       "A data.frame: 2 × 4\n",
       "\n",
       "| <!--/--> | (Intercept) &lt;chr&gt; | Skewness &lt;chr&gt; | Adj. R-squared &lt;dbl&gt; | n &lt;dbl&gt; |\n",
       "|---|---|---|---|---|\n",
       "| Mean | 0.016   | 0.002   | 0.006 | 248.446 |\n",
       "| t-statistic | (3.142) | (1.047) |    NA |      NA |\n",
       "\n"
      ],
      "text/plain": [
       "            (Intercept) Skewness Adj. R-squared n      \n",
       "Mean        0.016       0.002    0.006          248.446\n",
       "t-statistic (3.142)     (1.047)     NA               NA"
      ]
     },
     "metadata": {},
     "output_type": "display_data"
    }
   ],
   "source": [
    "#Fama-Macbeth for skewness\n",
    "FM_skewness <- fama_macbeth(list(Skewness = skewness_data))\n",
    "FM_skewness"
   ]
  },
  {
   "cell_type": "markdown",
   "metadata": {},
   "source": [
    "Lastly, we inspect the relationship between all previously considered sorting variables and the one-ahead excess returns. The results in the table below show that only Size has a statistically significant effect on the dependent variable. The relationship is negative which further supports our previous findings. The Market Capitalization of a firm appears to a a very important determinant of its future returns. Nevertheless, the average Adjusted R-squared shows that we still fail to capture majority of the variation in the dependent variable. As in the previous case, the intercept is statistically significant and positive."
   ]
  },
  {
   "cell_type": "code",
   "execution_count": 8,
   "metadata": {
    "vscode": {
     "languageId": "r"
    }
   },
   "outputs": [
    {
     "data": {
      "text/html": [
       "<table class=\"dataframe\">\n",
       "<caption>A data.frame: 2 × 6</caption>\n",
       "<thead>\n",
       "\t<tr><th></th><th scope=col>(Intercept)</th><th scope=col>Skewness</th><th scope=col>Size</th><th scope=col>Beta</th><th scope=col>Adj. R-squared</th><th scope=col>n</th></tr>\n",
       "\t<tr><th></th><th scope=col>&lt;chr&gt;</th><th scope=col>&lt;chr&gt;</th><th scope=col>&lt;chr&gt;</th><th scope=col>&lt;chr&gt;</th><th scope=col>&lt;dbl&gt;</th><th scope=col>&lt;dbl&gt;</th></tr>\n",
       "</thead>\n",
       "<tbody>\n",
       "\t<tr><th scope=row>Mean</th><td>0.017  </td><td>-0.001 </td><td>-0.004  </td><td>0.013  </td><td>0.099</td><td>244.045</td></tr>\n",
       "\t<tr><th scope=row>t-statistic</th><td>(3.608)</td><td>(-0.73)</td><td>(-4.158)</td><td>(1.795)</td><td>   NA</td><td>     NA</td></tr>\n",
       "</tbody>\n",
       "</table>\n"
      ],
      "text/latex": [
       "A data.frame: 2 × 6\n",
       "\\begin{tabular}{r|llllll}\n",
       "  & (Intercept) & Skewness & Size & Beta & Adj. R-squared & n\\\\\n",
       "  & <chr> & <chr> & <chr> & <chr> & <dbl> & <dbl>\\\\\n",
       "\\hline\n",
       "\tMean & 0.017   & -0.001  & -0.004   & 0.013   & 0.099 & 244.045\\\\\n",
       "\tt-statistic & (3.608) & (-0.73) & (-4.158) & (1.795) &    NA &      NA\\\\\n",
       "\\end{tabular}\n"
      ],
      "text/markdown": [
       "\n",
       "A data.frame: 2 × 6\n",
       "\n",
       "| <!--/--> | (Intercept) &lt;chr&gt; | Skewness &lt;chr&gt; | Size &lt;chr&gt; | Beta &lt;chr&gt; | Adj. R-squared &lt;dbl&gt; | n &lt;dbl&gt; |\n",
       "|---|---|---|---|---|---|---|\n",
       "| Mean | 0.017   | -0.001  | -0.004   | 0.013   | 0.099 | 244.045 |\n",
       "| t-statistic | (3.608) | (-0.73) | (-4.158) | (1.795) |    NA |      NA |\n",
       "\n"
      ],
      "text/plain": [
       "            (Intercept) Skewness Size     Beta    Adj. R-squared n      \n",
       "Mean        0.017       -0.001   -0.004   0.013   0.099          244.045\n",
       "t-statistic (3.608)     (-0.73)  (-4.158) (1.795)    NA               NA"
      ]
     },
     "metadata": {},
     "output_type": "display_data"
    }
   ],
   "source": [
    "#Fama-Macbeth for the three sort variables\n",
    "indep_var <- list(Skewness = skewness_data, Size = size, Beta = betas)\n",
    "FM_three_sorts <- fama_macbeth(indep_var)\n",
    "FM_three_sorts"
   ]
  },
  {
   "cell_type": "markdown",
   "metadata": {},
   "source": [
    "## 5. Conclusion"
   ]
  },
  {
   "cell_type": "markdown",
   "metadata": {},
   "source": [
    "## Appendix A"
   ]
  },
  {
   "cell_type": "markdown",
   "metadata": {},
   "source": [
    "### Data preparation"
   ]
  },
  {
   "cell_type": "markdown",
   "metadata": {},
   "source": [
    "We performed the following steps to obtain the final data utilized in our analyses. Firstly, we loaded the data on Adjusted Close prices and Market capitalization which we collected in Homework 1. In addition, we downloaded the Fama-French 3 factors as well as the Momentum factor from [here](https://mba.tuck.dartmouth.edu/pages/faculty/ken.french/data_library.html). The last required piece of data was Liquidity which we accessed at the [website](https://faculty.chicagobooth.edu/lubos-pastor/data) of Ľuboš Pástor."
   ]
  },
  {
   "cell_type": "code",
   "execution_count": null,
   "metadata": {
    "vscode": {
     "languageId": "r"
    }
   },
   "outputs": [],
   "source": [
    "#Loading the data\n",
    "yahoo_data <- readRDS(\"Raw data/list_yahoo.RData\") #Adjusted close prices and volumes\n",
    "market_cap <- readRDS(\"Raw data/market_cap_data.RData\") #Market capitalization\n",
    "fffactors_monthly <- read_csv(\"Raw data/F-F_Research_Data_Factors.CSV\", skip = 2, n_max = 1149) #Need to limit the number of rows since the file contains yearly data as well\n",
    "fffactors_daily <- read_csv(\"Raw data/F-F_Research_Data_Factors_daily.CSV\", skip = 3, n_max = 25210) #Last row is some copyright => skip\n",
    "momentum <- read_csv(\"Raw data/F-F_Momentum_Factor.CSV\", skip = 12, n_max  = 1144, na = c(\"\", \"NA\", -99.99, -999))\n",
    "liquidity <- read.delim(\"Raw data/liq_data_1962_2021.txt\", skip = 10, na = c(\"\", \"NA\", -99.99, -999, -99))"
   ]
  },
  {
   "cell_type": "markdown",
   "metadata": {},
   "source": [
    "Next, we define an auxilliary function which removes empty lines from an xts object (for future use)."
   ]
  },
  {
   "cell_type": "code",
   "execution_count": null,
   "metadata": {
    "vscode": {
     "languageId": "r"
    }
   },
   "outputs": [],
   "source": [
    "#Defining a function to strip an xts object of lines with 0 observations (all NAs)\n",
    "strip_empty_lines <- function(xts_object) {\n",
    "  na_sums <- apply(xts_object, 1, function(x) {sum(is.na(x))})\n",
    "  indic <- na_sums < ncol(xts_object)\n",
    "  return(xts_object[indic])\n",
    "}"
   ]
  },
  {
   "cell_type": "markdown",
   "metadata": {},
   "source": [
    "Then, we extract the Adjusted Close price."
   ]
  },
  {
   "cell_type": "code",
   "execution_count": null,
   "metadata": {
    "vscode": {
     "languageId": "r"
    }
   },
   "outputs": [],
   "source": [
    "#Extracting the Adjusted Close Price\n",
    "daily_adj_close <- lapply(yahoo_data, \"[\", , 6) #The unused argument is not an error, we have to skip it to specify columns"
   ]
  },
  {
   "cell_type": "markdown",
   "metadata": {},
   "source": [
    "In order to calculate the excess returns, we need the market risk premium. Therefore, we extract it from the Fama-French factors data set. We also convert the daily observations to monthly and save the resulting data for future use in the portfolio analysis."
   ]
  },
  {
   "cell_type": "code",
   "execution_count": null,
   "metadata": {
    "vscode": {
     "languageId": "r"
    }
   },
   "outputs": [],
   "source": [
    "#Extracting market risk premium and the risk-free rate\n",
    "fffactors_monthly <- as.data.frame(fffactors_monthly) #Converting from tibble to a data frame\n",
    "fffactors_daily <- as.data.frame(fffactors_daily) #Converting from tibble to a data frame\n",
    "colnames(fffactors_daily)[1] <- \"Date\"\n",
    "colnames(fffactors_monthly)[1] <- \"Date\"\n",
    "fffactors_daily$Date <- as.Date(as.character(fffactors_daily$Date), \"%Y%m%d\") #Creating a date (daily)\n",
    "fffactors_monthly$Date <-  as.Date(paste0(as.character(fffactors_monthly$Date),\"01\"), \"%Y%m%d\") + months(1) - days(1) #Creating a date (end of month)\n",
    "fffactors_monthly[, 2:5] <- fffactors_monthly[, 2:5] / 100 #Scale by 100 since the data is in percents\n",
    "fffactors_daily[, 2:5] <- fffactors_daily[, 2:5] / 100 #Scale by 100 since the data is in percents\n",
    "market_prem_daily <- xts(fffactors_daily$`Mkt-RF`, order.by = fffactors_daily$Date)\n",
    "names(market_prem_daily) <- \"Mkt_RF_daily\"\n",
    "market_prem_monthly <- xts(fffactors_monthly$`Mkt-RF`, order.by = fffactors_monthly$Date)\n",
    "names(market_prem_monthly) <- \"Mkt_RF_monthly\"\n",
    "rf_daily <- xts(fffactors_daily$RF, order.by = fffactors_daily$Date)\n",
    "names(rf_daily) <- \"RF_daily\"\n",
    "rf_monthly <- xts(fffactors_monthly$RF, order.by = fffactors_monthly$Date)\n",
    "names(rf_monthly) <- \"RF_monthly\"\n",
    "fffactors_monthly_xts <- as.xts(fffactors_monthly[, 2:5], order.by = fffactors_monthly$Date) #Converting monthly factors to xts\n",
    "fffactors_monthly_xts <- fffactors_monthly_xts[\"2007/\"] #Restricting the period since we do not need older data\n",
    "#saveRDS(fffactors_monthly_xts, file = \"Final data/fffactors_monthly.RData\") #Saving for future use"
   ]
  },
  {
   "cell_type": "markdown",
   "metadata": {},
   "source": [
    "Now we can calculate the daily and monthly excess returns. The former will be used for the calculation of various measures such as beta and skewness. We save the latter for the portfolio analysis"
   ]
  },
  {
   "cell_type": "code",
   "execution_count": null,
   "metadata": {
    "vscode": {
     "languageId": "r"
    }
   },
   "outputs": [],
   "source": [
    "#Calculating excess returns\n",
    "calc_excess_returns <- function(xts_object, daily = T) { #Defining a function to calculate excess returns\n",
    "  if (daily == T) { #For daily returns\n",
    "    result <- dailyReturn(xts_object)\n",
    "    result <- result[2:nrow(result)] #Disregard the first observation (dailyReturn sets it to 0)\n",
    "    risk_free_rate <- rf_daily[index(result)] #Define daily risk free rate\n",
    "  } else { #For monthly returns\n",
    "    result <- monthlyReturn(xts_object)\n",
    "    risk_free_rate <- rf_monthly[index(result)]\n",
    "  }\n",
    "  return(result - risk_free_rate) #Substract risk free rate from the returns\n",
    "}\n",
    "#Daily excess returns\n",
    "daily_returns <- lapply(daily_adj_close, calc_excess_returns) #Applying the function\n",
    "daily_return_names <- gsub(\".Adjusted\", \".DailyReturns\", unlist(lapply(daily_adj_close, names))) #New names\n",
    "for (i in 1:length(daily_returns)) { #Renaming the columns for clarity\n",
    "  names(daily_returns[[i]]) <- daily_return_names[i]\n",
    "}\n",
    "#Monthly excess returns\n",
    "monthly_returns <- lapply(daily_adj_close, calc_excess_returns, daily = F)\n",
    "monthly_return_names <- gsub(\".Adjusted\", \".MonthlyReturns\", unlist(lapply(daily_adj_close, names))) #New names\n",
    "for (i in 1:length(monthly_returns)) { #Renaming the columns for clarity\n",
    "  names(monthly_returns[[i]]) <- monthly_return_names[i]\n",
    "}\n",
    "#Merge monthly excess returns\n",
    "monthly_returns_merged <- do.call(merge.xts, monthly_returns)\n",
    "#saveRDS(monthly_returns_merged, file = \"Final data/monthly_excess_returns.RData\") #Saving for future use"
   ]
  },
  {
   "cell_type": "markdown",
   "metadata": {},
   "source": [
    "In the following step we define a function that calculates a specified monthly measure from past 12 months of daily data. In order to calculate the measure in a given period, we require at least 200 data points which is a standard for 12 months of daily data."
   ]
  },
  {
   "cell_type": "code",
   "execution_count": null,
   "metadata": {
    "vscode": {
     "languageId": "r"
    }
   },
   "outputs": [],
   "source": [
    "#Defining a generic function to calculate a monthly measure from past 12 months of daily data\n",
    "calc_measure <- function(xts_object, func, measure_name) { #Expects a series of monthly returns, the function to calculate the required measure (skewness, beta..) and the name of the measure\n",
    "  result <- xts(rep(NA, nrow(xts_object)), order.by = index(xts_object)) #Empty xts object for the results\n",
    "  names(result) <- gsub(\"MonthlyReturns\", measure_name, names(xts_object)) #Naming the resulting object for clarity \n",
    "  ind <- which(monthly_return_names == names(xts_object)) #Get the rank of the stock in the list (1-250)\n",
    "  for (i in 1:nrow(xts_object)) { #Loop through the rows of the object\n",
    "    end_date <- index(xts_object)[i] #The last day that the daily returns will be used for computations\n",
    "    start_date <- end_date %m-% months(12) #The start date is 12 months back as required\n",
    "    df_to_use <- daily_returns[[ind]][paste0(start_date, \"/\", end_date)] #Extracting the subset we will use for the computation (12 months of daily returns)\n",
    "    if (length(df_to_use) < 200){ #We require at least 200 data points, otherwise we won't calculate\n",
    "      next\n",
    "    } else {\n",
    "      result[i] <- func(na.omit(df_to_use)) #Apply the specified function\n",
    "    }\n",
    "  }\n",
    "  return(result)\n",
    "}"
   ]
  },
  {
   "cell_type": "markdown",
   "metadata": {},
   "source": [
    "We then apply the function on monthly returns for each of the 250 stocks. The first measure we calculate is Skewness (It is the third sorting variable that was assigned to our group). We save the result for future use."
   ]
  },
  {
   "cell_type": "code",
   "execution_count": null,
   "metadata": {
    "vscode": {
     "languageId": "r"
    }
   },
   "outputs": [],
   "source": [
    "#Calculating skewness\n",
    "skewness_data <- lapply(monthly_returns, calc_measure, func = skewness, measure_name = \"Skewness\") #Applying the function (skewness from the moments package)\n",
    "#Merging skewness data\n",
    "skewness_data_merged <- do.call(merge.xts, skewness_data)\n",
    "skewness_data_merged <- strip_empty_lines(skewness_data_merged) #Remove empty lines from data (periods with no data)\n",
    "#saveRDS(skewness_data_merged, file = \"Final data/skewness.RData\") #Saving for future use"
   ]
  },
  {
   "cell_type": "markdown",
   "metadata": {},
   "source": [
    "Another sorting variable that we utilize in the portfolio analysis is Beta. We define a function that estimates beta for a given time series and then we pass it as an argument to the function above."
   ]
  },
  {
   "cell_type": "code",
   "execution_count": null,
   "metadata": {
    "vscode": {
     "languageId": "r"
    }
   },
   "outputs": [],
   "source": [
    "#Calculating betas\n",
    "calc_beta <- function(xts_object) { #Defining a function to calculate the beta (based on a series of daily returns)\n",
    "  model_res <- lm(xts_object ~ market_prem_daily[index(xts_object)]) #Regress market premium on daily excess returns\n",
    "  return(model_res$coefficients[[2]]) #Extract the estimated coefficient on market premium (beta)\n",
    "}\n",
    "#Applying the function\n",
    "betas <- lapply(monthly_returns, calc_measure, func = calc_beta, measure_name = \"Beta\")\n",
    "#Merging the betas\n",
    "betas_merged <- do.call(merge.xts, betas)\n",
    "betas_merged <- strip_empty_lines(betas_merged)\n",
    "#saveRDS(betas_merged, file = \"Final data/betas.RData\") #Saving for future use"
   ]
  },
  {
   "cell_type": "markdown",
   "metadata": {},
   "source": [
    "The last sorting variable we will use is Size. It can be calculated directly from Market Capitalization. We save the data for both of those factors."
   ]
  },
  {
   "cell_type": "code",
   "execution_count": null,
   "metadata": {
    "vscode": {
     "languageId": "r"
    }
   },
   "outputs": [],
   "source": [
    "#Extracting monthly market cap data\n",
    "market_cap_monthly <- lapply(market_cap, to.monthly, OHLC = F, indexAt = \"lastof\") #Converting daily to monthly\n",
    "market_cap_monthly_merged <- do.call(merge.xts, market_cap_monthly) #Merging\n",
    "market_cap_monthly_merged <- strip_empty_lines(market_cap_monthly_merged)\n",
    "#saveRDS(market_cap_monthly_merged, file = \"Final data/market_cap_monthly.RData\") #Saving for future use\n",
    "\n",
    "#Calculating size\n",
    "size <- log(market_cap_monthly_merged)\n",
    "names(size) <- gsub(\".Adjusted\", \".Size\", unlist(lapply(daily_adj_close, names))) #New names\n",
    "size <- as.xts(apply(size, 2, function(x) {ifelse(is.finite(x), x, NA)}), order.by = index(size)) #Replace -Inf with NA\n",
    "size <- strip_empty_lines(size) #Remove empty rows\n",
    "#saveRDS(size, file = \"Final data/size.RData\") #Saving for future use"
   ]
  },
  {
   "cell_type": "markdown",
   "metadata": {},
   "source": [
    "We also extract the factors Momentum and Liquidity which are essential for the calculation of $\\alpha$."
   ]
  },
  {
   "cell_type": "code",
   "execution_count": null,
   "metadata": {
    "vscode": {
     "languageId": "r"
    }
   },
   "outputs": [],
   "source": [
    "#Extracting momentum\n",
    "momentum <- as.data.frame(momentum)\n",
    "colnames(momentum)[1] <- \"Date\"\n",
    "momentum$Date <-  as.Date(paste0(as.character(momentum$Date[1]),\"01\"), \"%Y%m%d\") + months(1) - days(1) #Creating a date (end of month)\n",
    "momentum_xts <- xts(momentum[, 2], order.by = momentum$Date) #Converting to xts\n",
    "names(momentum_xts) <- \"Momentum\" #Renaming\n",
    "momentum_xts <- momentum_xts[\"2007/\"] #Restricting the period\n",
    "#saveRDS(momentum_xts, \"Final data/momentum.RData\") #Saving for future use\n",
    "\n",
    "#Extracting liquidity\n",
    "colnames(liquidity)[1] <- \"Date\"\n",
    "liquidity$Date <-  as.Date(paste0(as.character(liquidity$Date),\"01\"), \"%Y%m%d\") + months(1) - days(1) #Creating a date (end of month)\n",
    "liquidity_xts <- xts(liquidity[, 4], order.by = liquidity$Date) #Converting to xts\n",
    "names(liquidity_xts) <- \"Liquidity\" #Renaming\n",
    "liquidity_xts <- liquidity_xts[\"2007/\"] #Restricting the period\n",
    "#saveRDS(liquidity_xts, \"Final data/liquidity.RData\") #Saving for future use"
   ]
  },
  {
   "cell_type": "markdown",
   "metadata": {},
   "source": [
    "## Appendix B"
   ]
  }
 ],
 "metadata": {
  "kernelspec": {
   "display_name": "R",
   "language": "R",
   "name": "ir"
  },
  "language_info": {
   "codemirror_mode": "r",
   "file_extension": ".r",
   "mimetype": "text/x-r-source",
   "name": "R",
   "pygments_lexer": "r",
   "version": "4.2.0"
  },
  "orig_nbformat": 4
 },
 "nbformat": 4,
 "nbformat_minor": 2
}
