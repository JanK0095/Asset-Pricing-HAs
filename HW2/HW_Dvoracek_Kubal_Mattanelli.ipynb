{
 "cells": [
  {
   "cell_type": "markdown",
   "metadata": {},
   "source": [
    "# JEM092 Asset Pricing - Homework 2\n",
    "\n",
    "### Group 82780095\n",
    "\n",
    "Petr Dvořáček, Jan Kubal, Matyáš Mattanelli\n",
    "\n",
    "---"
   ]
  },
  {
   "cell_type": "markdown",
   "metadata": {},
   "source": [
    "## Abstract"
   ]
  },
  {
   "cell_type": "markdown",
   "metadata": {},
   "source": [
    "## 1. Introduction"
   ]
  },
  {
   "cell_type": "markdown",
   "metadata": {},
   "source": [
    "## 2. Data Description"
   ]
  },
  {
   "cell_type": "markdown",
   "metadata": {},
   "source": [
    "In this section we provide an overview of the utilized data. We examine summary staistics of the variables as well as pairwise correlations. Lastly, we perform a persistence analysis. Firstly, we load the data along with the necessary packages."
   ]
  },
  {
   "cell_type": "code",
   "execution_count": 1,
   "metadata": {
    "vscode": {
     "languageId": "r"
    }
   },
   "outputs": [],
   "source": [
    "#Loading the packages\n",
    "#install.packages(\"xts\", \"readr\", \"lubridate\", \"quantmod\", \"moments\", \"sandwich\", \"lmtest\")\n",
    "suppressPackageStartupMessages({\n",
    "    library(xts) #Handling xts objects\n",
    "    library(readr) #Reading csv files\n",
    "    library(lubridate) #Date manipulation\n",
    "    library(quantmod) #Returns calculation\n",
    "    library(moments) #Skewness and kurtosis functions\n",
    "    library(sandwich) #Robust covariance matrix estimation\n",
    "    library(lmtest) #Robust covariance matrix estimation\n",
    "})\n",
    "\n",
    "#Loading the data\n",
    "monthly_returns <- readRDS(\"Final data/monthly_excess_returns.RData\")\n",
    "skewness_data <- readRDS(\"Final data/skewness.RData\")\n",
    "betas <- readRDS(\"Final data/betas.RData\")\n",
    "market_cap <- readRDS(\"Final data/market_cap_monthly.RData\")\n",
    "size <- readRDS(\"Final data/size.RData\")\n",
    "fffactors <- readRDS(\"Final data/fffactors_monthly.RData\")\n",
    "momentum <- readRDS(\"Final data/momentum.RData\")\n",
    "liquidity <- readRDS(\"Final data/liquidity.RData\")"
   ]
  },
  {
   "cell_type": "markdown",
   "metadata": {},
   "source": [
    "Before proceeding to the summary statistics, we need to take a look at the inspected period. The required time span according to the first homework is 01.01.2007 - 28.02.2022. However, in the second assignment the required period is 01.01.2007 - 31.12.2020. We will select the former in order to utilize as much data as possible. In addition, the data for the Market Capitalization variable are available from 28.02.2009 onwards which decreases the usable time span. Furthermore, the liquidity measure ends in December 2021 which shrinks our data even further. Nevertheless, for the purpose of data description, we retain all values for all variables available after 01.01.2007 and until 28.02.2022. We will make the proper adjustments later in the empirical analysis."
   ]
  },
  {
   "cell_type": "code",
   "execution_count": 2,
   "metadata": {
    "vscode": {
     "languageId": "r"
    }
   },
   "outputs": [],
   "source": [
    "#Restricting the period (01/01/2007 - 28/02/2022)\n",
    "market_cap <- market_cap[\"/2022-02-28\"]\n",
    "size <- size[\"/2022-02-28\"]\n",
    "fffactors <- fffactors[\"/2022-02-28\"]\n",
    "momentum <- momentum[\"/2022-02-28\"]"
   ]
  },
  {
   "cell_type": "markdown",
   "metadata": {},
   "source": [
    "Finally, we can proceed with describing the data. Our final data set contains monthly observations for 250 stocks in the period between 01.01.2077 and 28.02.2022. The three sorting variables that we inspect are Beta, Size, and Skewness. In addition, the dependent variable in our setting are the one-ahead excess returns. We also utilize Market Capitalization for value-weighted portfolios, and therefore we provide the statistics for this variable as well. For each variable and each period we calcute 12 statistics. We then take an average of these values over all available periods. In order to facilitate the process, we define a custom function."
   ]
  },
  {
   "cell_type": "code",
   "execution_count": 3,
   "metadata": {
    "vscode": {
     "languageId": "r"
    }
   },
   "outputs": [],
   "source": [
    "#Defining a function to calculate the summary statistics\n",
    "calc_sum_stats <- function(var_data) {\n",
    "  period_stats <- matrix(ncol = 12, nrow = nrow(var_data)) #A matrix for the statistics from each period\n",
    "  perc_5 <- function(x, na.rm) {return(quantile(x, probs = 0.05, na.rm = na.rm))} #Function to calculate the 5th percentile of data\n",
    "  perc_25 <- function(x, na.rm) {return(quantile(x, probs = 0.25, na.rm = na.rm))} #Function to calculate the 25th percentile of data\n",
    "  perc_75 <- function(x, na.rm) {return(quantile(x, probs = 0.75, na.rm = na.rm))} #Function to calculate the 75th percentile of data\n",
    "  perc_95 <- function(x, na.rm) {return(quantile(x, probs = 0.95, na.rm = na.rm))} #Function to calculate the 25th percentile of data\n",
    "  calc_n <- function(x, na.rm) {return(sum(!is.na(x)))} #Function to calculate the number of observations\n",
    "  funcs <- list(mean, sd, skewness, kurtosis, min, perc_5, perc_25, median, perc_75, perc_95, max, calc_n) #Store the functions we will use\n",
    "  for (i in 1:nrow(var_data)) { #Loop through the periods\n",
    "    for (j in 1:length(funcs)) { #Loop through the functions\n",
    "      period_stats[i, j] <- funcs[[j]](as.numeric(var_data[i, ]), na.rm = T) #Apply each function and store the result \n",
    "    }\n",
    "  }\n",
    "  time_avg <- apply(period_stats, 2, mean, na.rm = T) #Take a time series mean of each statistic\n",
    "  return(round(time_avg, 2)) #Round to two decimals and return the result\n",
    "}\n",
    "\n",
    "#Applying the function\n",
    "sum_stats <- as.data.frame(matrix(nrow = 5, ncol = 12)) #Place holder for the final summary statistics\n",
    "colnames(sum_stats) <- c(\"Mean\", \"Sd\", \"Skewness\", \"Kurtosis\", \"Min\", \"5%\", \"25%\", \"Median\", \"75%\", \"95%\", \"Max\", \"n\") #Rename the columns as the statistics\n",
    "var_names <- c(\"Returns\", \"Skewness\", \"Beta\", \"Size\", \"Market cap\") #Define a vector of variable names\n",
    "row.names(sum_stats) <- var_names #Rename the row names as the variables\n",
    "data_list <- list(monthly_returns, skewness_data, betas, size, market_cap) #Store the data in a list for looping\n",
    "for (i in 1:5) { #Loop through the variables and apply the function\n",
    "  sum_stats[i, ] <- calc_sum_stats(data_list[[i]])\n",
    "}"
   ]
  },
  {
   "cell_type": "markdown",
   "metadata": {},
   "source": [
    "The resulting summary statistics are available below. Each row shows the 12 statistics for each of the 5 variables. A brief glance at the first row reveals that the average excess return in our data set is negative. Both the mean and median are below zero and close to each other suggesting a symetric distribution. This is confirmed by the skewness (first row, third column) which is quite close to zero. The value for kurtosis on the other hand is well above 3 (kurtosis of normal distribution) and therefore, the distribution of the returns is likely heavy-tailed. The maximum and minimum excess returns are 29% and -29%, respectively. The maximum value, however, is likely an outlier given the relatively low value of the 95th percentile. \n",
    "\n",
    "As for the Skewness sorting variable, it seems to be distributed symmetrically around zero. This confirms our previous observations that the returns are symmetric. It doesa attain some extreme values on both tails.\n",
    "\n",
    "A second sorting variable of interest is the stocks' sensitivity to market. As we can see, the values are on average very low and distributed densely around zero. In addition, it does not attain a single negative value suggesting that all the stocks react positively to the market. \n",
    "\n",
    "The Market Capitalization seems to be very far from normal distribution, however, the logarithmic transformation seems to remedy this issue since the Size variable is quite close to normal distribution in temrs of both skewness and kurtosis.\n",
    "\n",
    "Overall, we can see that in the average period we have majority of the observations for all stocks (denoted by the last column) with the exception of the Market Capitalization and Size variables which seem to have slightly more missing observations. "
   ]
  },
  {
   "cell_type": "code",
   "execution_count": 4,
   "metadata": {
    "vscode": {
     "languageId": "r"
    }
   },
   "outputs": [
    {
     "data": {
      "text/html": [
       "<table class=\"dataframe\">\n",
       "<caption>A data.frame: 5 × 12</caption>\n",
       "<thead>\n",
       "\t<tr><th></th><th scope=col>Mean</th><th scope=col>Sd</th><th scope=col>Skewness</th><th scope=col>Kurtosis</th><th scope=col>Min</th><th scope=col>5%</th><th scope=col>25%</th><th scope=col>Median</th><th scope=col>75%</th><th scope=col>95%</th><th scope=col>Max</th><th scope=col>n</th></tr>\n",
       "\t<tr><th></th><th scope=col>&lt;dbl&gt;</th><th scope=col>&lt;dbl&gt;</th><th scope=col>&lt;dbl&gt;</th><th scope=col>&lt;dbl&gt;</th><th scope=col>&lt;dbl&gt;</th><th scope=col>&lt;dbl&gt;</th><th scope=col>&lt;dbl&gt;</th><th scope=col>&lt;dbl&gt;</th><th scope=col>&lt;dbl&gt;</th><th scope=col>&lt;dbl&gt;</th><th scope=col>&lt;dbl&gt;</th><th scope=col>&lt;dbl&gt;</th></tr>\n",
       "</thead>\n",
       "<tbody>\n",
       "\t<tr><th scope=row>Returns</th><td>-0.05</td><td> 0.07</td><td>0.50</td><td> 7.39</td><td>-0.29</td><td>-0.16</td><td>-0.10</td><td>-0.06</td><td>-0.02</td><td>  0.06</td><td>  0.29</td><td>248.78</td></tr>\n",
       "\t<tr><th scope=row>Skewness</th><td> 0.02</td><td> 0.97</td><td>0.26</td><td>18.38</td><td>-4.89</td><td>-1.20</td><td>-0.34</td><td>-0.02</td><td> 0.34</td><td>  1.45</td><td>  5.41</td><td>248.64</td></tr>\n",
       "\t<tr><th scope=row>Beta</th><td> 0.01</td><td> 0.00</td><td>0.39</td><td> 3.34</td><td> 0.00</td><td> 0.00</td><td> 0.01</td><td> 0.01</td><td> 0.01</td><td>  0.02</td><td>  0.02</td><td>248.64</td></tr>\n",
       "\t<tr><th scope=row>Size</th><td> 2.99</td><td> 1.12</td><td>0.60</td><td> 3.24</td><td> 0.43</td><td> 1.47</td><td> 2.18</td><td> 2.84</td><td> 3.63</td><td>  5.08</td><td>  6.56</td><td>244.67</td></tr>\n",
       "\t<tr><th scope=row>Market cap</th><td>45.48</td><td>90.88</td><td>5.21</td><td>38.28</td><td> 1.82</td><td> 5.06</td><td> 9.77</td><td>18.46</td><td>40.71</td><td>168.12</td><td>858.28</td><td>245.14</td></tr>\n",
       "</tbody>\n",
       "</table>\n"
      ],
      "text/latex": [
       "A data.frame: 5 × 12\n",
       "\\begin{tabular}{r|llllllllllll}\n",
       "  & Mean & Sd & Skewness & Kurtosis & Min & 5\\% & 25\\% & Median & 75\\% & 95\\% & Max & n\\\\\n",
       "  & <dbl> & <dbl> & <dbl> & <dbl> & <dbl> & <dbl> & <dbl> & <dbl> & <dbl> & <dbl> & <dbl> & <dbl>\\\\\n",
       "\\hline\n",
       "\tReturns & -0.05 &  0.07 & 0.50 &  7.39 & -0.29 & -0.16 & -0.10 & -0.06 & -0.02 &   0.06 &   0.29 & 248.78\\\\\n",
       "\tSkewness &  0.02 &  0.97 & 0.26 & 18.38 & -4.89 & -1.20 & -0.34 & -0.02 &  0.34 &   1.45 &   5.41 & 248.64\\\\\n",
       "\tBeta &  0.01 &  0.00 & 0.39 &  3.34 &  0.00 &  0.00 &  0.01 &  0.01 &  0.01 &   0.02 &   0.02 & 248.64\\\\\n",
       "\tSize &  2.99 &  1.12 & 0.60 &  3.24 &  0.43 &  1.47 &  2.18 &  2.84 &  3.63 &   5.08 &   6.56 & 244.67\\\\\n",
       "\tMarket cap & 45.48 & 90.88 & 5.21 & 38.28 &  1.82 &  5.06 &  9.77 & 18.46 & 40.71 & 168.12 & 858.28 & 245.14\\\\\n",
       "\\end{tabular}\n"
      ],
      "text/markdown": [
       "\n",
       "A data.frame: 5 × 12\n",
       "\n",
       "| <!--/--> | Mean &lt;dbl&gt; | Sd &lt;dbl&gt; | Skewness &lt;dbl&gt; | Kurtosis &lt;dbl&gt; | Min &lt;dbl&gt; | 5% &lt;dbl&gt; | 25% &lt;dbl&gt; | Median &lt;dbl&gt; | 75% &lt;dbl&gt; | 95% &lt;dbl&gt; | Max &lt;dbl&gt; | n &lt;dbl&gt; |\n",
       "|---|---|---|---|---|---|---|---|---|---|---|---|---|\n",
       "| Returns | -0.05 |  0.07 | 0.50 |  7.39 | -0.29 | -0.16 | -0.10 | -0.06 | -0.02 |   0.06 |   0.29 | 248.78 |\n",
       "| Skewness |  0.02 |  0.97 | 0.26 | 18.38 | -4.89 | -1.20 | -0.34 | -0.02 |  0.34 |   1.45 |   5.41 | 248.64 |\n",
       "| Beta |  0.01 |  0.00 | 0.39 |  3.34 |  0.00 |  0.00 |  0.01 |  0.01 |  0.01 |   0.02 |   0.02 | 248.64 |\n",
       "| Size |  2.99 |  1.12 | 0.60 |  3.24 |  0.43 |  1.47 |  2.18 |  2.84 |  3.63 |   5.08 |   6.56 | 244.67 |\n",
       "| Market cap | 45.48 | 90.88 | 5.21 | 38.28 |  1.82 |  5.06 |  9.77 | 18.46 | 40.71 | 168.12 | 858.28 | 245.14 |\n",
       "\n"
      ],
      "text/plain": [
       "           Mean  Sd    Skewness Kurtosis Min   5%    25%   Median 75%   95%   \n",
       "Returns    -0.05  0.07 0.50      7.39    -0.29 -0.16 -0.10 -0.06  -0.02   0.06\n",
       "Skewness    0.02  0.97 0.26     18.38    -4.89 -1.20 -0.34 -0.02   0.34   1.45\n",
       "Beta        0.01  0.00 0.39      3.34     0.00  0.00  0.01  0.01   0.01   0.02\n",
       "Size        2.99  1.12 0.60      3.24     0.43  1.47  2.18  2.84   3.63   5.08\n",
       "Market cap 45.48 90.88 5.21     38.28     1.82  5.06  9.77 18.46  40.71 168.12\n",
       "           Max    n     \n",
       "Returns      0.29 248.78\n",
       "Skewness     5.41 248.64\n",
       "Beta         0.02 248.64\n",
       "Size         6.56 244.67\n",
       "Market cap 858.28 245.14"
      ]
     },
     "metadata": {},
     "output_type": "display_data"
    }
   ],
   "source": [
    "#Summary statistics\n",
    "sum_stats"
   ]
  },
  {
   "cell_type": "markdown",
   "metadata": {},
   "source": [
    "Moving on from the summary statistic, we provide the average pairwise correlations between the variables in question. Similarly as in the previous case, we firstly calculate the cross-sectional correlations between the variables and the average the values across periods."
   ]
  },
  {
   "cell_type": "code",
   "execution_count": 5,
   "metadata": {
    "vscode": {
     "languageId": "r"
    }
   },
   "outputs": [],
   "source": [
    "#Defining a function to calculate the average correlation between two variables\n",
    "calc_corr <- function(var1, var2, method = \"pearson\") { #Expects data for both variables and an indicator for type (default is pearson)\n",
    "  var1 <- var1[index(var1) %in% index(var2)] #Filter only data available for both variables\n",
    "  cross_sec_corrs <- rep(NA, nrow(var1)) #Empty vector the results of each period\n",
    "  for (i in 1:nrow(var1)) { #Loop through the periods available for the first variable\n",
    "    cross_sec_corrs[i] <- cor(as.numeric(var1[i]), as.numeric(var2[index(var1)[i]]), use = \"pairwise.complete.obs\", method = method) #Calculate the correlation for each period\n",
    "  }\n",
    "  return(round(mean(cross_sec_corrs, na.rm = T), 2)) #Return the rounded time series average of the correlations\n",
    "}\n",
    "\n",
    "#Applying the function\n",
    "corrs <- as.data.frame(matrix(nrow = 5, ncol = 5)) #Empty matrix for the results\n",
    "colnames(corrs) <- var_names #Column names\n",
    "row.names(corrs) <- var_names #Row names\n",
    "indices <- combn(1:5, 2) #Get the indices for each pair (unique and excluding pairing variables with themselves)\n",
    "for (i in 1:ncol(indices)) { #Loop through the pairs\n",
    "  corrs[indices[1, i], indices[2, i]] <- calc_corr(data_list[[indices[1, i]]], data_list[[indices[2, i]]], method = \"spearman\") #Spearman correlation in the upper triangle\n",
    "  corrs[indices[2, i], indices[1, i]] <- calc_corr(data_list[[indices[2, i]]], data_list[[indices[1, i]]]) #Pearson correlation in the lower triangle\n",
    "}"
   ]
  },
  {
   "cell_type": "markdown",
   "metadata": {},
   "source": [
    "The results are available in the table below. The diagonal contains missing values since the correlation of a variable with itself is 1 and as such is not relevant. Above the diagonal we present the Spearman correlation while below is the Pearson correlation. As can be seen, the values are largely similar with the exception of Size and Market Capitalization since the Spearman correlation captures the perfectly monotonic relationship while Pearson correlation shows only the degree of linear dependence. As for the remaining values, we can see that the variable are mostly uncorrelated. Nevertheless, the Skewness measure seems to be slightly positively correlated with the Returns and with Beta. In addition, Size and Beta appear to be negatively correlated suggesting that larger stocks are less market-sensitive."
   ]
  },
  {
   "cell_type": "code",
   "execution_count": 6,
   "metadata": {
    "vscode": {
     "languageId": "r"
    }
   },
   "outputs": [
    {
     "data": {
      "text/html": [
       "<table class=\"dataframe\">\n",
       "<caption>A data.frame: 5 × 5</caption>\n",
       "<thead>\n",
       "\t<tr><th></th><th scope=col>Returns</th><th scope=col>Skewness</th><th scope=col>Beta</th><th scope=col>Size</th><th scope=col>Market cap</th></tr>\n",
       "\t<tr><th></th><th scope=col>&lt;dbl&gt;</th><th scope=col>&lt;dbl&gt;</th><th scope=col>&lt;dbl&gt;</th><th scope=col>&lt;dbl&gt;</th><th scope=col>&lt;dbl&gt;</th></tr>\n",
       "</thead>\n",
       "<tbody>\n",
       "\t<tr><th scope=row>Returns</th><td>   NA</td><td>0.10</td><td> 0.02</td><td>-0.01</td><td>-0.01</td></tr>\n",
       "\t<tr><th scope=row>Skewness</th><td> 0.13</td><td>  NA</td><td> 0.15</td><td> 0.01</td><td> 0.01</td></tr>\n",
       "\t<tr><th scope=row>Beta</th><td> 0.03</td><td>0.12</td><td>   NA</td><td>-0.13</td><td>-0.13</td></tr>\n",
       "\t<tr><th scope=row>Size</th><td>-0.01</td><td>0.02</td><td>-0.14</td><td>   NA</td><td> 1.00</td></tr>\n",
       "\t<tr><th scope=row>Market cap</th><td> 0.00</td><td>0.03</td><td>-0.08</td><td> 0.75</td><td>   NA</td></tr>\n",
       "</tbody>\n",
       "</table>\n"
      ],
      "text/latex": [
       "A data.frame: 5 × 5\n",
       "\\begin{tabular}{r|lllll}\n",
       "  & Returns & Skewness & Beta & Size & Market cap\\\\\n",
       "  & <dbl> & <dbl> & <dbl> & <dbl> & <dbl>\\\\\n",
       "\\hline\n",
       "\tReturns &    NA & 0.10 &  0.02 & -0.01 & -0.01\\\\\n",
       "\tSkewness &  0.13 &   NA &  0.15 &  0.01 &  0.01\\\\\n",
       "\tBeta &  0.03 & 0.12 &    NA & -0.13 & -0.13\\\\\n",
       "\tSize & -0.01 & 0.02 & -0.14 &    NA &  1.00\\\\\n",
       "\tMarket cap &  0.00 & 0.03 & -0.08 &  0.75 &    NA\\\\\n",
       "\\end{tabular}\n"
      ],
      "text/markdown": [
       "\n",
       "A data.frame: 5 × 5\n",
       "\n",
       "| <!--/--> | Returns &lt;dbl&gt; | Skewness &lt;dbl&gt; | Beta &lt;dbl&gt; | Size &lt;dbl&gt; | Market cap &lt;dbl&gt; |\n",
       "|---|---|---|---|---|---|\n",
       "| Returns |    NA | 0.10 |  0.02 | -0.01 | -0.01 |\n",
       "| Skewness |  0.13 |   NA |  0.15 |  0.01 |  0.01 |\n",
       "| Beta |  0.03 | 0.12 |    NA | -0.13 | -0.13 |\n",
       "| Size | -0.01 | 0.02 | -0.14 |    NA |  1.00 |\n",
       "| Market cap |  0.00 | 0.03 | -0.08 |  0.75 |    NA |\n",
       "\n"
      ],
      "text/plain": [
       "           Returns Skewness Beta  Size  Market cap\n",
       "Returns       NA   0.10      0.02 -0.01 -0.01     \n",
       "Skewness    0.13     NA      0.15  0.01  0.01     \n",
       "Beta        0.03   0.12        NA -0.13 -0.13     \n",
       "Size       -0.01   0.02     -0.14    NA  1.00     \n",
       "Market cap  0.00   0.03     -0.08  0.75    NA     "
      ]
     },
     "metadata": {},
     "output_type": "display_data"
    }
   ],
   "source": [
    "#Pairwise correlations\n",
    "corrs"
   ]
  },
  {
   "cell_type": "markdown",
   "metadata": {},
   "source": [
    "Lastly, we perform the persistence analysis. We consider five lags and present the average autocorrelation over all periods for a given lag for each variable."
   ]
  },
  {
   "cell_type": "code",
   "execution_count": 7,
   "metadata": {
    "vscode": {
     "languageId": "r"
    }
   },
   "outputs": [],
   "source": [
    "#Defining a function to calculate persistence of a variable\n",
    "calc_pers <- function(var_data, lags = 5) { #Expects an xts object and the number of lags how far to calculate the correlations\n",
    "  final_persist <- rep(NA, lags) #A vector to store the results \n",
    "  for (i in 1:lags) { #Loop through the lags\n",
    "    cross_persist <- rep(NA, nrow(var_data)) #A vector to store the results from each period\n",
    "    for (j in 1 :nrow(var_data)) { #Loop through the periods\n",
    "      current_period <- index(var_data)[j] #Store the current period\n",
    "      lagged_period <- as.Date(as.yearmon(current_period %m-% months(i)), frac = 1) #Derive the lagged period\n",
    "      if (!lagged_period %in% index(var_data)) { #If the lag is unavailable, skip\n",
    "        next\n",
    "      }\n",
    "      cross_persist[j] <- cor(as.numeric(var_data[j]), as.numeric(var_data[lagged_period]), use = \"pairwise.complete.obs\") #Calculate Pearson between the variable and the appropriate lag\n",
    "    }\n",
    "    final_persist[i] <- mean(cross_persist, na.rm = T) #Calculate the time series mean\n",
    "  }\n",
    "  return(round(final_persist, 3)) #Return the rounded correlations\n",
    "}\n",
    "\n",
    "#Apply the function\n",
    "lags <- 5 #Specify the required number of lags\n",
    "persistence <- as.data.frame(matrix(ncol = lags, nrow = 5)) #Data frame for the results (lags in columns, vars in rows)\n",
    "colnames(persistence) <- paste(\"Lag \", 1:lags) #Rename the columns with lag numbers\n",
    "row.names(persistence) <- var_names #Rename the rows with variable names\n",
    "for (i in 1:nrow(persistence)) { #Loop through the variables and calculate their persistence\n",
    "  persistence[i, ] <- calc_pers(data_list[[i]], lags = lags) #Apply the function\n",
    "}"
   ]
  },
  {
   "cell_type": "markdown",
   "metadata": {},
   "source": [
    "The results of the table below seem agree with basic intuition. The Returns do not show any significant autocorrelations which demostrates their unpredictable behavior. On the other hand, the remaining variables seem to be quite persitent. In case of Skewness, the persitance is slowly decaying which is likely due to the fact that lags that are close to each other contain larger portions of the same data for calculation. We cannot observe any strong decay for Beta, Size, and Market Cap which suggests that the market sensitivity of a stock does not change much over time on average and the same applies to its market share. "
   ]
  },
  {
   "cell_type": "code",
   "execution_count": 8,
   "metadata": {
    "vscode": {
     "languageId": "r"
    }
   },
   "outputs": [
    {
     "data": {
      "text/html": [
       "<table class=\"dataframe\">\n",
       "<caption>A data.frame: 5 × 5</caption>\n",
       "<thead>\n",
       "\t<tr><th></th><th scope=col>Lag  1</th><th scope=col>Lag  2</th><th scope=col>Lag  3</th><th scope=col>Lag  4</th><th scope=col>Lag  5</th></tr>\n",
       "\t<tr><th></th><th scope=col>&lt;dbl&gt;</th><th scope=col>&lt;dbl&gt;</th><th scope=col>&lt;dbl&gt;</th><th scope=col>&lt;dbl&gt;</th><th scope=col>&lt;dbl&gt;</th></tr>\n",
       "</thead>\n",
       "<tbody>\n",
       "\t<tr><th scope=row>Returns</th><td>-0.033</td><td>0.020</td><td>-0.016</td><td>0.004</td><td>-0.010</td></tr>\n",
       "\t<tr><th scope=row>Skewness</th><td> 0.906</td><td>0.801</td><td> 0.721</td><td>0.643</td><td> 0.560</td></tr>\n",
       "\t<tr><th scope=row>Beta</th><td> 0.988</td><td>0.972</td><td> 0.951</td><td>0.939</td><td> 0.920</td></tr>\n",
       "\t<tr><th scope=row>Size</th><td> 0.998</td><td>0.996</td><td> 0.994</td><td>0.992</td><td> 0.990</td></tr>\n",
       "\t<tr><th scope=row>Market cap</th><td> 0.998</td><td>0.996</td><td> 0.994</td><td>0.992</td><td> 0.989</td></tr>\n",
       "</tbody>\n",
       "</table>\n"
      ],
      "text/latex": [
       "A data.frame: 5 × 5\n",
       "\\begin{tabular}{r|lllll}\n",
       "  & Lag  1 & Lag  2 & Lag  3 & Lag  4 & Lag  5\\\\\n",
       "  & <dbl> & <dbl> & <dbl> & <dbl> & <dbl>\\\\\n",
       "\\hline\n",
       "\tReturns & -0.033 & 0.020 & -0.016 & 0.004 & -0.010\\\\\n",
       "\tSkewness &  0.906 & 0.801 &  0.721 & 0.643 &  0.560\\\\\n",
       "\tBeta &  0.988 & 0.972 &  0.951 & 0.939 &  0.920\\\\\n",
       "\tSize &  0.998 & 0.996 &  0.994 & 0.992 &  0.990\\\\\n",
       "\tMarket cap &  0.998 & 0.996 &  0.994 & 0.992 &  0.989\\\\\n",
       "\\end{tabular}\n"
      ],
      "text/markdown": [
       "\n",
       "A data.frame: 5 × 5\n",
       "\n",
       "| <!--/--> | Lag  1 &lt;dbl&gt; | Lag  2 &lt;dbl&gt; | Lag  3 &lt;dbl&gt; | Lag  4 &lt;dbl&gt; | Lag  5 &lt;dbl&gt; |\n",
       "|---|---|---|---|---|---|\n",
       "| Returns | -0.033 | 0.020 | -0.016 | 0.004 | -0.010 |\n",
       "| Skewness |  0.906 | 0.801 |  0.721 | 0.643 |  0.560 |\n",
       "| Beta |  0.988 | 0.972 |  0.951 | 0.939 |  0.920 |\n",
       "| Size |  0.998 | 0.996 |  0.994 | 0.992 |  0.990 |\n",
       "| Market cap |  0.998 | 0.996 |  0.994 | 0.992 |  0.989 |\n",
       "\n"
      ],
      "text/plain": [
       "           Lag  1 Lag  2 Lag  3 Lag  4 Lag  5\n",
       "Returns    -0.033 0.020  -0.016 0.004  -0.010\n",
       "Skewness    0.906 0.801   0.721 0.643   0.560\n",
       "Beta        0.988 0.972   0.951 0.939   0.920\n",
       "Size        0.998 0.996   0.994 0.992   0.990\n",
       "Market cap  0.998 0.996   0.994 0.992   0.989"
      ]
     },
     "metadata": {},
     "output_type": "display_data"
    }
   ],
   "source": [
    "#Persistence analysis\n",
    "persistence"
   ]
  },
  {
   "cell_type": "markdown",
   "metadata": {},
   "source": [
    "## 3. Methodology"
   ]
  },
  {
   "cell_type": "code",
   "execution_count": 9,
   "metadata": {
    "vscode": {
     "languageId": "r"
    }
   },
   "outputs": [],
   "source": [
    "#Defining a function to perform a univariate sort\n",
    "univariate_sort <- function(sort_variable, no_of_ports = 5, weighted = F) {\n",
    "  sort_variable_name <- gsub(\"MDLZ.\", \"\", colnames(sort_variable)[1]) #Extracting the name of the sorting variable\n",
    "  final_ouptut <- as.data.frame(matrix(ncol = no_of_ports + 1, nrow = 5)) #Data frame for the final output\n",
    "  colnames(final_ouptut) <- c(1:no_of_ports, paste(no_of_ports, 1, sep = \"-\")) #Column names for clarity\n",
    "  row.names(final_ouptut) <- c(paste0(\"Mean of \", sort_variable_name), \"Mean of one-ahead returns\", \"T-statistic\", \"Alpha\", \"T-statistic (alpha)\")\n",
    "  all_avg_sort_values <- c() #Empty vector to which we will append the results from each period (sort variable)\n",
    "  all_avg_returns <- c() #Empty vector to which we will append the results from each period (returns)\n",
    "  for (i in 1:nrow(sort_variable)) { #Loop through the rows (periods)\n",
    "    current_period <- index(sort_variable)[i] #Store the current period\n",
    "    next_period <- as.Date(as.yearmon(current_period %m+% months(1)), frac = 1) #Store the next period (for the 1-ahead returns)\n",
    "    if (!next_period %in% index(monthly_returns)) { #In case we do not have 1-ahead returns, skip the period\n",
    "      next\n",
    "    }\n",
    "    average_sort_values <- rep(NA, no_of_ports) #Place holder for the cross-sectional average values of the sort variable\n",
    "    average_returns <- xts(matrix(nrow = 1, ncol = no_of_ports + 1), order.by = current_period) #Place holder for the cross-sectional average values of the 1-ahead returns\n",
    "    breakpoints <- quantile(sort_variable[current_period], probs = seq(1/no_of_ports, 1 - 1/no_of_ports, 1/no_of_ports), na.rm = T) #Find the breakpoints\n",
    "    for (j in 1:no_of_ports) { #Looping through the portfolios\n",
    "      if (j == 1) { #For the first portfolio we have only one condition\n",
    "        indic <- which(sort_variable[current_period] <= breakpoints[j]) #Find the stocks in the portfolio and save their column indices\n",
    "      } else if (j == no_of_ports) { #For the last portfolio we have only one condition as well\n",
    "        indic <- which(sort_variable[current_period] >= breakpoints[j -  1])\n",
    "      } else { #The rest of the portfolios (two conditions)\n",
    "        indic <- which(sort_variable[current_period] >= breakpoints[j - 1] & sort_variable[current_period] <= breakpoints[j]) #\"=\" at both inequalities to prevent empty portfolios\n",
    "      }\n",
    "      if (weighted == T) { #Market cap weighted average\n",
    "        mc_weights <- as.numeric(market_cap[current_period, indic]) #Storing the weights\n",
    "        if (length(mc_weights) == 0) { #If we do not have the market cap data, we have to skip\n",
    "          next\n",
    "        }\n",
    "        mc_weights[is.na(mc_weights)] <- 0 #0 value for missings = they have no weight\n",
    "        average_returns[, j] <- weighted.mean(as.numeric(monthly_returns[next_period, indic]), w = mc_weights, na.rm = T)\n",
    "      } else { #Equally-weighted average\n",
    "        average_returns[, j] <- mean(monthly_returns[next_period, indic], na.rm = T) #Calculate the average of 1-ahead returns\n",
    "      }\n",
    "      average_sort_values[j] <- mean(sort_variable[current_period, indic], na.rm = T) #Calculate the average of the sort variable for the given portfolio\n",
    "    }\n",
    "    average_returns[, no_of_ports + 1] <- average_returns[, no_of_ports] - average_returns[, 1] #The difference portfolio\n",
    "    all_avg_sort_values <- rbind(all_avg_sort_values, average_sort_values) #Append the results\n",
    "    all_avg_returns <- rbind(all_avg_returns, average_returns) #Append the results\n",
    "  }\n",
    "  final_ouptut[1, ] <- c(apply(all_avg_sort_values, 2, mean, na.rm = T) , NA) #Final average values of the sort variable\n",
    "  for (i in 1:(no_of_ports + 1)) { #Loop through the portfolios and get the time series avg of returns, t-stat and alpha\n",
    "    model_avg <- lm(na.omit(all_avg_returns[, i]) ~ 1) #Regress returns of each portfolio on the intercept (for weighted portfolio there may be missing values and coeftest cannot handle them => remove)\n",
    "    model_avg_adj <- coeftest(model_avg, vcov = NeweyWest(model_avg, lag = 6)) #Make Newey-West adjustment of std errors\n",
    "    final_ouptut[2, i] <- model_avg_adj[1, 1] #Store the intercept (=time series average)\n",
    "    final_ouptut[3, i] <- model_avg_adj[1, 3] #Store the t-statistic\n",
    "    #Regress the returns on the five factors\n",
    "    factor_data <- na.omit(merge.xts(all_avg_returns[, i], fffactors[, 1:3], momentum, liquidity)) #Merge the data needed for the factor model (to secure the same number of obs) + remove NAs since coeftest cannot handle it\n",
    "    factor_model <- lm(factor_data[, 1] ~ factor_data[, 2] + factor_data[, 3] + factor_data[, 4] + factor_data[, 5] + \n",
    "                         factor_data[, 6])\n",
    "    factor_model_adj <- coeftest(factor_model, vcov = NeweyWest(factor_model, lag = 6)) #Make Newey-West adjustment\n",
    "    final_ouptut[4, i] <- factor_model_adj[1, 1] #Store the intercept (alpha)\n",
    "    final_ouptut[5, i] <- factor_model_adj[1, 3] #Store the t-statistic\n",
    "  }\n",
    "  return(final_ouptut)\n",
    "}"
   ]
  },
  {
   "cell_type": "code",
   "execution_count": 10,
   "metadata": {
    "vscode": {
     "languageId": "r"
    }
   },
   "outputs": [],
   "source": [
    "#Defining a function to perform a bivariate sort (independent and weighted)\n",
    "bivariate_sort <- function(sort_variable1, sort_variable2, percs1 = c(0.3, 0.7), percs2 = c(0.3, 0.7)) { #Accepts two sort variables data and required percentiles for the portfolios\n",
    "  no_of_ports1 <- length(percs1) + 1 #Storing the number of portfolios of the first sort variable\n",
    "  no_of_ports2 <- length(percs2) + 1 #Storing the number of portfolios of the second sort variable\n",
    "  sort_variable1_name <- gsub(\"MDLZ.\", \"\", colnames(sort_variable1)[1]) #Extracting the name of the first sorting variable\n",
    "  sort_variable2_name <- gsub(\"MDLZ.\", \"\", colnames(sort_variable2)[1]) #Extracting the name of the second sorting variable\n",
    "  final_ouptut <- as.data.frame(matrix(ncol = no_of_ports1 + 1, nrow = 4*(no_of_ports2 + 1))) #Data frame for the final output\n",
    "  colnames(final_ouptut) <- c(paste0(sort_variable1_name, \" \", 1:no_of_ports1), paste0(sort_variable1_name, \" \", paste0(no_of_ports1, \"-\", 1))) #Column names for clarity\n",
    "  sort_variable2_ports <- c(paste0(sort_variable2_name, \" \", 1:no_of_ports2), paste0(sort_variable2_name, \" \", paste0(no_of_ports2, \"-\", 1))) #Portfolios of the second sort variable stored to use for row names of the final output\n",
    "  statistics <- c(\"Mean\", \"T-statistic\", \"Alpha\", \"T-statistic (alpha)\") #Statistics to paste for row names\n",
    "  row.names(final_ouptut) <- as.vector(t(outer(sort_variable2_ports, statistics, FUN = \"paste\", sep = \" - \"))) #Row names for clarity\n",
    "  all_avg_returns <- list() #Empty vector to which we will append the matrices of results from each period (returns)\n",
    "  find_indics <- function(xts_object, percs) { #A function that returns boolean vectors for given quantiles of given data\n",
    "    breakpoints <- quantile(xts_object, probs = percs, na.rm = T) #Find the breakpoints\n",
    "    no_of_quants <- length(breakpoints) + 1 #Store the number of quantiles\n",
    "    indics <- vector(\"list\", no_of_quants) #Empty list to store the final indices\n",
    "    for (i in 1:no_of_quants) { #Loop through the quantiles\n",
    "      if (i == 1) { #For the first quantile we have only one condition\n",
    "        indic <- xts_object <= breakpoints[i] #Find the stocks in the first quantile\n",
    "      } else if (i == no_of_quants) { #For the last quantile we have only one condition as well\n",
    "        indic <- xts_object >= breakpoints[i -  1]\n",
    "      } else { #The rest of the quantiles (two conditions)\n",
    "        indic <- xts_object >= breakpoints[i - 1] & xts_object <= breakpoints[i] #\"=\" at both inequalities to prevent empty quantiles (see book)\n",
    "      }\n",
    "      indics[[i]] <- indic\n",
    "    }\n",
    "    return(indics)\n",
    "  }\n",
    "  for (i in 1:nrow(sort_variable1)) { #Loop through the rows (periods) of the first sorting variable (we are interested in the intersection of the periods so we can loop through just one of the indices)\n",
    "    current_period <- index(sort_variable1)[i] #Store the current period\n",
    "    next_period <- as.Date(as.yearmon(current_period %m+% months(1)), frac = 1) #Store the next period (for the 1-ahead returns)\n",
    "    if (!next_period %in% index(monthly_returns) | !current_period %in% index(sort_variable2)) { #In case we do not have 1-ahead returns or the values for the second variable, skip the period\n",
    "      next\n",
    "    }\n",
    "    average_returns <- matrix(nrow = no_of_ports2 + 1, ncol = no_of_ports1 + 1) #Place holder for the cross-sectional average values of the 1-ahead returns\n",
    "    indics1 <- find_indics(sort_variable1[current_period], percs1) #Divide the first sorting variable into quantiles (get the boolean values for the stocks)\n",
    "    indics2 <- find_indics(sort_variable2[current_period], percs2) #Divide the second sorting variable into quantiles (get the boolean values for the stocks)\n",
    "    indics_comb <- expand.grid(indics1, indics2) #Make all possible combinations for all quantiles of both variables\n",
    "    indics_for_mat <- expand.grid(1:no_of_ports1, 1:no_of_ports2) #Indices for writing the returns in the matrix for each period\n",
    "    for (j in 1:nrow(indics_comb)) { #Loop through the portfolios\n",
    "      final_indics <- which(unlist(indics_comb[j, 1]) & unlist(indics_comb[j, 2])) #Find the column indices for a given portfolio\n",
    "      mc_weights <- as.numeric(market_cap[current_period, final_indics]) #Storing the market cap weights\n",
    "      if (length(mc_weights) == 0) { #If we do not have the market cap data, we have to skip\n",
    "        next\n",
    "      }\n",
    "      mc_weights[is.na(mc_weights)] <- 0 #0 value for missings = they have no weight\n",
    "      average_returns[indics_for_mat[j, 2], indics_for_mat[j, 1]] <- weighted.mean(as.numeric(monthly_returns[next_period, final_indics]), w = mc_weights, na.rm = T)  \n",
    "    }\n",
    "    for (j in 1:(ncol(average_returns)- 1)) { #Calculate the difference portfolios of the second sorting variable (last row)\n",
    "      average_returns[nrow(average_returns), j] <- average_returns[nrow(average_returns) - 1, j] - average_returns[1, j] \n",
    "    }\n",
    "    for (j in 1:nrow(average_returns)) { #Calculate the difference portfolios of the first sorting variable + the diff in diff portfolio (last column)\n",
    "      average_returns[j, ncol(average_returns)] <- average_returns[j, ncol(average_returns) - 1] - average_returns[j, 1]\n",
    "    }\n",
    "    all_avg_returns[[length(all_avg_returns) + 1]] <- average_returns #Append the matrix with results for the current period\n",
    "    names(all_avg_returns)[length(all_avg_returns)] <- as.character(current_period) #Name the element in the list with the period for later usage\n",
    "  }\n",
    "  indics_for_ports <- expand.grid(1:(no_of_ports1 + 1), 1:(no_of_ports2 + 1)) #Store the indices for each portfolio in the returns matrix for the loop\n",
    "  final_returns <- rep(NA, ((no_of_ports1 + 1)*(no_of_ports2 + 1))) #A vector to store the final returns for each portfolio\n",
    "  final_t_stats <- rep(NA, ((no_of_ports1 + 1)*(no_of_ports2 + 1))) #A vector to store the final t-statistics for each portfolio\n",
    "  final_alphas <- rep(NA, ((no_of_ports1 + 1)*(no_of_ports2 + 1))) #A vector to store the final alphas for each portfolio\n",
    "  final_t_stats_alphas <- rep(NA, ((no_of_ports1 + 1)*(no_of_ports2 + 1))) #A vector to store the final t-statistics for alphas for each portfolio\n",
    "  for (i in 1:((no_of_ports1 + 1)*(no_of_ports2 + 1))) { #Loop through the portfolios and get the time series avg of returns, t-stat and alpha\n",
    "    data_to_use <- xts(unlist(lapply(all_avg_returns, \"[\", indics_for_ports[i, 2], indics_for_ports[i, 1])), order.by = as.Date(names(all_avg_returns))) #Get the time series for each portfolio\n",
    "    model_avg <- lm(na.omit(data_to_use) ~ 1) #Regress returns of each portfolio on the intercept (for weighted portfolio there may be missing values and coeftest cannot handle them => remove)\n",
    "    model_avg_adj <- coeftest(model_avg, vcov = NeweyWest(model_avg, lag = 6)) #Make Newey-West adjustment of std errors\n",
    "    final_returns[i] <- model_avg_adj[1, 1] #Store the intercept (=time series average)\n",
    "    final_t_stats[i] <- model_avg_adj[1, 3] #Store the t-statistic\n",
    "    #Regress the returns on the five factors\n",
    "    factor_data <- na.omit(merge.xts(data_to_use, fffactors[, 1:3], momentum, liquidity)) #Merge the data needed for the factor model (to secure the same number of obs) + remove NAs since coeftest cannot handle it\n",
    "    factor_model <- lm(factor_data[, 1] ~ factor_data[, 2] + factor_data[, 3] + factor_data[, 4] + factor_data[, 5] + \n",
    "                         factor_data[, 6])\n",
    "    factor_model_adj <- coeftest(factor_model, vcov = NeweyWest(factor_model, lag = 6)) #Make Newey-West adjustment\n",
    "    final_alphas[i] <- factor_model_adj[1, 1] #Store the intercept (alpha)\n",
    "    final_t_stats_alphas[i] <- factor_model_adj[1, 3] #Store the t-statistic\n",
    "  }\n",
    "  final_result <- list(final_returns, final_t_stats, final_alphas, final_t_stats_alphas)\n",
    "  for (i in 1:4) { #Loop through the list of results\n",
    "    results_mat <- matrix(final_result[[i]], ncol = no_of_ports1 + 1, byrow = T) #Reshape the vector to matrix to facilitate filling in the final output\n",
    "    final_ouptut[seq(i, nrow(final_ouptut), 4), ] <- results_mat #Fill the appropriate rows with results for each statistic\n",
    "  }\n",
    "  return(final_ouptut)\n",
    "}"
   ]
  },
  {
   "cell_type": "code",
   "execution_count": 11,
   "metadata": {
    "vscode": {
     "languageId": "r"
    }
   },
   "outputs": [],
   "source": [
    "#Defining a function to perform the Fama-Macbeth regression\n",
    "fama_macbeth <- function(indep_var) { #Expects a list of xts objects with independent variables\n",
    "  cross_sec_coefs <- c() #Empty vector to which we will append the coefficients for each period\n",
    "  for (i in 1:nrow(monthly_returns)) { #Loop through the periods\n",
    "    next_period <- index(monthly_returns)[i] #Store the period from which the one ahead returns come\n",
    "    current_period <- as.Date(as.yearmon(next_period %m-% months(1)), frac = 1) #Store the period for the independent variables\n",
    "    move_to_next_period <- F #Setting up an indicator for incomplete periods\n",
    "    for (j in 1:length(indep_var)) { #Check if the current period is contained in all independent variables\n",
    "      if (current_period %in% index(indep_var[[j]])) { #If it is, move to next variable\n",
    "        next\n",
    "      } else { #If it is not, set the indicator and break\n",
    "        move_to_next_period <- T\n",
    "        break\n",
    "      }\n",
    "    }\n",
    "    if (move_to_next_period == T) { #If one of the independent variables does not contain the required period, move to next period\n",
    "      next\n",
    "    }\n",
    "    cross_sec_data <- as.data.frame(matrix(ncol = length(indep_var) + 1, nrow = ncol(monthly_returns))) #Data holder for each period\n",
    "    colnames(cross_sec_data) <- c(\"Returns\", names(indep_var)) #Column names that will be used in the formula\n",
    "    cross_sec_data[, 1] <- as.numeric(monthly_returns[next_period]) #Fill in the data for the dependent variable\n",
    "    for (j in 1:length(indep_var)) { #Fill in the data for each independent variable\n",
    "      cross_sec_data[, j + 1] <- as.numeric(indep_var[[j]][current_period])\n",
    "    }\n",
    "    form <- paste(\"Returns\", paste(colnames(cross_sec_data)[2:ncol(cross_sec_data)], collapse = \"+\"), sep = \"~\") #Define the formula\n",
    "    cross_sec_model <- lm(form, data = cross_sec_data) #Estimate the model\n",
    "    cross_sec_coefs <- rbind(cross_sec_coefs, cross_sec_model$coefficients) #Append the coefficients\n",
    "  }\n",
    "  final_output <- as.data.frame(matrix(nrow = 2, ncol = ncol(cross_sec_coefs))) #Place holder to store the final output (time series means and t-statistics)\n",
    "  colnames(final_output) <- colnames(cross_sec_coefs) #Rename the columns for clarity\n",
    "  row.names(final_output) <- c(\"Mean\", \"T-statistic\") #Rename the rows for clarity\n",
    "  for (i in 1:ncol(cross_sec_coefs)) { #Calculate the time series mean and t-statistics for each coefficient\n",
    "    time_model <- lm(cross_sec_coefs[, i] ~ 1) #Regress each time series on a constant to get the mean estimate\n",
    "    time_model_adj <- coeftest(time_model, vcov = NeweyWest(time_model, lag = 4)) #Newey-West adjustment of the errors\n",
    "    final_output[1, i] <- time_model_adj[1, 1] #Store the mean\n",
    "    final_output[2, i] <- time_model_adj[1, 3] #Store the standard error\n",
    "  }\n",
    "  return(final_output)\n",
    "}"
   ]
  },
  {
   "cell_type": "markdown",
   "metadata": {},
   "source": [
    "## 4. Results"
   ]
  },
  {
   "cell_type": "markdown",
   "metadata": {},
   "source": [
    "In this section we present the results of our analyses. We start with the univariate sort."
   ]
  },
  {
   "cell_type": "markdown",
   "metadata": {},
   "source": [
    "### Univariate sort"
   ]
  },
  {
   "cell_type": "code",
   "execution_count": 12,
   "metadata": {
    "vscode": {
     "languageId": "r"
    }
   },
   "outputs": [
    {
     "data": {
      "text/html": [
       "<table class=\"dataframe\">\n",
       "<caption>A data.frame: 5 × 6</caption>\n",
       "<thead>\n",
       "\t<tr><th></th><th scope=col>1</th><th scope=col>2</th><th scope=col>3</th><th scope=col>4</th><th scope=col>5</th><th scope=col>5-1</th></tr>\n",
       "\t<tr><th></th><th scope=col>&lt;dbl&gt;</th><th scope=col>&lt;dbl&gt;</th><th scope=col>&lt;dbl&gt;</th><th scope=col>&lt;dbl&gt;</th><th scope=col>&lt;dbl&gt;</th><th scope=col>&lt;dbl&gt;</th></tr>\n",
       "</thead>\n",
       "<tbody>\n",
       "\t<tr><th scope=row>Mean of Beta</th><td> 0.005315965</td><td> 0.008145472</td><td> 0.01003064</td><td> 0.01201056</td><td> 0.01559522</td><td>        NA</td></tr>\n",
       "\t<tr><th scope=row>Mean of one-ahead returns</th><td>-0.040201592</td><td>-0.039654276</td><td>-0.03791159</td><td>-0.03243701</td><td>-0.02626897</td><td>0.01393262</td></tr>\n",
       "\t<tr><th scope=row>T-statistic</th><td>-1.957493826</td><td>-1.926549270</td><td>-1.79728969</td><td>-1.49818210</td><td>-1.21802015</td><td>1.58604641</td></tr>\n",
       "\t<tr><th scope=row>Alpha</th><td>-0.040006911</td><td>-0.041820348</td><td>-0.03961597</td><td>-0.03476045</td><td>-0.02792978</td><td>0.01207713</td></tr>\n",
       "\t<tr><th scope=row>T-statistic (alpha)</th><td>-2.210619977</td><td>-2.287397388</td><td>-2.12179514</td><td>-1.87142301</td><td>-1.52349440</td><td>1.35356534</td></tr>\n",
       "</tbody>\n",
       "</table>\n"
      ],
      "text/latex": [
       "A data.frame: 5 × 6\n",
       "\\begin{tabular}{r|llllll}\n",
       "  & 1 & 2 & 3 & 4 & 5 & 5-1\\\\\n",
       "  & <dbl> & <dbl> & <dbl> & <dbl> & <dbl> & <dbl>\\\\\n",
       "\\hline\n",
       "\tMean of Beta &  0.005315965 &  0.008145472 &  0.01003064 &  0.01201056 &  0.01559522 &         NA\\\\\n",
       "\tMean of one-ahead returns & -0.040201592 & -0.039654276 & -0.03791159 & -0.03243701 & -0.02626897 & 0.01393262\\\\\n",
       "\tT-statistic & -1.957493826 & -1.926549270 & -1.79728969 & -1.49818210 & -1.21802015 & 1.58604641\\\\\n",
       "\tAlpha & -0.040006911 & -0.041820348 & -0.03961597 & -0.03476045 & -0.02792978 & 0.01207713\\\\\n",
       "\tT-statistic (alpha) & -2.210619977 & -2.287397388 & -2.12179514 & -1.87142301 & -1.52349440 & 1.35356534\\\\\n",
       "\\end{tabular}\n"
      ],
      "text/markdown": [
       "\n",
       "A data.frame: 5 × 6\n",
       "\n",
       "| <!--/--> | 1 &lt;dbl&gt; | 2 &lt;dbl&gt; | 3 &lt;dbl&gt; | 4 &lt;dbl&gt; | 5 &lt;dbl&gt; | 5-1 &lt;dbl&gt; |\n",
       "|---|---|---|---|---|---|---|\n",
       "| Mean of Beta |  0.005315965 |  0.008145472 |  0.01003064 |  0.01201056 |  0.01559522 |         NA |\n",
       "| Mean of one-ahead returns | -0.040201592 | -0.039654276 | -0.03791159 | -0.03243701 | -0.02626897 | 0.01393262 |\n",
       "| T-statistic | -1.957493826 | -1.926549270 | -1.79728969 | -1.49818210 | -1.21802015 | 1.58604641 |\n",
       "| Alpha | -0.040006911 | -0.041820348 | -0.03961597 | -0.03476045 | -0.02792978 | 0.01207713 |\n",
       "| T-statistic (alpha) | -2.210619977 | -2.287397388 | -2.12179514 | -1.87142301 | -1.52349440 | 1.35356534 |\n",
       "\n"
      ],
      "text/plain": [
       "                          1            2            3           4          \n",
       "Mean of Beta               0.005315965  0.008145472  0.01003064  0.01201056\n",
       "Mean of one-ahead returns -0.040201592 -0.039654276 -0.03791159 -0.03243701\n",
       "T-statistic               -1.957493826 -1.926549270 -1.79728969 -1.49818210\n",
       "Alpha                     -0.040006911 -0.041820348 -0.03961597 -0.03476045\n",
       "T-statistic (alpha)       -2.210619977 -2.287397388 -2.12179514 -1.87142301\n",
       "                          5           5-1       \n",
       "Mean of Beta               0.01559522         NA\n",
       "Mean of one-ahead returns -0.02626897 0.01393262\n",
       "T-statistic               -1.21802015 1.58604641\n",
       "Alpha                     -0.02792978 0.01207713\n",
       "T-statistic (alpha)       -1.52349440 1.35356534"
      ]
     },
     "metadata": {},
     "output_type": "display_data"
    }
   ],
   "source": [
    "#Univariate sort on betas (equally-weighted)\n",
    "univariate_sort_betas <- univariate_sort(betas) #Equally weighted\n",
    "univariate_sort_betas"
   ]
  },
  {
   "cell_type": "code",
   "execution_count": 13,
   "metadata": {
    "vscode": {
     "languageId": "r"
    }
   },
   "outputs": [
    {
     "name": "stderr",
     "output_type": "stream",
     "text": [
      "Warning message in rbind(deparse.level, ...):\n",
      "\"mismatched types: converting objects to numeric\"\n"
     ]
    },
    {
     "data": {
      "text/html": [
       "<table class=\"dataframe\">\n",
       "<caption>A data.frame: 5 × 6</caption>\n",
       "<thead>\n",
       "\t<tr><th></th><th scope=col>1</th><th scope=col>2</th><th scope=col>3</th><th scope=col>4</th><th scope=col>5</th><th scope=col>5-1</th></tr>\n",
       "\t<tr><th></th><th scope=col>&lt;dbl&gt;</th><th scope=col>&lt;dbl&gt;</th><th scope=col>&lt;dbl&gt;</th><th scope=col>&lt;dbl&gt;</th><th scope=col>&lt;dbl&gt;</th><th scope=col>&lt;dbl&gt;</th></tr>\n",
       "</thead>\n",
       "<tbody>\n",
       "\t<tr><th scope=row>Mean of Beta</th><td> 0.005259643</td><td> 0.008120456</td><td> 0.01004147</td><td> 0.01203002</td><td> 0.01562879</td><td>           NA</td></tr>\n",
       "\t<tr><th scope=row>Mean of one-ahead returns</th><td>-0.020167871</td><td>-0.018665847</td><td>-0.01719342</td><td>-0.01333809</td><td>-0.01534456</td><td> 0.0048233133</td></tr>\n",
       "\t<tr><th scope=row>T-statistic</th><td>-0.974184860</td><td>-0.960231665</td><td>-0.82377566</td><td>-0.68878979</td><td>-0.83838204</td><td> 0.6650608903</td></tr>\n",
       "\t<tr><th scope=row>Alpha</th><td>-0.014339890</td><td>-0.016236178</td><td>-0.01567603</td><td>-0.01425867</td><td>-0.01456113</td><td>-0.0002212442</td></tr>\n",
       "\t<tr><th scope=row>T-statistic (alpha)</th><td>-0.723421375</td><td>-0.818464906</td><td>-0.79501658</td><td>-0.74252698</td><td>-0.76514972</td><td>-0.0281559398</td></tr>\n",
       "</tbody>\n",
       "</table>\n"
      ],
      "text/latex": [
       "A data.frame: 5 × 6\n",
       "\\begin{tabular}{r|llllll}\n",
       "  & 1 & 2 & 3 & 4 & 5 & 5-1\\\\\n",
       "  & <dbl> & <dbl> & <dbl> & <dbl> & <dbl> & <dbl>\\\\\n",
       "\\hline\n",
       "\tMean of Beta &  0.005259643 &  0.008120456 &  0.01004147 &  0.01203002 &  0.01562879 &            NA\\\\\n",
       "\tMean of one-ahead returns & -0.020167871 & -0.018665847 & -0.01719342 & -0.01333809 & -0.01534456 &  0.0048233133\\\\\n",
       "\tT-statistic & -0.974184860 & -0.960231665 & -0.82377566 & -0.68878979 & -0.83838204 &  0.6650608903\\\\\n",
       "\tAlpha & -0.014339890 & -0.016236178 & -0.01567603 & -0.01425867 & -0.01456113 & -0.0002212442\\\\\n",
       "\tT-statistic (alpha) & -0.723421375 & -0.818464906 & -0.79501658 & -0.74252698 & -0.76514972 & -0.0281559398\\\\\n",
       "\\end{tabular}\n"
      ],
      "text/markdown": [
       "\n",
       "A data.frame: 5 × 6\n",
       "\n",
       "| <!--/--> | 1 &lt;dbl&gt; | 2 &lt;dbl&gt; | 3 &lt;dbl&gt; | 4 &lt;dbl&gt; | 5 &lt;dbl&gt; | 5-1 &lt;dbl&gt; |\n",
       "|---|---|---|---|---|---|---|\n",
       "| Mean of Beta |  0.005259643 |  0.008120456 |  0.01004147 |  0.01203002 |  0.01562879 |            NA |\n",
       "| Mean of one-ahead returns | -0.020167871 | -0.018665847 | -0.01719342 | -0.01333809 | -0.01534456 |  0.0048233133 |\n",
       "| T-statistic | -0.974184860 | -0.960231665 | -0.82377566 | -0.68878979 | -0.83838204 |  0.6650608903 |\n",
       "| Alpha | -0.014339890 | -0.016236178 | -0.01567603 | -0.01425867 | -0.01456113 | -0.0002212442 |\n",
       "| T-statistic (alpha) | -0.723421375 | -0.818464906 | -0.79501658 | -0.74252698 | -0.76514972 | -0.0281559398 |\n",
       "\n"
      ],
      "text/plain": [
       "                          1            2            3           4          \n",
       "Mean of Beta               0.005259643  0.008120456  0.01004147  0.01203002\n",
       "Mean of one-ahead returns -0.020167871 -0.018665847 -0.01719342 -0.01333809\n",
       "T-statistic               -0.974184860 -0.960231665 -0.82377566 -0.68878979\n",
       "Alpha                     -0.014339890 -0.016236178 -0.01567603 -0.01425867\n",
       "T-statistic (alpha)       -0.723421375 -0.818464906 -0.79501658 -0.74252698\n",
       "                          5           5-1          \n",
       "Mean of Beta               0.01562879            NA\n",
       "Mean of one-ahead returns -0.01534456  0.0048233133\n",
       "T-statistic               -0.83838204  0.6650608903\n",
       "Alpha                     -0.01456113 -0.0002212442\n",
       "T-statistic (alpha)       -0.76514972 -0.0281559398"
      ]
     },
     "metadata": {},
     "output_type": "display_data"
    }
   ],
   "source": [
    "#Univariate sort on betas (value-weighted)\n",
    "univariate_sort_weighted_betas <- univariate_sort(betas, weighted = T) #Market cap weighted (rbind warning should be okay, just NAs)\n",
    "univariate_sort_weighted_betas"
   ]
  },
  {
   "cell_type": "code",
   "execution_count": 14,
   "metadata": {
    "vscode": {
     "languageId": "r"
    }
   },
   "outputs": [
    {
     "data": {
      "text/html": [
       "<table class=\"dataframe\">\n",
       "<caption>A data.frame: 5 × 6</caption>\n",
       "<thead>\n",
       "\t<tr><th></th><th scope=col>1</th><th scope=col>2</th><th scope=col>3</th><th scope=col>4</th><th scope=col>5</th><th scope=col>5-1</th></tr>\n",
       "\t<tr><th></th><th scope=col>&lt;dbl&gt;</th><th scope=col>&lt;dbl&gt;</th><th scope=col>&lt;dbl&gt;</th><th scope=col>&lt;dbl&gt;</th><th scope=col>&lt;dbl&gt;</th><th scope=col>&lt;dbl&gt;</th></tr>\n",
       "</thead>\n",
       "<tbody>\n",
       "\t<tr><th scope=row>Mean of Size</th><td> 1.604346039</td><td> 2.29910489</td><td> 2.82673288</td><td> 3.43900684</td><td> 4.71052537</td><td>         NA</td></tr>\n",
       "\t<tr><th scope=row>Mean of one-ahead returns</th><td>-0.006697812</td><td>-0.01941954</td><td>-0.02069066</td><td>-0.02277601</td><td>-0.02293233</td><td>-0.01623452</td></tr>\n",
       "\t<tr><th scope=row>T-statistic</th><td>-0.378612806</td><td>-1.08586516</td><td>-1.16983518</td><td>-1.34653282</td><td>-1.34493568</td><td>-6.15070719</td></tr>\n",
       "\t<tr><th scope=row>Alpha</th><td>-0.005259066</td><td>-0.01870591</td><td>-0.01910294</td><td>-0.02181469</td><td>-0.02123653</td><td>-0.01597746</td></tr>\n",
       "\t<tr><th scope=row>T-statistic (alpha)</th><td>-0.294122017</td><td>-1.06824798</td><td>-1.04626543</td><td>-1.28623200</td><td>-1.25104668</td><td>-5.10901045</td></tr>\n",
       "</tbody>\n",
       "</table>\n"
      ],
      "text/latex": [
       "A data.frame: 5 × 6\n",
       "\\begin{tabular}{r|llllll}\n",
       "  & 1 & 2 & 3 & 4 & 5 & 5-1\\\\\n",
       "  & <dbl> & <dbl> & <dbl> & <dbl> & <dbl> & <dbl>\\\\\n",
       "\\hline\n",
       "\tMean of Size &  1.604346039 &  2.29910489 &  2.82673288 &  3.43900684 &  4.71052537 &          NA\\\\\n",
       "\tMean of one-ahead returns & -0.006697812 & -0.01941954 & -0.02069066 & -0.02277601 & -0.02293233 & -0.01623452\\\\\n",
       "\tT-statistic & -0.378612806 & -1.08586516 & -1.16983518 & -1.34653282 & -1.34493568 & -6.15070719\\\\\n",
       "\tAlpha & -0.005259066 & -0.01870591 & -0.01910294 & -0.02181469 & -0.02123653 & -0.01597746\\\\\n",
       "\tT-statistic (alpha) & -0.294122017 & -1.06824798 & -1.04626543 & -1.28623200 & -1.25104668 & -5.10901045\\\\\n",
       "\\end{tabular}\n"
      ],
      "text/markdown": [
       "\n",
       "A data.frame: 5 × 6\n",
       "\n",
       "| <!--/--> | 1 &lt;dbl&gt; | 2 &lt;dbl&gt; | 3 &lt;dbl&gt; | 4 &lt;dbl&gt; | 5 &lt;dbl&gt; | 5-1 &lt;dbl&gt; |\n",
       "|---|---|---|---|---|---|---|\n",
       "| Mean of Size |  1.604346039 |  2.29910489 |  2.82673288 |  3.43900684 |  4.71052537 |          NA |\n",
       "| Mean of one-ahead returns | -0.006697812 | -0.01941954 | -0.02069066 | -0.02277601 | -0.02293233 | -0.01623452 |\n",
       "| T-statistic | -0.378612806 | -1.08586516 | -1.16983518 | -1.34653282 | -1.34493568 | -6.15070719 |\n",
       "| Alpha | -0.005259066 | -0.01870591 | -0.01910294 | -0.02181469 | -0.02123653 | -0.01597746 |\n",
       "| T-statistic (alpha) | -0.294122017 | -1.06824798 | -1.04626543 | -1.28623200 | -1.25104668 | -5.10901045 |\n",
       "\n"
      ],
      "text/plain": [
       "                          1            2           3           4          \n",
       "Mean of Size               1.604346039  2.29910489  2.82673288  3.43900684\n",
       "Mean of one-ahead returns -0.006697812 -0.01941954 -0.02069066 -0.02277601\n",
       "T-statistic               -0.378612806 -1.08586516 -1.16983518 -1.34653282\n",
       "Alpha                     -0.005259066 -0.01870591 -0.01910294 -0.02181469\n",
       "T-statistic (alpha)       -0.294122017 -1.06824798 -1.04626543 -1.28623200\n",
       "                          5           5-1        \n",
       "Mean of Size               4.71052537          NA\n",
       "Mean of one-ahead returns -0.02293233 -0.01623452\n",
       "T-statistic               -1.34493568 -6.15070719\n",
       "Alpha                     -0.02123653 -0.01597746\n",
       "T-statistic (alpha)       -1.25104668 -5.10901045"
      ]
     },
     "metadata": {},
     "output_type": "display_data"
    }
   ],
   "source": [
    "#Univariate sort on size (equally weighted)\n",
    "univariate_sort_size <- univariate_sort(size)\n",
    "univariate_sort_size"
   ]
  },
  {
   "cell_type": "code",
   "execution_count": 15,
   "metadata": {
    "vscode": {
     "languageId": "r"
    }
   },
   "outputs": [
    {
     "data": {
      "text/html": [
       "<table class=\"dataframe\">\n",
       "<caption>A data.frame: 5 × 6</caption>\n",
       "<thead>\n",
       "\t<tr><th></th><th scope=col>1</th><th scope=col>2</th><th scope=col>3</th><th scope=col>4</th><th scope=col>5</th><th scope=col>5-1</th></tr>\n",
       "\t<tr><th></th><th scope=col>&lt;dbl&gt;</th><th scope=col>&lt;dbl&gt;</th><th scope=col>&lt;dbl&gt;</th><th scope=col>&lt;dbl&gt;</th><th scope=col>&lt;dbl&gt;</th><th scope=col>&lt;dbl&gt;</th></tr>\n",
       "</thead>\n",
       "<tbody>\n",
       "\t<tr><th scope=row>Mean of Size</th><td> 1.604346039</td><td> 2.29910489</td><td> 2.82673288</td><td> 3.43900684</td><td> 4.71052537</td><td>         NA</td></tr>\n",
       "\t<tr><th scope=row>Mean of one-ahead returns</th><td>-0.008820904</td><td>-0.01978457</td><td>-0.02104353</td><td>-0.02271985</td><td>-0.02220847</td><td>-0.01338757</td></tr>\n",
       "\t<tr><th scope=row>T-statistic</th><td>-0.500549536</td><td>-1.10688882</td><td>-1.18885446</td><td>-1.33559768</td><td>-1.32942662</td><td>-4.50971406</td></tr>\n",
       "\t<tr><th scope=row>Alpha</th><td>-0.007017767</td><td>-0.01915427</td><td>-0.01932512</td><td>-0.02151969</td><td>-0.02101925</td><td>-0.01400149</td></tr>\n",
       "\t<tr><th scope=row>T-statistic (alpha)</th><td>-0.395582726</td><td>-1.09787702</td><td>-1.05283199</td><td>-1.25952910</td><td>-1.26499978</td><td>-3.70567811</td></tr>\n",
       "</tbody>\n",
       "</table>\n"
      ],
      "text/latex": [
       "A data.frame: 5 × 6\n",
       "\\begin{tabular}{r|llllll}\n",
       "  & 1 & 2 & 3 & 4 & 5 & 5-1\\\\\n",
       "  & <dbl> & <dbl> & <dbl> & <dbl> & <dbl> & <dbl>\\\\\n",
       "\\hline\n",
       "\tMean of Size &  1.604346039 &  2.29910489 &  2.82673288 &  3.43900684 &  4.71052537 &          NA\\\\\n",
       "\tMean of one-ahead returns & -0.008820904 & -0.01978457 & -0.02104353 & -0.02271985 & -0.02220847 & -0.01338757\\\\\n",
       "\tT-statistic & -0.500549536 & -1.10688882 & -1.18885446 & -1.33559768 & -1.32942662 & -4.50971406\\\\\n",
       "\tAlpha & -0.007017767 & -0.01915427 & -0.01932512 & -0.02151969 & -0.02101925 & -0.01400149\\\\\n",
       "\tT-statistic (alpha) & -0.395582726 & -1.09787702 & -1.05283199 & -1.25952910 & -1.26499978 & -3.70567811\\\\\n",
       "\\end{tabular}\n"
      ],
      "text/markdown": [
       "\n",
       "A data.frame: 5 × 6\n",
       "\n",
       "| <!--/--> | 1 &lt;dbl&gt; | 2 &lt;dbl&gt; | 3 &lt;dbl&gt; | 4 &lt;dbl&gt; | 5 &lt;dbl&gt; | 5-1 &lt;dbl&gt; |\n",
       "|---|---|---|---|---|---|---|\n",
       "| Mean of Size |  1.604346039 |  2.29910489 |  2.82673288 |  3.43900684 |  4.71052537 |          NA |\n",
       "| Mean of one-ahead returns | -0.008820904 | -0.01978457 | -0.02104353 | -0.02271985 | -0.02220847 | -0.01338757 |\n",
       "| T-statistic | -0.500549536 | -1.10688882 | -1.18885446 | -1.33559768 | -1.32942662 | -4.50971406 |\n",
       "| Alpha | -0.007017767 | -0.01915427 | -0.01932512 | -0.02151969 | -0.02101925 | -0.01400149 |\n",
       "| T-statistic (alpha) | -0.395582726 | -1.09787702 | -1.05283199 | -1.25952910 | -1.26499978 | -3.70567811 |\n",
       "\n"
      ],
      "text/plain": [
       "                          1            2           3           4          \n",
       "Mean of Size               1.604346039  2.29910489  2.82673288  3.43900684\n",
       "Mean of one-ahead returns -0.008820904 -0.01978457 -0.02104353 -0.02271985\n",
       "T-statistic               -0.500549536 -1.10688882 -1.18885446 -1.33559768\n",
       "Alpha                     -0.007017767 -0.01915427 -0.01932512 -0.02151969\n",
       "T-statistic (alpha)       -0.395582726 -1.09787702 -1.05283199 -1.25952910\n",
       "                          5           5-1        \n",
       "Mean of Size               4.71052537          NA\n",
       "Mean of one-ahead returns -0.02220847 -0.01338757\n",
       "T-statistic               -1.32942662 -4.50971406\n",
       "Alpha                     -0.02101925 -0.01400149\n",
       "T-statistic (alpha)       -1.26499978 -3.70567811"
      ]
     },
     "metadata": {},
     "output_type": "display_data"
    }
   ],
   "source": [
    "#Univariate sort on size (value-weighted)\n",
    "univariate_sort_weighted_size <- univariate_sort(size, weighted = T) #Market cap weighted\n",
    "univariate_sort_weighted_size"
   ]
  },
  {
   "cell_type": "code",
   "execution_count": 16,
   "metadata": {
    "vscode": {
     "languageId": "r"
    }
   },
   "outputs": [
    {
     "data": {
      "text/html": [
       "<table class=\"dataframe\">\n",
       "<caption>A data.frame: 5 × 6</caption>\n",
       "<thead>\n",
       "\t<tr><th></th><th scope=col>1</th><th scope=col>2</th><th scope=col>3</th><th scope=col>4</th><th scope=col>5</th><th scope=col>5-1</th></tr>\n",
       "\t<tr><th></th><th scope=col>&lt;dbl&gt;</th><th scope=col>&lt;dbl&gt;</th><th scope=col>&lt;dbl&gt;</th><th scope=col>&lt;dbl&gt;</th><th scope=col>&lt;dbl&gt;</th><th scope=col>&lt;dbl&gt;</th></tr>\n",
       "</thead>\n",
       "<tbody>\n",
       "\t<tr><th scope=row>Mean of Skewness</th><td>-1.09198069</td><td>-0.27756862</td><td>-0.02327015</td><td> 0.25718155</td><td> 1.21316260</td><td>         NA</td></tr>\n",
       "\t<tr><th scope=row>Mean of one-ahead returns</th><td>-0.03661514</td><td>-0.03460912</td><td>-0.03656714</td><td>-0.03511284</td><td>-0.03347537</td><td>0.003139775</td></tr>\n",
       "\t<tr><th scope=row>T-statistic</th><td>-1.86223037</td><td>-1.64114552</td><td>-1.73617315</td><td>-1.68196818</td><td>-1.56488305</td><td>1.010771418</td></tr>\n",
       "\t<tr><th scope=row>Alpha</th><td>-0.03698843</td><td>-0.03620937</td><td>-0.03877004</td><td>-0.03661638</td><td>-0.03548955</td><td>0.001498881</td></tr>\n",
       "\t<tr><th scope=row>T-statistic (alpha)</th><td>-2.07936273</td><td>-1.92377218</td><td>-2.15255882</td><td>-2.05716505</td><td>-1.93724474</td><td>0.574876944</td></tr>\n",
       "</tbody>\n",
       "</table>\n"
      ],
      "text/latex": [
       "A data.frame: 5 × 6\n",
       "\\begin{tabular}{r|llllll}\n",
       "  & 1 & 2 & 3 & 4 & 5 & 5-1\\\\\n",
       "  & <dbl> & <dbl> & <dbl> & <dbl> & <dbl> & <dbl>\\\\\n",
       "\\hline\n",
       "\tMean of Skewness & -1.09198069 & -0.27756862 & -0.02327015 &  0.25718155 &  1.21316260 &          NA\\\\\n",
       "\tMean of one-ahead returns & -0.03661514 & -0.03460912 & -0.03656714 & -0.03511284 & -0.03347537 & 0.003139775\\\\\n",
       "\tT-statistic & -1.86223037 & -1.64114552 & -1.73617315 & -1.68196818 & -1.56488305 & 1.010771418\\\\\n",
       "\tAlpha & -0.03698843 & -0.03620937 & -0.03877004 & -0.03661638 & -0.03548955 & 0.001498881\\\\\n",
       "\tT-statistic (alpha) & -2.07936273 & -1.92377218 & -2.15255882 & -2.05716505 & -1.93724474 & 0.574876944\\\\\n",
       "\\end{tabular}\n"
      ],
      "text/markdown": [
       "\n",
       "A data.frame: 5 × 6\n",
       "\n",
       "| <!--/--> | 1 &lt;dbl&gt; | 2 &lt;dbl&gt; | 3 &lt;dbl&gt; | 4 &lt;dbl&gt; | 5 &lt;dbl&gt; | 5-1 &lt;dbl&gt; |\n",
       "|---|---|---|---|---|---|---|\n",
       "| Mean of Skewness | -1.09198069 | -0.27756862 | -0.02327015 |  0.25718155 |  1.21316260 |          NA |\n",
       "| Mean of one-ahead returns | -0.03661514 | -0.03460912 | -0.03656714 | -0.03511284 | -0.03347537 | 0.003139775 |\n",
       "| T-statistic | -1.86223037 | -1.64114552 | -1.73617315 | -1.68196818 | -1.56488305 | 1.010771418 |\n",
       "| Alpha | -0.03698843 | -0.03620937 | -0.03877004 | -0.03661638 | -0.03548955 | 0.001498881 |\n",
       "| T-statistic (alpha) | -2.07936273 | -1.92377218 | -2.15255882 | -2.05716505 | -1.93724474 | 0.574876944 |\n",
       "\n"
      ],
      "text/plain": [
       "                          1           2           3           4          \n",
       "Mean of Skewness          -1.09198069 -0.27756862 -0.02327015  0.25718155\n",
       "Mean of one-ahead returns -0.03661514 -0.03460912 -0.03656714 -0.03511284\n",
       "T-statistic               -1.86223037 -1.64114552 -1.73617315 -1.68196818\n",
       "Alpha                     -0.03698843 -0.03620937 -0.03877004 -0.03661638\n",
       "T-statistic (alpha)       -2.07936273 -1.92377218 -2.15255882 -2.05716505\n",
       "                          5           5-1        \n",
       "Mean of Skewness           1.21316260          NA\n",
       "Mean of one-ahead returns -0.03347537 0.003139775\n",
       "T-statistic               -1.56488305 1.010771418\n",
       "Alpha                     -0.03548955 0.001498881\n",
       "T-statistic (alpha)       -1.93724474 0.574876944"
      ]
     },
     "metadata": {},
     "output_type": "display_data"
    }
   ],
   "source": [
    "#Univariate sort on skewness (equally weighted)\n",
    "univariate_sort_skewness <- univariate_sort(skewness_data)\n",
    "univariate_sort_skewness"
   ]
  },
  {
   "cell_type": "code",
   "execution_count": 17,
   "metadata": {
    "vscode": {
     "languageId": "r"
    }
   },
   "outputs": [
    {
     "name": "stderr",
     "output_type": "stream",
     "text": [
      "Warning message in rbind(deparse.level, ...):\n",
      "\"mismatched types: converting objects to numeric\"\n"
     ]
    },
    {
     "data": {
      "text/html": [
       "<table class=\"dataframe\">\n",
       "<caption>A data.frame: 5 × 6</caption>\n",
       "<thead>\n",
       "\t<tr><th></th><th scope=col>1</th><th scope=col>2</th><th scope=col>3</th><th scope=col>4</th><th scope=col>5</th><th scope=col>5-1</th></tr>\n",
       "\t<tr><th></th><th scope=col>&lt;dbl&gt;</th><th scope=col>&lt;dbl&gt;</th><th scope=col>&lt;dbl&gt;</th><th scope=col>&lt;dbl&gt;</th><th scope=col>&lt;dbl&gt;</th><th scope=col>&lt;dbl&gt;</th></tr>\n",
       "</thead>\n",
       "<tbody>\n",
       "\t<tr><th scope=row>Mean of Skewness</th><td>-1.10818631</td><td>-0.30349572</td><td>-0.04912819</td><td> 0.23251124</td><td> 1.19892282</td><td>          NA</td></tr>\n",
       "\t<tr><th scope=row>Mean of one-ahead returns</th><td>-0.01695480</td><td>-0.01660342</td><td>-0.01735680</td><td>-0.01789694</td><td>-0.01926040</td><td>-0.002305604</td></tr>\n",
       "\t<tr><th scope=row>T-statistic</th><td>-0.89464714</td><td>-0.81573903</td><td>-0.86136573</td><td>-0.87563264</td><td>-1.08538556</td><td>-0.606689763</td></tr>\n",
       "\t<tr><th scope=row>Alpha</th><td>-0.01385489</td><td>-0.01278373</td><td>-0.01621440</td><td>-0.01508792</td><td>-0.01789007</td><td>-0.004035171</td></tr>\n",
       "\t<tr><th scope=row>T-statistic (alpha)</th><td>-0.72932992</td><td>-0.66142362</td><td>-0.86618196</td><td>-0.75247336</td><td>-1.00543262</td><td>-0.938539156</td></tr>\n",
       "</tbody>\n",
       "</table>\n"
      ],
      "text/latex": [
       "A data.frame: 5 × 6\n",
       "\\begin{tabular}{r|llllll}\n",
       "  & 1 & 2 & 3 & 4 & 5 & 5-1\\\\\n",
       "  & <dbl> & <dbl> & <dbl> & <dbl> & <dbl> & <dbl>\\\\\n",
       "\\hline\n",
       "\tMean of Skewness & -1.10818631 & -0.30349572 & -0.04912819 &  0.23251124 &  1.19892282 &           NA\\\\\n",
       "\tMean of one-ahead returns & -0.01695480 & -0.01660342 & -0.01735680 & -0.01789694 & -0.01926040 & -0.002305604\\\\\n",
       "\tT-statistic & -0.89464714 & -0.81573903 & -0.86136573 & -0.87563264 & -1.08538556 & -0.606689763\\\\\n",
       "\tAlpha & -0.01385489 & -0.01278373 & -0.01621440 & -0.01508792 & -0.01789007 & -0.004035171\\\\\n",
       "\tT-statistic (alpha) & -0.72932992 & -0.66142362 & -0.86618196 & -0.75247336 & -1.00543262 & -0.938539156\\\\\n",
       "\\end{tabular}\n"
      ],
      "text/markdown": [
       "\n",
       "A data.frame: 5 × 6\n",
       "\n",
       "| <!--/--> | 1 &lt;dbl&gt; | 2 &lt;dbl&gt; | 3 &lt;dbl&gt; | 4 &lt;dbl&gt; | 5 &lt;dbl&gt; | 5-1 &lt;dbl&gt; |\n",
       "|---|---|---|---|---|---|---|\n",
       "| Mean of Skewness | -1.10818631 | -0.30349572 | -0.04912819 |  0.23251124 |  1.19892282 |           NA |\n",
       "| Mean of one-ahead returns | -0.01695480 | -0.01660342 | -0.01735680 | -0.01789694 | -0.01926040 | -0.002305604 |\n",
       "| T-statistic | -0.89464714 | -0.81573903 | -0.86136573 | -0.87563264 | -1.08538556 | -0.606689763 |\n",
       "| Alpha | -0.01385489 | -0.01278373 | -0.01621440 | -0.01508792 | -0.01789007 | -0.004035171 |\n",
       "| T-statistic (alpha) | -0.72932992 | -0.66142362 | -0.86618196 | -0.75247336 | -1.00543262 | -0.938539156 |\n",
       "\n"
      ],
      "text/plain": [
       "                          1           2           3           4          \n",
       "Mean of Skewness          -1.10818631 -0.30349572 -0.04912819  0.23251124\n",
       "Mean of one-ahead returns -0.01695480 -0.01660342 -0.01735680 -0.01789694\n",
       "T-statistic               -0.89464714 -0.81573903 -0.86136573 -0.87563264\n",
       "Alpha                     -0.01385489 -0.01278373 -0.01621440 -0.01508792\n",
       "T-statistic (alpha)       -0.72932992 -0.66142362 -0.86618196 -0.75247336\n",
       "                          5           5-1         \n",
       "Mean of Skewness           1.19892282           NA\n",
       "Mean of one-ahead returns -0.01926040 -0.002305604\n",
       "T-statistic               -1.08538556 -0.606689763\n",
       "Alpha                     -0.01789007 -0.004035171\n",
       "T-statistic (alpha)       -1.00543262 -0.938539156"
      ]
     },
     "metadata": {},
     "output_type": "display_data"
    }
   ],
   "source": [
    "#Univariate sort on skewness (value-weighted)\n",
    "univariate_sort_weighted_skewness <- univariate_sort(skewness_data, weighted = T) #Market cap weighted (rbind warning should be okay, just NAs)\n",
    "univariate_sort_weighted_skewness"
   ]
  },
  {
   "cell_type": "markdown",
   "metadata": {},
   "source": [
    "### Bivariate sort"
   ]
  },
  {
   "cell_type": "code",
   "execution_count": 18,
   "metadata": {
    "vscode": {
     "languageId": "r"
    }
   },
   "outputs": [
    {
     "name": "stderr",
     "output_type": "stream",
     "text": [
      "Warning message in min(j, na.rm = TRUE):\n",
      "\"no non-missing arguments to min; returning Inf\"\n",
      "Warning message in max(j, na.rm = TRUE):\n",
      "\"no non-missing arguments to max; returning -Inf\"\n"
     ]
    },
    {
     "data": {
      "text/html": [
       "<table class=\"dataframe\">\n",
       "<caption>A data.frame: 16 × 4</caption>\n",
       "<thead>\n",
       "\t<tr><th></th><th scope=col>Size 1</th><th scope=col>Size 2</th><th scope=col>Size 3</th><th scope=col>Size 3-1</th></tr>\n",
       "\t<tr><th></th><th scope=col>&lt;dbl&gt;</th><th scope=col>&lt;dbl&gt;</th><th scope=col>&lt;dbl&gt;</th><th scope=col>&lt;dbl&gt;</th></tr>\n",
       "</thead>\n",
       "<tbody>\n",
       "\t<tr><th scope=row>Beta 1 - Mean</th><td>-0.0139117902</td><td>-0.020302816</td><td>-0.019512761</td><td>-0.005600971</td></tr>\n",
       "\t<tr><th scope=row>Beta 1 - T-statistic</th><td>-0.7034049538</td><td>-1.021567983</td><td>-0.957986187</td><td>-1.719324985</td></tr>\n",
       "\t<tr><th scope=row>Beta 1 - Alpha</th><td>-0.0077536651</td><td>-0.015178535</td><td>-0.015108416</td><td>-0.007354751</td></tr>\n",
       "\t<tr><th scope=row>Beta 1 - T-statistic (alpha)</th><td>-0.4262398871</td><td>-0.796893366</td><td>-0.751317891</td><td>-2.581931780</td></tr>\n",
       "\t<tr><th scope=row>Beta 2 - Mean</th><td>-0.0118937627</td><td>-0.017139730</td><td>-0.017090794</td><td>-0.005197031</td></tr>\n",
       "\t<tr><th scope=row>Beta 2 - T-statistic</th><td>-0.5839792228</td><td>-0.838348316</td><td>-0.870885337</td><td>-1.961550620</td></tr>\n",
       "\t<tr><th scope=row>Beta 2 - Alpha</th><td>-0.0109118196</td><td>-0.016061739</td><td>-0.016353293</td><td>-0.005441474</td></tr>\n",
       "\t<tr><th scope=row>Beta 2 - T-statistic (alpha)</th><td>-0.5648779184</td><td>-0.817357981</td><td>-0.855093591</td><td>-1.826449557</td></tr>\n",
       "\t<tr><th scope=row>Beta 3 - Mean</th><td>-0.0007536626</td><td>-0.013515829</td><td>-0.016374830</td><td>-0.015621167</td></tr>\n",
       "\t<tr><th scope=row>Beta 3 - T-statistic</th><td>-0.0358187446</td><td>-0.649588165</td><td>-0.891047787</td><td>-3.490427023</td></tr>\n",
       "\t<tr><th scope=row>Beta 3 - Alpha</th><td>-0.0011321167</td><td>-0.009926491</td><td>-0.016316139</td><td>-0.015184022</td></tr>\n",
       "\t<tr><th scope=row>Beta 3 - T-statistic (alpha)</th><td>-0.0560808572</td><td>-0.488659806</td><td>-0.844400409</td><td>-3.670228283</td></tr>\n",
       "\t<tr><th scope=row>Beta 3-1 - Mean</th><td> 0.0131581276</td><td> 0.006901307</td><td> 0.003137932</td><td>-0.010020196</td></tr>\n",
       "\t<tr><th scope=row>Beta 3-1 - T-statistic</th><td> 2.2416044677</td><td> 1.031701286</td><td> 0.565061502</td><td>-1.920759996</td></tr>\n",
       "\t<tr><th scope=row>Beta 3-1 - Alpha</th><td> 0.0066215484</td><td> 0.005263449</td><td>-0.001207723</td><td>-0.007829272</td></tr>\n",
       "\t<tr><th scope=row>Beta 3-1 - T-statistic (alpha)</th><td> 1.1190759321</td><td> 0.697285139</td><td>-0.208899077</td><td>-1.556888744</td></tr>\n",
       "</tbody>\n",
       "</table>\n"
      ],
      "text/latex": [
       "A data.frame: 16 × 4\n",
       "\\begin{tabular}{r|llll}\n",
       "  & Size 1 & Size 2 & Size 3 & Size 3-1\\\\\n",
       "  & <dbl> & <dbl> & <dbl> & <dbl>\\\\\n",
       "\\hline\n",
       "\tBeta 1 - Mean & -0.0139117902 & -0.020302816 & -0.019512761 & -0.005600971\\\\\n",
       "\tBeta 1 - T-statistic & -0.7034049538 & -1.021567983 & -0.957986187 & -1.719324985\\\\\n",
       "\tBeta 1 - Alpha & -0.0077536651 & -0.015178535 & -0.015108416 & -0.007354751\\\\\n",
       "\tBeta 1 - T-statistic (alpha) & -0.4262398871 & -0.796893366 & -0.751317891 & -2.581931780\\\\\n",
       "\tBeta 2 - Mean & -0.0118937627 & -0.017139730 & -0.017090794 & -0.005197031\\\\\n",
       "\tBeta 2 - T-statistic & -0.5839792228 & -0.838348316 & -0.870885337 & -1.961550620\\\\\n",
       "\tBeta 2 - Alpha & -0.0109118196 & -0.016061739 & -0.016353293 & -0.005441474\\\\\n",
       "\tBeta 2 - T-statistic (alpha) & -0.5648779184 & -0.817357981 & -0.855093591 & -1.826449557\\\\\n",
       "\tBeta 3 - Mean & -0.0007536626 & -0.013515829 & -0.016374830 & -0.015621167\\\\\n",
       "\tBeta 3 - T-statistic & -0.0358187446 & -0.649588165 & -0.891047787 & -3.490427023\\\\\n",
       "\tBeta 3 - Alpha & -0.0011321167 & -0.009926491 & -0.016316139 & -0.015184022\\\\\n",
       "\tBeta 3 - T-statistic (alpha) & -0.0560808572 & -0.488659806 & -0.844400409 & -3.670228283\\\\\n",
       "\tBeta 3-1 - Mean &  0.0131581276 &  0.006901307 &  0.003137932 & -0.010020196\\\\\n",
       "\tBeta 3-1 - T-statistic &  2.2416044677 &  1.031701286 &  0.565061502 & -1.920759996\\\\\n",
       "\tBeta 3-1 - Alpha &  0.0066215484 &  0.005263449 & -0.001207723 & -0.007829272\\\\\n",
       "\tBeta 3-1 - T-statistic (alpha) &  1.1190759321 &  0.697285139 & -0.208899077 & -1.556888744\\\\\n",
       "\\end{tabular}\n"
      ],
      "text/markdown": [
       "\n",
       "A data.frame: 16 × 4\n",
       "\n",
       "| <!--/--> | Size 1 &lt;dbl&gt; | Size 2 &lt;dbl&gt; | Size 3 &lt;dbl&gt; | Size 3-1 &lt;dbl&gt; |\n",
       "|---|---|---|---|---|\n",
       "| Beta 1 - Mean | -0.0139117902 | -0.020302816 | -0.019512761 | -0.005600971 |\n",
       "| Beta 1 - T-statistic | -0.7034049538 | -1.021567983 | -0.957986187 | -1.719324985 |\n",
       "| Beta 1 - Alpha | -0.0077536651 | -0.015178535 | -0.015108416 | -0.007354751 |\n",
       "| Beta 1 - T-statistic (alpha) | -0.4262398871 | -0.796893366 | -0.751317891 | -2.581931780 |\n",
       "| Beta 2 - Mean | -0.0118937627 | -0.017139730 | -0.017090794 | -0.005197031 |\n",
       "| Beta 2 - T-statistic | -0.5839792228 | -0.838348316 | -0.870885337 | -1.961550620 |\n",
       "| Beta 2 - Alpha | -0.0109118196 | -0.016061739 | -0.016353293 | -0.005441474 |\n",
       "| Beta 2 - T-statistic (alpha) | -0.5648779184 | -0.817357981 | -0.855093591 | -1.826449557 |\n",
       "| Beta 3 - Mean | -0.0007536626 | -0.013515829 | -0.016374830 | -0.015621167 |\n",
       "| Beta 3 - T-statistic | -0.0358187446 | -0.649588165 | -0.891047787 | -3.490427023 |\n",
       "| Beta 3 - Alpha | -0.0011321167 | -0.009926491 | -0.016316139 | -0.015184022 |\n",
       "| Beta 3 - T-statistic (alpha) | -0.0560808572 | -0.488659806 | -0.844400409 | -3.670228283 |\n",
       "| Beta 3-1 - Mean |  0.0131581276 |  0.006901307 |  0.003137932 | -0.010020196 |\n",
       "| Beta 3-1 - T-statistic |  2.2416044677 |  1.031701286 |  0.565061502 | -1.920759996 |\n",
       "| Beta 3-1 - Alpha |  0.0066215484 |  0.005263449 | -0.001207723 | -0.007829272 |\n",
       "| Beta 3-1 - T-statistic (alpha) |  1.1190759321 |  0.697285139 | -0.208899077 | -1.556888744 |\n",
       "\n"
      ],
      "text/plain": [
       "                               Size 1        Size 2       Size 3      \n",
       "Beta 1 - Mean                  -0.0139117902 -0.020302816 -0.019512761\n",
       "Beta 1 - T-statistic           -0.7034049538 -1.021567983 -0.957986187\n",
       "Beta 1 - Alpha                 -0.0077536651 -0.015178535 -0.015108416\n",
       "Beta 1 - T-statistic (alpha)   -0.4262398871 -0.796893366 -0.751317891\n",
       "Beta 2 - Mean                  -0.0118937627 -0.017139730 -0.017090794\n",
       "Beta 2 - T-statistic           -0.5839792228 -0.838348316 -0.870885337\n",
       "Beta 2 - Alpha                 -0.0109118196 -0.016061739 -0.016353293\n",
       "Beta 2 - T-statistic (alpha)   -0.5648779184 -0.817357981 -0.855093591\n",
       "Beta 3 - Mean                  -0.0007536626 -0.013515829 -0.016374830\n",
       "Beta 3 - T-statistic           -0.0358187446 -0.649588165 -0.891047787\n",
       "Beta 3 - Alpha                 -0.0011321167 -0.009926491 -0.016316139\n",
       "Beta 3 - T-statistic (alpha)   -0.0560808572 -0.488659806 -0.844400409\n",
       "Beta 3-1 - Mean                 0.0131581276  0.006901307  0.003137932\n",
       "Beta 3-1 - T-statistic          2.2416044677  1.031701286  0.565061502\n",
       "Beta 3-1 - Alpha                0.0066215484  0.005263449 -0.001207723\n",
       "Beta 3-1 - T-statistic (alpha)  1.1190759321  0.697285139 -0.208899077\n",
       "                               Size 3-1    \n",
       "Beta 1 - Mean                  -0.005600971\n",
       "Beta 1 - T-statistic           -1.719324985\n",
       "Beta 1 - Alpha                 -0.007354751\n",
       "Beta 1 - T-statistic (alpha)   -2.581931780\n",
       "Beta 2 - Mean                  -0.005197031\n",
       "Beta 2 - T-statistic           -1.961550620\n",
       "Beta 2 - Alpha                 -0.005441474\n",
       "Beta 2 - T-statistic (alpha)   -1.826449557\n",
       "Beta 3 - Mean                  -0.015621167\n",
       "Beta 3 - T-statistic           -3.490427023\n",
       "Beta 3 - Alpha                 -0.015184022\n",
       "Beta 3 - T-statistic (alpha)   -3.670228283\n",
       "Beta 3-1 - Mean                -0.010020196\n",
       "Beta 3-1 - T-statistic         -1.920759996\n",
       "Beta 3-1 - Alpha               -0.007829272\n",
       "Beta 3-1 - T-statistic (alpha) -1.556888744"
      ]
     },
     "metadata": {},
     "output_type": "display_data"
    }
   ],
   "source": [
    "#Bivariate sort on size and beta\n",
    "bivariate_sort_size_beta <- bivariate_sort(size, betas)\n",
    "bivariate_sort_size_beta"
   ]
  },
  {
   "cell_type": "code",
   "execution_count": 19,
   "metadata": {
    "vscode": {
     "languageId": "r"
    }
   },
   "outputs": [
    {
     "data": {
      "text/html": [
       "<table class=\"dataframe\">\n",
       "<caption>A data.frame: 16 × 4</caption>\n",
       "<thead>\n",
       "\t<tr><th></th><th scope=col>Size 1</th><th scope=col>Size 2</th><th scope=col>Size 3</th><th scope=col>Size 3-1</th></tr>\n",
       "\t<tr><th></th><th scope=col>&lt;dbl&gt;</th><th scope=col>&lt;dbl&gt;</th><th scope=col>&lt;dbl&gt;</th><th scope=col>&lt;dbl&gt;</th></tr>\n",
       "</thead>\n",
       "<tbody>\n",
       "\t<tr><th scope=row>Skewness 1 - Mean</th><td>-0.011062966</td><td>-0.0169392165</td><td>-0.0190303561</td><td>-0.007967390</td></tr>\n",
       "\t<tr><th scope=row>Skewness 1 - T-statistic</th><td>-0.565985675</td><td>-0.8860890205</td><td>-0.9960068074</td><td>-2.681568114</td></tr>\n",
       "\t<tr><th scope=row>Skewness 1 - Alpha</th><td>-0.007526473</td><td>-0.0148683108</td><td>-0.0154963629</td><td>-0.007969890</td></tr>\n",
       "\t<tr><th scope=row>Skewness 1 - T-statistic (alpha)</th><td>-0.398715553</td><td>-0.7704191040</td><td>-0.8189081915</td><td>-2.866074639</td></tr>\n",
       "\t<tr><th scope=row>Skewness 2 - Mean</th><td>-0.008153785</td><td>-0.0172371110</td><td>-0.0167796058</td><td>-0.008625821</td></tr>\n",
       "\t<tr><th scope=row>Skewness 2 - T-statistic</th><td>-0.419767418</td><td>-0.8194227714</td><td>-0.8066679705</td><td>-2.667218642</td></tr>\n",
       "\t<tr><th scope=row>Skewness 2 - Alpha</th><td>-0.007389000</td><td>-0.0132201655</td><td>-0.0147716870</td><td>-0.007382687</td></tr>\n",
       "\t<tr><th scope=row>Skewness 2 - T-statistic (alpha)</th><td>-0.397052726</td><td>-0.6506661655</td><td>-0.7532089426</td><td>-2.357571277</td></tr>\n",
       "\t<tr><th scope=row>Skewness 3 - Mean</th><td>-0.002490465</td><td>-0.0167912054</td><td>-0.0198752593</td><td>-0.017384794</td></tr>\n",
       "\t<tr><th scope=row>Skewness 3 - T-statistic</th><td>-0.115836583</td><td>-0.8279354604</td><td>-1.1129051807</td><td>-3.126325268</td></tr>\n",
       "\t<tr><th scope=row>Skewness 3 - Alpha</th><td>-0.003229057</td><td>-0.0139773429</td><td>-0.0186815769</td><td>-0.015452520</td></tr>\n",
       "\t<tr><th scope=row>Skewness 3 - T-statistic (alpha)</th><td>-0.161984712</td><td>-0.7540472933</td><td>-1.0319446748</td><td>-3.255052107</td></tr>\n",
       "\t<tr><th scope=row>Skewness 3-1 - Mean</th><td> 0.008572501</td><td> 0.0001480111</td><td>-0.0008449032</td><td>-0.009417404</td></tr>\n",
       "\t<tr><th scope=row>Skewness 3-1 - T-statistic</th><td> 2.206800692</td><td> 0.0502160088</td><td>-0.2763931788</td><td>-2.093050460</td></tr>\n",
       "\t<tr><th scope=row>Skewness 3-1 - Alpha</th><td> 0.004297416</td><td> 0.0008909678</td><td>-0.0031852141</td><td>-0.007482630</td></tr>\n",
       "\t<tr><th scope=row>Skewness 3-1 - T-statistic (alpha)</th><td> 1.401569652</td><td> 0.2436820493</td><td>-0.9302418955</td><td>-1.643444073</td></tr>\n",
       "</tbody>\n",
       "</table>\n"
      ],
      "text/latex": [
       "A data.frame: 16 × 4\n",
       "\\begin{tabular}{r|llll}\n",
       "  & Size 1 & Size 2 & Size 3 & Size 3-1\\\\\n",
       "  & <dbl> & <dbl> & <dbl> & <dbl>\\\\\n",
       "\\hline\n",
       "\tSkewness 1 - Mean & -0.011062966 & -0.0169392165 & -0.0190303561 & -0.007967390\\\\\n",
       "\tSkewness 1 - T-statistic & -0.565985675 & -0.8860890205 & -0.9960068074 & -2.681568114\\\\\n",
       "\tSkewness 1 - Alpha & -0.007526473 & -0.0148683108 & -0.0154963629 & -0.007969890\\\\\n",
       "\tSkewness 1 - T-statistic (alpha) & -0.398715553 & -0.7704191040 & -0.8189081915 & -2.866074639\\\\\n",
       "\tSkewness 2 - Mean & -0.008153785 & -0.0172371110 & -0.0167796058 & -0.008625821\\\\\n",
       "\tSkewness 2 - T-statistic & -0.419767418 & -0.8194227714 & -0.8066679705 & -2.667218642\\\\\n",
       "\tSkewness 2 - Alpha & -0.007389000 & -0.0132201655 & -0.0147716870 & -0.007382687\\\\\n",
       "\tSkewness 2 - T-statistic (alpha) & -0.397052726 & -0.6506661655 & -0.7532089426 & -2.357571277\\\\\n",
       "\tSkewness 3 - Mean & -0.002490465 & -0.0167912054 & -0.0198752593 & -0.017384794\\\\\n",
       "\tSkewness 3 - T-statistic & -0.115836583 & -0.8279354604 & -1.1129051807 & -3.126325268\\\\\n",
       "\tSkewness 3 - Alpha & -0.003229057 & -0.0139773429 & -0.0186815769 & -0.015452520\\\\\n",
       "\tSkewness 3 - T-statistic (alpha) & -0.161984712 & -0.7540472933 & -1.0319446748 & -3.255052107\\\\\n",
       "\tSkewness 3-1 - Mean &  0.008572501 &  0.0001480111 & -0.0008449032 & -0.009417404\\\\\n",
       "\tSkewness 3-1 - T-statistic &  2.206800692 &  0.0502160088 & -0.2763931788 & -2.093050460\\\\\n",
       "\tSkewness 3-1 - Alpha &  0.004297416 &  0.0008909678 & -0.0031852141 & -0.007482630\\\\\n",
       "\tSkewness 3-1 - T-statistic (alpha) &  1.401569652 &  0.2436820493 & -0.9302418955 & -1.643444073\\\\\n",
       "\\end{tabular}\n"
      ],
      "text/markdown": [
       "\n",
       "A data.frame: 16 × 4\n",
       "\n",
       "| <!--/--> | Size 1 &lt;dbl&gt; | Size 2 &lt;dbl&gt; | Size 3 &lt;dbl&gt; | Size 3-1 &lt;dbl&gt; |\n",
       "|---|---|---|---|---|\n",
       "| Skewness 1 - Mean | -0.011062966 | -0.0169392165 | -0.0190303561 | -0.007967390 |\n",
       "| Skewness 1 - T-statistic | -0.565985675 | -0.8860890205 | -0.9960068074 | -2.681568114 |\n",
       "| Skewness 1 - Alpha | -0.007526473 | -0.0148683108 | -0.0154963629 | -0.007969890 |\n",
       "| Skewness 1 - T-statistic (alpha) | -0.398715553 | -0.7704191040 | -0.8189081915 | -2.866074639 |\n",
       "| Skewness 2 - Mean | -0.008153785 | -0.0172371110 | -0.0167796058 | -0.008625821 |\n",
       "| Skewness 2 - T-statistic | -0.419767418 | -0.8194227714 | -0.8066679705 | -2.667218642 |\n",
       "| Skewness 2 - Alpha | -0.007389000 | -0.0132201655 | -0.0147716870 | -0.007382687 |\n",
       "| Skewness 2 - T-statistic (alpha) | -0.397052726 | -0.6506661655 | -0.7532089426 | -2.357571277 |\n",
       "| Skewness 3 - Mean | -0.002490465 | -0.0167912054 | -0.0198752593 | -0.017384794 |\n",
       "| Skewness 3 - T-statistic | -0.115836583 | -0.8279354604 | -1.1129051807 | -3.126325268 |\n",
       "| Skewness 3 - Alpha | -0.003229057 | -0.0139773429 | -0.0186815769 | -0.015452520 |\n",
       "| Skewness 3 - T-statistic (alpha) | -0.161984712 | -0.7540472933 | -1.0319446748 | -3.255052107 |\n",
       "| Skewness 3-1 - Mean |  0.008572501 |  0.0001480111 | -0.0008449032 | -0.009417404 |\n",
       "| Skewness 3-1 - T-statistic |  2.206800692 |  0.0502160088 | -0.2763931788 | -2.093050460 |\n",
       "| Skewness 3-1 - Alpha |  0.004297416 |  0.0008909678 | -0.0031852141 | -0.007482630 |\n",
       "| Skewness 3-1 - T-statistic (alpha) |  1.401569652 |  0.2436820493 | -0.9302418955 | -1.643444073 |\n",
       "\n"
      ],
      "text/plain": [
       "                                   Size 1       Size 2        Size 3       \n",
       "Skewness 1 - Mean                  -0.011062966 -0.0169392165 -0.0190303561\n",
       "Skewness 1 - T-statistic           -0.565985675 -0.8860890205 -0.9960068074\n",
       "Skewness 1 - Alpha                 -0.007526473 -0.0148683108 -0.0154963629\n",
       "Skewness 1 - T-statistic (alpha)   -0.398715553 -0.7704191040 -0.8189081915\n",
       "Skewness 2 - Mean                  -0.008153785 -0.0172371110 -0.0167796058\n",
       "Skewness 2 - T-statistic           -0.419767418 -0.8194227714 -0.8066679705\n",
       "Skewness 2 - Alpha                 -0.007389000 -0.0132201655 -0.0147716870\n",
       "Skewness 2 - T-statistic (alpha)   -0.397052726 -0.6506661655 -0.7532089426\n",
       "Skewness 3 - Mean                  -0.002490465 -0.0167912054 -0.0198752593\n",
       "Skewness 3 - T-statistic           -0.115836583 -0.8279354604 -1.1129051807\n",
       "Skewness 3 - Alpha                 -0.003229057 -0.0139773429 -0.0186815769\n",
       "Skewness 3 - T-statistic (alpha)   -0.161984712 -0.7540472933 -1.0319446748\n",
       "Skewness 3-1 - Mean                 0.008572501  0.0001480111 -0.0008449032\n",
       "Skewness 3-1 - T-statistic          2.206800692  0.0502160088 -0.2763931788\n",
       "Skewness 3-1 - Alpha                0.004297416  0.0008909678 -0.0031852141\n",
       "Skewness 3-1 - T-statistic (alpha)  1.401569652  0.2436820493 -0.9302418955\n",
       "                                   Size 3-1    \n",
       "Skewness 1 - Mean                  -0.007967390\n",
       "Skewness 1 - T-statistic           -2.681568114\n",
       "Skewness 1 - Alpha                 -0.007969890\n",
       "Skewness 1 - T-statistic (alpha)   -2.866074639\n",
       "Skewness 2 - Mean                  -0.008625821\n",
       "Skewness 2 - T-statistic           -2.667218642\n",
       "Skewness 2 - Alpha                 -0.007382687\n",
       "Skewness 2 - T-statistic (alpha)   -2.357571277\n",
       "Skewness 3 - Mean                  -0.017384794\n",
       "Skewness 3 - T-statistic           -3.126325268\n",
       "Skewness 3 - Alpha                 -0.015452520\n",
       "Skewness 3 - T-statistic (alpha)   -3.255052107\n",
       "Skewness 3-1 - Mean                -0.009417404\n",
       "Skewness 3-1 - T-statistic         -2.093050460\n",
       "Skewness 3-1 - Alpha               -0.007482630\n",
       "Skewness 3-1 - T-statistic (alpha) -1.643444073"
      ]
     },
     "metadata": {},
     "output_type": "display_data"
    }
   ],
   "source": [
    "#Bivariate sort on size and skewness\n",
    "bivariate_sort_size_skewness <- bivariate_sort(size, skewness_data)\n",
    "bivariate_sort_size_skewness"
   ]
  },
  {
   "cell_type": "markdown",
   "metadata": {},
   "source": [
    "### Fama-MacBeth regression"
   ]
  },
  {
   "cell_type": "code",
   "execution_count": 20,
   "metadata": {
    "vscode": {
     "languageId": "r"
    }
   },
   "outputs": [
    {
     "data": {
      "text/html": [
       "<table class=\"dataframe\">\n",
       "<caption>A data.frame: 2 × 2</caption>\n",
       "<thead>\n",
       "\t<tr><th></th><th scope=col>(Intercept)</th><th scope=col>Skewness</th></tr>\n",
       "\t<tr><th></th><th scope=col>&lt;dbl&gt;</th><th scope=col>&lt;dbl&gt;</th></tr>\n",
       "</thead>\n",
       "<tbody>\n",
       "\t<tr><th scope=row>Mean</th><td>-0.03588692</td><td>0.00192652</td></tr>\n",
       "\t<tr><th scope=row>T-statistic</th><td>-1.87553272</td><td>1.08376316</td></tr>\n",
       "</tbody>\n",
       "</table>\n"
      ],
      "text/latex": [
       "A data.frame: 2 × 2\n",
       "\\begin{tabular}{r|ll}\n",
       "  & (Intercept) & Skewness\\\\\n",
       "  & <dbl> & <dbl>\\\\\n",
       "\\hline\n",
       "\tMean & -0.03588692 & 0.00192652\\\\\n",
       "\tT-statistic & -1.87553272 & 1.08376316\\\\\n",
       "\\end{tabular}\n"
      ],
      "text/markdown": [
       "\n",
       "A data.frame: 2 × 2\n",
       "\n",
       "| <!--/--> | (Intercept) &lt;dbl&gt; | Skewness &lt;dbl&gt; |\n",
       "|---|---|---|\n",
       "| Mean | -0.03588692 | 0.00192652 |\n",
       "| T-statistic | -1.87553272 | 1.08376316 |\n",
       "\n"
      ],
      "text/plain": [
       "            (Intercept) Skewness  \n",
       "Mean        -0.03588692 0.00192652\n",
       "T-statistic -1.87553272 1.08376316"
      ]
     },
     "metadata": {},
     "output_type": "display_data"
    }
   ],
   "source": [
    "#Fama-Macbeth for skewness\n",
    "FM_skewness <- fama_macbeth(list(Skewness = skewness_data))\n",
    "FM_skewness"
   ]
  },
  {
   "cell_type": "code",
   "execution_count": 21,
   "metadata": {
    "vscode": {
     "languageId": "r"
    }
   },
   "outputs": [
    {
     "data": {
      "text/html": [
       "<table class=\"dataframe\">\n",
       "<caption>A data.frame: 2 × 4</caption>\n",
       "<thead>\n",
       "\t<tr><th></th><th scope=col>(Intercept)</th><th scope=col>Skewness</th><th scope=col>Size</th><th scope=col>Beta</th></tr>\n",
       "\t<tr><th></th><th scope=col>&lt;dbl&gt;</th><th scope=col>&lt;dbl&gt;</th><th scope=col>&lt;dbl&gt;</th><th scope=col>&lt;dbl&gt;</th></tr>\n",
       "</thead>\n",
       "<tbody>\n",
       "\t<tr><th scope=row>Mean</th><td>-0.01747055</td><td>-0.0006243586</td><td>-0.003488556</td><td>1.282459</td></tr>\n",
       "\t<tr><th scope=row>T-statistic</th><td>-0.97320205</td><td>-0.7715815675</td><td>-4.127038566</td><td>1.783558</td></tr>\n",
       "</tbody>\n",
       "</table>\n"
      ],
      "text/latex": [
       "A data.frame: 2 × 4\n",
       "\\begin{tabular}{r|llll}\n",
       "  & (Intercept) & Skewness & Size & Beta\\\\\n",
       "  & <dbl> & <dbl> & <dbl> & <dbl>\\\\\n",
       "\\hline\n",
       "\tMean & -0.01747055 & -0.0006243586 & -0.003488556 & 1.282459\\\\\n",
       "\tT-statistic & -0.97320205 & -0.7715815675 & -4.127038566 & 1.783558\\\\\n",
       "\\end{tabular}\n"
      ],
      "text/markdown": [
       "\n",
       "A data.frame: 2 × 4\n",
       "\n",
       "| <!--/--> | (Intercept) &lt;dbl&gt; | Skewness &lt;dbl&gt; | Size &lt;dbl&gt; | Beta &lt;dbl&gt; |\n",
       "|---|---|---|---|---|\n",
       "| Mean | -0.01747055 | -0.0006243586 | -0.003488556 | 1.282459 |\n",
       "| T-statistic | -0.97320205 | -0.7715815675 | -4.127038566 | 1.783558 |\n",
       "\n"
      ],
      "text/plain": [
       "            (Intercept) Skewness      Size         Beta    \n",
       "Mean        -0.01747055 -0.0006243586 -0.003488556 1.282459\n",
       "T-statistic -0.97320205 -0.7715815675 -4.127038566 1.783558"
      ]
     },
     "metadata": {},
     "output_type": "display_data"
    }
   ],
   "source": [
    "#Fama-Macbeth for the three sort variables\n",
    "indep_var <- list(Skewness = skewness_data, Size = size, Beta = betas)\n",
    "FM_three_sorts <- fama_macbeth(indep_var)\n",
    "FM_three_sorts"
   ]
  },
  {
   "cell_type": "markdown",
   "metadata": {},
   "source": [
    "## 5. Conclusion"
   ]
  },
  {
   "cell_type": "markdown",
   "metadata": {},
   "source": [
    "## Appendix A"
   ]
  },
  {
   "cell_type": "markdown",
   "metadata": {},
   "source": [
    "### Data preparation"
   ]
  },
  {
   "cell_type": "markdown",
   "metadata": {},
   "source": [
    "We performed the following steps to obtain the final data utilized in our analyses. Firstly, we loaded the data on Adjusted Close prices and Market capitalization which we collected in Homework 1. In addition, we downloaded the Fama-French 3 factors as well as the Momentum factor from [here](https://mba.tuck.dartmouth.edu/pages/faculty/ken.french/data_library.html). The last required piece of data was Liquidity which we accessed at the [website](https://faculty.chicagobooth.edu/lubos-pastor/data) of Ľuboš Pástor."
   ]
  },
  {
   "cell_type": "code",
   "execution_count": null,
   "metadata": {
    "vscode": {
     "languageId": "r"
    }
   },
   "outputs": [],
   "source": [
    "#Loading the data\n",
    "yahoo_data <- readRDS(\"Raw data/list_yahoo.RData\") #Adjusted close prices and volumes\n",
    "market_cap <- readRDS(\"Raw data/market_cap_data.RData\") #Market capitalization\n",
    "fffactors_monthly <- read_csv(\"Raw data/F-F_Research_Data_Factors.CSV\", skip = 2, n_max = 1149) #Need to limit the number of rows since the file contains yearly data as well\n",
    "fffactors_daily <- read_csv(\"Raw data/F-F_Research_Data_Factors_daily.CSV\", skip = 3, n_max = 25210) #Last row is some copyright => skip\n",
    "momentum <- read_csv(\"Raw data/F-F_Momentum_Factor.CSV\", skip = 12, n_max  = 1144, na = c(\"\", \"NA\", -99.99, -999))\n",
    "liquidity <- read.delim(\"Raw data/liq_data_1962_2021.txt\", skip = 10, na = c(\"\", \"NA\", -99.99, -999, -99))"
   ]
  },
  {
   "cell_type": "markdown",
   "metadata": {},
   "source": [
    "Next, we define an auxilliary function which removes empty lines from an xts object (for future use)."
   ]
  },
  {
   "cell_type": "code",
   "execution_count": null,
   "metadata": {
    "vscode": {
     "languageId": "r"
    }
   },
   "outputs": [],
   "source": [
    "#Defining a function to strip an xts object of lines with 0 observations (all NAs)\n",
    "strip_empty_lines <- function(xts_object) {\n",
    "  na_sums <- apply(xts_object, 1, function(x) {sum(is.na(x))})\n",
    "  indic <- na_sums < ncol(xts_object)\n",
    "  return(xts_object[indic])\n",
    "}"
   ]
  },
  {
   "cell_type": "markdown",
   "metadata": {},
   "source": [
    "Then, we extract the Adjusted Close price."
   ]
  },
  {
   "cell_type": "code",
   "execution_count": null,
   "metadata": {
    "vscode": {
     "languageId": "r"
    }
   },
   "outputs": [],
   "source": [
    "#Extracting the Adjusted Close Price\n",
    "daily_adj_close <- lapply(yahoo_data, \"[\", , 6) #The unused argument is not an error, we have to skip it to specify columns"
   ]
  },
  {
   "cell_type": "markdown",
   "metadata": {},
   "source": [
    "In order to calculate the excess returns, we need the market risk premium. Therefore, we extract it from the Fama-French factors data set. We also convert the daily observations to monthly and save the resulting data for future use in the portfolio analysis."
   ]
  },
  {
   "cell_type": "code",
   "execution_count": null,
   "metadata": {
    "vscode": {
     "languageId": "r"
    }
   },
   "outputs": [],
   "source": [
    "#Extracting market risk premium and the risk-free rate\n",
    "fffactors_monthly <- as.data.frame(fffactors_monthly) #Converting from tibble to a data frame\n",
    "fffactors_daily <- as.data.frame(fffactors_daily) #Converting from tibble to a data frame\n",
    "colnames(fffactors_daily)[1] <- \"Date\"\n",
    "colnames(fffactors_monthly)[1] <- \"Date\"\n",
    "fffactors_daily$Date <- as.Date(as.character(fffactors_daily$Date), \"%Y%m%d\") #Creating a date (daily)\n",
    "fffactors_monthly$Date <-  as.Date(paste0(as.character(fffactors_monthly$Date),\"01\"), \"%Y%m%d\") + months(1) - days(1) #Creating a date (end of month)\n",
    "market_prem_daily <- xts(fffactors_daily$`Mkt-RF`, order.by = fffactors_daily$Date)\n",
    "names(market_prem_daily) <- \"Mkt_RF_daily\"\n",
    "market_prem_monthly <- xts(fffactors_monthly$`Mkt-RF`, order.by = fffactors_monthly$Date)\n",
    "names(market_prem_monthly) <- \"Mkt_RF_monthly\"\n",
    "rf_daily <- xts(fffactors_daily$RF, order.by = fffactors_daily$Date)\n",
    "names(rf_daily) <- \"RF_daily\"\n",
    "rf_monthly <- xts(fffactors_monthly$RF, order.by = fffactors_monthly$Date)\n",
    "names(rf_monthly) <- \"RF_monthly\"\n",
    "fffactors_monthly_xts <- as.xts(fffactors_monthly[, 2:5], order.by = fffactors_monthly$Date) #Converting monthly factors to xts\n",
    "fffactors_monthly_xts <- fffactors_monthly_xts[\"2007/\"] #Restricting the period since we do not need older data\n",
    "#saveRDS(fffactors_monthly_xts, file = \"Final data/fffactors_monthly.RData\") #Saving for future use"
   ]
  },
  {
   "cell_type": "markdown",
   "metadata": {},
   "source": [
    "Now we can calculate the daily and monthly excess returns. The former will be used for the calculation of various measures such as beta and skewness. We save the latter for the portfolio analysis"
   ]
  },
  {
   "cell_type": "code",
   "execution_count": null,
   "metadata": {
    "vscode": {
     "languageId": "r"
    }
   },
   "outputs": [],
   "source": [
    "#Calculating excess returns\n",
    "calc_excess_returns <- function(xts_object, daily = T) { #Defining a function to calculate excess returns\n",
    "  if (daily == T) { #For daily returns\n",
    "    result <- dailyReturn(xts_object)\n",
    "    result <- result[2:nrow(result)] #Disregard the first observation (dailyReturn sets it to 0)\n",
    "    risk_free_rate <- rf_daily[index(result)] #Define daily risk free rate\n",
    "  } else { #For monthly returns\n",
    "    result <- monthlyReturn(xts_object)\n",
    "    risk_free_rate <- rf_monthly[index(result)]\n",
    "  }\n",
    "  return(result - risk_free_rate) #Substract risk free rate from the returns\n",
    "}\n",
    "#Daily excess returns\n",
    "daily_returns <- lapply(daily_adj_close, calc_excess_returns) #Applying the function\n",
    "daily_return_names <- gsub(\".Adjusted\", \".DailyReturns\", unlist(lapply(daily_adj_close, names))) #New names\n",
    "for (i in 1:length(daily_returns)) { #Renaming the columns for clarity\n",
    "  names(daily_returns[[i]]) <- daily_return_names[i]\n",
    "}\n",
    "#Monthly excess returns\n",
    "monthly_returns <- lapply(daily_adj_close, calc_excess_returns, daily = F)\n",
    "monthly_return_names <- gsub(\".Adjusted\", \".MonthlyReturns\", unlist(lapply(daily_adj_close, names))) #New names\n",
    "for (i in 1:length(monthly_returns)) { #Renaming the columns for clarity\n",
    "  names(monthly_returns[[i]]) <- monthly_return_names[i]\n",
    "}\n",
    "#Merge monthly excess returns\n",
    "monthly_returns_merged <- do.call(merge.xts, monthly_returns)\n",
    "#saveRDS(monthly_returns_merged, file = \"Final data/monthly_excess_returns.RData\") #Saving for future use"
   ]
  },
  {
   "cell_type": "markdown",
   "metadata": {},
   "source": [
    "In the following step we define a function that calculates a specified monthly measure from past 12 months of daily data. In order to calculate the measure in a given period, we require at least 200 data points which is a standard for 12 months of daily data."
   ]
  },
  {
   "cell_type": "code",
   "execution_count": null,
   "metadata": {
    "vscode": {
     "languageId": "r"
    }
   },
   "outputs": [],
   "source": [
    "#Defining a generic function to calculate a monthly measure from past 12 months of daily data\n",
    "calc_measure <- function(xts_object, func, measure_name) { #Expects a series of monthly returns, the function to calculate the required measure (skewness, beta..) and the name of the measure\n",
    "  result <- xts(rep(NA, nrow(xts_object)), order.by = index(xts_object)) #Empty xts object for the results\n",
    "  names(result) <- gsub(\"MonthlyReturns\", measure_name, names(xts_object)) #Naming the resulting object for clarity \n",
    "  ind <- which(monthly_return_names == names(xts_object)) #Get the rank of the stock in the list (1-250)\n",
    "  for (i in 1:nrow(xts_object)) { #Loop through the rows of the object\n",
    "    end_date <- index(xts_object)[i] #The last day that the daily returns will be used for computations\n",
    "    start_date <- end_date %m-% months(12) #The start date is 12 months back as required\n",
    "    df_to_use <- daily_returns[[ind]][paste0(start_date, \"/\", end_date)] #Extracting the subset we will use for the computation (12 months of daily returns)\n",
    "    if (length(df_to_use) < 200){ #We require at least 200 data points, otherwise we won't calculate\n",
    "      next\n",
    "    } else {\n",
    "      result[i] <- func(na.omit(df_to_use)) #Apply the specified function\n",
    "    }\n",
    "  }\n",
    "  return(result)\n",
    "}"
   ]
  },
  {
   "cell_type": "markdown",
   "metadata": {},
   "source": [
    "We then apply the function on monthly returns for each of the 250 stocks. The first measure we calculate is Skewness (It is the third sorting variable that was assigned to our group). We save the result for future use."
   ]
  },
  {
   "cell_type": "code",
   "execution_count": null,
   "metadata": {
    "vscode": {
     "languageId": "r"
    }
   },
   "outputs": [],
   "source": [
    "#Calculating skewness\n",
    "skewness_data <- lapply(monthly_returns, calc_measure, func = skewness, measure_name = \"Skewness\") #Applying the function (skewness from the moments package)\n",
    "#Merging skewness data\n",
    "skewness_data_merged <- do.call(merge.xts, skewness_data)\n",
    "skewness_data_merged <- strip_empty_lines(skewness_data_merged) #Remove empty lines from data (periods with no data)\n",
    "#saveRDS(skewness_data_merged, file = \"Final data/skewness.RData\") #Saving for future use"
   ]
  },
  {
   "cell_type": "markdown",
   "metadata": {},
   "source": [
    "Another sorting variable that we utilize in the portfolio analysis is Beta. We define a function that estimates beta for a given time series and then we pass it as an argument to the function above."
   ]
  },
  {
   "cell_type": "code",
   "execution_count": null,
   "metadata": {
    "vscode": {
     "languageId": "r"
    }
   },
   "outputs": [],
   "source": [
    "#Calculating betas\n",
    "calc_beta <- function(xts_object) { #Defining a function to calculate the beta (based on a series of daily returns)\n",
    "  model_res <- lm(xts_object ~ market_prem_daily[index(xts_object)]) #Regress market premium on daily excess returns\n",
    "  return(model_res$coefficients[[2]]) #Extract the estimated coefficient on market premium (beta)\n",
    "}\n",
    "#Applying the function\n",
    "betas <- lapply(monthly_returns, calc_measure, func = calc_beta, measure_name = \"Beta\")\n",
    "#Merging the betas\n",
    "betas_merged <- do.call(merge.xts, betas)\n",
    "betas_merged <- strip_empty_lines(betas_merged)\n",
    "#saveRDS(betas_merged, file = \"Final data/betas.RData\") #Saving for future use"
   ]
  },
  {
   "cell_type": "markdown",
   "metadata": {},
   "source": [
    "The last sorting variable we will use is Size. It can be calculated directly from Market Capitalization. We save the data for both of those factors."
   ]
  },
  {
   "cell_type": "code",
   "execution_count": null,
   "metadata": {
    "vscode": {
     "languageId": "r"
    }
   },
   "outputs": [],
   "source": [
    "#Extracting monthly market cap data\n",
    "market_cap_monthly <- lapply(market_cap, to.monthly, OHLC = F, indexAt = \"lastof\") #Converting daily to monthly\n",
    "market_cap_monthly_merged <- do.call(merge.xts, market_cap_monthly) #Merging\n",
    "market_cap_monthly_merged <- strip_empty_lines(market_cap_monthly_merged)\n",
    "#saveRDS(market_cap_monthly_merged, file = \"Final data/market_cap_monthly.RData\") #Saving for future use\n",
    "\n",
    "#Calculating size\n",
    "size <- log(market_cap_monthly_merged)\n",
    "names(size) <- gsub(\".Adjusted\", \".Size\", unlist(lapply(daily_adj_close, names))) #New names\n",
    "size <- as.xts(apply(size, 2, function(x) {ifelse(is.finite(x), x, NA)}), order.by = index(size)) #Replace -Inf with NA\n",
    "size <- strip_empty_lines(size) #Remove empty rows\n",
    "#saveRDS(size, file = \"Final data/size.RData\") #Saving for future use"
   ]
  },
  {
   "cell_type": "markdown",
   "metadata": {},
   "source": [
    "We also extract the factors Momentum and Liquidity which are essential for the calculation of $\\alpha$."
   ]
  },
  {
   "cell_type": "code",
   "execution_count": null,
   "metadata": {
    "vscode": {
     "languageId": "r"
    }
   },
   "outputs": [],
   "source": [
    "#Extracting momentum\n",
    "momentum <- as.data.frame(momentum)\n",
    "colnames(momentum)[1] <- \"Date\"\n",
    "momentum$Date <-  as.Date(paste0(as.character(momentum$Date[1]),\"01\"), \"%Y%m%d\") + months(1) - days(1) #Creating a date (end of month)\n",
    "momentum_xts <- xts(momentum[, 2], order.by = momentum$Date) #Converting to xts\n",
    "names(momentum_xts) <- \"Momentum\" #Renaming\n",
    "momentum_xts <- momentum_xts[\"2007/\"] #Restricting the period\n",
    "#saveRDS(momentum_xts, \"Final data/momentum.RData\") #Saving for future use\n",
    "\n",
    "#Extracting liquidity\n",
    "colnames(liquidity)[1] <- \"Date\"\n",
    "liquidity$Date <-  as.Date(paste0(as.character(liquidity$Date),\"01\"), \"%Y%m%d\") + months(1) - days(1) #Creating a date (end of month)\n",
    "liquidity_xts <- xts(liquidity[, 4], order.by = liquidity$Date) #Converting to xts\n",
    "names(liquidity_xts) <- \"Liquidity\" #Renaming\n",
    "liquidity_xts <- liquidity_xts[\"2007/\"] #Restricting the period\n",
    "#saveRDS(liquidity_xts, \"Final data/liquidity.RData\") #Saving for future use"
   ]
  },
  {
   "cell_type": "markdown",
   "metadata": {},
   "source": [
    "## Appendix B"
   ]
  }
 ],
 "metadata": {
  "kernelspec": {
   "display_name": "R",
   "language": "R",
   "name": "ir"
  },
  "language_info": {
   "codemirror_mode": "r",
   "file_extension": ".r",
   "mimetype": "text/x-r-source",
   "name": "R",
   "pygments_lexer": "r",
   "version": "4.2.0"
  },
  "orig_nbformat": 4
 },
 "nbformat": 4,
 "nbformat_minor": 2
}
