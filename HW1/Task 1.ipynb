{
 "cells": [
  {
   "cell_type": "markdown",
   "metadata": {},
   "source": [
    "# JEM092 Asset Pricing - Homework 1"
   ]
  },
  {
   "cell_type": "markdown",
   "metadata": {},
   "source": [
    "### Group 82780095"
   ]
  },
  {
   "cell_type": "markdown",
   "metadata": {},
   "source": [
    "Petr Dvořáček, Jan Kubal, Matyáš Mattanelli"
   ]
  },
  {
   "cell_type": "markdown",
   "metadata": {},
   "source": [
    "---"
   ]
  },
  {
   "cell_type": "markdown",
   "metadata": {},
   "source": [
    "## Task 1"
   ]
  },
  {
   "cell_type": "code",
   "execution_count": null,
   "metadata": {
    "vscode": {
     "languageId": "r"
    }
   },
   "outputs": [],
   "source": [
    "#Loading the necessary libraries\n",
    "suppressPackageStartupMessages({\n",
    "    library(quantmod)\n",
    "})"
   ]
  },
  {
   "cell_type": "code",
   "execution_count": null,
   "metadata": {
    "vscode": {
     "languageId": "r"
    }
   },
   "outputs": [],
   "source": [
    "#Loading the assigned csv file\n",
    "tickers_to_download <- read.csv(\"data_HW1/82780095_data_download.csv\")\n",
    "no_of_tickers <- nrow(tickers_to_download) #Storing the number of tickers for future use"
   ]
  },
  {
   "cell_type": "code",
   "execution_count": null,
   "metadata": {
    "vscode": {
     "languageId": "r"
    }
   },
   "outputs": [],
   "source": [
    "#Downloading the data from Yahoo Finance\n",
    "data_list <- vector(\"list\", no_of_tickers) #Initializing an empty list for the data\n",
    "options(\"getSymbols.warning4.0\"=FALSE) #Command to prevent an annoying message from appearing\n",
    "for (i in 1:no_of_tickers) { #Looping through the tickers\n",
    "    data_list[[i]] <- getSymbols(tickers_to_download[i, 2], src=\"yahoo\", auto.assign = F, from = \"2007-01-01\", to = \"2022-03-01\")\n",
    "}"
   ]
  },
  {
   "cell_type": "code",
   "execution_count": null,
   "metadata": {
    "vscode": {
     "languageId": "r"
    }
   },
   "outputs": [],
   "source": [
    "#Checking that we have adjusted close price and volume in appropriate columns for each ticker\n",
    "check_col_name <- function(ticker_data, pattern, column_no) { #Defining a function to check if a column name matches a pattern\n",
    "    ifelse(strsplit(names(ticker_data)[column_no], \"\\\\.\")[[1]][2] == pattern, return(T), return(F)) \n",
    "}\n",
    "#Applying the function on all tickers for both Volume and Adjusted price\n",
    "print(paste(\"Volume in the 5th column: \", sum(unlist(lapply(data_list, check_col_name, pattern = \"Volume\", column_no = 5))), sep = \"\"), quote = F)\n",
    "print(paste(\"Adjusted Close Price in the 6th column: \", sum(unlist(lapply(data_list, check_col_name, pattern = \"Adjusted\", column_no = 6))), sep = \"\"), quote = F)"
   ]
  },
  {
   "cell_type": "code",
   "execution_count": null,
   "metadata": {
    "vscode": {
     "languageId": "r"
    }
   },
   "outputs": [],
   "source": [
    "#Merging the available data into a single xts object\n",
    "merged_data <- merge.xts(data_list[[1]][, 5:6], data_list[[2]][, 5:6]) #Initial merge, adjusted close price and volume are in the 5th and 6th columns, respectively\n",
    "for (iter in 3:no_of_tickers) { #Loop through the rest of the tickers and append each to the merged object\n",
    "    merged_data <- merge.xts(merged_data, data_list[[iter]][, 5:6])\n",
    "}"
   ]
  },
  {
   "cell_type": "code",
   "execution_count": null,
   "metadata": {
    "vscode": {
     "languageId": "r"
    }
   },
   "outputs": [],
   "source": [
    "#Checking that the number columns is correct\n",
    "ncol(merged_data) == no_of_tickers * 2 #Two columns for each ticker"
   ]
  },
  {
   "cell_type": "code",
   "execution_count": null,
   "metadata": {
    "vscode": {
     "languageId": "r"
    }
   },
   "outputs": [],
   "source": [
    "#Initializing an empty matrix for the data\n",
    "dates <- seq(from = as.Date(\"2007-01-01\"), to = as.Date(\"2022-02-28\"), by = \"day\") #Storing the date sequence\n",
    "df <- matrix(nrow = length(dates*no_of_tickers), ncol = 6) #Empty matrix with a row for each firm/date combination\n",
    "colnames(df) <- c(\"Firm\", \"Date\", \"Adj_Close_Price\", \"Volume\", \"Market_Cap\", \"BV_per_Share\")\n",
    "df$Firm <- rep(tickers_to_download[, 2], length(dates))\n",
    "df$Date <- rep(dates, no_of_tickers)"
   ]
  }
 ],
 "metadata": {
  "kernelspec": {
   "display_name": "R",
   "language": "R",
   "name": "ir"
  },
  "language_info": {
   "name": "R"
  },
  "orig_nbformat": 4
 },
 "nbformat": 4,
 "nbformat_minor": 2
}
