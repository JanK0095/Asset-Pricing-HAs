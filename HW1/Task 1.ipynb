{
 "cells": [
  {
   "cell_type": "markdown",
   "metadata": {},
   "source": [
    "# JEM092 Asset Pricing - Homework 1"
   ]
  },
  {
   "cell_type": "markdown",
   "metadata": {},
   "source": [
    "### Group 82780095"
   ]
  },
  {
   "cell_type": "markdown",
   "metadata": {},
   "source": [
    "Petr Dvořáček, Jan Kubal, Matyáš Mattanelli"
   ]
  },
  {
   "cell_type": "markdown",
   "metadata": {},
   "source": [
    "---"
   ]
  },
  {
   "cell_type": "markdown",
   "metadata": {},
   "source": [
    "## Task 1"
   ]
  },
  {
   "cell_type": "code",
   "execution_count": 13,
   "metadata": {},
   "outputs": [],
   "source": [
    "#Loading the necessary libraries\n",
    "suppressPackageStartupMessages({\n",
    "    library(quantmod)\n",
    "})\n"
   ]
  },
  {
   "cell_type": "code",
   "execution_count": 10,
   "metadata": {},
   "outputs": [],
   "source": [
    "#Loading the assigned csv file\n",
    "tickers_to_download <- read.csv(\"data_HW1/82780095_data_download.csv\")\n",
    "no_of_tickers <- nrow(tickers_to_download) #Storing the number of tickers for future use"
   ]
  },
  {
   "cell_type": "code",
   "execution_count": null,
   "metadata": {},
   "outputs": [],
   "source": [
    "#Downloading the data for Yahoo Finance\n",
    "data_list <- vector(\"list\", no_of_tickers) #Initializing an empty list for the data\n",
    "for (i in 1:no_of_tickers) { \n",
    "    data_list[[i]] <- getSymbols(tickers_to_download[i, 2], src=\"yahoo\", auto.assign = F, from = \"2007-01-01\", to = \"2022-02-28\")\n",
    "}"
   ]
  },
  {
   "cell_type": "code",
   "execution_count": null,
   "metadata": {},
   "outputs": [],
   "source": [
    "#Initializing an empty matrix for the data\n",
    "dates <- seq(from = as.Date(\"2007-01-01\"), to = as.Date(\"2022-02-28\"), by = \"day\")\n",
    "df <- matrix(nrow = length(dates), ncol = 6)\n",
    "colnames(df) <- c(\"Firm\", \"Date\", \"Adj_Close_Price\", \"Volume\", \"Market_Cap\", \"BV_per_Share\")\n",
    "df$Firm <- rep(tickers_to_download[, 1], length(dates))\n",
    "df$Date <- dates"
   ]
  },
  {
   "cell_type": "code",
   "execution_count": null,
   "metadata": {},
   "outputs": [],
   "source": []
  }
 ],
 "metadata": {
  "kernelspec": {
   "display_name": "R",
   "language": "R",
   "name": "ir"
  },
  "language_info": {
   "codemirror_mode": "r",
   "file_extension": ".r",
   "mimetype": "text/x-r-source",
   "name": "R",
   "pygments_lexer": "r",
   "version": "4.1.2"
  },
  "orig_nbformat": 4
 },
 "nbformat": 4,
 "nbformat_minor": 2
}
