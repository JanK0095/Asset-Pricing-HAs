{
 "cells": [
  {
   "cell_type": "markdown",
   "metadata": {},
   "source": [
    "# JEM092 Asset Pricing - Homework 1"
   ]
  },
  {
   "cell_type": "markdown",
   "metadata": {},
   "source": [
    "### Group 82780095"
   ]
  },
  {
   "cell_type": "markdown",
   "metadata": {},
   "source": [
    "Petr Dvořáček, Jan Kubal, Matyáš Mattanelli"
   ]
  },
  {
   "cell_type": "markdown",
   "metadata": {},
   "source": [
    "---"
   ]
  },
  {
   "cell_type": "markdown",
   "metadata": {},
   "source": [
    "## Task 1"
   ]
  },
  {
   "cell_type": "code",
   "execution_count": 7,
   "metadata": {
    "vscode": {
     "languageId": "r"
    }
   },
   "outputs": [],
   "source": [
    "#Loading the necessary libraries\n",
    "suppressPackageStartupMessages({\n",
    "    library(quantmod) #getSymbols function\n",
    "    library(rvest) #Web scraping\n",
    "    library(stringr) #Regular expressions\n",
    "    library(xts) #Managing xts objects\n",
    "    library(V8) #Evaluating html variables\n",
    "    library(PortfolioAnalytics) #GMVP and efficient frontier\n",
    "    library(ROI.plugin.glpk) #Portfolio optimization\n",
    "    library(ROI.plugin.quadprog) #Portfolio optimization\n",
    "})"
   ]
  },
  {
   "cell_type": "code",
   "execution_count": 8,
   "metadata": {
    "vscode": {
     "languageId": "r"
    }
   },
   "outputs": [],
   "source": [
    "#Loading the assigned csv file\n",
    "tickers_to_download <- read.csv(\"data_HW1/82780095_data_download.csv\")\n",
    "no_of_tickers <- nrow(tickers_to_download) #Storing the number of tickers for future use"
   ]
  },
  {
   "cell_type": "markdown",
   "metadata": {},
   "source": [
    "#### Adjusted close price and Volume"
   ]
  },
  {
   "cell_type": "code",
   "execution_count": 9,
   "metadata": {
    "vscode": {
     "languageId": "r"
    }
   },
   "outputs": [],
   "source": [
    "#Downloading the data from Yahoo Finance (runtime 3m 15s)\n",
    "yahoo_data_list <- vector(\"list\", no_of_tickers) #Initializing an empty list for the data\n",
    "options(\"getSymbols.warning4.0\"=FALSE) #Command to prevent an annoying message from appearing\n",
    "for (i in 1:no_of_tickers) { #Looping through the tickers\n",
    "    yahoo_data_list[[i]] <- getSymbols(tickers_to_download[i, 2], src=\"yahoo\", auto.assign = F, from = \"2007-01-01\", to = \"2022-03-01\")\n",
    "}"
   ]
  },
  {
   "cell_type": "code",
   "execution_count": 10,
   "metadata": {
    "vscode": {
     "languageId": "r"
    }
   },
   "outputs": [
    {
     "name": "stdout",
     "output_type": "stream",
     "text": [
      "[1] Volume in the 5th column: 250\n",
      "[1] Adjusted Close Price in the 6th column: 250\n"
     ]
    }
   ],
   "source": [
    "#Checking that we have adjusted close price and volume in appropriate columns for each ticker\n",
    "check_col_name <- function(ticker_data, pattern, column_no) { #Defining a function to check if a column name matches a pattern\n",
    "    ifelse(strsplit(names(ticker_data)[column_no], \"\\\\.\")[[1]][2] == pattern, return(T), return(F)) \n",
    "}\n",
    "#Applying the function on all tickers for both Volume and Adjusted price\n",
    "print(paste(\"Volume in the 5th column: \", sum(unlist(lapply(yahoo_data_list, check_col_name, pattern = \"Volume\", column_no = 5))), sep = \"\"), quote = F)\n",
    "print(paste(\"Adjusted Close Price in the 6th column: \", sum(unlist(lapply(yahoo_data_list, check_col_name, pattern = \"Adjusted\", column_no = 6))), sep = \"\"), quote = F)"
   ]
  },
  {
   "cell_type": "code",
   "execution_count": 11,
   "metadata": {
    "vscode": {
     "languageId": "r"
    }
   },
   "outputs": [],
   "source": [
    "#Merging the available data into a single xts object\n",
    "merged_yahoo_data <- merge.xts(yahoo_data_list[[1]][, 5:6], yahoo_data_list[[2]][, 5:6]) #Initial merge, adjusted close price and volume are in the 5th and 6th columns, respectively\n",
    "for (iter in 3:no_of_tickers) { #Loop through the rest of the tickers and append each to the merged object\n",
    "    merged_yahoo_data <- merge.xts(merged_yahoo_data, yahoo_data_list[[iter]][, 5:6])\n",
    "}"
   ]
  },
  {
   "cell_type": "code",
   "execution_count": 12,
   "metadata": {
    "vscode": {
     "languageId": "r"
    }
   },
   "outputs": [
    {
     "data": {
      "text/html": [
       "TRUE"
      ],
      "text/latex": [
       "TRUE"
      ],
      "text/markdown": [
       "TRUE"
      ],
      "text/plain": [
       "[1] TRUE"
      ]
     },
     "metadata": {},
     "output_type": "display_data"
    }
   ],
   "source": [
    "#Checking that the number of columns is correct\n",
    "ncol(merged_yahoo_data) == no_of_tickers * 2 #Two columns for each ticker"
   ]
  },
  {
   "cell_type": "code",
   "execution_count": 13,
   "metadata": {
    "vscode": {
     "languageId": "r"
    }
   },
   "outputs": [],
   "source": [
    "#Exporting to csv just in case\n",
    "#write.zoo(merged_yahoo_data, file = \"adjusted_and_volume.csv\", sep = \",\")"
   ]
  },
  {
   "cell_type": "markdown",
   "metadata": {},
   "source": [
    "#### Book value per share"
   ]
  },
  {
   "cell_type": "code",
   "execution_count": 14,
   "metadata": {
    "vscode": {
     "languageId": "r"
    }
   },
   "outputs": [],
   "source": [
    "#Getting the urls (runtime 1m47s)\n",
    "urls_bv <- rep(NA, no_of_tickers) #Empty vector for the urls\n",
    "for (iter in 1:no_of_tickers) { #Loop through all the tickers\n",
    "    patt <- curlGetHeaders(paste0(\"https://www.macrotrends.net/stocks/charts/\", tickers_to_download[iter, 2]))[5] #Save the response\n",
    "    name_and_ticker <- str_extract(patt, paste0(tickers_to_download[iter, 2], \"/.*/\")) #Extract the relevant pattern from the string\n",
    "    urls_bv[iter] <- paste0(\"https://www.macrotrends.net/stocks/charts/\", name_and_ticker, \"price-book\") #Complete the url and save it\n",
    "}"
   ]
  },
  {
   "cell_type": "code",
   "execution_count": 15,
   "metadata": {
    "vscode": {
     "languageId": "r"
    }
   },
   "outputs": [],
   "source": [
    "#Downloading the data (runtime 3m6s)\n",
    "bv_per_share_data <- vector(\"list\", no_of_tickers) #Empty list to store the data\n",
    "for (iter in 1:no_of_tickers) { #Loop through all tickers\n",
    "  if (tickers_to_download[iter, 2] == \"LUMN\") {\n",
    "    next #Temporarily skipping one ticker since the site does not exist\n",
    "  }\n",
    "  html_request <- read_html(urls_bv[iter]) #Sending the request\n",
    "  trs <- html_request %>% \n",
    "    html_element(\"table\") %>% #Finding the table\n",
    "    html_element(\"tbody\") %>% #FInding the body of the table\n",
    "    html_elements(\"tr\") #Finding the rows of the table\n",
    "  dates <- rep(NA, length(trs)) #Empty vector to store the dates\n",
    "  values <- rep(NA, length(trs)) #Empty vector to store the values\n",
    "  for (iter2 in 1:length(trs)) { #Looping through all the rows\n",
    "    tds <- html_elements(trs[iter2], \"td\") #Extracting the cells within each row\n",
    "    dates[iter2] <- html_text(tds)[1] #First cell is the date\n",
    "    values[iter2] <- as.numeric(gsub(\"\\\\$\",\"\",html_text(tds)[3])) #Third cell is book value per share\n",
    "  }\n",
    "  dates <- as.Date(dates) #Convert dates from string to Date format\n",
    "  xts_object <- xts(x = values, order.by = dates) #Create an xts object from the results\n",
    "  names(xts_object) <- paste0(tickers_to_download[iter, 2], \".BV_per_share\") #Name it\n",
    "  bv_per_share_data[[iter]] <-  xts_object #Store the results\n",
    "}"
   ]
  },
  {
   "cell_type": "code",
   "execution_count": 16,
   "metadata": {
    "vscode": {
     "languageId": "r"
    }
   },
   "outputs": [],
   "source": [
    "#Merging the individual tickers together\n",
    "merged_bv_per_share_data <- merge.xts(bv_per_share_data[[1]], bv_per_share_data[[2]]) #Initial merge\n",
    "for (iter in 3:no_of_tickers) {\n",
    "    if (iter==72) {\n",
    "        next #Temporarily skipping LUMN\n",
    "    }\n",
    "    merged_bv_per_share_data <- merge.xts(merged_bv_per_share_data, bv_per_share_data[[iter]])\n",
    "}"
   ]
  },
  {
   "cell_type": "code",
   "execution_count": 17,
   "metadata": {
    "vscode": {
     "languageId": "r"
    }
   },
   "outputs": [],
   "source": [
    "#Exporting to csv just in case\n",
    "#write.zoo(merged_bv_per_share_data, file = \"bv_per_share.csv\", sep = \",\")"
   ]
  },
  {
   "cell_type": "markdown",
   "metadata": {},
   "source": [
    "#### Market capitalization"
   ]
  },
  {
   "cell_type": "code",
   "execution_count": 18,
   "metadata": {
    "vscode": {
     "languageId": "r"
    }
   },
   "outputs": [],
   "source": [
    "#Downloading the data (runtime 1m34s)\n",
    "market_cap_data <- vector(\"list\", no_of_tickers)\n",
    "for (iter in 1:no_of_tickers) { #Looping through all tickers\n",
    "    html_request <- read_html(paste0(\"https://www.macrotrends.net/assets/php/market_cap.php?t=\", tickers_to_download[iter, 2])) #Sending a request\n",
    "    script <- html_request %>% #Extracting the relevant element and converting it to text\n",
    "        html_element(\"body\") %>%\n",
    "        html_element(\"script\") %>%\n",
    "        html_text(trim = T)\n",
    "    ctx <- v8() #The extracted text contains a variable which can be evaluated using JavaScript so we initialize an execution environment\n",
    "    ctx$eval(str_extract(script,\".*]\")) #Evaluating the text. The function inside extracts the part that is relevant for us\n",
    "    extracted_data <- ctx$get(\"chartData\") #Extracting the variable (returns a data frame)\n",
    "    xts_object <- xts(x = extracted_data[, 2], order.by = as.Date(extracted_data[, 1])) #Saving as an xts object\n",
    "    names(xts_object) <- paste0(tickers_to_download[iter,2], \".Market_Cap\") #Renaming\n",
    "    market_cap_data[[iter]] <- xts_object #Storing\n",
    "}"
   ]
  },
  {
   "cell_type": "code",
   "execution_count": 19,
   "metadata": {
    "vscode": {
     "languageId": "r"
    }
   },
   "outputs": [],
   "source": [
    "#Merging the data\n",
    "merged_market_cap_data <- merge.xts(market_cap_data[[1]], market_cap_data[[2]]) #Initial merge\n",
    "for (iter in 3:no_of_tickers) { #Looping through all the tickers\n",
    "    merged_market_cap_data <- merge.xts(merged_market_cap_data, market_cap_data[[iter]])\n",
    "}"
   ]
  },
  {
   "cell_type": "code",
   "execution_count": 20,
   "metadata": {
    "vscode": {
     "languageId": "r"
    }
   },
   "outputs": [],
   "source": [
    "#Exporting to csv just in case\n",
    "#write.zoo(merged_market_cap_data, file = \"market_cap.csv\", sep = \",\")"
   ]
  },
  {
   "cell_type": "markdown",
   "metadata": {},
   "source": [
    "#### Merging it all together"
   ]
  },
  {
   "cell_type": "code",
   "execution_count": 21,
   "metadata": {
    "vscode": {
     "languageId": "r"
    }
   },
   "outputs": [],
   "source": [
    "#Merging adjusted prices, volume, book value per share, and market capitalization\n",
    "semifinal_dataset <- merge.xts(merged_yahoo_data, merged_bv_per_share_data, merged_market_cap_data)"
   ]
  },
  {
   "cell_type": "code",
   "execution_count": 22,
   "metadata": {
    "vscode": {
     "languageId": "r"
    }
   },
   "outputs": [],
   "source": [
    "#Exporting to csv\n",
    "write.zoo(semifinal_dataset, file = \"semifinal_dataset.csv\", sep = \",\")"
   ]
  },
  {
   "cell_type": "markdown",
   "metadata": {},
   "source": [
    "## Task 2"
   ]
  },
  {
   "cell_type": "code",
   "execution_count": 23,
   "metadata": {
    "vscode": {
     "languageId": "r"
    }
   },
   "outputs": [],
   "source": [
    "#Loading the 20 tickers\n",
    "tickers_20 <- read.csv(\"data_HW1/82780095_rand_download.csv\")"
   ]
  },
  {
   "cell_type": "code",
   "execution_count": 24,
   "metadata": {
    "vscode": {
     "languageId": "r"
    }
   },
   "outputs": [],
   "source": [
    "#Finding the row number for each ticker\n",
    "iters <- rep(NA, 20)\n",
    "for (i in 1:20) {   \n",
    "    iters[i] <- tickers_to_download[tickers_to_download[, 2] == tickers_20[i, 2], 1]\n",
    "}"
   ]
  },
  {
   "cell_type": "code",
   "execution_count": 227,
   "metadata": {
    "vscode": {
     "languageId": "r"
    }
   },
   "outputs": [],
   "source": [
    "#Getting data for the relevant tickers and adjusting it\n",
    "task2_data <- vector(\"list\", 20) #Empty list for the data\n",
    "for (i in 1:20) { #Looping through the tickers\n",
    "    task2_data[[i]] <- to.monthly(yahoo_data_list[[iters[i]]][\"2014-12/\"], name = tickers_20[i, 2])[, 6] #Extracting data from 2015 and later and then converting it to monthly. Keeping only the Adjusted price \n",
    "}"
   ]
  },
  {
   "cell_type": "code",
   "execution_count": 117,
   "metadata": {
    "vscode": {
     "languageId": "r"
    }
   },
   "outputs": [],
   "source": [
    "#Converting to returns and merging into a single xts object\n",
    "task2_data_returns <- vector(\"list\", 20)\n",
    "for (i in 1:20) {\n",
    "    task2_data_returns[[i]] <- (task2_data[[i]] - lag(task2_data[[i]]))/lag(task2_data[[i]])\n",
    "}\n",
    "#Merging\n",
    "final_returns <- merge.xts(task2_data_returns[[1]], task2_data_returns[[2]])\n",
    "for (i in 3:20) {\n",
    "    final_returns <- merge.xts(final_returns, task2_data_returns[[i]])\n",
    "}\n",
    "names(final_returns) <- gsub(\".Adjusted\", \"\", names(final_returns)) #Renaming for conciseness"
   ]
  },
  {
   "cell_type": "code",
   "execution_count": 119,
   "metadata": {
    "vscode": {
     "languageId": "r"
    }
   },
   "outputs": [],
   "source": [
    "final_returns <- final_returns[\"2015/\"]"
   ]
  },
  {
   "cell_type": "code",
   "execution_count": 148,
   "metadata": {
    "vscode": {
     "languageId": "r"
    }
   },
   "outputs": [],
   "source": [
    "#Calculating the Global Minimum Variance Portfolio\n",
    "pspec <- portfolio.spec(assets = tickers_20[, 2]) #Specifying the stock names\n",
    "initial_portfolio <- add.constraint(portfolio = pspec, type = \"full_investment\") #Adding a constraint\n",
    "minvar <- add.objective(portfolio = initial_portfolio, type = \"risk\", name = \"var\") #Adding an objective\n",
    "opt_minvar <- optimize.portfolio(R = final_returns, portfolio = minvar, optimize_method = \"ROI\") #Optimizing"
   ]
  },
  {
   "cell_type": "code",
   "execution_count": 149,
   "metadata": {
    "vscode": {
     "languageId": "r"
    }
   },
   "outputs": [
    {
     "name": "stdout",
     "output_type": "stream",
     "text": [
      "***********************************\n",
      "PortfolioAnalytics Optimization\n",
      "***********************************\n",
      "\n",
      "Call:\n",
      "optimize.portfolio(R = final_returns, portfolio = minvar, optimize_method = \"ROI\")\n",
      "\n",
      "Optimal Weights:\n",
      "     PM    AAPL      KO     WAT    BKNG     AZO    ULTA     MGM     PNR    IDXX \n",
      " 0.0032  0.0733  0.3178 -0.0374  0.0008  0.0775  0.0237 -0.1976  0.0213  0.1129 \n",
      "    TFC     AVY    HSIC    EXPE    INTC     ADI     OMC     DTE     RHI     AMP \n",
      " 0.2216  0.0964 -0.0243 -0.0496  0.1628  0.0571  0.1814  0.1707 -0.0688 -0.1430 \n",
      "\n",
      "Objective Measure:\n",
      " StdDev \n",
      "0.02933 \n",
      "\n",
      "\n",
      "\n"
     ]
    }
   ],
   "source": [
    "print(opt_minvar)"
   ]
  },
  {
   "cell_type": "code",
   "execution_count": 123,
   "metadata": {
    "vscode": {
     "languageId": "r"
    }
   },
   "outputs": [],
   "source": [
    "#Constructing portfolios A and B\n",
    "pspecA <- portfolio.spec(assets = tickers_20[1:10, 2])\n",
    "pspecB <- portfolio.spec(assets = tickers_20[11:20, 2])\n",
    "portfolioA <- add.constraint(portfolio = pspecA, type = \"box\", min = min(opt_minvar$weights[1:10]), max = 1)\n",
    "portfolioB <- add.constraint(portfolio = pspecB, type = \"box\", min = min(opt_minvar$weights[11:20]), max = 1)"
   ]
  },
  {
   "cell_type": "code",
   "execution_count": 127,
   "metadata": {
    "vscode": {
     "languageId": "r"
    }
   },
   "outputs": [],
   "source": [
    "#saving subsets of returns\n",
    "final_returnsA <- final_returns[, 1:10]\n",
    "final_returnsB <- final_returns[, 11:20]"
   ]
  },
  {
   "cell_type": "code",
   "execution_count": 131,
   "metadata": {
    "vscode": {
     "languageId": "r"
    }
   },
   "outputs": [],
   "source": [
    "#Creating the efficient frontier\n",
    "eff_front_A <- create.EfficientFrontier(R = final_returnsA, portfolio = portfolioA, type = 'mean-var')\n",
    "eff_front_B <- create.EfficientFrontier(R = final_returnsB, portfolio = portfolioB, type = 'mean-var')"
   ]
  },
  {
   "cell_type": "code",
   "execution_count": 182,
   "metadata": {
    "vscode": {
     "languageId": "r"
    }
   },
   "outputs": [
    {
     "data": {
      "image/png": "[encoded data removed]",
      "text/plain": [
       "Plot with title \"Efficient Frontier\""
      ]
     },
     "metadata": {
      "image/png": {
       "height": 420,
       "width": 420
      }
     },
     "output_type": "display_data"
    },
    {
     "data": {
      "image/png": "[encoded data removed]",
      "text/plain": [
       "Plot with title \"Efficient Frontier\""
      ]
     },
     "metadata": {
      "image/png": {
       "height": 420,
       "width": 420
      }
     },
     "output_type": "display_data"
    }
   ],
   "source": [
    "#Plotting the Efficient Frontier\n",
    "\n",
    "chart.EfficientFrontier(eff_front_A, match.col = 'StdDev', type = 'l', tangent.line = FALSE, rf = NULL)\n",
    "chart.EfficientFrontier(eff_front_B, match.col = 'StdDev', type = 'l', tangent.line = FALSE, rf = NULL)\n"
   ]
  },
  {
   "cell_type": "code",
   "execution_count": 191,
   "metadata": {
    "vscode": {
     "languageId": "r"
    }
   },
   "outputs": [],
   "source": [
    "AB_comb <- combine.portfolios(list(portfolioA, portfolioB))"
   ]
  },
  {
   "cell_type": "code",
   "execution_count": 192,
   "metadata": {
    "vscode": {
     "languageId": "r"
    }
   },
   "outputs": [
    {
     "ename": "ERROR",
     "evalue": "Error in chart.EfficientFrontierOverlay(R = final_returns, portfolio_list = AB_comb, : formal argument \"type\" matched by multiple actual arguments\n",
     "output_type": "error",
     "traceback": [
      "Error in chart.EfficientFrontierOverlay(R = final_returns, portfolio_list = AB_comb, : formal argument \"type\" matched by multiple actual arguments\nTraceback:\n"
     ]
    }
   ],
   "source": [
    "chart.EfficientFrontierOverlay(R = final_returns, portfolio_list = AB_comb, type = c('mean-var', 'mean-var'),# type = 'mean-var',\n",
    "                               match.col = 'StdDev', type = 'l', tangent.line = FALSE, rf = NULL, col = c(\"black\", \"red\"))"
   ]
  },
  {
   "cell_type": "markdown",
   "metadata": {},
   "source": [
    "## Task 3"
   ]
  },
  {
   "cell_type": "code",
   "execution_count": 198,
   "metadata": {
    "vscode": {
     "languageId": "r"
    }
   },
   "outputs": [
    {
     "name": "stdout",
     "output_type": "stream",
     "text": [
      "  [1] \"MDLZ.Volume\"        \"MDLZ.Adjusted\"      \"NRG.Volume\"        \n",
      "  [4] \"NRG.Adjusted\"       \"IT.Volume\"          \"IT.Adjusted\"       \n",
      "  [7] \"NTAP.Volume\"        \"NTAP.Adjusted\"      \"XRAY.Volume\"       \n",
      " [10] \"XRAY.Adjusted\"      \"MPWR.Volume\"        \"MPWR.Adjusted\"     \n",
      " [13] \"AMP.Volume\"         \"AMP.Adjusted\"       \"LMT.Volume\"        \n",
      " [16] \"LMT.Adjusted\"       \"URI.Volume\"         \"URI.Adjusted\"      \n",
      " [19] \"LKQ.Volume\"         \"LKQ.Adjusted\"       \"PNR.Volume\"        \n",
      " [22] \"PNR.Adjusted\"       \"FRT.Volume\"         \"FRT.Adjusted\"      \n",
      " [25] \"EA.Volume\"          \"EA.Adjusted\"        \"CCI.Volume\"        \n",
      " [28] \"CCI.Adjusted\"       \"RF.Volume\"          \"RF.Adjusted\"       \n",
      " [31] \"WEC.Volume\"         \"WEC.Adjusted\"       \"WY.Volume\"         \n",
      " [34] \"WY.Adjusted\"        \"UPS.Volume\"         \"UPS.Adjusted\"      \n",
      " [37] \"O.Volume\"           \"O.Adjusted\"         \"SBAC.Volume\"       \n",
      " [40] \"SBAC.Adjusted\"      \"ISRG.Volume\"        \"ISRG.Adjusted\"     \n",
      " [43] \"REG.Volume\"         \"REG.Adjusted\"       \"PM.Volume\"         \n",
      " [46] \"PM.Adjusted\"        \"CSCO.Volume\"        \"CSCO.Adjusted\"     \n",
      " [49] \"MRO.Volume\"         \"MRO.Adjusted\"       \"DG.Volume\"         \n",
      " [52] \"DG.Adjusted\"        \"SBUX.Volume\"        \"SBUX.Adjusted\"     \n",
      " [55] \"AMAT.Volume\"        \"AMAT.Adjusted\"      \"STT.Volume\"        \n",
      " [58] \"STT.Adjusted\"       \"T.Volume\"           \"T.Adjusted\"        \n",
      " [61] \"NOC.Volume\"         \"NOC.Adjusted\"       \"ED.Volume\"         \n",
      " [64] \"ED.Adjusted\"        \"CLX.Volume\"         \"CLX.Adjusted\"      \n",
      " [67] \"ULTA.Volume\"        \"ULTA.Adjusted\"      \"AAL.Volume\"        \n",
      " [70] \"AAL.Adjusted\"       \"ES.Volume\"          \"ES.Adjusted\"       \n",
      " [73] \"WAT.Volume\"         \"WAT.Adjusted\"       \"PPL.Volume\"        \n",
      " [76] \"PPL.Adjusted\"       \"TSCO.Volume\"        \"TSCO.Adjusted\"     \n",
      " [79] \"AES.Volume\"         \"AES.Adjusted\"       \"EXPE.Volume\"       \n",
      " [82] \"EXPE.Adjusted\"      \"ZBH.Volume\"         \"ZBH.Adjusted\"      \n",
      " [85] \"TRV.Volume\"         \"TRV.Adjusted\"       \"DRI.Volume\"        \n",
      " [88] \"DRI.Adjusted\"       \"BRO.Volume\"         \"BRO.Adjusted\"      \n",
      " [91] \"NKE.Volume\"         \"NKE.Adjusted\"       \"FITB.Volume\"       \n",
      " [94] \"FITB.Adjusted\"      \"CMA.Volume\"         \"CMA.Adjusted\"      \n",
      " [97] \"ARE.Volume\"         \"ARE.Adjusted\"       \"LRCX.Volume\"       \n",
      "[100] \"LRCX.Adjusted\"      \"CSX.Volume\"         \"CSX.Adjusted\"      \n",
      "[103] \"BMY.Volume\"         \"BMY.Adjusted\"       \"TROW.Volume\"       \n",
      "[106] \"TROW.Adjusted\"      \"TEL.Volume\"         \"TEL.Adjusted\"      \n",
      "[109] \"DGX.Volume\"         \"DGX.Adjusted\"       \"ANSS.Volume\"       \n",
      "[112] \"ANSS.Adjusted\"      \"MTCH.Volume\"        \"MTCH.Adjusted\"     \n",
      "[115] \"BKNG.Volume\"        \"BKNG.Adjusted\"      \"MGM.Volume\"        \n",
      "[118] \"MGM.Adjusted\"       \"WFC.Volume\"         \"WFC.Adjusted\"      \n",
      "[121] \"TAP.Volume\"         \"TAP.Adjusted\"       \"SWKS.Volume\"       \n",
      "[124] \"SWKS.Adjusted\"      \"BDX.Volume\"         \"BDX.Adjusted\"      \n",
      "[127] \"MCHP.Volume\"        \"MCHP.Adjusted\"      \"BR.Volume\"         \n",
      "[130] \"BR.Adjusted\"        \"TRMB.Volume\"        \"TRMB.Adjusted\"     \n",
      "[133] \"CBRE.Volume\"        \"CBRE.Adjusted\"      \"DUK.Volume\"        \n",
      "[136] \"DUK.Adjusted\"       \"POOL.Volume\"        \"POOL.Adjusted\"     \n",
      "[139] \"DFS.Volume\"         \"DFS.Adjusted\"       \"PVH.Volume\"        \n",
      "[142] \"PVH.Adjusted\"       \"LUMN.Volume\"        \"LUMN.Adjusted\"     \n",
      "[145] \"INTU.Volume\"        \"INTU.Adjusted\"      \"HSIC.Volume\"       \n",
      "[148] \"HSIC.Adjusted\"      \"GPN.Volume\"         \"GPN.Adjusted\"      \n",
      "[151] \"CF.Volume\"          \"CF.Adjusted\"        \"TER.Volume\"        \n",
      "[154] \"TER.Adjusted\"       \"MMM.Volume\"         \"MMM.Adjusted\"      \n",
      "[157] \"NEM.Volume\"         \"NEM.Adjusted\"       \"MA.Volume\"         \n",
      "[160] \"MA.Adjusted\"        \"HOLX.Volume\"        \"HOLX.Adjusted\"     \n",
      "[163] \"EW.Volume\"          \"EW.Adjusted\"        \"A.Volume\"          \n",
      "[166] \"A.Adjusted\"         \"APA.Volume\"         \"APA.Adjusted\"      \n",
      "[169] \"ANTM.Volume\"        \"ANTM.Adjusted\"      \"GL.Volume\"         \n",
      "[172] \"GL.Adjusted\"        \"NFLX.Volume\"        \"NFLX.Adjusted\"     \n",
      "[175] \"TT.Volume\"          \"TT.Adjusted\"        \"AME.Volume\"        \n",
      "[178] \"AME.Adjusted\"       \"NVR.Volume\"         \"NVR.Adjusted\"      \n",
      "[181] \"WMB.Volume\"         \"WMB.Adjusted\"       \"HES.Volume\"        \n",
      "[184] \"HES.Adjusted\"       \"NDAQ.Volume\"        \"NDAQ.Adjusted\"     \n",
      "[187] \"NWL.Volume\"         \"NWL.Adjusted\"       \"PEP.Volume\"        \n",
      "[190] \"PEP.Adjusted\"       \"CB.Volume\"          \"CB.Adjusted\"       \n",
      "[193] \"ALL.Volume\"         \"ALL.Adjusted\"       \"PPG.Volume\"        \n",
      "[196] \"PPG.Adjusted\"       \"VZ.Volume\"          \"VZ.Adjusted\"       \n",
      "[199] \"CNP.Volume\"         \"CNP.Adjusted\"       \"USB.Volume\"        \n",
      "[202] \"USB.Adjusted\"       \"PRU.Volume\"         \"PRU.Adjusted\"      \n",
      "[205] \"CE.Volume\"          \"CE.Adjusted\"        \"F.Volume\"          \n",
      "[208] \"F.Adjusted\"         \"RL.Volume\"          \"RL.Adjusted\"       \n",
      "[211] \"IRM.Volume\"         \"IRM.Adjusted\"       \"JNPR.Volume\"       \n",
      "[214] \"JNPR.Adjusted\"      \"FFIV.Volume\"        \"FFIV.Adjusted\"     \n",
      "[217] \"BXP.Volume\"         \"BXP.Adjusted\"       \"ADSK.Volume\"       \n",
      "[220] \"ADSK.Adjusted\"      \"D.Volume\"           \"D.Adjusted\"        \n",
      "[223] \"AEE.Volume\"         \"AEE.Adjusted\"       \"NTRS.Volume\"       \n",
      "[226] \"NTRS.Adjusted\"      \"FDS.Volume\"         \"FDS.Adjusted\"      \n",
      "[229] \"PNW.Volume\"         \"PNW.Adjusted\"       \"HD.Volume\"         \n",
      "[232] \"HD.Adjusted\"        \"MU.Volume\"          \"MU.Adjusted\"       \n",
      "[235] \"CMI.Volume\"         \"CMI.Adjusted\"       \"ALK.Volume\"        \n",
      "[238] \"ALK.Adjusted\"       \"PWR.Volume\"         \"PWR.Adjusted\"      \n",
      "[241] \"CAH.Volume\"         \"CAH.Adjusted\"       \"KO.Volume\"         \n",
      "[244] \"KO.Adjusted\"        \"DAL.Volume\"         \"DAL.Adjusted\"      \n",
      "[247] \"PHM.Volume\"         \"PHM.Adjusted\"       \"NDSN.Volume\"       \n",
      "[250] \"NDSN.Adjusted\"      \"V.Volume\"           \"V.Adjusted\"        \n",
      "[253] \"AVB.Volume\"         \"AVB.Adjusted\"       \"DXCM.Volume\"       \n",
      "[256] \"DXCM.Adjusted\"      \"SEE.Volume\"         \"SEE.Adjusted\"      \n",
      "[259] \"GNRC.Volume\"        \"GNRC.Adjusted\"      \"PG.Volume\"         \n",
      "[262] \"PG.Adjusted\"        \"SIVB.Volume\"        \"SIVB.Adjusted\"     \n",
      "[265] \"VFC.Volume\"         \"VFC.Adjusted\"       \"CDNS.Volume\"       \n",
      "[268] \"CDNS.Adjusted\"      \"CTXS.Volume\"        \"CTXS.Adjusted\"     \n",
      "[271] \"SCHW.Volume\"        \"SCHW.Adjusted\"      \"ATO.Volume\"        \n",
      "[274] \"ATO.Adjusted\"       \"DISCK.Volume\"       \"DISCK.Adjusted\"    \n",
      "[277] \"BLK.Volume\"         \"BLK.Adjusted\"       \"VMC.Volume\"        \n",
      "[280] \"VMC.Adjusted\"       \"EL.Volume\"          \"EL.Adjusted\"       \n",
      "[283] \"ROST.Volume\"        \"ROST.Adjusted\"      \"EQIX.Volume\"       \n",
      "[286] \"EQIX.Adjusted\"      \"TMUS.Volume\"        \"TMUS.Adjusted\"     \n",
      "[289] \"AXP.Volume\"         \"AXP.Adjusted\"       \"FDX.Volume\"        \n",
      "[292] \"FDX.Adjusted\"       \"INTC.Volume\"        \"INTC.Adjusted\"     \n",
      "[295] \"AAP.Volume\"         \"AAP.Adjusted\"       \"LOW.Volume\"        \n",
      "[298] \"LOW.Adjusted\"       \"AFL.Volume\"         \"AFL.Adjusted\"      \n",
      "[301] \"PAYX.Volume\"        \"PAYX.Adjusted\"      \"AMGN.Volume\"       \n",
      "[304] \"AMGN.Adjusted\"      \"ACN.Volume\"         \"ACN.Adjusted\"      \n",
      "[307] \"TYL.Volume\"         \"TYL.Adjusted\"       \"RCL.Volume\"        \n",
      "[310] \"RCL.Adjusted\"       \"WYNN.Volume\"        \"WYNN.Adjusted\"     \n",
      "[313] \"GS.Volume\"          \"GS.Adjusted\"        \"VRSK.Volume\"       \n",
      "[316] \"VRSK.Adjusted\"      \"WM.Volume\"          \"WM.Adjusted\"       \n",
      "[319] \"ECL.Volume\"         \"ECL.Adjusted\"       \"PH.Volume\"         \n",
      "[322] \"PH.Adjusted\"        \"IVZ.Volume\"         \"IVZ.Adjusted\"      \n",
      "[325] \"UAA.Volume\"         \"UAA.Adjusted\"       \"MRK.Volume\"        \n",
      "[328] \"MRK.Adjusted\"       \"EMN.Volume\"         \"EMN.Adjusted\"      \n",
      "[331] \"CVX.Volume\"         \"CVX.Adjusted\"       \"EMR.Volume\"        \n",
      "[334] \"EMR.Adjusted\"       \"AMZN.Volume\"        \"AMZN.Adjusted\"     \n",
      "[337] \"SBNY.Volume\"        \"SBNY.Adjusted\"      \"HAS.Volume\"        \n",
      "[340] \"HAS.Adjusted\"       \"EIX.Volume\"         \"EIX.Adjusted\"      \n",
      "[343] \"UNP.Volume\"         \"UNP.Adjusted\"       \"CHD.Volume\"        \n",
      "[346] \"CHD.Adjusted\"       \"VRTX.Volume\"        \"VRTX.Adjusted\"     \n",
      "[349] \"RSG.Volume\"         \"RSG.Adjusted\"       \"NSC.Volume\"        \n",
      "[352] \"NSC.Adjusted\"       \"RHI.Volume\"         \"RHI.Adjusted\"      \n",
      "[355] \"AON.Volume\"         \"AON.Adjusted\"       \"MS.Volume\"         \n",
      "[358] \"MS.Adjusted\"        \"ILMN.Volume\"        \"ILMN.Adjusted\"     \n",
      "[361] \"MAA.Volume\"         \"MAA.Adjusted\"       \"MAR.Volume\"        \n",
      "[364] \"MAR.Adjusted\"       \"ESS.Volume\"         \"ESS.Adjusted\"      \n",
      "[367] \"EBAY.Volume\"        \"EBAY.Adjusted\"      \"FE.Volume\"         \n",
      "[370] \"FE.Adjusted\"        \"HPQ.Volume\"         \"HPQ.Adjusted\"      \n",
      "[373] \"KMB.Volume\"         \"KMB.Adjusted\"       \"FCX.Volume\"        \n",
      "[376] \"FCX.Adjusted\"       \"CRM.Volume\"         \"CRM.Adjusted\"      \n",
      "[379] \"XOM.Volume\"         \"XOM.Adjusted\"       \"MOH.Volume\"        \n",
      "[382] \"MOH.Adjusted\"       \"IDXX.Volume\"        \"IDXX.Adjusted\"     \n",
      "[385] \"WST.Volume\"         \"WST.Adjusted\"       \"ETN.Volume\"        \n",
      "[388] \"ETN.Adjusted\"       \"AEP.Volume\"         \"AEP.Adjusted\"      \n",
      "[391] \"ALGN.Volume\"        \"ALGN.Adjusted\"      \"REGN.Volume\"       \n",
      "[394] \"REGN.Adjusted\"      \"SLB.Volume\"         \"SLB.Adjusted\"      \n",
      "[397] \"PFE.Volume\"         \"PFE.Adjusted\"       \"HON.Volume\"        \n",
      "[400] \"HON.Adjusted\"       \"SPG.Volume\"         \"SPG.Adjusted\"      \n",
      "[403] \"MAS.Volume\"         \"MAS.Adjusted\"       \"TFC.Volume\"        \n",
      "[406] \"TFC.Adjusted\"       \"ADI.Volume\"         \"ADI.Adjusted\"      \n",
      "[409] \"LDOS.Volume\"        \"LDOS.Adjusted\"      \"EFX.Volume\"        \n",
      "[412] \"EFX.Adjusted\"       \"AAPL.Volume\"        \"AAPL.Adjusted\"     \n",
      "[415] \"RTX.Volume\"         \"RTX.Adjusted\"       \"BWA.Volume\"        \n",
      "[418] \"BWA.Adjusted\"       \"PKI.Volume\"         \"PKI.Adjusted\"      \n",
      "[421] \"WELL.Volume\"        \"WELL.Adjusted\"      \"GILD.Volume\"       \n",
      "[424] \"GILD.Adjusted\"      \"KIM.Volume\"         \"KIM.Adjusted\"      \n",
      "[427] \"ITW.Volume\"         \"ITW.Adjusted\"       \"EOG.Volume\"        \n",
      "[430] \"EOG.Adjusted\"       \"KR.Volume\"          \"KR.Adjusted\"       \n",
      "[433] \"PGR.Volume\"         \"PGR.Adjusted\"       \"OMC.Volume\"        \n",
      "[436] \"OMC.Adjusted\"       \"IEX.Volume\"         \"IEX.Adjusted\"      \n",
      "[439] \"HIG.Volume\"         \"HIG.Adjusted\"       \"UNH.Volume\"        \n",
      "[442] \"UNH.Adjusted\"       \"MTB.Volume\"         \"MTB.Adjusted\"      \n",
      "[445] \"TDG.Volume\"         \"TDG.Adjusted\"       \"SRE.Volume\"        \n",
      "[448] \"SRE.Adjusted\"       \"WHR.Volume\"         \"WHR.Adjusted\"      \n",
      "[451] \"HRL.Volume\"         \"HRL.Adjusted\"       \"KEY.Volume\"        \n",
      "[454] \"KEY.Adjusted\"       \"DVN.Volume\"         \"DVN.Adjusted\"      \n",
      "[457] \"RE.Volume\"          \"RE.Adjusted\"        \"JPM.Volume\"        \n",
      "[460] \"JPM.Adjusted\"       \"MO.Volume\"          \"MO.Adjusted\"       \n",
      "[463] \"MSI.Volume\"         \"MSI.Adjusted\"       \"FTNT.Volume\"       \n",
      "[466] \"FTNT.Adjusted\"      \"SYY.Volume\"         \"SYY.Adjusted\"      \n",
      "[469] \"GOOGL.Volume\"       \"GOOGL.Adjusted\"     \"MDT.Volume\"        \n",
      "[472] \"MDT.Adjusted\"       \"DE.Volume\"          \"DE.Adjusted\"       \n",
      "[475] \"DRE.Volume\"         \"DRE.Adjusted\"       \"ABC.Volume\"        \n",
      "[478] \"ABC.Adjusted\"       \"VTRS.Volume\"        \"VTRS.Adjusted\"     \n",
      "[481] \"WDC.Volume\"         \"WDC.Adjusted\"       \"AZO.Volume\"        \n",
      "[484] \"AZO.Adjusted\"       \"BIIB.Volume\"        \"BIIB.Adjusted\"     \n",
      "[487] \"PARA.Volume\"        \"PARA.Adjusted\"      \"AMT.Volume\"        \n",
      "[490] \"AMT.Adjusted\"       \"ABT.Volume\"         \"ABT.Adjusted\"      \n",
      "[493] \"ROK.Volume\"         \"ROK.Adjusted\"       \"DIS.Volume\"        \n",
      "[496] \"DIS.Adjusted\"       \"AVY.Volume\"         \"AVY.Adjusted\"      \n",
      "[499] \"DTE.Volume\"         \"DTE.Adjusted\"       \"MDLZ.BV_per_share\" \n",
      "[502] \"NRG.BV_per_share\"   \"IT.BV_per_share\"    \"NTAP.BV_per_share\" \n",
      "[505] \"XRAY.BV_per_share\"  \"MPWR.BV_per_share\"  \"AMP.BV_per_share\"  \n",
      "[508] \"LMT.BV_per_share\"   \"URI.BV_per_share\"   \"LKQ.BV_per_share\"  \n",
      "[511] \"PNR.BV_per_share\"   \"FRT.BV_per_share\"   \"EA.BV_per_share\"   \n",
      "[514] \"CCI.BV_per_share\"   \"RF.BV_per_share\"    \"WEC.BV_per_share\"  \n",
      "[517] \"WY.BV_per_share\"    \"UPS.BV_per_share\"   \"O.BV_per_share\"    \n",
      "[520] \"SBAC.BV_per_share\"  \"ISRG.BV_per_share\"  \"REG.BV_per_share\"  \n",
      "[523] \"PM.BV_per_share\"    \"CSCO.BV_per_share\"  \"MRO.BV_per_share\"  \n",
      "[526] \"DG.BV_per_share\"    \"SBUX.BV_per_share\"  \"AMAT.BV_per_share\" \n",
      "[529] \"STT.BV_per_share\"   \"T.BV_per_share\"     \"NOC.BV_per_share\"  \n",
      "[532] \"ED.BV_per_share\"    \"CLX.BV_per_share\"   \"ULTA.BV_per_share\" \n",
      "[535] \"AAL.BV_per_share\"   \"ES.BV_per_share\"    \"WAT.BV_per_share\"  \n",
      "[538] \"PPL.BV_per_share\"   \"TSCO.BV_per_share\"  \"AES.BV_per_share\"  \n",
      "[541] \"EXPE.BV_per_share\"  \"ZBH.BV_per_share\"   \"TRV.BV_per_share\"  \n",
      "[544] \"DRI.BV_per_share\"   \"BRO.BV_per_share\"   \"NKE.BV_per_share\"  \n",
      "[547] \"FITB.BV_per_share\"  \"CMA.BV_per_share\"   \"ARE.BV_per_share\"  \n",
      "[550] \"LRCX.BV_per_share\"  \"CSX.BV_per_share\"   \"BMY.BV_per_share\"  \n",
      "[553] \"TROW.BV_per_share\"  \"TEL.BV_per_share\"   \"DGX.BV_per_share\"  \n",
      "[556] \"ANSS.BV_per_share\"  \"MTCH.BV_per_share\"  \"BKNG.BV_per_share\" \n",
      "[559] \"MGM.BV_per_share\"   \"WFC.BV_per_share\"   \"TAP.BV_per_share\"  \n",
      "[562] \"SWKS.BV_per_share\"  \"BDX.BV_per_share\"   \"MCHP.BV_per_share\" \n",
      "[565] \"BR.BV_per_share\"    \"TRMB.BV_per_share\"  \"CBRE.BV_per_share\" \n",
      "[568] \"DUK.BV_per_share\"   \"POOL.BV_per_share\"  \"DFS.BV_per_share\"  \n",
      "[571] \"PVH.BV_per_share\"   \"INTU.BV_per_share\"  \"HSIC.BV_per_share\" \n",
      "[574] \"GPN.BV_per_share\"   \"CF.BV_per_share\"    \"TER.BV_per_share\"  \n",
      "[577] \"MMM.BV_per_share\"   \"NEM.BV_per_share\"   \"MA.BV_per_share\"   \n",
      "[580] \"HOLX.BV_per_share\"  \"EW.BV_per_share\"    \"A.BV_per_share\"    \n",
      "[583] \"APA.BV_per_share\"   \"ANTM.BV_per_share\"  \"GL.BV_per_share\"   \n",
      "[586] \"NFLX.BV_per_share\"  \"TT.BV_per_share\"    \"AME.BV_per_share\"  \n",
      "[589] \"NVR.BV_per_share\"   \"WMB.BV_per_share\"   \"HES.BV_per_share\"  \n",
      "[592] \"NDAQ.BV_per_share\"  \"NWL.BV_per_share\"   \"PEP.BV_per_share\"  \n",
      "[595] \"CB.BV_per_share\"    \"ALL.BV_per_share\"   \"PPG.BV_per_share\"  \n",
      "[598] \"VZ.BV_per_share\"    \"CNP.BV_per_share\"   \"USB.BV_per_share\"  \n",
      "[601] \"PRU.BV_per_share\"   \"CE.BV_per_share\"    \"F.BV_per_share\"    \n",
      "[604] \"RL.BV_per_share\"    \"IRM.BV_per_share\"   \"JNPR.BV_per_share\" \n",
      "[607] \"FFIV.BV_per_share\"  \"BXP.BV_per_share\"   \"ADSK.BV_per_share\" \n",
      "[610] \"D.BV_per_share\"     \"AEE.BV_per_share\"   \"NTRS.BV_per_share\" \n",
      "[613] \"FDS.BV_per_share\"   \"PNW.BV_per_share\"   \"HD.BV_per_share\"   \n",
      "[616] \"MU.BV_per_share\"    \"CMI.BV_per_share\"   \"ALK.BV_per_share\"  \n",
      "[619] \"PWR.BV_per_share\"   \"CAH.BV_per_share\"   \"KO.BV_per_share\"   \n",
      "[622] \"DAL.BV_per_share\"   \"PHM.BV_per_share\"   \"NDSN.BV_per_share\" \n",
      "[625] \"V.BV_per_share\"     \"AVB.BV_per_share\"   \"DXCM.BV_per_share\" \n",
      "[628] \"SEE.BV_per_share\"   \"GNRC.BV_per_share\"  \"PG.BV_per_share\"   \n",
      "[631] \"SIVB.BV_per_share\"  \"VFC.BV_per_share\"   \"CDNS.BV_per_share\" \n",
      "[634] \"CTXS.BV_per_share\"  \"SCHW.BV_per_share\"  \"ATO.BV_per_share\"  \n",
      "[637] \"DISCK.BV_per_share\" \"BLK.BV_per_share\"   \"VMC.BV_per_share\"  \n",
      "[640] \"EL.BV_per_share\"    \"ROST.BV_per_share\"  \"EQIX.BV_per_share\" \n",
      "[643] \"TMUS.BV_per_share\"  \"AXP.BV_per_share\"   \"FDX.BV_per_share\"  \n",
      "[646] \"INTC.BV_per_share\"  \"AAP.BV_per_share\"   \"LOW.BV_per_share\"  \n",
      "[649] \"AFL.BV_per_share\"   \"PAYX.BV_per_share\"  \"AMGN.BV_per_share\" \n",
      "[652] \"ACN.BV_per_share\"   \"TYL.BV_per_share\"   \"RCL.BV_per_share\"  \n",
      "[655] \"WYNN.BV_per_share\"  \"GS.BV_per_share\"    \"VRSK.BV_per_share\" \n",
      "[658] \"WM.BV_per_share\"    \"ECL.BV_per_share\"   \"PH.BV_per_share\"   \n",
      "[661] \"IVZ.BV_per_share\"   \"UAA.BV_per_share\"   \"MRK.BV_per_share\"  \n",
      "[664] \"EMN.BV_per_share\"   \"CVX.BV_per_share\"   \"EMR.BV_per_share\"  \n",
      "[667] \"AMZN.BV_per_share\"  \"SBNY.BV_per_share\"  \"HAS.BV_per_share\"  \n",
      "[670] \"EIX.BV_per_share\"   \"UNP.BV_per_share\"   \"CHD.BV_per_share\"  \n",
      "[673] \"VRTX.BV_per_share\"  \"RSG.BV_per_share\"   \"NSC.BV_per_share\"  \n",
      "[676] \"RHI.BV_per_share\"   \"AON.BV_per_share\"   \"MS.BV_per_share\"   \n",
      "[679] \"ILMN.BV_per_share\"  \"MAA.BV_per_share\"   \"MAR.BV_per_share\"  \n",
      "[682] \"ESS.BV_per_share\"   \"EBAY.BV_per_share\"  \"FE.BV_per_share\"   \n",
      "[685] \"HPQ.BV_per_share\"   \"KMB.BV_per_share\"   \"FCX.BV_per_share\"  \n",
      "[688] \"CRM.BV_per_share\"   \"XOM.BV_per_share\"   \"MOH.BV_per_share\"  \n",
      "[691] \"IDXX.BV_per_share\"  \"WST.BV_per_share\"   \"ETN.BV_per_share\"  \n",
      "[694] \"AEP.BV_per_share\"   \"ALGN.BV_per_share\"  \"REGN.BV_per_share\" \n",
      "[697] \"SLB.BV_per_share\"   \"PFE.BV_per_share\"   \"HON.BV_per_share\"  \n",
      "[700] \"SPG.BV_per_share\"   \"MAS.BV_per_share\"   \"TFC.BV_per_share\"  \n",
      "[703] \"ADI.BV_per_share\"   \"LDOS.BV_per_share\"  \"EFX.BV_per_share\"  \n",
      "[706] \"AAPL.BV_per_share\"  \"RTX.BV_per_share\"   \"BWA.BV_per_share\"  \n",
      "[709] \"PKI.BV_per_share\"   \"WELL.BV_per_share\"  \"GILD.BV_per_share\" \n",
      "[712] \"KIM.BV_per_share\"   \"ITW.BV_per_share\"   \"EOG.BV_per_share\"  \n",
      "[715] \"KR.BV_per_share\"    \"PGR.BV_per_share\"   \"OMC.BV_per_share\"  \n",
      "[718] \"IEX.BV_per_share\"   \"HIG.BV_per_share\"   \"UNH.BV_per_share\"  \n",
      "[721] \"MTB.BV_per_share\"   \"TDG.BV_per_share\"   \"SRE.BV_per_share\"  \n",
      "[724] \"WHR.BV_per_share\"   \"HRL.BV_per_share\"   \"KEY.BV_per_share\"  \n",
      "[727] \"DVN.BV_per_share\"   \"RE.BV_per_share\"    \"JPM.BV_per_share\"  \n",
      "[730] \"MO.BV_per_share\"    \"MSI.BV_per_share\"   \"FTNT.BV_per_share\" \n",
      "[733] \"SYY.BV_per_share\"   \"GOOGL.BV_per_share\" \"MDT.BV_per_share\"  \n",
      "[736] \"DE.BV_per_share\"    \"DRE.BV_per_share\"   \"ABC.BV_per_share\"  \n",
      "[739] \"VTRS.BV_per_share\"  \"WDC.BV_per_share\"   \"AZO.BV_per_share\"  \n",
      "[742] \"BIIB.BV_per_share\"  \"PARA.BV_per_share\"  \"AMT.BV_per_share\"  \n",
      "[745] \"ABT.BV_per_share\"   \"ROK.BV_per_share\"   \"DIS.BV_per_share\"  \n",
      "[748] \"AVY.BV_per_share\"   \"DTE.BV_per_share\"   \"MDLZ.Market_Cap\"   \n",
      "[751] \"NRG.Market_Cap\"     \"IT.Market_Cap\"      \"NTAP.Market_Cap\"   \n",
      "[754] \"XRAY.Market_Cap\"    \"MPWR.Market_Cap\"    \"AMP.Market_Cap\"    \n",
      "[757] \"LMT.Market_Cap\"     \"URI.Market_Cap\"     \"LKQ.Market_Cap\"    \n",
      "[760] \"PNR.Market_Cap\"     \"FRT.Market_Cap\"     \"EA.Market_Cap\"     \n",
      "[763] \"CCI.Market_Cap\"     \"RF.Market_Cap\"      \"WEC.Market_Cap\"    \n",
      "[766] \"WY.Market_Cap\"      \"UPS.Market_Cap\"     \"O.Market_Cap\"      \n",
      "[769] \"SBAC.Market_Cap\"    \"ISRG.Market_Cap\"    \"REG.Market_Cap\"    \n",
      "[772] \"PM.Market_Cap\"      \"CSCO.Market_Cap\"    \"MRO.Market_Cap\"    \n",
      "[775] \"DG.Market_Cap\"      \"SBUX.Market_Cap\"    \"AMAT.Market_Cap\"   \n",
      "[778] \"STT.Market_Cap\"     \"T.Market_Cap\"       \"NOC.Market_Cap\"    \n",
      "[781] \"ED.Market_Cap\"      \"CLX.Market_Cap\"     \"ULTA.Market_Cap\"   \n",
      "[784] \"AAL.Market_Cap\"     \"ES.Market_Cap\"      \"WAT.Market_Cap\"    \n",
      "[787] \"PPL.Market_Cap\"     \"TSCO.Market_Cap\"    \"AES.Market_Cap\"    \n",
      "[790] \"EXPE.Market_Cap\"    \"ZBH.Market_Cap\"     \"TRV.Market_Cap\"    \n",
      "[793] \"DRI.Market_Cap\"     \"BRO.Market_Cap\"     \"NKE.Market_Cap\"    \n",
      "[796] \"FITB.Market_Cap\"    \"CMA.Market_Cap\"     \"ARE.Market_Cap\"    \n",
      "[799] \"LRCX.Market_Cap\"    \"CSX.Market_Cap\"     \"BMY.Market_Cap\"    \n",
      "[802] \"TROW.Market_Cap\"    \"TEL.Market_Cap\"     \"DGX.Market_Cap\"    \n",
      "[805] \"ANSS.Market_Cap\"    \"MTCH.Market_Cap\"    \"BKNG.Market_Cap\"   \n",
      "[808] \"MGM.Market_Cap\"     \"WFC.Market_Cap\"     \"TAP.Market_Cap\"    \n",
      "[811] \"SWKS.Market_Cap\"    \"BDX.Market_Cap\"     \"MCHP.Market_Cap\"   \n",
      "[814] \"BR.Market_Cap\"      \"TRMB.Market_Cap\"    \"CBRE.Market_Cap\"   \n",
      "[817] \"DUK.Market_Cap\"     \"POOL.Market_Cap\"    \"DFS.Market_Cap\"    \n",
      "[820] \"PVH.Market_Cap\"     \"LUMN.Market_Cap\"    \"INTU.Market_Cap\"   \n",
      "[823] \"HSIC.Market_Cap\"    \"GPN.Market_Cap\"     \"CF.Market_Cap\"     \n",
      "[826] \"TER.Market_Cap\"     \"MMM.Market_Cap\"     \"NEM.Market_Cap\"    \n",
      "[829] \"MA.Market_Cap\"      \"HOLX.Market_Cap\"    \"EW.Market_Cap\"     \n",
      "[832] \"A.Market_Cap\"       \"APA.Market_Cap\"     \"ANTM.Market_Cap\"   \n",
      "[835] \"GL.Market_Cap\"      \"NFLX.Market_Cap\"    \"TT.Market_Cap\"     \n",
      "[838] \"AME.Market_Cap\"     \"NVR.Market_Cap\"     \"WMB.Market_Cap\"    \n",
      "[841] \"HES.Market_Cap\"     \"NDAQ.Market_Cap\"    \"NWL.Market_Cap\"    \n",
      "[844] \"PEP.Market_Cap\"     \"CB.Market_Cap\"      \"ALL.Market_Cap\"    \n",
      "[847] \"PPG.Market_Cap\"     \"VZ.Market_Cap\"      \"CNP.Market_Cap\"    \n",
      "[850] \"USB.Market_Cap\"     \"PRU.Market_Cap\"     \"CE.Market_Cap\"     \n",
      "[853] \"F.Market_Cap\"       \"RL.Market_Cap\"      \"IRM.Market_Cap\"    \n",
      "[856] \"JNPR.Market_Cap\"    \"FFIV.Market_Cap\"    \"BXP.Market_Cap\"    \n",
      "[859] \"ADSK.Market_Cap\"    \"D.Market_Cap\"       \"AEE.Market_Cap\"    \n",
      "[862] \"NTRS.Market_Cap\"    \"FDS.Market_Cap\"     \"PNW.Market_Cap\"    \n",
      "[865] \"HD.Market_Cap\"      \"MU.Market_Cap\"      \"CMI.Market_Cap\"    \n",
      "[868] \"ALK.Market_Cap\"     \"PWR.Market_Cap\"     \"CAH.Market_Cap\"    \n",
      "[871] \"KO.Market_Cap\"      \"DAL.Market_Cap\"     \"PHM.Market_Cap\"    \n",
      "[874] \"NDSN.Market_Cap\"    \"V.Market_Cap\"       \"AVB.Market_Cap\"    \n",
      "[877] \"DXCM.Market_Cap\"    \"SEE.Market_Cap\"     \"GNRC.Market_Cap\"   \n",
      "[880] \"PG.Market_Cap\"      \"SIVB.Market_Cap\"    \"VFC.Market_Cap\"    \n",
      "[883] \"CDNS.Market_Cap\"    \"CTXS.Market_Cap\"    \"SCHW.Market_Cap\"   \n",
      "[886] \"ATO.Market_Cap\"     \"DISCK.Market_Cap\"   \"BLK.Market_Cap\"    \n",
      "[889] \"VMC.Market_Cap\"     \"EL.Market_Cap\"      \"ROST.Market_Cap\"   \n",
      "[892] \"EQIX.Market_Cap\"    \"TMUS.Market_Cap\"    \"AXP.Market_Cap\"    \n",
      "[895] \"FDX.Market_Cap\"     \"INTC.Market_Cap\"    \"AAP.Market_Cap\"    \n",
      "[898] \"LOW.Market_Cap\"     \"AFL.Market_Cap\"     \"PAYX.Market_Cap\"   \n",
      "[901] \"AMGN.Market_Cap\"    \"ACN.Market_Cap\"     \"TYL.Market_Cap\"    \n",
      "[904] \"RCL.Market_Cap\"     \"WYNN.Market_Cap\"    \"GS.Market_Cap\"     \n",
      "[907] \"VRSK.Market_Cap\"    \"WM.Market_Cap\"      \"ECL.Market_Cap\"    \n",
      "[910] \"PH.Market_Cap\"      \"IVZ.Market_Cap\"     \"UAA.Market_Cap\"    \n",
      "[913] \"MRK.Market_Cap\"     \"EMN.Market_Cap\"     \"CVX.Market_Cap\"    \n",
      "[916] \"EMR.Market_Cap\"     \"AMZN.Market_Cap\"    \"SBNY.Market_Cap\"   \n",
      "[919] \"HAS.Market_Cap\"     \"EIX.Market_Cap\"     \"UNP.Market_Cap\"    \n",
      "[922] \"CHD.Market_Cap\"     \"VRTX.Market_Cap\"    \"RSG.Market_Cap\"    \n",
      "[925] \"NSC.Market_Cap\"     \"RHI.Market_Cap\"     \"AON.Market_Cap\"    \n",
      "[928] \"MS.Market_Cap\"      \"ILMN.Market_Cap\"    \"MAA.Market_Cap\"    \n",
      "[931] \"MAR.Market_Cap\"     \"ESS.Market_Cap\"     \"EBAY.Market_Cap\"   \n",
      "[934] \"FE.Market_Cap\"      \"HPQ.Market_Cap\"     \"KMB.Market_Cap\"    \n",
      "[937] \"FCX.Market_Cap\"     \"CRM.Market_Cap\"     \"XOM.Market_Cap\"    \n",
      "[940] \"MOH.Market_Cap\"     \"IDXX.Market_Cap\"    \"WST.Market_Cap\"    \n",
      "[943] \"ETN.Market_Cap\"     \"AEP.Market_Cap\"     \"ALGN.Market_Cap\"   \n",
      "[946] \"REGN.Market_Cap\"    \"SLB.Market_Cap\"     \"PFE.Market_Cap\"    \n",
      "[949] \"HON.Market_Cap\"     \"SPG.Market_Cap\"     \"MAS.Market_Cap\"    \n",
      "[952] \"TFC.Market_Cap\"     \"ADI.Market_Cap\"     \"LDOS.Market_Cap\"   \n",
      "[955] \"EFX.Market_Cap\"     \"AAPL.Market_Cap\"    \"RTX.Market_Cap\"    \n",
      "[958] \"BWA.Market_Cap\"     \"PKI.Market_Cap\"     \"WELL.Market_Cap\"   \n",
      "[961] \"GILD.Market_Cap\"    \"KIM.Market_Cap\"     \"ITW.Market_Cap\"    \n",
      "[964] \"EOG.Market_Cap\"     \"KR.Market_Cap\"      \"PGR.Market_Cap\"    \n",
      "[967] \"OMC.Market_Cap\"     \"IEX.Market_Cap\"     \"HIG.Market_Cap\"    \n",
      "[970] \"UNH.Market_Cap\"     \"MTB.Market_Cap\"     \"TDG.Market_Cap\"    \n",
      "[973] \"SRE.Market_Cap\"     \"WHR.Market_Cap\"     \"HRL.Market_Cap\"    \n",
      "[976] \"KEY.Market_Cap\"     \"DVN.Market_Cap\"     \"RE.Market_Cap\"     \n",
      "[979] \"JPM.Market_Cap\"     \"MO.Market_Cap\"      \"MSI.Market_Cap\"    \n",
      "[982] \"FTNT.Market_Cap\"    \"SYY.Market_Cap\"     \"GOOGL.Market_Cap\"  \n",
      "[985] \"MDT.Market_Cap\"     \"DE.Market_Cap\"      \"DRE.Market_Cap\"    \n",
      "[988] \"ABC.Market_Cap\"     \"VTRS.Market_Cap\"    \"WDC.Market_Cap\"    \n",
      "[991] \"AZO.Market_Cap\"     \"BIIB.Market_Cap\"    \"PARA.Market_Cap\"   \n",
      "[994] \"AMT.Market_Cap\"     \"ABT.Market_Cap\"     \"ROK.Market_Cap\"    \n",
      "[997] \"DIS.Market_Cap\"     \"AVY.Market_Cap\"     \"DTE.Market_Cap\"    \n"
     ]
    }
   ],
   "source": [
    "print(names(semifinal_dataset))"
   ]
  },
  {
   "cell_type": "code",
   "execution_count": 235,
   "metadata": {
    "vscode": {
     "languageId": "r"
    }
   },
   "outputs": [
    {
     "name": "stderr",
     "output_type": "stream",
     "text": [
      "Warning message in to.period(x, \"months\", indexAt = indexAt, name = name, ...):\n",
      "\"missing values removed from data\"\n",
      "Warning message in to.period(x, \"months\", indexAt = indexAt, name = name, ...):\n",
      "\"missing values removed from data\"\n",
      "Warning message in to.period(x, \"months\", indexAt = indexAt, name = name, ...):\n",
      "\"missing values removed from data\"\n",
      "Warning message in to.period(x, \"months\", indexAt = indexAt, name = name, ...):\n",
      "\"missing values removed from data\"\n",
      "Warning message in to.period(x, \"months\", indexAt = indexAt, name = name, ...):\n",
      "\"missing values removed from data\"\n",
      "Warning message in to.period(x, \"months\", indexAt = indexAt, name = name, ...):\n",
      "\"missing values removed from data\"\n",
      "Warning message in to.period(x, \"months\", indexAt = indexAt, name = name, ...):\n",
      "\"missing values removed from data\"\n",
      "Warning message in to.period(x, \"months\", indexAt = indexAt, name = name, ...):\n",
      "\"missing values removed from data\"\n",
      "Warning message in to.period(x, \"months\", indexAt = indexAt, name = name, ...):\n",
      "\"missing values removed from data\"\n",
      "Warning message in to.period(x, \"months\", indexAt = indexAt, name = name, ...):\n",
      "\"missing values removed from data\"\n",
      "Warning message in to.period(x, \"months\", indexAt = indexAt, name = name, ...):\n",
      "\"missing values removed from data\"\n",
      "Warning message in to.period(x, \"months\", indexAt = indexAt, name = name, ...):\n",
      "\"missing values removed from data\"\n",
      "Warning message in to.period(x, \"months\", indexAt = indexAt, name = name, ...):\n",
      "\"missing values removed from data\"\n",
      "Warning message in to.period(x, \"months\", indexAt = indexAt, name = name, ...):\n",
      "\"missing values removed from data\"\n",
      "Warning message in to.period(x, \"months\", indexAt = indexAt, name = name, ...):\n",
      "\"missing values removed from data\"\n",
      "Warning message in to.period(x, \"months\", indexAt = indexAt, name = name, ...):\n",
      "\"missing values removed from data\"\n",
      "Warning message in to.period(x, \"months\", indexAt = indexAt, name = name, ...):\n",
      "\"missing values removed from data\"\n",
      "Warning message in to.period(x, \"months\", indexAt = indexAt, name = name, ...):\n",
      "\"missing values removed from data\"\n",
      "Warning message in to.period(x, \"months\", indexAt = indexAt, name = name, ...):\n",
      "\"missing values removed from data\"\n",
      "Warning message in to.period(x, \"months\", indexAt = indexAt, name = name, ...):\n",
      "\"missing values removed from data\"\n"
     ]
    }
   ],
   "source": [
    "#getting the data required for task 3\n",
    "\n",
    "task3_data <- vector(\"list\", 20) #Empty list for the data\n",
    "\n",
    "for (i in 1:20) { #Looping through the tickers\n",
    "    ticker_volume <- paste(tickers_20[i,2], \".Volume\", sep = \"\") #Pasting the tickers and variables together\n",
    "    ticker_adjusted <- paste(tickers_20[i,2], \".Adjusted\", sep = \"\") #so the full dataset can be subsetted\n",
    "    ticker_bv <- paste(tickers_20[i,2], \".BV_per_share\", sep = \"\")\n",
    "    ticker_market <- paste(tickers_20[i,2], \".Market_Cap\", sep = \"\")\n",
    "    \n",
    "    ticker_xts <- semifinal_dataset[, c(ticker_volume, ticker_adjusted, ticker_bv, ticker_market)] #Subsetting the full dataset\n",
    "    task3_data[[i]] <- to.monthly(ticker_xts[\"2014-12/\"], name = names(ticker_xts)) #Extracting data from 2015 further and then converting it to monthly (averages??)\n",
    "}"
   ]
  },
  {
   "cell_type": "code",
   "execution_count": 236,
   "metadata": {
    "vscode": {
     "languageId": "r"
    }
   },
   "outputs": [
    {
     "data": {
      "text/plain": [
       "         BKNG.Volume.Open BKNG.Adjusted.High BKNG.BV_per_share.Low\n",
       "Dec 2014           482500            1140.21                164.96\n",
       "Mar 2015          1011700            1164.15                166.49\n",
       "Jun 2015          1082600            1151.37                167.37\n",
       "Sep 2015           794500            1236.86                169.93\n",
       "Dec 2015           337700            1274.95                177.29\n",
       "Mar 2016           488200            1288.96                182.37\n",
       "Jun 2016           921500            1248.41                187.45\n",
       "Sep 2016           436500            1471.49                198.62\n",
       "Mar 2017           420500            1779.97                219.83\n",
       "Jun 2017           461200            1870.52                236.25\n",
       "Dec 2018           280200            1722.42                192.52\n",
       "Sep 2019           226500            1962.61                141.40\n",
       "Dec 2019           226900            2053.73                143.25\n",
       "Mar 2020           770300            1345.32                 93.60\n",
       "Jun 2020           293600            1592.34                 97.66\n",
       "Sep 2020           326100            1710.68                119.96\n",
       "Dec 2020           176600            2227.27                119.46\n",
       "Mar 2021           530800            2329.84                116.05\n",
       "Jun 2021           414700            2188.09                116.88\n",
       "Sep 2021           311600            2373.87                135.04\n",
       "         BKNG.Market_Cap.Close BKNG.Volume.Volume\n",
       "Dec 2014                 59.63             482500\n",
       "Mar 2015                 60.43            1011700\n",
       "Jun 2015                 59.40            1082600\n",
       "Sep 2015                 62.52             794500\n",
       "Dec 2015                 64.95             337700\n",
       "Mar 2016                 63.97             488200\n",
       "Jun 2016                 61.93             921500\n",
       "Sep 2016                 72.72             436500\n",
       "Mar 2017                 87.56             420500\n",
       "Jun 2017                 91.90             461200\n",
       "Dec 2018                 81.72             280200\n",
       "Sep 2019                 83.19             226500\n",
       "Dec 2019                 88.48             226900\n",
       "Mar 2020                 55.28             770300\n",
       "Jun 2020                 65.16             293600\n",
       "Sep 2020                 70.03             326100\n",
       "Dec 2020                 91.26             176600\n",
       "Mar 2021                 95.46             530800\n",
       "Jun 2021                 89.83             414700\n",
       "Sep 2021                 97.49             311600"
      ]
     },
     "metadata": {},
     "output_type": "display_data"
    }
   ],
   "source": [
    "#I have no Idea why the names are so messed up    O_o\n",
    "\n",
    "task3_data[[5]]"
   ]
  }
 ],
 "metadata": {
  "interpreter": {
   "hash": "c3d0cf9620c2714139c2dfd3eeea47218c66a8564f7612a40a1666e2c73f2581"
  },
  "kernelspec": {
   "display_name": "R",
   "language": "R",
   "name": "ir"
  },
  "language_info": {
   "codemirror_mode": "r",
   "file_extension": ".r",
   "mimetype": "text/x-r-source",
   "name": "R",
   "pygments_lexer": "r",
   "version": "4.1.2"
  },
  "orig_nbformat": 4
 },
 "nbformat": 4,
 "nbformat_minor": 2
}
