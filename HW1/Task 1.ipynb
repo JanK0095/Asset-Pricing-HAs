{
 "cells": [
  {
   "cell_type": "markdown",
   "metadata": {},
   "source": [
    "# JEM092 Asset Pricing - Homework 1"
   ]
  },
  {
   "cell_type": "markdown",
   "metadata": {},
   "source": [
    "### Group 82780095"
   ]
  },
  {
   "cell_type": "markdown",
   "metadata": {},
   "source": [
    "Petr Dvořáček, Jan Kubal, Matyáš Mattanelli"
   ]
  },
  {
   "cell_type": "markdown",
   "metadata": {},
   "source": [
    "---"
   ]
  },
  {
   "cell_type": "markdown",
   "metadata": {},
   "source": [
    "## Task 1"
   ]
  },
  {
   "cell_type": "code",
   "execution_count": 3,
   "metadata": {
    "vscode": {
     "languageId": "r"
    }
   },
   "outputs": [
    {
     "name": "stderr",
     "output_type": "stream",
     "text": [
      "Warning message:\n",
      "\"package 'rvest' was built under R version 4.1.3\"\n"
     ]
    }
   ],
   "source": [
    "#Loading the necessary libraries\n",
    "suppressPackageStartupMessages({\n",
    "    library(quantmod) #getSymbols function\n",
    "    library(rvest) #Web scraping\n",
    "    library(stringr) #Regular expressions\n",
    "})"
   ]
  },
  {
   "cell_type": "code",
   "execution_count": 4,
   "metadata": {
    "vscode": {
     "languageId": "r"
    }
   },
   "outputs": [],
   "source": [
    "#Loading the assigned csv file\n",
    "tickers_to_download <- read.csv(\"data_HW1/82780095_data_download.csv\")\n",
    "no_of_tickers <- nrow(tickers_to_download) #Storing the number of tickers for future use"
   ]
  },
  {
   "cell_type": "code",
   "execution_count": 5,
   "metadata": {
    "vscode": {
     "languageId": "r"
    }
   },
   "outputs": [],
   "source": [
    "#Downloading the data from Yahoo Finance (runtime 2m 44s)\n",
    "data_list <- vector(\"list\", no_of_tickers) #Initializing an empty list for the data\n",
    "options(\"getSymbols.warning4.0\"=FALSE) #Command to prevent an annoying message from appearing\n",
    "for (i in 1:no_of_tickers) { #Looping through the tickers\n",
    "    data_list[[i]] <- getSymbols(tickers_to_download[i, 2], src=\"yahoo\", auto.assign = F, from = \"2007-01-01\", to = \"2022-03-01\")\n",
    "}"
   ]
  },
  {
   "cell_type": "code",
   "execution_count": 7,
   "metadata": {
    "vscode": {
     "languageId": "r"
    }
   },
   "outputs": [
    {
     "name": "stdout",
     "output_type": "stream",
     "text": [
      "[1] Volume in the 5th column: 250\n",
      "[1] Adjusted Close Price in the 6th column: 250\n"
     ]
    }
   ],
   "source": [
    "#Checking that we have adjusted close price and volume in appropriate columns for each ticker\n",
    "check_col_name <- function(ticker_data, pattern, column_no) { #Defining a function to check if a column name matches a pattern\n",
    "    ifelse(strsplit(names(ticker_data)[column_no], \"\\\\.\")[[1]][2] == pattern, return(T), return(F)) \n",
    "}\n",
    "#Applying the function on all tickers for both Volume and Adjusted price\n",
    "print(paste(\"Volume in the 5th column: \", sum(unlist(lapply(data_list, check_col_name, pattern = \"Volume\", column_no = 5))), sep = \"\"), quote = F)\n",
    "print(paste(\"Adjusted Close Price in the 6th column: \", sum(unlist(lapply(data_list, check_col_name, pattern = \"Adjusted\", column_no = 6))), sep = \"\"), quote = F)"
   ]
  },
  {
   "cell_type": "code",
   "execution_count": 8,
   "metadata": {
    "vscode": {
     "languageId": "r"
    }
   },
   "outputs": [],
   "source": [
    "#Merging the available data into a single xts object\n",
    "merged_data <- merge.xts(data_list[[1]][, 5:6], data_list[[2]][, 5:6]) #Initial merge, adjusted close price and volume are in the 5th and 6th columns, respectively\n",
    "for (iter in 3:no_of_tickers) { #Loop through the rest of the tickers and append each to the merged object\n",
    "    merged_data <- merge.xts(merged_data, data_list[[iter]][, 5:6])\n",
    "}"
   ]
  },
  {
   "cell_type": "code",
   "execution_count": 9,
   "metadata": {
    "vscode": {
     "languageId": "r"
    }
   },
   "outputs": [
    {
     "data": {
      "text/html": [
       "TRUE"
      ],
      "text/latex": [
       "TRUE"
      ],
      "text/markdown": [
       "TRUE"
      ],
      "text/plain": [
       "[1] TRUE"
      ]
     },
     "metadata": {},
     "output_type": "display_data"
    }
   ],
   "source": [
    "#Checking that the number of columns is correct\n",
    "ncol(merged_data) == no_of_tickers * 2 #Two columns for each ticker"
   ]
  },
  {
   "cell_type": "markdown",
   "metadata": {},
   "source": [
    "#### Book value per share"
   ]
  },
  {
   "cell_type": "code",
   "execution_count": 10,
   "metadata": {
    "vscode": {
     "languageId": "r"
    }
   },
   "outputs": [],
   "source": [
    "#Getting the urls\n",
    "urls_bv <- rep(NA, no_of_tickers) #Empty vector for the urls\n",
    "for (iter in 1:no_of_tickers) { #Loop through all the tickers\n",
    "    patt <- curlGetHeaders(paste0(\"https://www.macrotrends.net/stocks/charts/\", tickers_to_download[iter, 2]))[5] #Save the response\n",
    "    name_and_ticker <- str_extract(patt, paste0(tickers_to_download[iter, 2], \"/.*/\")) #Extract the relevant pattern from the string\n",
    "    urls_bv[iter] <- paste0(\"https://www.macrotrends.net/stocks/charts/\", name_and_ticker, \"price-book\") #Complete the url and save it\n",
    "}"
   ]
  },
  {
   "cell_type": "code",
   "execution_count": 28,
   "metadata": {
    "vscode": {
     "languageId": "r"
    }
   },
   "outputs": [],
   "source": [
    "#Scraping MarketCap and Book Value per Share\n",
    "ticker_bv_source <- read_html(urls_bv[1])"
   ]
  },
  {
   "cell_type": "code",
   "execution_count": 51,
   "metadata": {
    "vscode": {
     "languageId": "r"
    }
   },
   "outputs": [
    {
     "data": {
      "text/plain": [
       "{xml_nodeset (53)}\n",
       " [1] <tr>\\n<td style=\"text-align:center;\">2022-04-01</td>\\r\\n\\t\\t\\t\\t\\t<td st ...\n",
       " [2] <tr>\\n<td style=\"text-align:center;\">2021-12-31</td>\\r\\n\\t\\t\\t\\t\\t<td st ...\n",
       " [3] <tr>\\n<td style=\"text-align:center;\">2021-09-30</td>\\r\\n\\t\\t\\t\\t\\t<td st ...\n",
       " [4] <tr>\\n<td style=\"text-align:center;\">2021-06-30</td>\\r\\n\\t\\t\\t\\t\\t<td st ...\n",
       " [5] <tr>\\n<td style=\"text-align:center;\">2021-03-31</td>\\r\\n\\t\\t\\t\\t\\t<td st ...\n",
       " [6] <tr>\\n<td style=\"text-align:center;\">2020-12-31</td>\\r\\n\\t\\t\\t\\t\\t<td st ...\n",
       " [7] <tr>\\n<td style=\"text-align:center;\">2020-09-30</td>\\r\\n\\t\\t\\t\\t\\t<td st ...\n",
       " [8] <tr>\\n<td style=\"text-align:center;\">2020-06-30</td>\\r\\n\\t\\t\\t\\t\\t<td st ...\n",
       " [9] <tr>\\n<td style=\"text-align:center;\">2020-03-31</td>\\r\\n\\t\\t\\t\\t\\t<td st ...\n",
       "[10] <tr>\\n<td style=\"text-align:center;\">2019-12-31</td>\\r\\n\\t\\t\\t\\t\\t<td st ...\n",
       "[11] <tr>\\n<td style=\"text-align:center;\">2019-09-30</td>\\r\\n\\t\\t\\t\\t\\t<td st ...\n",
       "[12] <tr>\\n<td style=\"text-align:center;\">2019-06-30</td>\\r\\n\\t\\t\\t\\t\\t<td st ...\n",
       "[13] <tr>\\n<td style=\"text-align:center;\">2019-03-31</td>\\r\\n\\t\\t\\t\\t\\t<td st ...\n",
       "[14] <tr>\\n<td style=\"text-align:center;\">2018-12-31</td>\\r\\n\\t\\t\\t\\t\\t<td st ...\n",
       "[15] <tr>\\n<td style=\"text-align:center;\">2018-09-30</td>\\r\\n\\t\\t\\t\\t\\t<td st ...\n",
       "[16] <tr>\\n<td style=\"text-align:center;\">2018-06-30</td>\\r\\n\\t\\t\\t\\t\\t<td st ...\n",
       "[17] <tr>\\n<td style=\"text-align:center;\">2018-03-31</td>\\r\\n\\t\\t\\t\\t\\t<td st ...\n",
       "[18] <tr>\\n<td style=\"text-align:center;\">2017-12-31</td>\\r\\n\\t\\t\\t\\t\\t<td st ...\n",
       "[19] <tr>\\n<td style=\"text-align:center;\">2017-09-30</td>\\r\\n\\t\\t\\t\\t\\t<td st ...\n",
       "[20] <tr>\\n<td style=\"text-align:center;\">2017-06-30</td>\\r\\n\\t\\t\\t\\t\\t<td st ...\n",
       "..."
      ]
     },
     "metadata": {},
     "output_type": "display_data"
    }
   ],
   "source": [
    "table <- html_element(ticker_bv_source, \"table\") %>% html_elements(\"tbody\")\n",
    "html_children(table)\n"
   ]
  },
  {
   "cell_type": "code",
   "execution_count": 24,
   "metadata": {
    "vscode": {
     "languageId": "r"
    }
   },
   "outputs": [
    {
     "name": "stderr",
     "output_type": "stream",
     "text": [
      "Warning message in df$Firm <- rep(tickers_to_download[, 2], length(dates)):\n",
      "\"Coercing LHS to a list\"\n"
     ]
    }
   ],
   "source": [
    "#Initializing an empty matrix for the data\n",
    "dates <- seq(from = as.Date(\"2007-01-01\"), to = as.Date(\"2022-02-28\"), by = \"day\") #Storing the date sequence\n",
    "df <- matrix(nrow = length(dates)*length(no_of_tickers), ncol = 6) #Empty matrix with a row for each firm/date combination\n",
    "colnames(df) <- c(\"Firm\", \"Date\", \"Adj_Close_Price\", \"Volume\", \"Market_Cap\", \"BV_per_Share\")\n",
    "df$Firm <- rep(tickers_to_download[, 2], length(dates))\n",
    "df$Date <- rep(dates, no_of_tickers)"
   ]
  }
 ],
 "metadata": {
  "interpreter": {
   "hash": "c3d0cf9620c2714139c2dfd3eeea47218c66a8564f7612a40a1666e2c73f2581"
  },
  "kernelspec": {
   "display_name": "R",
   "language": "R",
   "name": "ir"
  },
  "language_info": {
   "codemirror_mode": "r",
   "file_extension": ".r",
   "mimetype": "text/x-r-source",
   "name": "R",
   "pygments_lexer": "r",
   "version": "4.1.2"
  },
  "orig_nbformat": 4
 },
 "nbformat": 4,
 "nbformat_minor": 2
}
