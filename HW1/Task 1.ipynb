{
 "cells": [
  {
   "cell_type": "markdown",
   "metadata": {},
   "source": [
    "# JEM092 Asset Pricing - Homework 1"
   ]
  },
  {
   "cell_type": "markdown",
   "metadata": {},
   "source": [
    "### Group 82780095"
   ]
  },
  {
   "cell_type": "markdown",
   "metadata": {},
   "source": [
    "Petr Dvořáček, Jan Kubal, Matyáš Mattanelli"
   ]
  },
  {
   "cell_type": "markdown",
   "metadata": {},
   "source": [
    "---"
   ]
  },
  {
   "cell_type": "markdown",
   "metadata": {},
   "source": [
    "Throughout the assignment we use the libraries loaded in the cell below. Some of them may need to be installed before running our code."
   ]
  },
  {
   "cell_type": "code",
   "execution_count": 1,
   "metadata": {
    "vscode": {
     "languageId": "r"
    }
   },
   "outputs": [],
   "source": [
    "#install.packages(c(\"quantmod\",\"rvest\",\"stringr\",\"xts\",\"V8\",\"PortfolioAnalytics\",\"ROI.plugin.glpk\",\"ROI.plugin.quadprog\"))"
   ]
  },
  {
   "cell_type": "code",
   "execution_count": 2,
   "metadata": {
    "vscode": {
     "languageId": "r"
    }
   },
   "outputs": [
    {
     "name": "stderr",
     "output_type": "stream",
     "text": [
      "Warning message:\n",
      "\"package 'rvest' was built under R version 4.1.3\"\n",
      "Warning message:\n",
      "\"package 'V8' was built under R version 4.1.3\"\n",
      "Warning message:\n",
      "\"package 'PortfolioAnalytics' was built under R version 4.1.3\"\n",
      "Warning message:\n",
      "\"package 'PerformanceAnalytics' was built under R version 4.1.3\"\n"
     ]
    }
   ],
   "source": [
    "#Loading the necessary libraries\n",
    "suppressPackageStartupMessages({\n",
    "    library(quantmod) #getSymbols function\n",
    "    library(rvest) #Web scraping\n",
    "    library(stringr) #Regular expressions\n",
    "    library(xts) #Managing xts objects\n",
    "    library(V8) #Evaluating html variables\n",
    "    library(PortfolioAnalytics) #GMVP and efficient frontier\n",
    "    library(ROI.plugin.glpk) #Portfolio optimization\n",
    "    library(ROI.plugin.quadprog) #Portfolio optimization\n",
    "})"
   ]
  },
  {
   "cell_type": "markdown",
   "metadata": {},
   "source": [
    "## Task 1"
   ]
  },
  {
   "cell_type": "markdown",
   "metadata": {},
   "source": [
    "In the first task we download the required data. We start by loading the csv file with the assigned tickers."
   ]
  },
  {
   "cell_type": "code",
   "execution_count": 3,
   "metadata": {
    "vscode": {
     "languageId": "r"
    }
   },
   "outputs": [],
   "source": [
    "#Loading the assigned csv file\n",
    "tickers_to_download <- read.csv(\"data_HW1/82780095_data_download.csv\")\n",
    "no_of_tickers <- nrow(tickers_to_download) #Storing the number of tickers for future use"
   ]
  },
  {
   "cell_type": "markdown",
   "metadata": {},
   "source": [
    "#### Adjusted Close Price and Volume"
   ]
  },
  {
   "cell_type": "markdown",
   "metadata": {},
   "source": [
    "We get the adjusted close price and volume daily data from Yahoo Finance using the ``getSymbols()`` function from the ``quantmod`` package."
   ]
  },
  {
   "cell_type": "code",
   "execution_count": 4,
   "metadata": {
    "vscode": {
     "languageId": "r"
    }
   },
   "outputs": [],
   "source": [
    "#Downloading the data from Yahoo Finance (runtime 3m 15s)\n",
    "yahoo_data_list <- vector(\"list\", no_of_tickers) #Initializing an empty list for the data\n",
    "options(\"getSymbols.warning4.0\"=FALSE) #Command to prevent an annoying message from appearing\n",
    "for (i in 1:no_of_tickers) { #Looping through the tickers\n",
    "    yahoo_data_list[[i]] <- getSymbols(tickers_to_download[i, 2], src=\"yahoo\", auto.assign = F, from = \"2007-01-01\", to = \"2022-03-01\")\n",
    "}"
   ]
  },
  {
   "cell_type": "code",
   "execution_count": 5,
   "metadata": {
    "vscode": {
     "languageId": "r"
    }
   },
   "outputs": [],
   "source": [
    "#Or You can load already downloaded data for faster reading:\n",
    "#saveRDS(yahoo_data_list, file=\"list_yahoo.RData\")\n",
    "#yahoo_data_list <- readRDS(\"list_yahoo.RData\")"
   ]
  },
  {
   "cell_type": "markdown",
   "metadata": {},
   "source": [
    "We stored the data for each ticker as an element of a list. Now we check that for each ticker we have volume in the 5th column and adjusted close price in the 6th column."
   ]
  },
  {
   "cell_type": "code",
   "execution_count": 6,
   "metadata": {
    "vscode": {
     "languageId": "r"
    }
   },
   "outputs": [
    {
     "name": "stdout",
     "output_type": "stream",
     "text": [
      "[1] Volume in the 5th column: 250\n",
      "[1] Adjusted Close Price in the 6th column: 250\n"
     ]
    }
   ],
   "source": [
    "#Checking that we have adjusted close price and volume in appropriate columns for each ticker\n",
    "check_col_name <- function(ticker_data, pattern, column_no) { #Defining a function to check if a column name matches a pattern\n",
    "    ifelse(strsplit(names(ticker_data)[column_no], \"\\\\.\")[[1]][2] == pattern, return(T), return(F)) \n",
    "}\n",
    "#Applying the function on all tickers for both Volume and Adjusted price\n",
    "print(paste(\"Volume in the 5th column: \", sum(unlist(lapply(yahoo_data_list, check_col_name, pattern = \"Volume\", column_no = 5))), sep = \"\"), quote = F)\n",
    "print(paste(\"Adjusted Close Price in the 6th column: \", sum(unlist(lapply(yahoo_data_list, check_col_name, pattern = \"Adjusted\", column_no = 6))), sep = \"\"), quote = F)"
   ]
  },
  {
   "cell_type": "markdown",
   "metadata": {},
   "source": [
    "Since the check was successful, we can now merge the data for all tickers into a single xts object."
   ]
  },
  {
   "cell_type": "code",
   "execution_count": 7,
   "metadata": {
    "vscode": {
     "languageId": "r"
    }
   },
   "outputs": [],
   "source": [
    "#Merging the available data into a single xts object\n",
    "merged_yahoo_data <- merge.xts(yahoo_data_list[[1]][, 5:6], yahoo_data_list[[2]][, 5:6]) #Initial merge, adjusted close price and volume are in the 5th and 6th columns, respectively\n",
    "for (iter in 3:no_of_tickers) { #Loop through the rest of the tickers and append each to the merged object\n",
    "    merged_yahoo_data <- merge.xts(merged_yahoo_data, yahoo_data_list[[iter]][, 5:6])\n",
    "}"
   ]
  },
  {
   "cell_type": "markdown",
   "metadata": {},
   "source": [
    "We check that the number of column is 500 (250 tickers and two columns for each ticker)."
   ]
  },
  {
   "cell_type": "code",
   "execution_count": 8,
   "metadata": {
    "vscode": {
     "languageId": "r"
    }
   },
   "outputs": [
    {
     "data": {
      "text/html": [
       "TRUE"
      ],
      "text/latex": [
       "TRUE"
      ],
      "text/markdown": [
       "TRUE"
      ],
      "text/plain": [
       "[1] TRUE"
      ]
     },
     "metadata": {},
     "output_type": "display_data"
    }
   ],
   "source": [
    "#Checking that the number of columns is correct\n",
    "ncol(merged_yahoo_data) == no_of_tickers * 2 #Two columns for each ticker"
   ]
  },
  {
   "cell_type": "markdown",
   "metadata": {},
   "source": [
    "In case we need it, we can also export the result as a csv file for future use."
   ]
  },
  {
   "cell_type": "code",
   "execution_count": 9,
   "metadata": {
    "vscode": {
     "languageId": "r"
    }
   },
   "outputs": [],
   "source": [
    "#Exporting to csv just in case\n",
    "#write.zoo(merged_yahoo_data, file = \"adjusted_and_volume.csv\", sep = \",\")"
   ]
  },
  {
   "cell_type": "markdown",
   "metadata": {},
   "source": [
    "#### Book Value per Share"
   ]
  },
  {
   "cell_type": "markdown",
   "metadata": {},
   "source": [
    "Getting the Book value per share data is a bit more complex. Firstly, we find the company names with the help of the ``curlGetHeaders`` function. Then, we construct the urls."
   ]
  },
  {
   "cell_type": "code",
   "execution_count": 10,
   "metadata": {
    "vscode": {
     "languageId": "r"
    }
   },
   "outputs": [],
   "source": [
    "#Getting the urls (runtime 1m47s)\n",
    "urls_bv <- rep(NA, no_of_tickers) #Empty vector for the urls\n",
    "for (iter in 1:no_of_tickers) { #Loop through all the tickers\n",
    "    patt <- curlGetHeaders(paste0(\"https://www.macrotrends.net/stocks/charts/\", tickers_to_download[iter, 2]))[5] #Save the response\n",
    "    name_and_ticker <- str_extract(patt, paste0(tickers_to_download[iter, 2], \"/.*/\")) #Extract the relevant pattern from the string\n",
    "    urls_bv[iter] <- paste0(\"https://www.macrotrends.net/stocks/charts/\", name_and_ticker, \"price-book\") #Complete the url and save it\n",
    "}"
   ]
  },
  {
   "cell_type": "code",
   "execution_count": 11,
   "metadata": {
    "vscode": {
     "languageId": "r"
    }
   },
   "outputs": [],
   "source": [
    "#Or You can load already downloaded data for faster reading:\n",
    "#saveRDS(urls_bv, file=\"urls_bv.RData\")\n",
    "#urls_bv <- readRDS(\"urls_bv.RData\")"
   ]
  },
  {
   "cell_type": "markdown",
   "metadata": {},
   "source": [
    "Now that we have the urls, we can scrape the data. For each url we get the html code using the ``html_read`` function. Then we locate the table containing the data of interest. We loop through the rows to acquire the date and book value per share. We store the results as an xts object. Finally, we store the object for each ticker as an element of a list"
   ]
  },
  {
   "cell_type": "code",
   "execution_count": 12,
   "metadata": {
    "vscode": {
     "languageId": "r"
    }
   },
   "outputs": [],
   "source": [
    "#Downloading the data (runtime 3m6s)\n",
    "bv_per_share_data <- vector(\"list\", no_of_tickers) #Empty list to store the data\n",
    "for (iter in 1:no_of_tickers) { #Loop through all tickers\n",
    "  html_request <- read_html(urls_bv[iter]) #Sending the request\n",
    "  trs <- html_request %>% \n",
    "    html_element(\"table\") %>% #Finding the table\n",
    "    html_element(\"tbody\") %>% #FInding the body of the table\n",
    "    html_elements(\"tr\") #Finding the rows of the table\n",
    "  dates <- rep(NA, length(trs)) #Empty vector to store the dates\n",
    "  values <- rep(NA, length(trs)) #Empty vector to store the values\n",
    "  for (iter2 in 1:length(trs)) { #Looping through all the rows\n",
    "    tds <- html_elements(trs[iter2], \"td\") #Extracting the cells within each row\n",
    "    dates[iter2] <- html_text(tds)[1] #First cell is the date\n",
    "    values[iter2] <- as.numeric(gsub(\"\\\\$\",\"\",html_text(tds)[3])) #Third cell is book value per share\n",
    "  }\n",
    "  dates <- as.Date(dates) #Convert dates from string to Date format\n",
    "  xts_object <- xts(x = values, order.by = dates) #Create an xts object from the results\n",
    "  names(xts_object) <- paste0(tickers_to_download[iter, 2], \".BV_per_share\") #Name it\n",
    "  bv_per_share_data[[iter]] <-  xts_object #Store the results\n",
    "}"
   ]
  },
  {
   "cell_type": "code",
   "execution_count": 13,
   "metadata": {
    "vscode": {
     "languageId": "r"
    }
   },
   "outputs": [],
   "source": [
    "#Or You can load already downloaded data for faster reading:\n",
    "#saveRDS(bv_per_share_data, file=\"bv_per_share_data.RData\")\n",
    "#bv_per_share_data <- readRDS(\"bv_per_share_data.RData\")"
   ]
  },
  {
   "cell_type": "markdown",
   "metadata": {},
   "source": [
    "Similarly to the previous case, we simply merge the data into a single xts object. We should keep in mind that the data are quaterly. Since previously we downloaded daily data, we may have to make some adjustments."
   ]
  },
  {
   "cell_type": "code",
   "execution_count": 14,
   "metadata": {
    "vscode": {
     "languageId": "r"
    }
   },
   "outputs": [],
   "source": [
    "#Merging the individual tickers together\n",
    "merged_bv_per_share_data <- merge.xts(bv_per_share_data[[1]], bv_per_share_data[[2]]) #Initial merge\n",
    "for (iter in 3:no_of_tickers) {\n",
    "    if (iter==72) {\n",
    "        next #Temporarily skipping LUMN\n",
    "    }\n",
    "    merged_bv_per_share_data <- merge.xts(merged_bv_per_share_data, bv_per_share_data[[iter]])\n",
    "}"
   ]
  },
  {
   "cell_type": "markdown",
   "metadata": {},
   "source": [
    "Again, if nedeed we can export the data as a csv file."
   ]
  },
  {
   "cell_type": "code",
   "execution_count": 15,
   "metadata": {
    "vscode": {
     "languageId": "r"
    }
   },
   "outputs": [],
   "source": [
    "#Exporting to csv just in case\n",
    "#write.zoo(merged_bv_per_share_data, file = \"bv_per_share.csv\", sep = \",\")"
   ]
  },
  {
   "cell_type": "markdown",
   "metadata": {},
   "source": [
    "#### Market Capitalization"
   ]
  },
  {
   "cell_type": "markdown",
   "metadata": {},
   "source": [
    "Lastly, we download the market capitalization data. This time we have the direct url for each ticker. We get the html code and extract the script node from the body of the test. A quick inspenction revealed that the text contains a defined variable *chartData* that we can read using JavaScript. We convert the resulting data frame into an xts object and once again store it in a list."
   ]
  },
  {
   "cell_type": "code",
   "execution_count": 16,
   "metadata": {
    "vscode": {
     "languageId": "r"
    }
   },
   "outputs": [],
   "source": [
    "#Downloading the data (runtime 1m34s)\n",
    "market_cap_data <- vector(\"list\", no_of_tickers)\n",
    "for (iter in 1:no_of_tickers) { #Looping through all tickers\n",
    "    html_request <- read_html(paste0(\"https://www.macrotrends.net/assets/php/market_cap.php?t=\", tickers_to_download[iter, 2])) #Sending a request\n",
    "    script <- html_request %>% #Extracting the relevant element and converting it to text\n",
    "        html_element(\"body\") %>%\n",
    "        html_element(\"script\") %>%\n",
    "        html_text(trim = T)\n",
    "    ctx <- v8() #The extracted text contains a variable which can be evaluated using JavaScript so we initialize an execution environment\n",
    "    ctx$eval(str_extract(script,\".*]\")) #Evaluating the text. The function inside extracts the part that is relevant for us\n",
    "    extracted_data <- ctx$get(\"chartData\") #Extracting the variable (returns a data frame)\n",
    "    xts_object <- xts(x = extracted_data[, 2], order.by = as.Date(extracted_data[, 1])) #Saving as an xts object\n",
    "    names(xts_object) <- paste0(tickers_to_download[iter,2], \".Market_Cap\") #Renaming\n",
    "    market_cap_data[[iter]] <- xts_object #Storing\n",
    "}"
   ]
  },
  {
   "cell_type": "code",
   "execution_count": 17,
   "metadata": {
    "vscode": {
     "languageId": "r"
    }
   },
   "outputs": [],
   "source": [
    "#Or You can load already downloaded data for faster reading:\n",
    "#saveRDS(market_cap_data, file=\"market_cap_data.RData\")\n",
    "#market_cap_data <- readRDS(\"market_cap_data.RData\")"
   ]
  },
  {
   "cell_type": "markdown",
   "metadata": {},
   "source": [
    "Finally, we merge the acquired data into a single xts object..."
   ]
  },
  {
   "cell_type": "code",
   "execution_count": 18,
   "metadata": {
    "vscode": {
     "languageId": "r"
    }
   },
   "outputs": [],
   "source": [
    "#Merging the data\n",
    "merged_market_cap_data <- merge.xts(market_cap_data[[1]], market_cap_data[[2]]) #Initial merge\n",
    "for (iter in 3:no_of_tickers) { #Looping through all the tickers\n",
    "    merged_market_cap_data <- merge.xts(merged_market_cap_data, market_cap_data[[iter]])\n",
    "}"
   ]
  },
  {
   "cell_type": "markdown",
   "metadata": {},
   "source": [
    "... and optionally export it."
   ]
  },
  {
   "cell_type": "code",
   "execution_count": 19,
   "metadata": {
    "vscode": {
     "languageId": "r"
    }
   },
   "outputs": [],
   "source": [
    "#Exporting to csv just in case\n",
    "write.zoo(merged_market_cap_data, file = \"market_cap.csv\", sep = \",\")"
   ]
  },
  {
   "cell_type": "markdown",
   "metadata": {},
   "source": [
    "#### Merging it all together"
   ]
  },
  {
   "cell_type": "markdown",
   "metadata": {},
   "source": [
    "In this step we merge all the acquired data together into a one xts object. Since we do not know the nature of the second assignment, we do not process the data any further. In case of need we can use the separate csv files."
   ]
  },
  {
   "cell_type": "code",
   "execution_count": 20,
   "metadata": {
    "vscode": {
     "languageId": "r"
    }
   },
   "outputs": [],
   "source": [
    "#Merging adjusted prices, volume, book value per share, and market capitalization\n",
    "semifinal_dataset <- merge.xts(merged_yahoo_data, merged_bv_per_share_data, merged_market_cap_data)"
   ]
  },
  {
   "cell_type": "code",
   "execution_count": 21,
   "metadata": {
    "vscode": {
     "languageId": "r"
    }
   },
   "outputs": [],
   "source": [
    "#Exporting to csv\n",
    "#write.zoo(semifinal_dataset, file = \"semifinal_dataset.csv\", sep = \",\")"
   ]
  },
  {
   "cell_type": "markdown",
   "metadata": {},
   "source": [
    "## Task 2"
   ]
  },
  {
   "cell_type": "markdown",
   "metadata": {},
   "source": [
    "In this task we form two porftolios and their corresponding efficient frontiers. We start by loading the ticker names that we are supposed to utilize."
   ]
  },
  {
   "cell_type": "code",
   "execution_count": 22,
   "metadata": {
    "vscode": {
     "languageId": "r"
    }
   },
   "outputs": [],
   "source": [
    "#Loading the 20 tickers\n",
    "tickers_20 <- read.csv(\"data_HW1/82780095_rand_download.csv\")"
   ]
  },
  {
   "cell_type": "markdown",
   "metadata": {},
   "source": [
    "To facilitate the subsetting in our data set, we find the row number for each ticker."
   ]
  },
  {
   "cell_type": "code",
   "execution_count": 23,
   "metadata": {
    "vscode": {
     "languageId": "r"
    }
   },
   "outputs": [],
   "source": [
    "#Finding the row number for each ticker\n",
    "iters <- rep(NA, 20)\n",
    "for (i in 1:20) {   \n",
    "    iters[i] <- tickers_to_download[tickers_to_download[, 2] == tickers_20[i, 2], 1]\n",
    "}"
   ]
  },
  {
   "cell_type": "markdown",
   "metadata": {},
   "source": [
    "Next, we extract the relevant tickers from the data we have acquired. Specifically, we need only the adjusted close price. We also restrict the period as required and convert the data from daily to monthly using the ``to.monthly()`` function."
   ]
  },
  {
   "cell_type": "code",
   "execution_count": 24,
   "metadata": {
    "vscode": {
     "languageId": "r"
    }
   },
   "outputs": [],
   "source": [
    "#Getting data for the relevant tickers and adjusting it\n",
    "task2_data <- vector(\"list\", 20) #Empty list for the data\n",
    "for (i in 1:20) { #Looping through the tickers\n",
    "    task2_data[[i]] <- to.monthly(yahoo_data_list[[iters[i]]][\"2014-12/\"], name = tickers_20[i, 2])[, 6] #Extracting data from 2015 and later and then converting it to monthly. Keeping only the Adjusted price \n",
    "}"
   ]
  },
  {
   "cell_type": "markdown",
   "metadata": {},
   "source": [
    "From the resulting data we calculate returns using the adjusted close price and the following formula: $\\frac{P_{i,t}-P_{i,t-1}}{P_{i,t-1}}$"
   ]
  },
  {
   "cell_type": "code",
   "execution_count": 25,
   "metadata": {
    "vscode": {
     "languageId": "r"
    }
   },
   "outputs": [],
   "source": [
    "#Converting to returns and merging into a single xts object\n",
    "task2_data_returns <- vector(\"list\", 20)\n",
    "for (i in 1:20) {\n",
    "    task2_data_returns[[i]] <- (task2_data[[i]] - lag(task2_data[[i]]))/lag(task2_data[[i]])\n",
    "}\n",
    "#Merging\n",
    "final_returns <- merge.xts(task2_data_returns[[1]], task2_data_returns[[2]])\n",
    "for (i in 3:20) {\n",
    "    final_returns <- merge.xts(final_returns, task2_data_returns[[i]])\n",
    "}\n",
    "names(final_returns) <- gsub(\".Adjusted\", \"\", names(final_returns)) #Renaming for conciseness\n",
    "final_returns <- final_returns[\"2015/\"] #We keep only the data from 2015-2022"
   ]
  },
  {
   "cell_type": "markdown",
   "metadata": {},
   "source": [
    "Since the data is ready, we can calculate the Global Minimum Variance Portoflio for both groups of tickers."
   ]
  },
  {
   "cell_type": "code",
   "execution_count": 26,
   "metadata": {
    "vscode": {
     "languageId": "r"
    }
   },
   "outputs": [],
   "source": [
    "#Calculating the Global Minimum Variance Portfolios\n",
    "#Portfolio A\n",
    "pspecA <- portfolio.spec(assets = tickers_20[1:10, 2]) #Specifying the stock names\n",
    "initial_portfolioA <- add.constraint(portfolio = pspecA, type = \"full_investment\") #Adding a constraint\n",
    "minvarA <- add.objective(portfolio = initial_portfolioA, type = \"risk\", name = \"var\") #Adding an objective\n",
    "opt_minvarA <- optimize.portfolio(R = final_returns[, 1:10], portfolio = minvarA, optimize_method = \"ROI\") #Optimizing\n",
    "#Portfolio B\n",
    "pspecB <- portfolio.spec(assets = tickers_20[11:20, 2]) #Specifying the stock names\n",
    "initial_portfolioB <- add.constraint(portfolio = pspecB, type = \"full_investment\") #Adding a constraint\n",
    "minvarB <- add.objective(portfolio = initial_portfolioB, type = \"risk\", name = \"var\") #Adding an objective\n",
    "opt_minvarB <- optimize.portfolio(R = final_returns[, 11:20], portfolio = minvarB, optimize_method = \"ROI\") #Optimizing"
   ]
  },
  {
   "cell_type": "markdown",
   "metadata": {},
   "source": [
    "Now we can construct the portfolios that we will use for forming the efficient frontier. We specify a box constraint with a minimum weight as the minimum of the weights from the respective GMVP and maximum weight equal to 1."
   ]
  },
  {
   "cell_type": "code",
   "execution_count": 27,
   "metadata": {
    "vscode": {
     "languageId": "r"
    }
   },
   "outputs": [],
   "source": [
    "#Constructing portfolios A and B\n",
    "pspec_fr_A <- portfolio.spec(assets = tickers_20[1:10, 2])\n",
    "pspec_fr_B <- portfolio.spec(assets = tickers_20[11:20, 2])\n",
    "portfolio_fr_A <- add.constraint(portfolio = pspec_fr_A, type = \"box\", min = min(opt_minvarA$weights), max = 1)\n",
    "portfolio_fr_B <- add.constraint(portfolio = pspec_fr_B, type = \"box\", min = min(opt_minvarB$weights), max = 1)"
   ]
  },
  {
   "cell_type": "markdown",
   "metadata": {},
   "source": [
    "For each of the potrfolios, we form an efficient frontier."
   ]
  },
  {
   "cell_type": "code",
   "execution_count": 28,
   "metadata": {
    "vscode": {
     "languageId": "r"
    }
   },
   "outputs": [
    {
     "name": "stderr",
     "output_type": "stream",
     "text": [
      "Warning message:\n",
      "\"executing %dopar% sequentially: no parallel backend registered\"\n"
     ]
    }
   ],
   "source": [
    "#Creating the efficient frontier\n",
    "eff_front_A <- create.EfficientFrontier(R = final_returns[, 1:10], portfolio = portfolio_fr_A, type = 'mean-var')\n",
    "eff_front_B <- create.EfficientFrontier(R = final_returns[, 11:20], portfolio = portfolio_fr_B, type = 'mean-var')"
   ]
  },
  {
   "cell_type": "markdown",
   "metadata": {},
   "source": [
    "Lastly, we can plot the results. Firstly, we use ``char.EfficientFrontier`` to plot the frontier for portfolio A and then we manually add the data for the portfolio B. As we can see, the efficient frontier of the first portfolio lies entirely above the second frontier. Therefore, we would prefer any portfolio in the first frontier to any portfolio in the second frontier (with an exception of one portfolio where the frontiers intersect so we would be indifferent). For any given risk, the portfolio on the first efficient frontier yields higher (or equal) returns. In regards to some important stocks, we can see that IDXX and AAPL are way above the cluster of the other portfolios meaning that they have higher expected returns. In terms of risk they are roughly in the middle of the stocks. Therefore, they likely partially drive the shape of the portfolio A's efficient frontier. "
   ]
  },
  {
   "cell_type": "code",
   "execution_count": 29,
   "metadata": {
    "vscode": {
     "languageId": "r"
    }
   },
   "outputs": [
    {
     "data": {
      "image/png": "[encoded data removed]",
      "text/plain": [
       "Plot with title \"Efficient Frontiers\""
      ]
     },
     "metadata": {
      "image/png": {
       "height": 420,
       "width": 420
      }
     },
     "output_type": "display_data"
    }
   ],
   "source": [
    "#Plotting the Efficient Frontier for portfolio A\n",
    "chart.EfficientFrontier(eff_front_A, match.col = 'StdDev', type = 'l', tangent.line = FALSE, rf = NULL, main = \"Efficient Frontiers\")\n",
    "#chart.EfficientFrontier(eff_front_B, match.col = 'StdDev', type = 'l', tangent.line = FALSE, rf = NULL)\n",
    "#Adding the efficient frontier for portfolio B\n",
    "lines(eff_front_B$frontier[, 2],eff_front_B$frontier[, 1], col = \"red\")\n",
    "#Adding the individual assets from porfolio B\n",
    "means <- apply(final_returns[, 11:20], 2, mean)\n",
    "stdevs <- apply(final_returns[, 11:20], 2, sd)\n",
    "points(stdevs, means, col = \"red\")\n",
    "text(stdevs + 0.0075, means, labels = names(final_returns[, 11:20]), cex = 0.8, col = \"red\")\n",
    "legend(x = \"topleft\", legend = c(\"Portfolio A\", \"Portfolio B\"), col = c(\"black\", \"red\"), lty = c(1, 1), bty = \"n\")"
   ]
  },
  {
   "cell_type": "markdown",
   "metadata": {},
   "source": [
    "## Task 3"
   ]
  },
  {
   "cell_type": "markdown",
   "metadata": {},
   "source": [
    "---"
   ]
  },
  {
   "cell_type": "markdown",
   "metadata": {},
   "source": [
    "#### Price weighted index"
   ]
  },
  {
   "cell_type": "markdown",
   "metadata": {},
   "source": [
    "To calculate the price weighted index we first find the weight of each stock using the formula $weight_i=\\frac{P_i}{\\sum_{j=1}^{20} P_j}$. Then we simply sum the prices using the weights as $\\sum_{i=1}^{20}P_i*weight_i$"
   ]
  },
  {
   "cell_type": "code",
   "execution_count": 30,
   "metadata": {
    "vscode": {
     "languageId": "r"
    }
   },
   "outputs": [],
   "source": [
    "#Downloading the information about stock splits\n",
    "splits <- vector(\"list\", 20) #Empty vector for the splits\n",
    "x <- 1 #Indexer\n",
    "for (i in 1:20) { #Looping through the tickers\n",
    "    suppressWarnings(split <- getSplits(tickers_20[i, 2], from = \"2014-12-31\", to = \"2022-03-01\")) #Get the split information\n",
    "    if (sum(!is.na(split)) == 0) { #If there was no split, we do not need to store anything\n",
    "        next\n",
    "    } else {\n",
    "        splits[[x]] <- split #If there is a split, store it\n",
    "        x <- x + 1\n",
    "    }\n",
    "}"
   ]
  },
  {
   "cell_type": "code",
   "execution_count": 31,
   "metadata": {
    "vscode": {
     "languageId": "r"
    }
   },
   "outputs": [],
   "source": [
    "#Merging the stock split information\n",
    "splits_merged <- merge.xts(splits[[1]], splits[[2]])\n",
    "for (i in 3:20) {\n",
    "    if (is.null(splits[[i]])) { #Stop when the vector is empty\n",
    "        break\n",
    "    } else {\n",
    "        splits_merged <- merge.xts(splits_merged, splits[[i]])\n",
    "    }\n",
    "}"
   ]
  },
  {
   "cell_type": "code",
   "execution_count": 32,
   "metadata": {
    "vscode": {
     "languageId": "r"
    }
   },
   "outputs": [],
   "source": [
    "#Taking the close prices from Task 2\n",
    "task3_data_cl_pr <- vector(\"list\", 20) #Empty list for the data\n",
    "for (i in 1:20) { #Looping through the tickers\n",
    "    task3_data_cl_pr[[i]] <- yahoo_data_list[[i]][\"2015/\", 4]\n",
    "}"
   ]
  },
  {
   "cell_type": "code",
   "execution_count": 33,
   "metadata": {
    "vscode": {
     "languageId": "r"
    }
   },
   "outputs": [],
   "source": [
    "#Unadjusting the close price\n",
    "for (i in 1:20) {\n",
    "    if (tickers_20[i, 2] %in% unlist(str_split(names(splits_merged),\"\\\\.\"))) { #Check if there was a split\n",
    "        ratios <- adjRatios(splits = splits_merged[, paste0(tickers_20[i, 2], \".spl\")], close = task3_data_cl_pr[[i]])[, 1] #Calculate the ratios\n",
    "        task3_data_cl_pr[[i]] <- task3_data_cl_pr[[i]] / ratios #Unadjust\n",
    "    }\n",
    "}"
   ]
  },
  {
   "cell_type": "code",
   "execution_count": 34,
   "metadata": {
    "vscode": {
     "languageId": "r"
    }
   },
   "outputs": [],
   "source": [
    "#Converting to monthly and merging into a single xts object\n",
    "task3_data_cl_pr_unadj <- merge.xts(to.monthly(task3_data_cl_pr[[1]], , name = tickers_20[1, 2])[, 4], to.monthly(task3_data_cl_pr[[2]], , name = tickers_20[2, 2])[, 4])\n",
    "for (i in 3:20) {\n",
    "    task3_data_cl_pr_unadj <- merge.xts(task3_data_cl_pr_unadj, to.monthly(task3_data_cl_pr[[i]], , name = tickers_20[i, 2])[, 4])\n",
    "}"
   ]
  },
  {
   "cell_type": "code",
   "execution_count": 35,
   "metadata": {
    "vscode": {
     "languageId": "r"
    }
   },
   "outputs": [],
   "source": [
    "#Calculating the index\n",
    "no_of_months <- length(index(task3_data_cl_pr_unadj)) #Storing the number of periods\n",
    "pw_index <- xts(rep(NA, no_of_months), order.by = index(task3_data_cl_pr_unadj)) #Empty xts object for the index\n",
    "divisor <- 20 #Initially, the divisor is equal to the number of stocks\n",
    "for (i in 1:no_of_months) { #Looping through the periods\n",
    "    if (index(task3_data_cl_pr_unadj)[i] %in% index(splits_merged)) { #Checking if a split occured\n",
    "        stock <- str_split(names(splits_merged)[!is.na(splits_merged[index(task3_data_cl_pr_unadj)[i]])], \"\\\\.\")[1] #Identifying the stock that undergone the split\n",
    "        stock_id <- tickers_20[tickers_20[, 2] == stock, 1] #Finding the id of the stock\n",
    "        new_price <- task3_data_cl_pr_unadj[index(task3_data_cl_pr_unadj)[i - 1], paste0(stock,\".Close\")]*splits_merged[task3_data_cl_pr_unadj[i], paste0(stock, \".spl\")] #Divide the price for the period before the stock split by the stock split ratio\n",
    "        divisor <- sum(task3_data_cl_pr_unadj[index(task3_data_cl_pr_unadj)[i - 1], setdiff(names(task3_data_cl_pr_unadj),stock)])/pw_index[index(task3_data_cl_pr_unadj)[i - 1]] #Get the new divisor by summing the prices in the period before with the adjusted price and then dividing by the price index from the previous period\n",
    "    }\n",
    "    pw_index[index(task3_data_cl_pr_unadj)[i]] <- sum(task3_data_cl_pr_unadj[index(task3_data_cl_pr_unadj)[i]])/divisor\n",
    "}"
   ]
  },
  {
   "cell_type": "code",
   "execution_count": 43,
   "metadata": {
    "vscode": {
     "languageId": "r"
    }
   },
   "outputs": [],
   "source": [
    "#plot(pw_index,main=\"Price weighted index\")"
   ]
  },
  {
   "cell_type": "code",
   "execution_count": 46,
   "metadata": {
    "vscode": {
     "languageId": "r"
    }
   },
   "outputs": [],
   "source": [
    "#for the next two indicies, we will use the following data\n",
    "\n",
    "task3_data <- vector(\"list\", 20) #Empty list for the data\n",
    "\n",
    "\n",
    "for (i in 1:20) { #Looping through the tickers\n",
    "    ticker_volume <- paste(tickers_20[i,2], \".Volume\", sep = \"\") #Pasting the tickers and variables together\n",
    "    ticker_adjusted <- paste(tickers_20[i,2], \".Adjusted\", sep = \"\") #so the full dataset can be subsetted\n",
    "    ticker_bv <- paste(tickers_20[i,2], \".BV_per_share\", sep = \"\")\n",
    "    ticker_market <- paste(tickers_20[i,2], \".Market_Cap\", sep = \"\")\n",
    "    \n",
    "    ticker_xts <- semifinal_dataset[, c(ticker_volume, ticker_adjusted, ticker_bv, ticker_market)][\"2014-12/\"] #Subsetting the full dataset\n",
    "\n",
    "    suppressWarnings(task3_data[[i]] <- to.monthly(ticker_xts[,1], name = names(ticker_xts[,1]), OHLC = FALSE)) #Extracting data from 2015 further and then converting it to monthly\n",
    "    suppressWarnings(task3_data[[i]] <- merge.xts(task3_data[[i]], to.monthly(ticker_xts[,2], name = names(ticker_xts[,2]), OHLC = FALSE)))\n",
    "    suppressWarnings(task3_data[[i]] <- merge.xts(task3_data[[i]], to.monthly(ticker_xts[,3], name = names(ticker_xts[,3]), OHLC = FALSE)))\n",
    "    suppressWarnings(task3_data[[i]] <- merge.xts(task3_data[[i]], to.monthly(ticker_xts[,4], name = names(ticker_xts[,4]), OHLC = FALSE)))\n",
    "}"
   ]
  },
  {
   "cell_type": "markdown",
   "metadata": {},
   "source": [
    "For constructing Market-Cap Weighted Index (MCWI), we use the formula provided:\n",
    "$$MCWI_t=\\sum_{i=1}^N w_{i,t}*P_{i,t}$$\n",
    "where $w_{i,t}=\\frac{MKT-CAP_{i,t}}{TOTAL-MKT-CAP_t}$.\n",
    "\n",
    "It should be noted that the data on Matket Cap we scraped are in Billions, however due to the definition of weights in this index, the billion units can be disregarded."
   ]
  },
  {
   "cell_type": "code",
   "execution_count": 48,
   "metadata": {
    "vscode": {
     "languageId": "r"
    }
   },
   "outputs": [],
   "source": [
    "MCWI <- xts(rep(0, nrow(task3_data[[1]])), order.by=index(task3_data[[1]])) #initializing empty xts object, that will hold the MCWI index\n",
    "names(MCWI) <- \"MCWI\" #naming the column\n",
    "\n",
    "for (i in 1:nrow(task3_data[[1]])) { #looping through the rows in data (through months)\n",
    "\n",
    "   market_caps <- c(rep(0, 20)) #empty vector for market caps\n",
    "   for (n in 1:20) {\n",
    "      market_caps[n] <- task3_data[[n]][i,4] #saving the market caps\n",
    "   }\n",
    "   total_mc <- sum(market_caps) #saving the total market capitalization\n",
    "\n",
    "   prices_weighted <- c(rep(0, 20)) #vector of adjusted prices weighted by their share of market cap\n",
    "   for (n in 1:20) { #in each month, loop through all tickers\n",
    "      weight <- market_caps[n]/total_mc #saving weight of each stock in each period\n",
    "      prices_weighted[n] <- task3_data[[n]][i, 2]*weight #save weighted prices in the particular month\n",
    "   }\n",
    "   MCWI[i, 1] <- sum(prices_weighted) #save index value\n",
    "}"
   ]
  },
  {
   "cell_type": "markdown",
   "metadata": {},
   "source": [
    "Lastly, we compute the Equally Weighted Index (EWI), using the formula:\n",
    "$$EWI_t=\\sum_{i=1}^N w_{i}*P_{i,t}$$\n",
    "where $w_i=\\frac{1}{N}$."
   ]
  },
  {
   "cell_type": "code",
   "execution_count": 49,
   "metadata": {
    "vscode": {
     "languageId": "r"
    }
   },
   "outputs": [],
   "source": [
    "EWI <- xts(rep(0, nrow(task3_data[[1]])), order.by=index(task3_data[[1]])) #initializing empty xts object, that will hold the MCWI index\n",
    "names(EWI) <- \"EWI\" #naming the column\n",
    "\n",
    "for (i in 1:nrow(task3_data[[1]])) { #looping through the rows in data (through months)\n",
    "    weight = 1/20 #saving the weight\n",
    "   prices_weighted <- c(rep(0, 20)) #vector of adjusted prices weighted by their share of market cap\n",
    "\n",
    "   for (n in 1:20) { #in each month, loop through all tickers\n",
    "      prices_weighted[n] <- task3_data[[n]][i, 2]*weight #save weighted prices in the particular month\n",
    "   }\n",
    "   EWI[i, 1] <- sum(prices_weighted) #save index value\n",
    "}"
   ]
  },
  {
   "cell_type": "markdown",
   "metadata": {},
   "source": [
    "Here we merge the indicies into one object and plot them."
   ]
  },
  {
   "cell_type": "code",
   "execution_count": 59,
   "metadata": {
    "vscode": {
     "languageId": "r"
    }
   },
   "outputs": [
    {
     "data": {
      "text/plain": [
       "     Index         pw_index        mcwi_index       ewi_index    \n",
       " Min.   :2015   Min.   : 75.02   Min.   : 79.51   Min.   :132.7  \n",
       " 1st Qu.:2017   1st Qu.: 89.12   1st Qu.:123.06   1st Qu.:176.9  \n",
       " Median :2019   Median :106.60   Median :149.98   Median :217.0  \n",
       " Mean   :2019   Mean   :110.10   Mean   :149.25   Mean   :224.1  \n",
       " 3rd Qu.:2020   3rd Qu.:120.01   3rd Qu.:165.88   3rd Qu.:245.3  \n",
       " Max.   :2022   Max.   :175.96   Max.   :239.96   Max.   :387.4  \n",
       "                NA's   :3        NA's   :2        NA's   :2      "
      ]
     },
     "metadata": {},
     "output_type": "display_data"
    },
    {
     "data": {
      "image/png": "[encoded data removed]",
      "text/plain": [
       "plot without title"
      ]
     },
     "metadata": {
      "image/png": {
       "height": 420,
       "width": 420
      }
     },
     "output_type": "display_data"
    }
   ],
   "source": [
    "#merging xts objects with indicies to one\n",
    "indicies <- merge.xts(pw_index, MCWI, EWI)\n",
    "names(indicies) <- c(\"pw_index\", \"mcwi_index\", \"ewi_index\")\n",
    "indicies_plt <- plot(indicies, main=\"Indicies\")\n",
    "addLegend(\"topleft\", on=0, \n",
    "          legend.names = c(\"Equally-weighted Index\",\n",
    "          \"Market Capitalization weighted Index\",\n",
    "          \"Price-weighted Index\"), \n",
    "          lty=c(1,1,1), lwd=c(1,1,1), col=c(\"green\",\"red\",\"black\"))\n",
    "summary(indicies)"
   ]
  },
  {
   "cell_type": "markdown",
   "metadata": {},
   "source": [
    "COMMENTARY OF PLOT GOES HERE"
   ]
  }
 ],
 "metadata": {
  "interpreter": {
   "hash": "c3d0cf9620c2714139c2dfd3eeea47218c66a8564f7612a40a1666e2c73f2581"
  },
  "kernelspec": {
   "display_name": "R",
   "language": "R",
   "name": "ir"
  },
  "language_info": {
   "codemirror_mode": "r",
   "file_extension": ".r",
   "mimetype": "text/x-r-source",
   "name": "R",
   "pygments_lexer": "r",
   "version": "4.1.2"
  },
  "orig_nbformat": 4
 },
 "nbformat": 4,
 "nbformat_minor": 2
}
