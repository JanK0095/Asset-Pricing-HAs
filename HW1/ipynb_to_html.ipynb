{
 "cells": [
  {
   "cell_type": "code",
   "execution_count": 13,
   "metadata": {},
   "outputs": [],
   "source": [
    "#pip install nbconvert"
   ]
  },
  {
   "cell_type": "code",
   "execution_count": 6,
   "metadata": {},
   "outputs": [
    {
     "name": "stderr",
     "output_type": "stream",
     "text": [
      "[NbConvertApp] Converting notebook HW4_notebook.ipynb to html\n",
      "[NbConvertApp] Writing 602556 bytes to hw4_final.html\n"
     ]
    }
   ],
   "source": [
    "!jupyter nbconvert HW4_notebook.ipynb --to html --output hw4_final.html"
   ]
  }
 ],
 "metadata": {
  "interpreter": {
   "hash": "b989cb7e59be408f1af79a27b5112925272da6b439615fbcac7e1bde4df7a937"
  },
  "kernelspec": {
   "display_name": "Python 3.9.7 ('r_env')",
   "language": "python",
   "name": "python3"
  },
  "language_info": {
   "codemirror_mode": {
    "name": "ipython",
    "version": 3
   },
   "file_extension": ".py",
   "mimetype": "text/x-python",
   "name": "python",
   "nbconvert_exporter": "python",
   "pygments_lexer": "ipython3",
   "version": "3.9.7"
  },
  "orig_nbformat": 4
 },
 "nbformat": 4,
 "nbformat_minor": 2
}
